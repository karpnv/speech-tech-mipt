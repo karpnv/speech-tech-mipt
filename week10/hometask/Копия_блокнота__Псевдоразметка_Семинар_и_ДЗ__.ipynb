{
  "nbformat": 4,
  "nbformat_minor": 0,
  "metadata": {
    "accelerator": "GPU",
    "colab": {
      "name": "Копия блокнота \"Псевдоразметка. Семинар и ДЗ.\"",
      "provenance": [],
      "collapsed_sections": []
    },
    "kernelspec": {
      "name": "python3",
      "display_name": "Python 3"
    },
    "language_info": {
      "name": "python"
    },
    "widgets": {
      "application/vnd.jupyter.widget-state+json": {
        "5d37c505ee9445b9be75c0cd53fa065c": {
          "model_module": "@jupyter-widgets/controls",
          "model_name": "HBoxModel",
          "model_module_version": "1.5.0",
          "state": {
            "_view_name": "HBoxView",
            "_dom_classes": [],
            "_model_name": "HBoxModel",
            "_view_module": "@jupyter-widgets/controls",
            "_model_module_version": "1.5.0",
            "_view_count": null,
            "_view_module_version": "1.5.0",
            "box_style": "",
            "layout": "IPY_MODEL_727d85fbd65d47ae8ea735c6088d922f",
            "_model_module": "@jupyter-widgets/controls",
            "children": [
              "IPY_MODEL_68867cee67014c349b1fcba806d00392",
              "IPY_MODEL_28a98bfea00e4f28bfb88ba12f3579f3",
              "IPY_MODEL_eb5ebd75e88a4bd79eedfa4b9e1dfcab"
            ]
          }
        },
        "727d85fbd65d47ae8ea735c6088d922f": {
          "model_module": "@jupyter-widgets/base",
          "model_name": "LayoutModel",
          "model_module_version": "1.2.0",
          "state": {
            "_view_name": "LayoutView",
            "grid_template_rows": null,
            "right": null,
            "justify_content": null,
            "_view_module": "@jupyter-widgets/base",
            "overflow": null,
            "_model_module_version": "1.2.0",
            "_view_count": null,
            "flex_flow": null,
            "width": null,
            "min_width": null,
            "border": null,
            "align_items": null,
            "bottom": null,
            "_model_module": "@jupyter-widgets/base",
            "top": null,
            "grid_column": null,
            "overflow_y": null,
            "overflow_x": null,
            "grid_auto_flow": null,
            "grid_area": null,
            "grid_template_columns": null,
            "flex": null,
            "_model_name": "LayoutModel",
            "justify_items": null,
            "grid_row": null,
            "max_height": null,
            "align_content": null,
            "visibility": null,
            "align_self": null,
            "height": null,
            "min_height": null,
            "padding": null,
            "grid_auto_rows": null,
            "grid_gap": null,
            "max_width": null,
            "order": null,
            "_view_module_version": "1.2.0",
            "grid_template_areas": null,
            "object_position": null,
            "object_fit": null,
            "grid_auto_columns": null,
            "margin": null,
            "display": null,
            "left": null
          }
        },
        "68867cee67014c349b1fcba806d00392": {
          "model_module": "@jupyter-widgets/controls",
          "model_name": "HTMLModel",
          "model_module_version": "1.5.0",
          "state": {
            "_view_name": "HTMLView",
            "style": "IPY_MODEL_7294333aa47f4893a095b7f535ef79eb",
            "_dom_classes": [],
            "description": "",
            "_model_name": "HTMLModel",
            "placeholder": "​",
            "_view_module": "@jupyter-widgets/controls",
            "_model_module_version": "1.5.0",
            "value": "",
            "_view_count": null,
            "_view_module_version": "1.5.0",
            "description_tooltip": null,
            "_model_module": "@jupyter-widgets/controls",
            "layout": "IPY_MODEL_52128d07e5d94268a5ce4adbae32d085"
          }
        },
        "28a98bfea00e4f28bfb88ba12f3579f3": {
          "model_module": "@jupyter-widgets/controls",
          "model_name": "FloatProgressModel",
          "model_module_version": "1.5.0",
          "state": {
            "_view_name": "ProgressView",
            "style": "IPY_MODEL_83ae185b32c141449d620fad690f3153",
            "_dom_classes": [],
            "description": "",
            "_model_name": "FloatProgressModel",
            "bar_style": "success",
            "max": 9912422,
            "_view_module": "@jupyter-widgets/controls",
            "_model_module_version": "1.5.0",
            "value": 9912422,
            "_view_count": null,
            "_view_module_version": "1.5.0",
            "orientation": "horizontal",
            "min": 0,
            "description_tooltip": null,
            "_model_module": "@jupyter-widgets/controls",
            "layout": "IPY_MODEL_35aa4c00872b4cde83cf30c188b0aaf8"
          }
        },
        "eb5ebd75e88a4bd79eedfa4b9e1dfcab": {
          "model_module": "@jupyter-widgets/controls",
          "model_name": "HTMLModel",
          "model_module_version": "1.5.0",
          "state": {
            "_view_name": "HTMLView",
            "style": "IPY_MODEL_90a835f4ea274fe19a3ed1cef72072d1",
            "_dom_classes": [],
            "description": "",
            "_model_name": "HTMLModel",
            "placeholder": "​",
            "_view_module": "@jupyter-widgets/controls",
            "_model_module_version": "1.5.0",
            "value": " 9913344/? [00:00&lt;00:00, 42507098.24it/s]",
            "_view_count": null,
            "_view_module_version": "1.5.0",
            "description_tooltip": null,
            "_model_module": "@jupyter-widgets/controls",
            "layout": "IPY_MODEL_61fbd0b3aba3479d89676184971c5b72"
          }
        },
        "7294333aa47f4893a095b7f535ef79eb": {
          "model_module": "@jupyter-widgets/controls",
          "model_name": "DescriptionStyleModel",
          "model_module_version": "1.5.0",
          "state": {
            "_view_name": "StyleView",
            "_model_name": "DescriptionStyleModel",
            "description_width": "",
            "_view_module": "@jupyter-widgets/base",
            "_model_module_version": "1.5.0",
            "_view_count": null,
            "_view_module_version": "1.2.0",
            "_model_module": "@jupyter-widgets/controls"
          }
        },
        "52128d07e5d94268a5ce4adbae32d085": {
          "model_module": "@jupyter-widgets/base",
          "model_name": "LayoutModel",
          "model_module_version": "1.2.0",
          "state": {
            "_view_name": "LayoutView",
            "grid_template_rows": null,
            "right": null,
            "justify_content": null,
            "_view_module": "@jupyter-widgets/base",
            "overflow": null,
            "_model_module_version": "1.2.0",
            "_view_count": null,
            "flex_flow": null,
            "width": null,
            "min_width": null,
            "border": null,
            "align_items": null,
            "bottom": null,
            "_model_module": "@jupyter-widgets/base",
            "top": null,
            "grid_column": null,
            "overflow_y": null,
            "overflow_x": null,
            "grid_auto_flow": null,
            "grid_area": null,
            "grid_template_columns": null,
            "flex": null,
            "_model_name": "LayoutModel",
            "justify_items": null,
            "grid_row": null,
            "max_height": null,
            "align_content": null,
            "visibility": null,
            "align_self": null,
            "height": null,
            "min_height": null,
            "padding": null,
            "grid_auto_rows": null,
            "grid_gap": null,
            "max_width": null,
            "order": null,
            "_view_module_version": "1.2.0",
            "grid_template_areas": null,
            "object_position": null,
            "object_fit": null,
            "grid_auto_columns": null,
            "margin": null,
            "display": null,
            "left": null
          }
        },
        "83ae185b32c141449d620fad690f3153": {
          "model_module": "@jupyter-widgets/controls",
          "model_name": "ProgressStyleModel",
          "model_module_version": "1.5.0",
          "state": {
            "_view_name": "StyleView",
            "_model_name": "ProgressStyleModel",
            "description_width": "",
            "_view_module": "@jupyter-widgets/base",
            "_model_module_version": "1.5.0",
            "_view_count": null,
            "_view_module_version": "1.2.0",
            "bar_color": null,
            "_model_module": "@jupyter-widgets/controls"
          }
        },
        "35aa4c00872b4cde83cf30c188b0aaf8": {
          "model_module": "@jupyter-widgets/base",
          "model_name": "LayoutModel",
          "model_module_version": "1.2.0",
          "state": {
            "_view_name": "LayoutView",
            "grid_template_rows": null,
            "right": null,
            "justify_content": null,
            "_view_module": "@jupyter-widgets/base",
            "overflow": null,
            "_model_module_version": "1.2.0",
            "_view_count": null,
            "flex_flow": null,
            "width": null,
            "min_width": null,
            "border": null,
            "align_items": null,
            "bottom": null,
            "_model_module": "@jupyter-widgets/base",
            "top": null,
            "grid_column": null,
            "overflow_y": null,
            "overflow_x": null,
            "grid_auto_flow": null,
            "grid_area": null,
            "grid_template_columns": null,
            "flex": null,
            "_model_name": "LayoutModel",
            "justify_items": null,
            "grid_row": null,
            "max_height": null,
            "align_content": null,
            "visibility": null,
            "align_self": null,
            "height": null,
            "min_height": null,
            "padding": null,
            "grid_auto_rows": null,
            "grid_gap": null,
            "max_width": null,
            "order": null,
            "_view_module_version": "1.2.0",
            "grid_template_areas": null,
            "object_position": null,
            "object_fit": null,
            "grid_auto_columns": null,
            "margin": null,
            "display": null,
            "left": null
          }
        },
        "90a835f4ea274fe19a3ed1cef72072d1": {
          "model_module": "@jupyter-widgets/controls",
          "model_name": "DescriptionStyleModel",
          "model_module_version": "1.5.0",
          "state": {
            "_view_name": "StyleView",
            "_model_name": "DescriptionStyleModel",
            "description_width": "",
            "_view_module": "@jupyter-widgets/base",
            "_model_module_version": "1.5.0",
            "_view_count": null,
            "_view_module_version": "1.2.0",
            "_model_module": "@jupyter-widgets/controls"
          }
        },
        "61fbd0b3aba3479d89676184971c5b72": {
          "model_module": "@jupyter-widgets/base",
          "model_name": "LayoutModel",
          "model_module_version": "1.2.0",
          "state": {
            "_view_name": "LayoutView",
            "grid_template_rows": null,
            "right": null,
            "justify_content": null,
            "_view_module": "@jupyter-widgets/base",
            "overflow": null,
            "_model_module_version": "1.2.0",
            "_view_count": null,
            "flex_flow": null,
            "width": null,
            "min_width": null,
            "border": null,
            "align_items": null,
            "bottom": null,
            "_model_module": "@jupyter-widgets/base",
            "top": null,
            "grid_column": null,
            "overflow_y": null,
            "overflow_x": null,
            "grid_auto_flow": null,
            "grid_area": null,
            "grid_template_columns": null,
            "flex": null,
            "_model_name": "LayoutModel",
            "justify_items": null,
            "grid_row": null,
            "max_height": null,
            "align_content": null,
            "visibility": null,
            "align_self": null,
            "height": null,
            "min_height": null,
            "padding": null,
            "grid_auto_rows": null,
            "grid_gap": null,
            "max_width": null,
            "order": null,
            "_view_module_version": "1.2.0",
            "grid_template_areas": null,
            "object_position": null,
            "object_fit": null,
            "grid_auto_columns": null,
            "margin": null,
            "display": null,
            "left": null
          }
        },
        "5755c92608c641a8804c2141bc2f1277": {
          "model_module": "@jupyter-widgets/controls",
          "model_name": "HBoxModel",
          "model_module_version": "1.5.0",
          "state": {
            "_view_name": "HBoxView",
            "_dom_classes": [],
            "_model_name": "HBoxModel",
            "_view_module": "@jupyter-widgets/controls",
            "_model_module_version": "1.5.0",
            "_view_count": null,
            "_view_module_version": "1.5.0",
            "box_style": "",
            "layout": "IPY_MODEL_d14ddb5d55c0440084f4af37604ebe91",
            "_model_module": "@jupyter-widgets/controls",
            "children": [
              "IPY_MODEL_3035584bcd524c3884a45f05c5ca50c1",
              "IPY_MODEL_4bf8d9eed12c4cf0ad3ddcf05c6f8b40",
              "IPY_MODEL_835ee1d357fc4faca2848170687d2385"
            ]
          }
        },
        "d14ddb5d55c0440084f4af37604ebe91": {
          "model_module": "@jupyter-widgets/base",
          "model_name": "LayoutModel",
          "model_module_version": "1.2.0",
          "state": {
            "_view_name": "LayoutView",
            "grid_template_rows": null,
            "right": null,
            "justify_content": null,
            "_view_module": "@jupyter-widgets/base",
            "overflow": null,
            "_model_module_version": "1.2.0",
            "_view_count": null,
            "flex_flow": null,
            "width": null,
            "min_width": null,
            "border": null,
            "align_items": null,
            "bottom": null,
            "_model_module": "@jupyter-widgets/base",
            "top": null,
            "grid_column": null,
            "overflow_y": null,
            "overflow_x": null,
            "grid_auto_flow": null,
            "grid_area": null,
            "grid_template_columns": null,
            "flex": null,
            "_model_name": "LayoutModel",
            "justify_items": null,
            "grid_row": null,
            "max_height": null,
            "align_content": null,
            "visibility": null,
            "align_self": null,
            "height": null,
            "min_height": null,
            "padding": null,
            "grid_auto_rows": null,
            "grid_gap": null,
            "max_width": null,
            "order": null,
            "_view_module_version": "1.2.0",
            "grid_template_areas": null,
            "object_position": null,
            "object_fit": null,
            "grid_auto_columns": null,
            "margin": null,
            "display": null,
            "left": null
          }
        },
        "3035584bcd524c3884a45f05c5ca50c1": {
          "model_module": "@jupyter-widgets/controls",
          "model_name": "HTMLModel",
          "model_module_version": "1.5.0",
          "state": {
            "_view_name": "HTMLView",
            "style": "IPY_MODEL_b06fd0778378484f953beff77dfb667b",
            "_dom_classes": [],
            "description": "",
            "_model_name": "HTMLModel",
            "placeholder": "​",
            "_view_module": "@jupyter-widgets/controls",
            "_model_module_version": "1.5.0",
            "value": "",
            "_view_count": null,
            "_view_module_version": "1.5.0",
            "description_tooltip": null,
            "_model_module": "@jupyter-widgets/controls",
            "layout": "IPY_MODEL_53515cba82b348ca8e1b3ba408945b1c"
          }
        },
        "4bf8d9eed12c4cf0ad3ddcf05c6f8b40": {
          "model_module": "@jupyter-widgets/controls",
          "model_name": "FloatProgressModel",
          "model_module_version": "1.5.0",
          "state": {
            "_view_name": "ProgressView",
            "style": "IPY_MODEL_29ff014885c94d89b70abd94efac8420",
            "_dom_classes": [],
            "description": "",
            "_model_name": "FloatProgressModel",
            "bar_style": "success",
            "max": 28881,
            "_view_module": "@jupyter-widgets/controls",
            "_model_module_version": "1.5.0",
            "value": 28881,
            "_view_count": null,
            "_view_module_version": "1.5.0",
            "orientation": "horizontal",
            "min": 0,
            "description_tooltip": null,
            "_model_module": "@jupyter-widgets/controls",
            "layout": "IPY_MODEL_526fad5b957f4d5bbfdb2e1fd385a075"
          }
        },
        "835ee1d357fc4faca2848170687d2385": {
          "model_module": "@jupyter-widgets/controls",
          "model_name": "HTMLModel",
          "model_module_version": "1.5.0",
          "state": {
            "_view_name": "HTMLView",
            "style": "IPY_MODEL_e92b7c31ddcc4d348aec2000e00cb9f9",
            "_dom_classes": [],
            "description": "",
            "_model_name": "HTMLModel",
            "placeholder": "​",
            "_view_module": "@jupyter-widgets/controls",
            "_model_module_version": "1.5.0",
            "value": " 29696/? [00:00&lt;00:00, 713948.64it/s]",
            "_view_count": null,
            "_view_module_version": "1.5.0",
            "description_tooltip": null,
            "_model_module": "@jupyter-widgets/controls",
            "layout": "IPY_MODEL_adb2e39ae6f74a40b5c67641a330181c"
          }
        },
        "b06fd0778378484f953beff77dfb667b": {
          "model_module": "@jupyter-widgets/controls",
          "model_name": "DescriptionStyleModel",
          "model_module_version": "1.5.0",
          "state": {
            "_view_name": "StyleView",
            "_model_name": "DescriptionStyleModel",
            "description_width": "",
            "_view_module": "@jupyter-widgets/base",
            "_model_module_version": "1.5.0",
            "_view_count": null,
            "_view_module_version": "1.2.0",
            "_model_module": "@jupyter-widgets/controls"
          }
        },
        "53515cba82b348ca8e1b3ba408945b1c": {
          "model_module": "@jupyter-widgets/base",
          "model_name": "LayoutModel",
          "model_module_version": "1.2.0",
          "state": {
            "_view_name": "LayoutView",
            "grid_template_rows": null,
            "right": null,
            "justify_content": null,
            "_view_module": "@jupyter-widgets/base",
            "overflow": null,
            "_model_module_version": "1.2.0",
            "_view_count": null,
            "flex_flow": null,
            "width": null,
            "min_width": null,
            "border": null,
            "align_items": null,
            "bottom": null,
            "_model_module": "@jupyter-widgets/base",
            "top": null,
            "grid_column": null,
            "overflow_y": null,
            "overflow_x": null,
            "grid_auto_flow": null,
            "grid_area": null,
            "grid_template_columns": null,
            "flex": null,
            "_model_name": "LayoutModel",
            "justify_items": null,
            "grid_row": null,
            "max_height": null,
            "align_content": null,
            "visibility": null,
            "align_self": null,
            "height": null,
            "min_height": null,
            "padding": null,
            "grid_auto_rows": null,
            "grid_gap": null,
            "max_width": null,
            "order": null,
            "_view_module_version": "1.2.0",
            "grid_template_areas": null,
            "object_position": null,
            "object_fit": null,
            "grid_auto_columns": null,
            "margin": null,
            "display": null,
            "left": null
          }
        },
        "29ff014885c94d89b70abd94efac8420": {
          "model_module": "@jupyter-widgets/controls",
          "model_name": "ProgressStyleModel",
          "model_module_version": "1.5.0",
          "state": {
            "_view_name": "StyleView",
            "_model_name": "ProgressStyleModel",
            "description_width": "",
            "_view_module": "@jupyter-widgets/base",
            "_model_module_version": "1.5.0",
            "_view_count": null,
            "_view_module_version": "1.2.0",
            "bar_color": null,
            "_model_module": "@jupyter-widgets/controls"
          }
        },
        "526fad5b957f4d5bbfdb2e1fd385a075": {
          "model_module": "@jupyter-widgets/base",
          "model_name": "LayoutModel",
          "model_module_version": "1.2.0",
          "state": {
            "_view_name": "LayoutView",
            "grid_template_rows": null,
            "right": null,
            "justify_content": null,
            "_view_module": "@jupyter-widgets/base",
            "overflow": null,
            "_model_module_version": "1.2.0",
            "_view_count": null,
            "flex_flow": null,
            "width": null,
            "min_width": null,
            "border": null,
            "align_items": null,
            "bottom": null,
            "_model_module": "@jupyter-widgets/base",
            "top": null,
            "grid_column": null,
            "overflow_y": null,
            "overflow_x": null,
            "grid_auto_flow": null,
            "grid_area": null,
            "grid_template_columns": null,
            "flex": null,
            "_model_name": "LayoutModel",
            "justify_items": null,
            "grid_row": null,
            "max_height": null,
            "align_content": null,
            "visibility": null,
            "align_self": null,
            "height": null,
            "min_height": null,
            "padding": null,
            "grid_auto_rows": null,
            "grid_gap": null,
            "max_width": null,
            "order": null,
            "_view_module_version": "1.2.0",
            "grid_template_areas": null,
            "object_position": null,
            "object_fit": null,
            "grid_auto_columns": null,
            "margin": null,
            "display": null,
            "left": null
          }
        },
        "e92b7c31ddcc4d348aec2000e00cb9f9": {
          "model_module": "@jupyter-widgets/controls",
          "model_name": "DescriptionStyleModel",
          "model_module_version": "1.5.0",
          "state": {
            "_view_name": "StyleView",
            "_model_name": "DescriptionStyleModel",
            "description_width": "",
            "_view_module": "@jupyter-widgets/base",
            "_model_module_version": "1.5.0",
            "_view_count": null,
            "_view_module_version": "1.2.0",
            "_model_module": "@jupyter-widgets/controls"
          }
        },
        "adb2e39ae6f74a40b5c67641a330181c": {
          "model_module": "@jupyter-widgets/base",
          "model_name": "LayoutModel",
          "model_module_version": "1.2.0",
          "state": {
            "_view_name": "LayoutView",
            "grid_template_rows": null,
            "right": null,
            "justify_content": null,
            "_view_module": "@jupyter-widgets/base",
            "overflow": null,
            "_model_module_version": "1.2.0",
            "_view_count": null,
            "flex_flow": null,
            "width": null,
            "min_width": null,
            "border": null,
            "align_items": null,
            "bottom": null,
            "_model_module": "@jupyter-widgets/base",
            "top": null,
            "grid_column": null,
            "overflow_y": null,
            "overflow_x": null,
            "grid_auto_flow": null,
            "grid_area": null,
            "grid_template_columns": null,
            "flex": null,
            "_model_name": "LayoutModel",
            "justify_items": null,
            "grid_row": null,
            "max_height": null,
            "align_content": null,
            "visibility": null,
            "align_self": null,
            "height": null,
            "min_height": null,
            "padding": null,
            "grid_auto_rows": null,
            "grid_gap": null,
            "max_width": null,
            "order": null,
            "_view_module_version": "1.2.0",
            "grid_template_areas": null,
            "object_position": null,
            "object_fit": null,
            "grid_auto_columns": null,
            "margin": null,
            "display": null,
            "left": null
          }
        },
        "708e3b49100449408db3ee4c061a6b3e": {
          "model_module": "@jupyter-widgets/controls",
          "model_name": "HBoxModel",
          "model_module_version": "1.5.0",
          "state": {
            "_view_name": "HBoxView",
            "_dom_classes": [],
            "_model_name": "HBoxModel",
            "_view_module": "@jupyter-widgets/controls",
            "_model_module_version": "1.5.0",
            "_view_count": null,
            "_view_module_version": "1.5.0",
            "box_style": "",
            "layout": "IPY_MODEL_d9e5d5abdb834de09d471842a64e50d8",
            "_model_module": "@jupyter-widgets/controls",
            "children": [
              "IPY_MODEL_d657ac78dccf459abfd42607cfc7fa81",
              "IPY_MODEL_2241e58cb330409797507a7682d0bee5",
              "IPY_MODEL_e5283a4c4eba45639c87850bf553f875"
            ]
          }
        },
        "d9e5d5abdb834de09d471842a64e50d8": {
          "model_module": "@jupyter-widgets/base",
          "model_name": "LayoutModel",
          "model_module_version": "1.2.0",
          "state": {
            "_view_name": "LayoutView",
            "grid_template_rows": null,
            "right": null,
            "justify_content": null,
            "_view_module": "@jupyter-widgets/base",
            "overflow": null,
            "_model_module_version": "1.2.0",
            "_view_count": null,
            "flex_flow": null,
            "width": null,
            "min_width": null,
            "border": null,
            "align_items": null,
            "bottom": null,
            "_model_module": "@jupyter-widgets/base",
            "top": null,
            "grid_column": null,
            "overflow_y": null,
            "overflow_x": null,
            "grid_auto_flow": null,
            "grid_area": null,
            "grid_template_columns": null,
            "flex": null,
            "_model_name": "LayoutModel",
            "justify_items": null,
            "grid_row": null,
            "max_height": null,
            "align_content": null,
            "visibility": null,
            "align_self": null,
            "height": null,
            "min_height": null,
            "padding": null,
            "grid_auto_rows": null,
            "grid_gap": null,
            "max_width": null,
            "order": null,
            "_view_module_version": "1.2.0",
            "grid_template_areas": null,
            "object_position": null,
            "object_fit": null,
            "grid_auto_columns": null,
            "margin": null,
            "display": null,
            "left": null
          }
        },
        "d657ac78dccf459abfd42607cfc7fa81": {
          "model_module": "@jupyter-widgets/controls",
          "model_name": "HTMLModel",
          "model_module_version": "1.5.0",
          "state": {
            "_view_name": "HTMLView",
            "style": "IPY_MODEL_53fdcfade3d24928a7da41e9917ea368",
            "_dom_classes": [],
            "description": "",
            "_model_name": "HTMLModel",
            "placeholder": "​",
            "_view_module": "@jupyter-widgets/controls",
            "_model_module_version": "1.5.0",
            "value": "",
            "_view_count": null,
            "_view_module_version": "1.5.0",
            "description_tooltip": null,
            "_model_module": "@jupyter-widgets/controls",
            "layout": "IPY_MODEL_eac31c264856434aa4c5588bb2b5020f"
          }
        },
        "2241e58cb330409797507a7682d0bee5": {
          "model_module": "@jupyter-widgets/controls",
          "model_name": "FloatProgressModel",
          "model_module_version": "1.5.0",
          "state": {
            "_view_name": "ProgressView",
            "style": "IPY_MODEL_b444011e318a404cb3b8ece8c2a7f157",
            "_dom_classes": [],
            "description": "",
            "_model_name": "FloatProgressModel",
            "bar_style": "success",
            "max": 1648877,
            "_view_module": "@jupyter-widgets/controls",
            "_model_module_version": "1.5.0",
            "value": 1648877,
            "_view_count": null,
            "_view_module_version": "1.5.0",
            "orientation": "horizontal",
            "min": 0,
            "description_tooltip": null,
            "_model_module": "@jupyter-widgets/controls",
            "layout": "IPY_MODEL_65e66ea8bfb6474796f65621d85ab031"
          }
        },
        "e5283a4c4eba45639c87850bf553f875": {
          "model_module": "@jupyter-widgets/controls",
          "model_name": "HTMLModel",
          "model_module_version": "1.5.0",
          "state": {
            "_view_name": "HTMLView",
            "style": "IPY_MODEL_54f6179d5b784ea3b82a5e910b66eca4",
            "_dom_classes": [],
            "description": "",
            "_model_name": "HTMLModel",
            "placeholder": "​",
            "_view_module": "@jupyter-widgets/controls",
            "_model_module_version": "1.5.0",
            "value": " 1649664/? [00:00&lt;00:00, 17955604.81it/s]",
            "_view_count": null,
            "_view_module_version": "1.5.0",
            "description_tooltip": null,
            "_model_module": "@jupyter-widgets/controls",
            "layout": "IPY_MODEL_1d99a271cd544ebdade737eff6d04dd9"
          }
        },
        "53fdcfade3d24928a7da41e9917ea368": {
          "model_module": "@jupyter-widgets/controls",
          "model_name": "DescriptionStyleModel",
          "model_module_version": "1.5.0",
          "state": {
            "_view_name": "StyleView",
            "_model_name": "DescriptionStyleModel",
            "description_width": "",
            "_view_module": "@jupyter-widgets/base",
            "_model_module_version": "1.5.0",
            "_view_count": null,
            "_view_module_version": "1.2.0",
            "_model_module": "@jupyter-widgets/controls"
          }
        },
        "eac31c264856434aa4c5588bb2b5020f": {
          "model_module": "@jupyter-widgets/base",
          "model_name": "LayoutModel",
          "model_module_version": "1.2.0",
          "state": {
            "_view_name": "LayoutView",
            "grid_template_rows": null,
            "right": null,
            "justify_content": null,
            "_view_module": "@jupyter-widgets/base",
            "overflow": null,
            "_model_module_version": "1.2.0",
            "_view_count": null,
            "flex_flow": null,
            "width": null,
            "min_width": null,
            "border": null,
            "align_items": null,
            "bottom": null,
            "_model_module": "@jupyter-widgets/base",
            "top": null,
            "grid_column": null,
            "overflow_y": null,
            "overflow_x": null,
            "grid_auto_flow": null,
            "grid_area": null,
            "grid_template_columns": null,
            "flex": null,
            "_model_name": "LayoutModel",
            "justify_items": null,
            "grid_row": null,
            "max_height": null,
            "align_content": null,
            "visibility": null,
            "align_self": null,
            "height": null,
            "min_height": null,
            "padding": null,
            "grid_auto_rows": null,
            "grid_gap": null,
            "max_width": null,
            "order": null,
            "_view_module_version": "1.2.0",
            "grid_template_areas": null,
            "object_position": null,
            "object_fit": null,
            "grid_auto_columns": null,
            "margin": null,
            "display": null,
            "left": null
          }
        },
        "b444011e318a404cb3b8ece8c2a7f157": {
          "model_module": "@jupyter-widgets/controls",
          "model_name": "ProgressStyleModel",
          "model_module_version": "1.5.0",
          "state": {
            "_view_name": "StyleView",
            "_model_name": "ProgressStyleModel",
            "description_width": "",
            "_view_module": "@jupyter-widgets/base",
            "_model_module_version": "1.5.0",
            "_view_count": null,
            "_view_module_version": "1.2.0",
            "bar_color": null,
            "_model_module": "@jupyter-widgets/controls"
          }
        },
        "65e66ea8bfb6474796f65621d85ab031": {
          "model_module": "@jupyter-widgets/base",
          "model_name": "LayoutModel",
          "model_module_version": "1.2.0",
          "state": {
            "_view_name": "LayoutView",
            "grid_template_rows": null,
            "right": null,
            "justify_content": null,
            "_view_module": "@jupyter-widgets/base",
            "overflow": null,
            "_model_module_version": "1.2.0",
            "_view_count": null,
            "flex_flow": null,
            "width": null,
            "min_width": null,
            "border": null,
            "align_items": null,
            "bottom": null,
            "_model_module": "@jupyter-widgets/base",
            "top": null,
            "grid_column": null,
            "overflow_y": null,
            "overflow_x": null,
            "grid_auto_flow": null,
            "grid_area": null,
            "grid_template_columns": null,
            "flex": null,
            "_model_name": "LayoutModel",
            "justify_items": null,
            "grid_row": null,
            "max_height": null,
            "align_content": null,
            "visibility": null,
            "align_self": null,
            "height": null,
            "min_height": null,
            "padding": null,
            "grid_auto_rows": null,
            "grid_gap": null,
            "max_width": null,
            "order": null,
            "_view_module_version": "1.2.0",
            "grid_template_areas": null,
            "object_position": null,
            "object_fit": null,
            "grid_auto_columns": null,
            "margin": null,
            "display": null,
            "left": null
          }
        },
        "54f6179d5b784ea3b82a5e910b66eca4": {
          "model_module": "@jupyter-widgets/controls",
          "model_name": "DescriptionStyleModel",
          "model_module_version": "1.5.0",
          "state": {
            "_view_name": "StyleView",
            "_model_name": "DescriptionStyleModel",
            "description_width": "",
            "_view_module": "@jupyter-widgets/base",
            "_model_module_version": "1.5.0",
            "_view_count": null,
            "_view_module_version": "1.2.0",
            "_model_module": "@jupyter-widgets/controls"
          }
        },
        "1d99a271cd544ebdade737eff6d04dd9": {
          "model_module": "@jupyter-widgets/base",
          "model_name": "LayoutModel",
          "model_module_version": "1.2.0",
          "state": {
            "_view_name": "LayoutView",
            "grid_template_rows": null,
            "right": null,
            "justify_content": null,
            "_view_module": "@jupyter-widgets/base",
            "overflow": null,
            "_model_module_version": "1.2.0",
            "_view_count": null,
            "flex_flow": null,
            "width": null,
            "min_width": null,
            "border": null,
            "align_items": null,
            "bottom": null,
            "_model_module": "@jupyter-widgets/base",
            "top": null,
            "grid_column": null,
            "overflow_y": null,
            "overflow_x": null,
            "grid_auto_flow": null,
            "grid_area": null,
            "grid_template_columns": null,
            "flex": null,
            "_model_name": "LayoutModel",
            "justify_items": null,
            "grid_row": null,
            "max_height": null,
            "align_content": null,
            "visibility": null,
            "align_self": null,
            "height": null,
            "min_height": null,
            "padding": null,
            "grid_auto_rows": null,
            "grid_gap": null,
            "max_width": null,
            "order": null,
            "_view_module_version": "1.2.0",
            "grid_template_areas": null,
            "object_position": null,
            "object_fit": null,
            "grid_auto_columns": null,
            "margin": null,
            "display": null,
            "left": null
          }
        },
        "743b13d278b7460192361e986b1bacf2": {
          "model_module": "@jupyter-widgets/controls",
          "model_name": "HBoxModel",
          "model_module_version": "1.5.0",
          "state": {
            "_view_name": "HBoxView",
            "_dom_classes": [],
            "_model_name": "HBoxModel",
            "_view_module": "@jupyter-widgets/controls",
            "_model_module_version": "1.5.0",
            "_view_count": null,
            "_view_module_version": "1.5.0",
            "box_style": "",
            "layout": "IPY_MODEL_4286828ed6864f8b835f6691824b5281",
            "_model_module": "@jupyter-widgets/controls",
            "children": [
              "IPY_MODEL_6d39e9ea791b4854992d0fe40595f2f3",
              "IPY_MODEL_7a2e413cfd6e4349913e43c6649c57a2",
              "IPY_MODEL_edb8a71bc807448282f4ecce56278f2f"
            ]
          }
        },
        "4286828ed6864f8b835f6691824b5281": {
          "model_module": "@jupyter-widgets/base",
          "model_name": "LayoutModel",
          "model_module_version": "1.2.0",
          "state": {
            "_view_name": "LayoutView",
            "grid_template_rows": null,
            "right": null,
            "justify_content": null,
            "_view_module": "@jupyter-widgets/base",
            "overflow": null,
            "_model_module_version": "1.2.0",
            "_view_count": null,
            "flex_flow": null,
            "width": null,
            "min_width": null,
            "border": null,
            "align_items": null,
            "bottom": null,
            "_model_module": "@jupyter-widgets/base",
            "top": null,
            "grid_column": null,
            "overflow_y": null,
            "overflow_x": null,
            "grid_auto_flow": null,
            "grid_area": null,
            "grid_template_columns": null,
            "flex": null,
            "_model_name": "LayoutModel",
            "justify_items": null,
            "grid_row": null,
            "max_height": null,
            "align_content": null,
            "visibility": null,
            "align_self": null,
            "height": null,
            "min_height": null,
            "padding": null,
            "grid_auto_rows": null,
            "grid_gap": null,
            "max_width": null,
            "order": null,
            "_view_module_version": "1.2.0",
            "grid_template_areas": null,
            "object_position": null,
            "object_fit": null,
            "grid_auto_columns": null,
            "margin": null,
            "display": null,
            "left": null
          }
        },
        "6d39e9ea791b4854992d0fe40595f2f3": {
          "model_module": "@jupyter-widgets/controls",
          "model_name": "HTMLModel",
          "model_module_version": "1.5.0",
          "state": {
            "_view_name": "HTMLView",
            "style": "IPY_MODEL_d337d48436074daf90d9e716d2d765a4",
            "_dom_classes": [],
            "description": "",
            "_model_name": "HTMLModel",
            "placeholder": "​",
            "_view_module": "@jupyter-widgets/controls",
            "_model_module_version": "1.5.0",
            "value": "",
            "_view_count": null,
            "_view_module_version": "1.5.0",
            "description_tooltip": null,
            "_model_module": "@jupyter-widgets/controls",
            "layout": "IPY_MODEL_d7264da7f1de4fe4b2f8a9f9f649742c"
          }
        },
        "7a2e413cfd6e4349913e43c6649c57a2": {
          "model_module": "@jupyter-widgets/controls",
          "model_name": "FloatProgressModel",
          "model_module_version": "1.5.0",
          "state": {
            "_view_name": "ProgressView",
            "style": "IPY_MODEL_b2832d02a5c14b6db210371a62cabdf3",
            "_dom_classes": [],
            "description": "",
            "_model_name": "FloatProgressModel",
            "bar_style": "success",
            "max": 4542,
            "_view_module": "@jupyter-widgets/controls",
            "_model_module_version": "1.5.0",
            "value": 4542,
            "_view_count": null,
            "_view_module_version": "1.5.0",
            "orientation": "horizontal",
            "min": 0,
            "description_tooltip": null,
            "_model_module": "@jupyter-widgets/controls",
            "layout": "IPY_MODEL_0557be959c5a434cbb43b8e9fec73f80"
          }
        },
        "edb8a71bc807448282f4ecce56278f2f": {
          "model_module": "@jupyter-widgets/controls",
          "model_name": "HTMLModel",
          "model_module_version": "1.5.0",
          "state": {
            "_view_name": "HTMLView",
            "style": "IPY_MODEL_9ecc8de1054e4d6e9ff37839b255835a",
            "_dom_classes": [],
            "description": "",
            "_model_name": "HTMLModel",
            "placeholder": "​",
            "_view_module": "@jupyter-widgets/controls",
            "_model_module_version": "1.5.0",
            "value": " 5120/? [00:00&lt;00:00, 138688.71it/s]",
            "_view_count": null,
            "_view_module_version": "1.5.0",
            "description_tooltip": null,
            "_model_module": "@jupyter-widgets/controls",
            "layout": "IPY_MODEL_bfda249d54734c84b7076d49329beb1b"
          }
        },
        "d337d48436074daf90d9e716d2d765a4": {
          "model_module": "@jupyter-widgets/controls",
          "model_name": "DescriptionStyleModel",
          "model_module_version": "1.5.0",
          "state": {
            "_view_name": "StyleView",
            "_model_name": "DescriptionStyleModel",
            "description_width": "",
            "_view_module": "@jupyter-widgets/base",
            "_model_module_version": "1.5.0",
            "_view_count": null,
            "_view_module_version": "1.2.0",
            "_model_module": "@jupyter-widgets/controls"
          }
        },
        "d7264da7f1de4fe4b2f8a9f9f649742c": {
          "model_module": "@jupyter-widgets/base",
          "model_name": "LayoutModel",
          "model_module_version": "1.2.0",
          "state": {
            "_view_name": "LayoutView",
            "grid_template_rows": null,
            "right": null,
            "justify_content": null,
            "_view_module": "@jupyter-widgets/base",
            "overflow": null,
            "_model_module_version": "1.2.0",
            "_view_count": null,
            "flex_flow": null,
            "width": null,
            "min_width": null,
            "border": null,
            "align_items": null,
            "bottom": null,
            "_model_module": "@jupyter-widgets/base",
            "top": null,
            "grid_column": null,
            "overflow_y": null,
            "overflow_x": null,
            "grid_auto_flow": null,
            "grid_area": null,
            "grid_template_columns": null,
            "flex": null,
            "_model_name": "LayoutModel",
            "justify_items": null,
            "grid_row": null,
            "max_height": null,
            "align_content": null,
            "visibility": null,
            "align_self": null,
            "height": null,
            "min_height": null,
            "padding": null,
            "grid_auto_rows": null,
            "grid_gap": null,
            "max_width": null,
            "order": null,
            "_view_module_version": "1.2.0",
            "grid_template_areas": null,
            "object_position": null,
            "object_fit": null,
            "grid_auto_columns": null,
            "margin": null,
            "display": null,
            "left": null
          }
        },
        "b2832d02a5c14b6db210371a62cabdf3": {
          "model_module": "@jupyter-widgets/controls",
          "model_name": "ProgressStyleModel",
          "model_module_version": "1.5.0",
          "state": {
            "_view_name": "StyleView",
            "_model_name": "ProgressStyleModel",
            "description_width": "",
            "_view_module": "@jupyter-widgets/base",
            "_model_module_version": "1.5.0",
            "_view_count": null,
            "_view_module_version": "1.2.0",
            "bar_color": null,
            "_model_module": "@jupyter-widgets/controls"
          }
        },
        "0557be959c5a434cbb43b8e9fec73f80": {
          "model_module": "@jupyter-widgets/base",
          "model_name": "LayoutModel",
          "model_module_version": "1.2.0",
          "state": {
            "_view_name": "LayoutView",
            "grid_template_rows": null,
            "right": null,
            "justify_content": null,
            "_view_module": "@jupyter-widgets/base",
            "overflow": null,
            "_model_module_version": "1.2.0",
            "_view_count": null,
            "flex_flow": null,
            "width": null,
            "min_width": null,
            "border": null,
            "align_items": null,
            "bottom": null,
            "_model_module": "@jupyter-widgets/base",
            "top": null,
            "grid_column": null,
            "overflow_y": null,
            "overflow_x": null,
            "grid_auto_flow": null,
            "grid_area": null,
            "grid_template_columns": null,
            "flex": null,
            "_model_name": "LayoutModel",
            "justify_items": null,
            "grid_row": null,
            "max_height": null,
            "align_content": null,
            "visibility": null,
            "align_self": null,
            "height": null,
            "min_height": null,
            "padding": null,
            "grid_auto_rows": null,
            "grid_gap": null,
            "max_width": null,
            "order": null,
            "_view_module_version": "1.2.0",
            "grid_template_areas": null,
            "object_position": null,
            "object_fit": null,
            "grid_auto_columns": null,
            "margin": null,
            "display": null,
            "left": null
          }
        },
        "9ecc8de1054e4d6e9ff37839b255835a": {
          "model_module": "@jupyter-widgets/controls",
          "model_name": "DescriptionStyleModel",
          "model_module_version": "1.5.0",
          "state": {
            "_view_name": "StyleView",
            "_model_name": "DescriptionStyleModel",
            "description_width": "",
            "_view_module": "@jupyter-widgets/base",
            "_model_module_version": "1.5.0",
            "_view_count": null,
            "_view_module_version": "1.2.0",
            "_model_module": "@jupyter-widgets/controls"
          }
        },
        "bfda249d54734c84b7076d49329beb1b": {
          "model_module": "@jupyter-widgets/base",
          "model_name": "LayoutModel",
          "model_module_version": "1.2.0",
          "state": {
            "_view_name": "LayoutView",
            "grid_template_rows": null,
            "right": null,
            "justify_content": null,
            "_view_module": "@jupyter-widgets/base",
            "overflow": null,
            "_model_module_version": "1.2.0",
            "_view_count": null,
            "flex_flow": null,
            "width": null,
            "min_width": null,
            "border": null,
            "align_items": null,
            "bottom": null,
            "_model_module": "@jupyter-widgets/base",
            "top": null,
            "grid_column": null,
            "overflow_y": null,
            "overflow_x": null,
            "grid_auto_flow": null,
            "grid_area": null,
            "grid_template_columns": null,
            "flex": null,
            "_model_name": "LayoutModel",
            "justify_items": null,
            "grid_row": null,
            "max_height": null,
            "align_content": null,
            "visibility": null,
            "align_self": null,
            "height": null,
            "min_height": null,
            "padding": null,
            "grid_auto_rows": null,
            "grid_gap": null,
            "max_width": null,
            "order": null,
            "_view_module_version": "1.2.0",
            "grid_template_areas": null,
            "object_position": null,
            "object_fit": null,
            "grid_auto_columns": null,
            "margin": null,
            "display": null,
            "left": null
          }
        }
      }
    }
  },
  "cells": [
    {
      "cell_type": "markdown",
      "metadata": {
        "id": "N1-8AS8I5x-H"
      },
      "source": [
        ""
      ]
    },
    {
      "cell_type": "markdown",
      "metadata": {
        "id": "VHDmcbfN5rgg"
      },
      "source": [
        "**Использование псевдоразметки. Семинар.**"
      ]
    },
    {
      "cell_type": "code",
      "metadata": {
        "id": "sxnb33uad1d5"
      },
      "source": [
        "import argparse\n",
        "import torch\n",
        "import torch.nn as nn\n",
        "import torch.nn.functional as F\n",
        "import torch.optim as optim\n",
        "from torchvision import datasets, transforms\n",
        "from torch.autograd import Variable\n",
        "import random\n",
        "import numpy as np"
      ],
      "execution_count": 1,
      "outputs": []
    },
    {
      "cell_type": "code",
      "metadata": {
        "id": "A1YpI_9a5rgo"
      },
      "source": [
        "torch.manual_seed(123)\n",
        "torch.cuda.manual_seed(123)\n",
        "np.random.seed(123)\n",
        "random.seed(123)\n",
        "torch.backends.cudnn.deterministic = True"
      ],
      "execution_count": 2,
      "outputs": []
    },
    {
      "cell_type": "markdown",
      "metadata": {
        "id": "auP4TzJO5rgo"
      },
      "source": [
        "Начнем с загрузки датасета. Речевые данные (и модели, обучаемые на них) очень тяжелые, поэтому мы обойдемся чем-нибудь попроще."
      ]
    },
    {
      "cell_type": "code",
      "metadata": {
        "id": "wKvD1Q8gdWkL",
        "colab": {
          "base_uri": "https://localhost:8080/",
          "height": 435,
          "referenced_widgets": [
            "5d37c505ee9445b9be75c0cd53fa065c",
            "727d85fbd65d47ae8ea735c6088d922f",
            "68867cee67014c349b1fcba806d00392",
            "28a98bfea00e4f28bfb88ba12f3579f3",
            "eb5ebd75e88a4bd79eedfa4b9e1dfcab",
            "7294333aa47f4893a095b7f535ef79eb",
            "52128d07e5d94268a5ce4adbae32d085",
            "83ae185b32c141449d620fad690f3153",
            "35aa4c00872b4cde83cf30c188b0aaf8",
            "90a835f4ea274fe19a3ed1cef72072d1",
            "61fbd0b3aba3479d89676184971c5b72",
            "5755c92608c641a8804c2141bc2f1277",
            "d14ddb5d55c0440084f4af37604ebe91",
            "3035584bcd524c3884a45f05c5ca50c1",
            "4bf8d9eed12c4cf0ad3ddcf05c6f8b40",
            "835ee1d357fc4faca2848170687d2385",
            "b06fd0778378484f953beff77dfb667b",
            "53515cba82b348ca8e1b3ba408945b1c",
            "29ff014885c94d89b70abd94efac8420",
            "526fad5b957f4d5bbfdb2e1fd385a075",
            "e92b7c31ddcc4d348aec2000e00cb9f9",
            "adb2e39ae6f74a40b5c67641a330181c",
            "708e3b49100449408db3ee4c061a6b3e",
            "d9e5d5abdb834de09d471842a64e50d8",
            "d657ac78dccf459abfd42607cfc7fa81",
            "2241e58cb330409797507a7682d0bee5",
            "e5283a4c4eba45639c87850bf553f875",
            "53fdcfade3d24928a7da41e9917ea368",
            "eac31c264856434aa4c5588bb2b5020f",
            "b444011e318a404cb3b8ece8c2a7f157",
            "65e66ea8bfb6474796f65621d85ab031",
            "54f6179d5b784ea3b82a5e910b66eca4",
            "1d99a271cd544ebdade737eff6d04dd9",
            "743b13d278b7460192361e986b1bacf2",
            "4286828ed6864f8b835f6691824b5281",
            "6d39e9ea791b4854992d0fe40595f2f3",
            "7a2e413cfd6e4349913e43c6649c57a2",
            "edb8a71bc807448282f4ecce56278f2f",
            "d337d48436074daf90d9e716d2d765a4",
            "d7264da7f1de4fe4b2f8a9f9f649742c",
            "b2832d02a5c14b6db210371a62cabdf3",
            "0557be959c5a434cbb43b8e9fec73f80",
            "9ecc8de1054e4d6e9ff37839b255835a",
            "bfda249d54734c84b7076d49329beb1b"
          ]
        },
        "outputId": "1c26c4a1-84f6-4657-a0ea-03d5eeb539b8"
      },
      "source": [
        "train_dataset = \\\n",
        "    datasets.MNIST('./data', train=True, download=True,\n",
        "                   transform=transforms.Compose([\n",
        "                       transforms.ToTensor(),\n",
        "                       transforms.Normalize((0.1307,), (0.3081,))\n",
        "                   ]))\n",
        "test_dataset = \\\n",
        "    datasets.MNIST('./data', train=False, transform=transforms.Compose([\n",
        "                       transforms.ToTensor(),\n",
        "                       transforms.Normalize((0.1307,), (0.3081,))\n",
        "                   ]))"
      ],
      "execution_count": 3,
      "outputs": [
        {
          "output_type": "stream",
          "name": "stdout",
          "text": [
            "Downloading http://yann.lecun.com/exdb/mnist/train-images-idx3-ubyte.gz\n",
            "Downloading http://yann.lecun.com/exdb/mnist/train-images-idx3-ubyte.gz to ./data/MNIST/raw/train-images-idx3-ubyte.gz\n"
          ]
        },
        {
          "output_type": "display_data",
          "data": {
            "application/vnd.jupyter.widget-view+json": {
              "model_id": "5d37c505ee9445b9be75c0cd53fa065c",
              "version_minor": 0,
              "version_major": 2
            },
            "text/plain": [
              "  0%|          | 0/9912422 [00:00<?, ?it/s]"
            ]
          },
          "metadata": {}
        },
        {
          "output_type": "stream",
          "name": "stdout",
          "text": [
            "Extracting ./data/MNIST/raw/train-images-idx3-ubyte.gz to ./data/MNIST/raw\n",
            "\n",
            "Downloading http://yann.lecun.com/exdb/mnist/train-labels-idx1-ubyte.gz\n",
            "Downloading http://yann.lecun.com/exdb/mnist/train-labels-idx1-ubyte.gz to ./data/MNIST/raw/train-labels-idx1-ubyte.gz\n"
          ]
        },
        {
          "output_type": "display_data",
          "data": {
            "application/vnd.jupyter.widget-view+json": {
              "model_id": "5755c92608c641a8804c2141bc2f1277",
              "version_minor": 0,
              "version_major": 2
            },
            "text/plain": [
              "  0%|          | 0/28881 [00:00<?, ?it/s]"
            ]
          },
          "metadata": {}
        },
        {
          "output_type": "stream",
          "name": "stdout",
          "text": [
            "Extracting ./data/MNIST/raw/train-labels-idx1-ubyte.gz to ./data/MNIST/raw\n",
            "\n",
            "Downloading http://yann.lecun.com/exdb/mnist/t10k-images-idx3-ubyte.gz\n",
            "Downloading http://yann.lecun.com/exdb/mnist/t10k-images-idx3-ubyte.gz to ./data/MNIST/raw/t10k-images-idx3-ubyte.gz\n"
          ]
        },
        {
          "output_type": "display_data",
          "data": {
            "application/vnd.jupyter.widget-view+json": {
              "model_id": "708e3b49100449408db3ee4c061a6b3e",
              "version_minor": 0,
              "version_major": 2
            },
            "text/plain": [
              "  0%|          | 0/1648877 [00:00<?, ?it/s]"
            ]
          },
          "metadata": {}
        },
        {
          "output_type": "stream",
          "name": "stdout",
          "text": [
            "Extracting ./data/MNIST/raw/t10k-images-idx3-ubyte.gz to ./data/MNIST/raw\n",
            "\n",
            "Downloading http://yann.lecun.com/exdb/mnist/t10k-labels-idx1-ubyte.gz\n",
            "Downloading http://yann.lecun.com/exdb/mnist/t10k-labels-idx1-ubyte.gz to ./data/MNIST/raw/t10k-labels-idx1-ubyte.gz\n"
          ]
        },
        {
          "output_type": "display_data",
          "data": {
            "application/vnd.jupyter.widget-view+json": {
              "model_id": "743b13d278b7460192361e986b1bacf2",
              "version_minor": 0,
              "version_major": 2
            },
            "text/plain": [
              "  0%|          | 0/4542 [00:00<?, ?it/s]"
            ]
          },
          "metadata": {}
        },
        {
          "output_type": "stream",
          "name": "stdout",
          "text": [
            "Extracting ./data/MNIST/raw/t10k-labels-idx1-ubyte.gz to ./data/MNIST/raw\n",
            "\n"
          ]
        }
      ]
    },
    {
      "cell_type": "code",
      "metadata": {
        "id": "9lXwKaeg5rgp",
        "colab": {
          "base_uri": "https://localhost:8080/"
        },
        "outputId": "43d0ed8a-0c46-42c3-b5b1-c2f5879bb9d3"
      },
      "source": [
        "len(train_dataset), len(test_dataset)"
      ],
      "execution_count": 4,
      "outputs": [
        {
          "output_type": "execute_result",
          "data": {
            "text/plain": [
              "(60000, 10000)"
            ]
          },
          "metadata": {},
          "execution_count": 4
        }
      ]
    },
    {
      "cell_type": "markdown",
      "metadata": {
        "id": "xKuoY7I05rgq"
      },
      "source": [
        "Итак, трейн состоит из 60000 картинок цифр. Для того, чтобы получше увидеть эффект от псевдолейблов, мы оставим только 100 этих картинок в качестве размеченных данных. Остальные 59900 будут в качестве неразмеченных. \n",
        "\n",
        "На масштабах 100 записей могут проявиться неприятные эффекты, если какие-то из классов не будут достаточно хорошо представлены. Чтобы этого избежать, будем аккуратно семплировать. Самый простой вариант - просто случайно разделять, пока не получится удачное разбиение."
      ]
    },
    {
      "cell_type": "markdown",
      "metadata": {
        "id": "AWeomwqW5rgq"
      },
      "source": [
        "Для начала определим удачность разбиения. Будем считать размеченный датасет хорошим, если из 100 примеров в нем есть хотя бы по 8 представителей каждого класса. Напишите функцию, которая делает такую проверку."
      ]
    },
    {
      "cell_type": "code",
      "source": [
        "test_dataset.__getitem__(2)[1]"
      ],
      "metadata": {
        "colab": {
          "base_uri": "https://localhost:8080/"
        },
        "id": "eO8xAAIUWaIk",
        "outputId": "79129180-a168-4630-8c63-02bcf271bca6"
      },
      "execution_count": 12,
      "outputs": [
        {
          "output_type": "execute_result",
          "data": {
            "text/plain": [
              "1"
            ]
          },
          "metadata": {},
          "execution_count": 12
        }
      ]
    },
    {
      "cell_type": "code",
      "metadata": {
        "id": "45G7LlRf5rgq"
      },
      "source": [
        "...\n",
        "\n",
        "def check_dataset(dataset):\n",
        "    l = dataset.__len__()\n",
        "    total_classes = set()\n",
        "    for i in range(100):\n",
        "      rand_id = random.randint(0, l)\n",
        "      total_classes.add(dataset.__getitem__(rand_id)[1])\n",
        "    if len(total_classes) > 7:\n",
        "      return True\n",
        "    else:\n",
        "      return False"
      ],
      "execution_count": 13,
      "outputs": []
    },
    {
      "cell_type": "code",
      "metadata": {
        "id": "scjxRQfR5rgr",
        "colab": {
          "base_uri": "https://localhost:8080/"
        },
        "outputId": "1a6eb17f-627d-4056-b746-168d443a9e77"
      },
      "source": [
        "sampling_iteration = 0\n",
        "while True:\n",
        "    labeled_train_dataset, unlabeled_train_dataset = torch.utils.data.random_split(train_dataset, [100, 59900])\n",
        "    if check_dataset(labeled_train_dataset):\n",
        "        break\n",
        "    sampling_iteration += 1\n",
        "print(f'Split the dataset after {sampling_iteration} resamplings')"
      ],
      "execution_count": 18,
      "outputs": [
        {
          "output_type": "stream",
          "name": "stdout",
          "text": [
            "Split the dataset after 0 resamplings\n"
          ]
        }
      ]
    },
    {
      "cell_type": "code",
      "metadata": {
        "id": "9XDTdYXunhve"
      },
      "source": [
        "test_loader = torch.utils.data.DataLoader(\n",
        "    test_dataset, batch_size=64, shuffle=False)\n",
        "labeled_train_loader = torch.utils.data.DataLoader(\n",
        "    labeled_train_dataset, batch_size=64, shuffle=True)\n",
        "unlabeled_train_loader = torch.utils.data.DataLoader(\n",
        "    unlabeled_train_dataset, batch_size=64, shuffle=False)"
      ],
      "execution_count": 19,
      "outputs": []
    },
    {
      "cell_type": "markdown",
      "metadata": {
        "id": "Xyb9Uk505rgs"
      },
      "source": [
        "Теперь, когда мы получили данные, определим архитектуру сети. Возьмем простую сверточную сетку с droupout'ом."
      ]
    },
    {
      "cell_type": "code",
      "metadata": {
        "id": "BXHh9QBMi1md"
      },
      "source": [
        "class Net(nn.Module):\n",
        "    def __init__(self):\n",
        "        super().__init__()\n",
        "        self.conv1 = nn.Conv2d(1, 20, kernel_size=5)\n",
        "        self.conv2 = nn.Conv2d(20, 40, kernel_size=5)\n",
        "        self.dropout = nn.Dropout2d(p=0.5)\n",
        "        self.fc1 = nn.Linear(640, 150)\n",
        "        self.fc2 = nn.Linear(150, 10)\n",
        "        self.log_softmax = nn.LogSoftmax(dim=1)\n",
        "\n",
        "    def forward(self, x):\n",
        "        x = x.view(-1, 1, 28, 28)\n",
        "        x = F.relu(F.max_pool2d(self.conv1(x), 2))\n",
        "        x = F.relu(F.max_pool2d(self.dropout(self.conv2(x)), 2))\n",
        "        x = x.view(-1, 640)\n",
        "        x = F.relu(self.fc1(x))\n",
        "        x = self.dropout(x)\n",
        "        x = F.relu(self.fc2(x))\n",
        "        x = self.log_softmax(x)\n",
        "        return x"
      ],
      "execution_count": 20,
      "outputs": []
    },
    {
      "cell_type": "markdown",
      "metadata": {
        "id": "HaG1bxhI5rgt"
      },
      "source": [
        "Опишем вспомогательные функции."
      ]
    },
    {
      "cell_type": "code",
      "metadata": {
        "id": "UwbKihvcjsIl"
      },
      "source": [
        "def train(epoch_idx, model, optimizer, train_loader, loss_func=F.nll_loss):\n",
        "    model.train()\n",
        "    for batch_idx, (x, target) in enumerate(train_loader):\n",
        "        x, target = x.cuda(), target.cuda()\n",
        "        optimizer.zero_grad()\n",
        "        output = model(x)\n",
        "        loss = loss_func(output, target)\n",
        "        loss.backward()\n",
        "        optimizer.step()"
      ],
      "execution_count": 21,
      "outputs": []
    },
    {
      "cell_type": "code",
      "metadata": {
        "id": "esbjg0S0lF-a"
      },
      "source": [
        "def test(epoch_idx, model, test_loader):\n",
        "    model.eval()\n",
        "    test_loss = 0.0\n",
        "    correct = 0\n",
        "    with torch.no_grad():\n",
        "        for x, target in test_loader:\n",
        "            x, target = x.cuda(), target.cuda()\n",
        "            output = model(x)\n",
        "            test_loss += F.nll_loss(output, target, size_average=False).item()\n",
        "            pred = output.data.max(1, keepdim=True)[1]\n",
        "            correct += pred.eq(target.data.view_as(pred)).long().cpu().sum()\n",
        "\n",
        "    test_loss /= len(test_loader.dataset)\n",
        "    print('Epoch {}: Average loss: {:.4f}, Accuracy: {}/{} ({:.0f}%)'.format(\n",
        "        epoch_idx, test_loss, correct, len(test_loader.dataset),\n",
        "        100. * correct / len(test_loader.dataset)))"
      ],
      "execution_count": 22,
      "outputs": []
    },
    {
      "cell_type": "code",
      "metadata": {
        "id": "WzVXnGtKc_pf"
      },
      "source": [
        "def predict(model, loader):\n",
        "    model.eval()\n",
        "    result = []\n",
        "    with torch.no_grad():\n",
        "        for x, _ in loader:\n",
        "            result.append(model(x.cuda()))\n",
        "    return torch.cat(result)"
      ],
      "execution_count": 23,
      "outputs": []
    },
    {
      "cell_type": "markdown",
      "metadata": {
        "id": "ga7bO-Sx5rgu"
      },
      "source": [
        "Создадим модель и обучим ее на нашем размеченном датасете."
      ]
    },
    {
      "cell_type": "code",
      "metadata": {
        "id": "X831vbLVuAjY"
      },
      "source": [
        "model = Net().cuda()\n",
        "optimizer = torch.optim.SGD(model.parameters(), lr=0.1)"
      ],
      "execution_count": 24,
      "outputs": []
    },
    {
      "cell_type": "code",
      "metadata": {
        "id": "h_jXa_zUuGbi",
        "scrolled": true,
        "colab": {
          "base_uri": "https://localhost:8080/"
        },
        "outputId": "b94b947f-8a9d-41c7-ba6a-1eac9a450a8c"
      },
      "source": [
        "for i in range(400):\n",
        "    train(i, model, optimizer, labeled_train_loader)\n",
        "    if i % 10 == 0:\n",
        "        test(i, model, test_loader)"
      ],
      "execution_count": 25,
      "outputs": [
        {
          "output_type": "stream",
          "name": "stderr",
          "text": [
            "/usr/local/lib/python3.7/dist-packages/torch/nn/_reduction.py:42: UserWarning: size_average and reduce args will be deprecated, please use reduction='sum' instead.\n",
            "  warnings.warn(warning.format(ret))\n"
          ]
        },
        {
          "output_type": "stream",
          "name": "stdout",
          "text": [
            "Epoch 0: Average loss: 2.2950, Accuracy: 1253/10000 (13%)\n",
            "Epoch 10: Average loss: 1.8219, Accuracy: 4334/10000 (43%)\n",
            "Epoch 20: Average loss: 0.9842, Accuracy: 7412/10000 (74%)\n",
            "Epoch 30: Average loss: 0.7605, Accuracy: 7487/10000 (75%)\n",
            "Epoch 40: Average loss: 0.5439, Accuracy: 8425/10000 (84%)\n",
            "Epoch 50: Average loss: 0.5683, Accuracy: 8399/10000 (84%)\n",
            "Epoch 60: Average loss: 0.4262, Accuracy: 8818/10000 (88%)\n",
            "Epoch 70: Average loss: 0.4740, Accuracy: 8735/10000 (87%)\n",
            "Epoch 80: Average loss: 0.4628, Accuracy: 8794/10000 (88%)\n",
            "Epoch 90: Average loss: 0.4893, Accuracy: 8789/10000 (88%)\n",
            "Epoch 100: Average loss: 0.4700, Accuracy: 8871/10000 (89%)\n",
            "Epoch 110: Average loss: 0.4666, Accuracy: 8882/10000 (89%)\n",
            "Epoch 120: Average loss: 0.4790, Accuracy: 8878/10000 (89%)\n",
            "Epoch 130: Average loss: 0.5363, Accuracy: 8788/10000 (88%)\n",
            "Epoch 140: Average loss: 0.5816, Accuracy: 8787/10000 (88%)\n",
            "Epoch 150: Average loss: 0.5435, Accuracy: 8812/10000 (88%)\n",
            "Epoch 160: Average loss: 0.5552, Accuracy: 8779/10000 (88%)\n",
            "Epoch 170: Average loss: 0.5199, Accuracy: 8889/10000 (89%)\n",
            "Epoch 180: Average loss: 0.5467, Accuracy: 8853/10000 (89%)\n",
            "Epoch 190: Average loss: 0.5821, Accuracy: 8840/10000 (88%)\n",
            "Epoch 200: Average loss: 0.5401, Accuracy: 8898/10000 (89%)\n",
            "Epoch 210: Average loss: 0.5006, Accuracy: 8984/10000 (90%)\n",
            "Epoch 220: Average loss: 0.5559, Accuracy: 8884/10000 (89%)\n",
            "Epoch 230: Average loss: 0.5846, Accuracy: 8852/10000 (89%)\n",
            "Epoch 240: Average loss: 0.5949, Accuracy: 8868/10000 (89%)\n",
            "Epoch 250: Average loss: 0.5607, Accuracy: 8915/10000 (89%)\n",
            "Epoch 260: Average loss: 0.5854, Accuracy: 8893/10000 (89%)\n",
            "Epoch 270: Average loss: 0.5632, Accuracy: 8917/10000 (89%)\n",
            "Epoch 280: Average loss: 0.5880, Accuracy: 8907/10000 (89%)\n",
            "Epoch 290: Average loss: 0.6756, Accuracy: 8801/10000 (88%)\n",
            "Epoch 300: Average loss: 0.6404, Accuracy: 8873/10000 (89%)\n",
            "Epoch 310: Average loss: 0.6383, Accuracy: 8851/10000 (89%)\n",
            "Epoch 320: Average loss: 0.6970, Accuracy: 8766/10000 (88%)\n",
            "Epoch 330: Average loss: 0.6428, Accuracy: 8870/10000 (89%)\n",
            "Epoch 340: Average loss: 0.6107, Accuracy: 8865/10000 (89%)\n",
            "Epoch 350: Average loss: 0.6697, Accuracy: 8766/10000 (88%)\n",
            "Epoch 360: Average loss: 0.6730, Accuracy: 8789/10000 (88%)\n",
            "Epoch 370: Average loss: 0.5835, Accuracy: 8907/10000 (89%)\n",
            "Epoch 380: Average loss: 0.6172, Accuracy: 8868/10000 (89%)\n",
            "Epoch 390: Average loss: 0.5891, Accuracy: 8910/10000 (89%)\n"
          ]
        }
      ]
    },
    {
      "cell_type": "markdown",
      "metadata": {
        "id": "RRFYDeIg5rgv"
      },
      "source": [
        "Теперь попробуем побить этот результат с помощью псевдолейблов. Напишем функцию, которая принимает модель и возращает DataLoader с хард-лейблами, и запустим обучение."
      ]
    },
    {
      "cell_type": "code",
      "metadata": {
        "id": "f1FwrOLe5rgw"
      },
      "source": [
        "def get_pseudo_loader(model):\n",
        "    dataset = list(unlabeled_train_dataset)\n",
        "    soft_labels = predict(model, dataset)\n",
        "    hard_labels = torch.argmax(soft_labels, 1)\n",
        "    for idx, i in enumerate(dataset):\n",
        "      # print(i[1], hard_labels[idx])\n",
        "      dataset[idx] = (i[0], hard_labels[idx])\n",
        "    return torch.utils.data.DataLoader(\n",
        "        dataset, batch_size=64, shuffle=True)"
      ],
      "execution_count": 59,
      "outputs": []
    },
    {
      "cell_type": "code",
      "metadata": {
        "id": "lbFpYgqC5rgw"
      },
      "source": [
        "model_hard = Net().cuda()\n",
        "model_hard.load_state_dict(model.state_dict())\n",
        "optimizer_hard = torch.optim.SGD(model_hard.parameters(), lr=0.1)"
      ],
      "execution_count": 60,
      "outputs": []
    },
    {
      "cell_type": "code",
      "metadata": {
        "id": "i4WjNPrM2qZi",
        "colab": {
          "base_uri": "https://localhost:8080/"
        },
        "outputId": "7b7f3826-4d58-44d1-a005-9d46be95ad17"
      },
      "source": [
        "hard_labeled_loader = get_pseudo_loader(model)\n",
        "for i in range(10):\n",
        "    train(i, model_hard, optimizer_hard, hard_labeled_loader)\n",
        "    train(i, model_hard, optimizer_hard, labeled_train_loader)\n",
        "    test(i, model_hard, test_loader)"
      ],
      "execution_count": 61,
      "outputs": [
        {
          "output_type": "stream",
          "name": "stderr",
          "text": [
            "/usr/local/lib/python3.7/dist-packages/torch/nn/_reduction.py:42: UserWarning: size_average and reduce args will be deprecated, please use reduction='sum' instead.\n",
            "  warnings.warn(warning.format(ret))\n"
          ]
        },
        {
          "output_type": "stream",
          "name": "stdout",
          "text": [
            "Epoch 0: Average loss: 0.3560, Accuracy: 9014/10000 (90%)\n",
            "Epoch 1: Average loss: 0.4231, Accuracy: 8994/10000 (90%)\n",
            "Epoch 2: Average loss: 0.3778, Accuracy: 9105/10000 (91%)\n",
            "Epoch 3: Average loss: 0.4300, Accuracy: 9056/10000 (91%)\n",
            "Epoch 4: Average loss: 0.4270, Accuracy: 9007/10000 (90%)\n",
            "Epoch 5: Average loss: 0.4094, Accuracy: 9032/10000 (90%)\n",
            "Epoch 6: Average loss: 0.3992, Accuracy: 9053/10000 (91%)\n",
            "Epoch 7: Average loss: 0.4301, Accuracy: 9017/10000 (90%)\n",
            "Epoch 8: Average loss: 0.4489, Accuracy: 9050/10000 (90%)\n",
            "Epoch 9: Average loss: 0.4518, Accuracy: 9077/10000 (91%)\n"
          ]
        }
      ]
    },
    {
      "cell_type": "markdown",
      "metadata": {
        "id": "7gcvAXOY5rgx"
      },
      "source": [
        "**Итеративная псевдоразметка.**\n",
        "\n",
        "Мы уже видим небольшое улучшение, но можно пойти дальше."
      ]
    },
    {
      "cell_type": "code",
      "metadata": {
        "id": "oZ00dzMK5rgx"
      },
      "source": [
        "model_hard_iter = Net().cuda()\n",
        "model_hard_iter.load_state_dict(model.state_dict())\n",
        "optimizer_hard_iter = torch.optim.SGD(model_hard_iter.parameters(), lr=0.1)"
      ],
      "execution_count": 62,
      "outputs": []
    },
    {
      "cell_type": "code",
      "metadata": {
        "id": "REl_v-Sf5rgx",
        "colab": {
          "base_uri": "https://localhost:8080/"
        },
        "outputId": "72387cd3-d19b-4550-a441-17fba81dda4f"
      },
      "source": [
        "for i in range(20):\n",
        "    hard_labeled_loader = get_pseudo_loader(model_hard_iter)\n",
        "    train(i, model_hard_iter, optimizer_hard_iter, hard_labeled_loader)\n",
        "    train(i, model_hard_iter, optimizer_hard_iter, labeled_train_loader)\n",
        "    test(i, model_hard_iter, test_loader)"
      ],
      "execution_count": 63,
      "outputs": [
        {
          "output_type": "stream",
          "name": "stderr",
          "text": [
            "/usr/local/lib/python3.7/dist-packages/torch/nn/_reduction.py:42: UserWarning: size_average and reduce args will be deprecated, please use reduction='sum' instead.\n",
            "  warnings.warn(warning.format(ret))\n"
          ]
        },
        {
          "output_type": "stream",
          "name": "stdout",
          "text": [
            "Epoch 0: Average loss: 0.3581, Accuracy: 9062/10000 (91%)\n",
            "Epoch 1: Average loss: 0.3643, Accuracy: 9105/10000 (91%)\n",
            "Epoch 2: Average loss: 0.3638, Accuracy: 9127/10000 (91%)\n",
            "Epoch 3: Average loss: 0.3718, Accuracy: 9217/10000 (92%)\n",
            "Epoch 4: Average loss: 0.3325, Accuracy: 9247/10000 (92%)\n",
            "Epoch 5: Average loss: 0.3360, Accuracy: 9296/10000 (93%)\n",
            "Epoch 6: Average loss: 0.3014, Accuracy: 9322/10000 (93%)\n",
            "Epoch 7: Average loss: 0.2760, Accuracy: 9367/10000 (94%)\n",
            "Epoch 8: Average loss: 0.2848, Accuracy: 9373/10000 (94%)\n",
            "Epoch 9: Average loss: 0.3037, Accuracy: 9376/10000 (94%)\n",
            "Epoch 10: Average loss: 0.3252, Accuracy: 9364/10000 (94%)\n",
            "Epoch 11: Average loss: 0.3257, Accuracy: 9374/10000 (94%)\n",
            "Epoch 12: Average loss: 0.2874, Accuracy: 9427/10000 (94%)\n",
            "Epoch 13: Average loss: 0.2856, Accuracy: 9434/10000 (94%)\n",
            "Epoch 14: Average loss: 0.2901, Accuracy: 9423/10000 (94%)\n",
            "Epoch 15: Average loss: 0.2860, Accuracy: 9437/10000 (94%)\n",
            "Epoch 16: Average loss: 0.2794, Accuracy: 9466/10000 (95%)\n",
            "Epoch 17: Average loss: 0.2736, Accuracy: 9478/10000 (95%)\n",
            "Epoch 18: Average loss: 0.2820, Accuracy: 9475/10000 (95%)\n",
            "Epoch 19: Average loss: 0.2833, Accuracy: 9454/10000 (95%)\n"
          ]
        }
      ]
    },
    {
      "cell_type": "markdown",
      "metadata": {
        "id": "Ri3o1-Mz5rgy"
      },
      "source": [
        "**Домашнее задание.**\n",
        "\n",
        "Модифицировать функцию `get_pseudo_loader`, чтобы она могла возвращать софт-лейблы (2 балла).\n",
        "\n",
        "Правильно запустить обучение - в качестве лосса используем KL-дивергенцию. Получить accuracy 90% или выше. (+5 баллов).\n",
        "\n",
        "Интуитивно кажется, что модель не должна ничему учиться, т.к. ее выход будет полностью совпадать с софт-лейблами. Напишите (текстом), почему тем не менее удается сильно выиграть относительно бейзлайна. (+3 балла)."
      ]
    },
    {
      "cell_type": "code",
      "metadata": {
        "id": "BXezhZ325rgy"
      },
      "source": [
        "model_soft_iter = Net().cuda()\n",
        "model_soft_iter.load_state_dict(model.state_dict())\n",
        "optimizer_soft_iter = torch.optim.SGD(model_soft_iter.parameters(), lr=0.1)\n",
        "KL_loss = torch.nn.KLDivLoss(log_target=True, reduction='batchmean')"
      ],
      "execution_count": 109,
      "outputs": []
    },
    {
      "cell_type": "code",
      "metadata": {
        "id": "UA5DmEKV5rgz"
      },
      "source": [
        "def get_pseudo_loader(model, soft=False):\n",
        "    dataset = list(unlabeled_train_dataset)\n",
        "    soft_labels = predict(model, dataset)\n",
        "    if soft == True:\n",
        "      for idx, i in enumerate(dataset):\n",
        "        # print(i[1], hard_labels[idx])\n",
        "        dataset[idx] = (i[0], soft_labels[idx])\n",
        "    else:\n",
        "      hard_labels = torch.argmax(soft_labels, 1)\n",
        "      for idx, i in enumerate(dataset):\n",
        "        # print(i[1], hard_labels[idx])\n",
        "        dataset[idx] = (i[0], hard_labels[idx])\n",
        "    return torch.utils.data.DataLoader(\n",
        "        dataset, batch_size=64, shuffle=True)"
      ],
      "execution_count": 102,
      "outputs": []
    },
    {
      "cell_type": "code",
      "source": [
        "def test(epoch_idx, model, test_loader):\n",
        "    model.eval()\n",
        "    test_loss = 0.0\n",
        "    correct = 0\n",
        "    with torch.no_grad():\n",
        "        for x, target in test_loader:\n",
        "            x, target = x.cuda(), target.cuda()\n",
        "            output = model(x)\n",
        "            test_loss += F.nll_loss(output, target, size_average=False).item()\n",
        "            pred = output.data.max(1, keepdim=True)[1]\n",
        "            # print(pred)\n",
        "            correct += pred.eq(target.data.view_as(pred)).long().cpu().sum()\n",
        "\n",
        "    test_loss /= len(test_loader.dataset)\n",
        "    print('Epoch {}: Average loss: {:.4f}, Accuracy: {}/{} ({:.0f}%)'.format(\n",
        "        epoch_idx, test_loss, correct, len(test_loader.dataset),\n",
        "        100. * correct / len(test_loader.dataset)))"
      ],
      "metadata": {
        "id": "-eWO33Lfta00"
      },
      "execution_count": 103,
      "outputs": []
    },
    {
      "cell_type": "code",
      "source": [
        "def train(epoch_idx, model, optimizer, train_loader, loss_func=F.nll_loss):\n",
        "    model.train()\n",
        "    for batch_idx, (x, target) in enumerate(train_loader):\n",
        "        x, target = x.cuda(), target.cuda()\n",
        "        optimizer.zero_grad()\n",
        "        output = model(x)\n",
        "        loss = loss_func(output, target)\n",
        "        loss.backward()\n",
        "        optimizer.step()"
      ],
      "metadata": {
        "id": "A_oqSzkiucNz"
      },
      "execution_count": 105,
      "outputs": []
    },
    {
      "cell_type": "code",
      "source": [
        "first = torch.Tensor([-3.2228e+01, -2.4380e+01, -2.5240e+01, -2.0968e+01, -3.2228e+01,-3.2228e+01, -3.2228e+01,  0.0000e+00, -3.1462e+01, -3.2108e+01])\n",
        "second = torch.Tensor([-3.8978e+01, -3.6266e+01, -3.6124e+01, -3.1969e+01, -3.8322e+01, -3.8978e+01, -3.8978e+01,  0.0000e+00, -3.7471e+01, -3.3333e+01])"
      ],
      "metadata": {
        "id": "_watUdFcy3W2"
      },
      "execution_count": 96,
      "outputs": []
    },
    {
      "cell_type": "code",
      "source": [
        "KL_loss(first, second)"
      ],
      "metadata": {
        "colab": {
          "base_uri": "https://localhost:8080/"
        },
        "id": "OHbV-3u9zGt_",
        "outputId": "d354e52f-c182-4f25-a2b2-e0c056d0cb08"
      },
      "execution_count": 110,
      "outputs": [
        {
          "output_type": "execute_result",
          "data": {
            "text/plain": [
              "tensor(-1.5284e-14)"
            ]
          },
          "metadata": {},
          "execution_count": 110
        }
      ]
    },
    {
      "cell_type": "code",
      "metadata": {
        "id": "KD-uX-Cl5rgz",
        "colab": {
          "base_uri": "https://localhost:8080/"
        },
        "outputId": "2088f056-b519-4dc9-a93a-3b9205c1698c"
      },
      "source": [
        "for i in range(20):\n",
        "    soft_labeled_loader = get_pseudo_loader(model_soft_iter, soft=True)\n",
        "    train(i, model_soft_iter, optimizer_soft_iter, soft_labeled_loader, loss_func=torch.nn.KLDivLoss(log_target=True, reduction='batchmean'))\n",
        "    train(i, model_soft_iter, optimizer_soft_iter, labeled_train_loader)\n",
        "    test(i, model_soft_iter, test_loader)\n"
      ],
      "execution_count": 111,
      "outputs": [
        {
          "output_type": "stream",
          "name": "stderr",
          "text": [
            "/usr/local/lib/python3.7/dist-packages/torch/nn/_reduction.py:42: UserWarning: size_average and reduce args will be deprecated, please use reduction='sum' instead.\n",
            "  warnings.warn(warning.format(ret))\n"
          ]
        },
        {
          "output_type": "stream",
          "name": "stdout",
          "text": [
            "Epoch 0: Average loss: 0.3404, Accuracy: 9095/10000 (91%)\n",
            "Epoch 1: Average loss: 0.2865, Accuracy: 9202/10000 (92%)\n",
            "Epoch 2: Average loss: 0.2748, Accuracy: 9226/10000 (92%)\n",
            "Epoch 3: Average loss: 0.2846, Accuracy: 9194/10000 (92%)\n",
            "Epoch 4: Average loss: 0.2725, Accuracy: 9221/10000 (92%)\n",
            "Epoch 5: Average loss: 0.2653, Accuracy: 9237/10000 (92%)\n",
            "Epoch 6: Average loss: 0.2595, Accuracy: 9275/10000 (93%)\n",
            "Epoch 7: Average loss: 0.2522, Accuracy: 9290/10000 (93%)\n",
            "Epoch 8: Average loss: 0.2471, Accuracy: 9284/10000 (93%)\n",
            "Epoch 9: Average loss: 0.2415, Accuracy: 9310/10000 (93%)\n",
            "Epoch 10: Average loss: 0.2400, Accuracy: 9316/10000 (93%)\n",
            "Epoch 11: Average loss: 0.2422, Accuracy: 9301/10000 (93%)\n",
            "Epoch 12: Average loss: 0.2397, Accuracy: 9313/10000 (93%)\n",
            "Epoch 13: Average loss: 0.2305, Accuracy: 9335/10000 (93%)\n",
            "Epoch 14: Average loss: 0.2330, Accuracy: 9312/10000 (93%)\n",
            "Epoch 15: Average loss: 0.2357, Accuracy: 9328/10000 (93%)\n",
            "Epoch 16: Average loss: 0.2351, Accuracy: 9319/10000 (93%)\n",
            "Epoch 17: Average loss: 0.2361, Accuracy: 9353/10000 (94%)\n",
            "Epoch 18: Average loss: 0.2298, Accuracy: 9358/10000 (94%)\n",
            "Epoch 19: Average loss: 0.2206, Accuracy: 9392/10000 (94%)\n"
          ]
        }
      ]
    },
    {
      "cell_type": "code",
      "source": [
        ""
      ],
      "metadata": {
        "id": "KPte1ZGloPI4"
      },
      "execution_count": null,
      "outputs": []
    },
    {
      "cell_type": "markdown",
      "source": [
        ""
      ],
      "metadata": {
        "id": "6Sawg2j72n9m"
      }
    }
  ]
}