{
  "nbformat": 4,
  "nbformat_minor": 0,
  "metadata": {
    "accelerator": "GPU",
    "colab": {
      "name": "Androsov_spotter_hw.ipynb",
      "provenance": [],
      "collapsed_sections": [],
      "toc_visible": true
    },
    "kernelspec": {
      "display_name": "Python 3",
      "name": "python3"
    },
    "language_info": {
      "name": "python"
    },
    "widgets": {
      "application/vnd.jupyter.widget-state+json": {
        "a1ee52b11ea94aee991a15afba908231": {
          "model_module": "@jupyter-widgets/controls",
          "model_name": "HBoxModel",
          "model_module_version": "1.5.0",
          "state": {
            "_dom_classes": [],
            "_model_module": "@jupyter-widgets/controls",
            "_model_module_version": "1.5.0",
            "_model_name": "HBoxModel",
            "_view_count": null,
            "_view_module": "@jupyter-widgets/controls",
            "_view_module_version": "1.5.0",
            "_view_name": "HBoxView",
            "box_style": "",
            "children": [
              "IPY_MODEL_f46d48961a9d4c62b598f9d7ce7fa064",
              "IPY_MODEL_12b3bd3ca01e4706b572e10800888247",
              "IPY_MODEL_c7587af96b5d4dbab8f11b9ca1c39511"
            ],
            "layout": "IPY_MODEL_4f9021b2600646c4af9651abf7c100be"
          }
        },
        "f46d48961a9d4c62b598f9d7ce7fa064": {
          "model_module": "@jupyter-widgets/controls",
          "model_name": "HTMLModel",
          "model_module_version": "1.5.0",
          "state": {
            "_dom_classes": [],
            "_model_module": "@jupyter-widgets/controls",
            "_model_module_version": "1.5.0",
            "_model_name": "HTMLModel",
            "_view_count": null,
            "_view_module": "@jupyter-widgets/controls",
            "_view_module_version": "1.5.0",
            "_view_name": "HTMLView",
            "description": "",
            "description_tooltip": null,
            "layout": "IPY_MODEL_ab4b611801a140259a5132207a8fffd3",
            "placeholder": "​",
            "style": "IPY_MODEL_03f49df15c4541b2af1d7fa006e9a93a",
            "value": "100%"
          }
        },
        "12b3bd3ca01e4706b572e10800888247": {
          "model_module": "@jupyter-widgets/controls",
          "model_name": "FloatProgressModel",
          "model_module_version": "1.5.0",
          "state": {
            "_dom_classes": [],
            "_model_module": "@jupyter-widgets/controls",
            "_model_module_version": "1.5.0",
            "_model_name": "FloatProgressModel",
            "_view_count": null,
            "_view_module": "@jupyter-widgets/controls",
            "_view_module_version": "1.5.0",
            "_view_name": "ProgressView",
            "bar_style": "success",
            "description": "",
            "description_tooltip": null,
            "layout": "IPY_MODEL_8eff2693027641c4875701a38d648850",
            "max": 50,
            "min": 0,
            "orientation": "horizontal",
            "style": "IPY_MODEL_84f6360721d74d868a57f1a623e3e058",
            "value": 50
          }
        },
        "c7587af96b5d4dbab8f11b9ca1c39511": {
          "model_module": "@jupyter-widgets/controls",
          "model_name": "HTMLModel",
          "model_module_version": "1.5.0",
          "state": {
            "_dom_classes": [],
            "_model_module": "@jupyter-widgets/controls",
            "_model_module_version": "1.5.0",
            "_model_name": "HTMLModel",
            "_view_count": null,
            "_view_module": "@jupyter-widgets/controls",
            "_view_module_version": "1.5.0",
            "_view_name": "HTMLView",
            "description": "",
            "description_tooltip": null,
            "layout": "IPY_MODEL_34b1cdcf58f84d798ba8173c1b0a71e0",
            "placeholder": "​",
            "style": "IPY_MODEL_20a9ea5506ef4cb9bf29e5fdef5fd464",
            "value": " 50/50 [02:32&lt;00:00,  3.08s/it]"
          }
        },
        "4f9021b2600646c4af9651abf7c100be": {
          "model_module": "@jupyter-widgets/base",
          "model_name": "LayoutModel",
          "model_module_version": "1.2.0",
          "state": {
            "_model_module": "@jupyter-widgets/base",
            "_model_module_version": "1.2.0",
            "_model_name": "LayoutModel",
            "_view_count": null,
            "_view_module": "@jupyter-widgets/base",
            "_view_module_version": "1.2.0",
            "_view_name": "LayoutView",
            "align_content": null,
            "align_items": null,
            "align_self": null,
            "border": null,
            "bottom": null,
            "display": null,
            "flex": null,
            "flex_flow": null,
            "grid_area": null,
            "grid_auto_columns": null,
            "grid_auto_flow": null,
            "grid_auto_rows": null,
            "grid_column": null,
            "grid_gap": null,
            "grid_row": null,
            "grid_template_areas": null,
            "grid_template_columns": null,
            "grid_template_rows": null,
            "height": null,
            "justify_content": null,
            "justify_items": null,
            "left": null,
            "margin": null,
            "max_height": null,
            "max_width": null,
            "min_height": null,
            "min_width": null,
            "object_fit": null,
            "object_position": null,
            "order": null,
            "overflow": null,
            "overflow_x": null,
            "overflow_y": null,
            "padding": null,
            "right": null,
            "top": null,
            "visibility": null,
            "width": null
          }
        },
        "ab4b611801a140259a5132207a8fffd3": {
          "model_module": "@jupyter-widgets/base",
          "model_name": "LayoutModel",
          "model_module_version": "1.2.0",
          "state": {
            "_model_module": "@jupyter-widgets/base",
            "_model_module_version": "1.2.0",
            "_model_name": "LayoutModel",
            "_view_count": null,
            "_view_module": "@jupyter-widgets/base",
            "_view_module_version": "1.2.0",
            "_view_name": "LayoutView",
            "align_content": null,
            "align_items": null,
            "align_self": null,
            "border": null,
            "bottom": null,
            "display": null,
            "flex": null,
            "flex_flow": null,
            "grid_area": null,
            "grid_auto_columns": null,
            "grid_auto_flow": null,
            "grid_auto_rows": null,
            "grid_column": null,
            "grid_gap": null,
            "grid_row": null,
            "grid_template_areas": null,
            "grid_template_columns": null,
            "grid_template_rows": null,
            "height": null,
            "justify_content": null,
            "justify_items": null,
            "left": null,
            "margin": null,
            "max_height": null,
            "max_width": null,
            "min_height": null,
            "min_width": null,
            "object_fit": null,
            "object_position": null,
            "order": null,
            "overflow": null,
            "overflow_x": null,
            "overflow_y": null,
            "padding": null,
            "right": null,
            "top": null,
            "visibility": null,
            "width": null
          }
        },
        "03f49df15c4541b2af1d7fa006e9a93a": {
          "model_module": "@jupyter-widgets/controls",
          "model_name": "DescriptionStyleModel",
          "model_module_version": "1.5.0",
          "state": {
            "_model_module": "@jupyter-widgets/controls",
            "_model_module_version": "1.5.0",
            "_model_name": "DescriptionStyleModel",
            "_view_count": null,
            "_view_module": "@jupyter-widgets/base",
            "_view_module_version": "1.2.0",
            "_view_name": "StyleView",
            "description_width": ""
          }
        },
        "8eff2693027641c4875701a38d648850": {
          "model_module": "@jupyter-widgets/base",
          "model_name": "LayoutModel",
          "model_module_version": "1.2.0",
          "state": {
            "_model_module": "@jupyter-widgets/base",
            "_model_module_version": "1.2.0",
            "_model_name": "LayoutModel",
            "_view_count": null,
            "_view_module": "@jupyter-widgets/base",
            "_view_module_version": "1.2.0",
            "_view_name": "LayoutView",
            "align_content": null,
            "align_items": null,
            "align_self": null,
            "border": null,
            "bottom": null,
            "display": null,
            "flex": null,
            "flex_flow": null,
            "grid_area": null,
            "grid_auto_columns": null,
            "grid_auto_flow": null,
            "grid_auto_rows": null,
            "grid_column": null,
            "grid_gap": null,
            "grid_row": null,
            "grid_template_areas": null,
            "grid_template_columns": null,
            "grid_template_rows": null,
            "height": null,
            "justify_content": null,
            "justify_items": null,
            "left": null,
            "margin": null,
            "max_height": null,
            "max_width": null,
            "min_height": null,
            "min_width": null,
            "object_fit": null,
            "object_position": null,
            "order": null,
            "overflow": null,
            "overflow_x": null,
            "overflow_y": null,
            "padding": null,
            "right": null,
            "top": null,
            "visibility": null,
            "width": null
          }
        },
        "84f6360721d74d868a57f1a623e3e058": {
          "model_module": "@jupyter-widgets/controls",
          "model_name": "ProgressStyleModel",
          "model_module_version": "1.5.0",
          "state": {
            "_model_module": "@jupyter-widgets/controls",
            "_model_module_version": "1.5.0",
            "_model_name": "ProgressStyleModel",
            "_view_count": null,
            "_view_module": "@jupyter-widgets/base",
            "_view_module_version": "1.2.0",
            "_view_name": "StyleView",
            "bar_color": null,
            "description_width": ""
          }
        },
        "34b1cdcf58f84d798ba8173c1b0a71e0": {
          "model_module": "@jupyter-widgets/base",
          "model_name": "LayoutModel",
          "model_module_version": "1.2.0",
          "state": {
            "_model_module": "@jupyter-widgets/base",
            "_model_module_version": "1.2.0",
            "_model_name": "LayoutModel",
            "_view_count": null,
            "_view_module": "@jupyter-widgets/base",
            "_view_module_version": "1.2.0",
            "_view_name": "LayoutView",
            "align_content": null,
            "align_items": null,
            "align_self": null,
            "border": null,
            "bottom": null,
            "display": null,
            "flex": null,
            "flex_flow": null,
            "grid_area": null,
            "grid_auto_columns": null,
            "grid_auto_flow": null,
            "grid_auto_rows": null,
            "grid_column": null,
            "grid_gap": null,
            "grid_row": null,
            "grid_template_areas": null,
            "grid_template_columns": null,
            "grid_template_rows": null,
            "height": null,
            "justify_content": null,
            "justify_items": null,
            "left": null,
            "margin": null,
            "max_height": null,
            "max_width": null,
            "min_height": null,
            "min_width": null,
            "object_fit": null,
            "object_position": null,
            "order": null,
            "overflow": null,
            "overflow_x": null,
            "overflow_y": null,
            "padding": null,
            "right": null,
            "top": null,
            "visibility": null,
            "width": null
          }
        },
        "20a9ea5506ef4cb9bf29e5fdef5fd464": {
          "model_module": "@jupyter-widgets/controls",
          "model_name": "DescriptionStyleModel",
          "model_module_version": "1.5.0",
          "state": {
            "_model_module": "@jupyter-widgets/controls",
            "_model_module_version": "1.5.0",
            "_model_name": "DescriptionStyleModel",
            "_view_count": null,
            "_view_module": "@jupyter-widgets/base",
            "_view_module_version": "1.2.0",
            "_view_name": "StyleView",
            "description_width": ""
          }
        },
        "a19f44b643f4454b98daca4e42b10b7c": {
          "model_module": "@jupyter-widgets/controls",
          "model_name": "HBoxModel",
          "model_module_version": "1.5.0",
          "state": {
            "_dom_classes": [],
            "_model_module": "@jupyter-widgets/controls",
            "_model_module_version": "1.5.0",
            "_model_name": "HBoxModel",
            "_view_count": null,
            "_view_module": "@jupyter-widgets/controls",
            "_view_module_version": "1.5.0",
            "_view_name": "HBoxView",
            "box_style": "",
            "children": [
              "IPY_MODEL_a93352ea51c94fc99d7c5d5fe023aee6",
              "IPY_MODEL_c6c0731a16a24781afd7faf17a3bff6c",
              "IPY_MODEL_6c55603e66da4785a30280960a72a20a"
            ],
            "layout": "IPY_MODEL_4a313d8bc4e94b75952f528389045170"
          }
        },
        "a93352ea51c94fc99d7c5d5fe023aee6": {
          "model_module": "@jupyter-widgets/controls",
          "model_name": "HTMLModel",
          "model_module_version": "1.5.0",
          "state": {
            "_dom_classes": [],
            "_model_module": "@jupyter-widgets/controls",
            "_model_module_version": "1.5.0",
            "_model_name": "HTMLModel",
            "_view_count": null,
            "_view_module": "@jupyter-widgets/controls",
            "_view_module_version": "1.5.0",
            "_view_name": "HTMLView",
            "description": "",
            "description_tooltip": null,
            "layout": "IPY_MODEL_4ff688d03c6048d7a19310fb40d21ca8",
            "placeholder": "​",
            "style": "IPY_MODEL_0cad72e2ac37421baa14b1ef3f7b58d4",
            "value": "100%"
          }
        },
        "c6c0731a16a24781afd7faf17a3bff6c": {
          "model_module": "@jupyter-widgets/controls",
          "model_name": "FloatProgressModel",
          "model_module_version": "1.5.0",
          "state": {
            "_dom_classes": [],
            "_model_module": "@jupyter-widgets/controls",
            "_model_module_version": "1.5.0",
            "_model_name": "FloatProgressModel",
            "_view_count": null,
            "_view_module": "@jupyter-widgets/controls",
            "_view_module_version": "1.5.0",
            "_view_name": "ProgressView",
            "bar_style": "success",
            "description": "",
            "description_tooltip": null,
            "layout": "IPY_MODEL_6090a61df15e4ec0b1de4971cd807560",
            "max": 30,
            "min": 0,
            "orientation": "horizontal",
            "style": "IPY_MODEL_078a2e7bcdd54661b16547c296804b63",
            "value": 30
          }
        },
        "6c55603e66da4785a30280960a72a20a": {
          "model_module": "@jupyter-widgets/controls",
          "model_name": "HTMLModel",
          "model_module_version": "1.5.0",
          "state": {
            "_dom_classes": [],
            "_model_module": "@jupyter-widgets/controls",
            "_model_module_version": "1.5.0",
            "_model_name": "HTMLModel",
            "_view_count": null,
            "_view_module": "@jupyter-widgets/controls",
            "_view_module_version": "1.5.0",
            "_view_name": "HTMLView",
            "description": "",
            "description_tooltip": null,
            "layout": "IPY_MODEL_e7a135a45cd84ab3b1a19aaeca6a205b",
            "placeholder": "​",
            "style": "IPY_MODEL_4470a2c5172049f08761dac43282b8c5",
            "value": " 30/30 [10:45&lt;00:00, 21.58s/it]"
          }
        },
        "4a313d8bc4e94b75952f528389045170": {
          "model_module": "@jupyter-widgets/base",
          "model_name": "LayoutModel",
          "model_module_version": "1.2.0",
          "state": {
            "_model_module": "@jupyter-widgets/base",
            "_model_module_version": "1.2.0",
            "_model_name": "LayoutModel",
            "_view_count": null,
            "_view_module": "@jupyter-widgets/base",
            "_view_module_version": "1.2.0",
            "_view_name": "LayoutView",
            "align_content": null,
            "align_items": null,
            "align_self": null,
            "border": null,
            "bottom": null,
            "display": null,
            "flex": null,
            "flex_flow": null,
            "grid_area": null,
            "grid_auto_columns": null,
            "grid_auto_flow": null,
            "grid_auto_rows": null,
            "grid_column": null,
            "grid_gap": null,
            "grid_row": null,
            "grid_template_areas": null,
            "grid_template_columns": null,
            "grid_template_rows": null,
            "height": null,
            "justify_content": null,
            "justify_items": null,
            "left": null,
            "margin": null,
            "max_height": null,
            "max_width": null,
            "min_height": null,
            "min_width": null,
            "object_fit": null,
            "object_position": null,
            "order": null,
            "overflow": null,
            "overflow_x": null,
            "overflow_y": null,
            "padding": null,
            "right": null,
            "top": null,
            "visibility": null,
            "width": null
          }
        },
        "4ff688d03c6048d7a19310fb40d21ca8": {
          "model_module": "@jupyter-widgets/base",
          "model_name": "LayoutModel",
          "model_module_version": "1.2.0",
          "state": {
            "_model_module": "@jupyter-widgets/base",
            "_model_module_version": "1.2.0",
            "_model_name": "LayoutModel",
            "_view_count": null,
            "_view_module": "@jupyter-widgets/base",
            "_view_module_version": "1.2.0",
            "_view_name": "LayoutView",
            "align_content": null,
            "align_items": null,
            "align_self": null,
            "border": null,
            "bottom": null,
            "display": null,
            "flex": null,
            "flex_flow": null,
            "grid_area": null,
            "grid_auto_columns": null,
            "grid_auto_flow": null,
            "grid_auto_rows": null,
            "grid_column": null,
            "grid_gap": null,
            "grid_row": null,
            "grid_template_areas": null,
            "grid_template_columns": null,
            "grid_template_rows": null,
            "height": null,
            "justify_content": null,
            "justify_items": null,
            "left": null,
            "margin": null,
            "max_height": null,
            "max_width": null,
            "min_height": null,
            "min_width": null,
            "object_fit": null,
            "object_position": null,
            "order": null,
            "overflow": null,
            "overflow_x": null,
            "overflow_y": null,
            "padding": null,
            "right": null,
            "top": null,
            "visibility": null,
            "width": null
          }
        },
        "0cad72e2ac37421baa14b1ef3f7b58d4": {
          "model_module": "@jupyter-widgets/controls",
          "model_name": "DescriptionStyleModel",
          "model_module_version": "1.5.0",
          "state": {
            "_model_module": "@jupyter-widgets/controls",
            "_model_module_version": "1.5.0",
            "_model_name": "DescriptionStyleModel",
            "_view_count": null,
            "_view_module": "@jupyter-widgets/base",
            "_view_module_version": "1.2.0",
            "_view_name": "StyleView",
            "description_width": ""
          }
        },
        "6090a61df15e4ec0b1de4971cd807560": {
          "model_module": "@jupyter-widgets/base",
          "model_name": "LayoutModel",
          "model_module_version": "1.2.0",
          "state": {
            "_model_module": "@jupyter-widgets/base",
            "_model_module_version": "1.2.0",
            "_model_name": "LayoutModel",
            "_view_count": null,
            "_view_module": "@jupyter-widgets/base",
            "_view_module_version": "1.2.0",
            "_view_name": "LayoutView",
            "align_content": null,
            "align_items": null,
            "align_self": null,
            "border": null,
            "bottom": null,
            "display": null,
            "flex": null,
            "flex_flow": null,
            "grid_area": null,
            "grid_auto_columns": null,
            "grid_auto_flow": null,
            "grid_auto_rows": null,
            "grid_column": null,
            "grid_gap": null,
            "grid_row": null,
            "grid_template_areas": null,
            "grid_template_columns": null,
            "grid_template_rows": null,
            "height": null,
            "justify_content": null,
            "justify_items": null,
            "left": null,
            "margin": null,
            "max_height": null,
            "max_width": null,
            "min_height": null,
            "min_width": null,
            "object_fit": null,
            "object_position": null,
            "order": null,
            "overflow": null,
            "overflow_x": null,
            "overflow_y": null,
            "padding": null,
            "right": null,
            "top": null,
            "visibility": null,
            "width": null
          }
        },
        "078a2e7bcdd54661b16547c296804b63": {
          "model_module": "@jupyter-widgets/controls",
          "model_name": "ProgressStyleModel",
          "model_module_version": "1.5.0",
          "state": {
            "_model_module": "@jupyter-widgets/controls",
            "_model_module_version": "1.5.0",
            "_model_name": "ProgressStyleModel",
            "_view_count": null,
            "_view_module": "@jupyter-widgets/base",
            "_view_module_version": "1.2.0",
            "_view_name": "StyleView",
            "bar_color": null,
            "description_width": ""
          }
        },
        "e7a135a45cd84ab3b1a19aaeca6a205b": {
          "model_module": "@jupyter-widgets/base",
          "model_name": "LayoutModel",
          "model_module_version": "1.2.0",
          "state": {
            "_model_module": "@jupyter-widgets/base",
            "_model_module_version": "1.2.0",
            "_model_name": "LayoutModel",
            "_view_count": null,
            "_view_module": "@jupyter-widgets/base",
            "_view_module_version": "1.2.0",
            "_view_name": "LayoutView",
            "align_content": null,
            "align_items": null,
            "align_self": null,
            "border": null,
            "bottom": null,
            "display": null,
            "flex": null,
            "flex_flow": null,
            "grid_area": null,
            "grid_auto_columns": null,
            "grid_auto_flow": null,
            "grid_auto_rows": null,
            "grid_column": null,
            "grid_gap": null,
            "grid_row": null,
            "grid_template_areas": null,
            "grid_template_columns": null,
            "grid_template_rows": null,
            "height": null,
            "justify_content": null,
            "justify_items": null,
            "left": null,
            "margin": null,
            "max_height": null,
            "max_width": null,
            "min_height": null,
            "min_width": null,
            "object_fit": null,
            "object_position": null,
            "order": null,
            "overflow": null,
            "overflow_x": null,
            "overflow_y": null,
            "padding": null,
            "right": null,
            "top": null,
            "visibility": null,
            "width": null
          }
        },
        "4470a2c5172049f08761dac43282b8c5": {
          "model_module": "@jupyter-widgets/controls",
          "model_name": "DescriptionStyleModel",
          "model_module_version": "1.5.0",
          "state": {
            "_model_module": "@jupyter-widgets/controls",
            "_model_module_version": "1.5.0",
            "_model_name": "DescriptionStyleModel",
            "_view_count": null,
            "_view_module": "@jupyter-widgets/base",
            "_view_module_version": "1.2.0",
            "_view_name": "StyleView",
            "description_width": ""
          }
        },
        "d28e8506bc59439787c25b97321a0df0": {
          "model_module": "@jupyter-widgets/controls",
          "model_name": "HBoxModel",
          "model_module_version": "1.5.0",
          "state": {
            "_dom_classes": [],
            "_model_module": "@jupyter-widgets/controls",
            "_model_module_version": "1.5.0",
            "_model_name": "HBoxModel",
            "_view_count": null,
            "_view_module": "@jupyter-widgets/controls",
            "_view_module_version": "1.5.0",
            "_view_name": "HBoxView",
            "box_style": "",
            "children": [
              "IPY_MODEL_8b1886d6e6414261b0371af50d244439",
              "IPY_MODEL_6a3b6b91968c450c81ace2a09f451ffe",
              "IPY_MODEL_6b38964b8f944e7695ecdcee0c99d154"
            ],
            "layout": "IPY_MODEL_a32360353170435ba7e6b2767d56030e"
          }
        },
        "8b1886d6e6414261b0371af50d244439": {
          "model_module": "@jupyter-widgets/controls",
          "model_name": "HTMLModel",
          "model_module_version": "1.5.0",
          "state": {
            "_dom_classes": [],
            "_model_module": "@jupyter-widgets/controls",
            "_model_module_version": "1.5.0",
            "_model_name": "HTMLModel",
            "_view_count": null,
            "_view_module": "@jupyter-widgets/controls",
            "_view_module_version": "1.5.0",
            "_view_name": "HTMLView",
            "description": "",
            "description_tooltip": null,
            "layout": "IPY_MODEL_79d48fca8d5342748d473916a37b2dbc",
            "placeholder": "​",
            "style": "IPY_MODEL_cbef124fabce4e73a6c04b5a2db59e27",
            "value": "100%"
          }
        },
        "6a3b6b91968c450c81ace2a09f451ffe": {
          "model_module": "@jupyter-widgets/controls",
          "model_name": "FloatProgressModel",
          "model_module_version": "1.5.0",
          "state": {
            "_dom_classes": [],
            "_model_module": "@jupyter-widgets/controls",
            "_model_module_version": "1.5.0",
            "_model_name": "FloatProgressModel",
            "_view_count": null,
            "_view_module": "@jupyter-widgets/controls",
            "_view_module_version": "1.5.0",
            "_view_name": "ProgressView",
            "bar_style": "success",
            "description": "",
            "description_tooltip": null,
            "layout": "IPY_MODEL_557f128b4b224ce39250bca72132576a",
            "max": 15,
            "min": 0,
            "orientation": "horizontal",
            "style": "IPY_MODEL_ea2364e82e0d4e4a8bb42a8fcc1c5e3b",
            "value": 15
          }
        },
        "6b38964b8f944e7695ecdcee0c99d154": {
          "model_module": "@jupyter-widgets/controls",
          "model_name": "HTMLModel",
          "model_module_version": "1.5.0",
          "state": {
            "_dom_classes": [],
            "_model_module": "@jupyter-widgets/controls",
            "_model_module_version": "1.5.0",
            "_model_name": "HTMLModel",
            "_view_count": null,
            "_view_module": "@jupyter-widgets/controls",
            "_view_module_version": "1.5.0",
            "_view_name": "HTMLView",
            "description": "",
            "description_tooltip": null,
            "layout": "IPY_MODEL_a09a3bac2f5d42f1bcce54750215b7f5",
            "placeholder": "​",
            "style": "IPY_MODEL_9d450cb2265141929d7aafff252ceec9",
            "value": " 15/15 [39:24&lt;00:00, 157.43s/it]"
          }
        },
        "a32360353170435ba7e6b2767d56030e": {
          "model_module": "@jupyter-widgets/base",
          "model_name": "LayoutModel",
          "model_module_version": "1.2.0",
          "state": {
            "_model_module": "@jupyter-widgets/base",
            "_model_module_version": "1.2.0",
            "_model_name": "LayoutModel",
            "_view_count": null,
            "_view_module": "@jupyter-widgets/base",
            "_view_module_version": "1.2.0",
            "_view_name": "LayoutView",
            "align_content": null,
            "align_items": null,
            "align_self": null,
            "border": null,
            "bottom": null,
            "display": null,
            "flex": null,
            "flex_flow": null,
            "grid_area": null,
            "grid_auto_columns": null,
            "grid_auto_flow": null,
            "grid_auto_rows": null,
            "grid_column": null,
            "grid_gap": null,
            "grid_row": null,
            "grid_template_areas": null,
            "grid_template_columns": null,
            "grid_template_rows": null,
            "height": null,
            "justify_content": null,
            "justify_items": null,
            "left": null,
            "margin": null,
            "max_height": null,
            "max_width": null,
            "min_height": null,
            "min_width": null,
            "object_fit": null,
            "object_position": null,
            "order": null,
            "overflow": null,
            "overflow_x": null,
            "overflow_y": null,
            "padding": null,
            "right": null,
            "top": null,
            "visibility": null,
            "width": null
          }
        },
        "79d48fca8d5342748d473916a37b2dbc": {
          "model_module": "@jupyter-widgets/base",
          "model_name": "LayoutModel",
          "model_module_version": "1.2.0",
          "state": {
            "_model_module": "@jupyter-widgets/base",
            "_model_module_version": "1.2.0",
            "_model_name": "LayoutModel",
            "_view_count": null,
            "_view_module": "@jupyter-widgets/base",
            "_view_module_version": "1.2.0",
            "_view_name": "LayoutView",
            "align_content": null,
            "align_items": null,
            "align_self": null,
            "border": null,
            "bottom": null,
            "display": null,
            "flex": null,
            "flex_flow": null,
            "grid_area": null,
            "grid_auto_columns": null,
            "grid_auto_flow": null,
            "grid_auto_rows": null,
            "grid_column": null,
            "grid_gap": null,
            "grid_row": null,
            "grid_template_areas": null,
            "grid_template_columns": null,
            "grid_template_rows": null,
            "height": null,
            "justify_content": null,
            "justify_items": null,
            "left": null,
            "margin": null,
            "max_height": null,
            "max_width": null,
            "min_height": null,
            "min_width": null,
            "object_fit": null,
            "object_position": null,
            "order": null,
            "overflow": null,
            "overflow_x": null,
            "overflow_y": null,
            "padding": null,
            "right": null,
            "top": null,
            "visibility": null,
            "width": null
          }
        },
        "cbef124fabce4e73a6c04b5a2db59e27": {
          "model_module": "@jupyter-widgets/controls",
          "model_name": "DescriptionStyleModel",
          "model_module_version": "1.5.0",
          "state": {
            "_model_module": "@jupyter-widgets/controls",
            "_model_module_version": "1.5.0",
            "_model_name": "DescriptionStyleModel",
            "_view_count": null,
            "_view_module": "@jupyter-widgets/base",
            "_view_module_version": "1.2.0",
            "_view_name": "StyleView",
            "description_width": ""
          }
        },
        "557f128b4b224ce39250bca72132576a": {
          "model_module": "@jupyter-widgets/base",
          "model_name": "LayoutModel",
          "model_module_version": "1.2.0",
          "state": {
            "_model_module": "@jupyter-widgets/base",
            "_model_module_version": "1.2.0",
            "_model_name": "LayoutModel",
            "_view_count": null,
            "_view_module": "@jupyter-widgets/base",
            "_view_module_version": "1.2.0",
            "_view_name": "LayoutView",
            "align_content": null,
            "align_items": null,
            "align_self": null,
            "border": null,
            "bottom": null,
            "display": null,
            "flex": null,
            "flex_flow": null,
            "grid_area": null,
            "grid_auto_columns": null,
            "grid_auto_flow": null,
            "grid_auto_rows": null,
            "grid_column": null,
            "grid_gap": null,
            "grid_row": null,
            "grid_template_areas": null,
            "grid_template_columns": null,
            "grid_template_rows": null,
            "height": null,
            "justify_content": null,
            "justify_items": null,
            "left": null,
            "margin": null,
            "max_height": null,
            "max_width": null,
            "min_height": null,
            "min_width": null,
            "object_fit": null,
            "object_position": null,
            "order": null,
            "overflow": null,
            "overflow_x": null,
            "overflow_y": null,
            "padding": null,
            "right": null,
            "top": null,
            "visibility": null,
            "width": null
          }
        },
        "ea2364e82e0d4e4a8bb42a8fcc1c5e3b": {
          "model_module": "@jupyter-widgets/controls",
          "model_name": "ProgressStyleModel",
          "model_module_version": "1.5.0",
          "state": {
            "_model_module": "@jupyter-widgets/controls",
            "_model_module_version": "1.5.0",
            "_model_name": "ProgressStyleModel",
            "_view_count": null,
            "_view_module": "@jupyter-widgets/base",
            "_view_module_version": "1.2.0",
            "_view_name": "StyleView",
            "bar_color": null,
            "description_width": ""
          }
        },
        "a09a3bac2f5d42f1bcce54750215b7f5": {
          "model_module": "@jupyter-widgets/base",
          "model_name": "LayoutModel",
          "model_module_version": "1.2.0",
          "state": {
            "_model_module": "@jupyter-widgets/base",
            "_model_module_version": "1.2.0",
            "_model_name": "LayoutModel",
            "_view_count": null,
            "_view_module": "@jupyter-widgets/base",
            "_view_module_version": "1.2.0",
            "_view_name": "LayoutView",
            "align_content": null,
            "align_items": null,
            "align_self": null,
            "border": null,
            "bottom": null,
            "display": null,
            "flex": null,
            "flex_flow": null,
            "grid_area": null,
            "grid_auto_columns": null,
            "grid_auto_flow": null,
            "grid_auto_rows": null,
            "grid_column": null,
            "grid_gap": null,
            "grid_row": null,
            "grid_template_areas": null,
            "grid_template_columns": null,
            "grid_template_rows": null,
            "height": null,
            "justify_content": null,
            "justify_items": null,
            "left": null,
            "margin": null,
            "max_height": null,
            "max_width": null,
            "min_height": null,
            "min_width": null,
            "object_fit": null,
            "object_position": null,
            "order": null,
            "overflow": null,
            "overflow_x": null,
            "overflow_y": null,
            "padding": null,
            "right": null,
            "top": null,
            "visibility": null,
            "width": null
          }
        },
        "9d450cb2265141929d7aafff252ceec9": {
          "model_module": "@jupyter-widgets/controls",
          "model_name": "DescriptionStyleModel",
          "model_module_version": "1.5.0",
          "state": {
            "_model_module": "@jupyter-widgets/controls",
            "_model_module_version": "1.5.0",
            "_model_name": "DescriptionStyleModel",
            "_view_count": null,
            "_view_module": "@jupyter-widgets/base",
            "_view_module_version": "1.2.0",
            "_view_name": "StyleView",
            "description_width": ""
          }
        },
        "873b4d4a07234ff5ad29864bd925e0c3": {
          "model_module": "@jupyter-widgets/controls",
          "model_name": "HBoxModel",
          "model_module_version": "1.5.0",
          "state": {
            "_dom_classes": [],
            "_model_module": "@jupyter-widgets/controls",
            "_model_module_version": "1.5.0",
            "_model_name": "HBoxModel",
            "_view_count": null,
            "_view_module": "@jupyter-widgets/controls",
            "_view_module_version": "1.5.0",
            "_view_name": "HBoxView",
            "box_style": "",
            "children": [
              "IPY_MODEL_c1deb5815a0447248582e3484cb04635",
              "IPY_MODEL_01d76f7002b24bb3acf8f0081e65cb48",
              "IPY_MODEL_7b7da43ad0554ef5b15d676c21ad866e"
            ],
            "layout": "IPY_MODEL_b8ad378df36e4125b05ded99fbe54f9d"
          }
        },
        "c1deb5815a0447248582e3484cb04635": {
          "model_module": "@jupyter-widgets/controls",
          "model_name": "HTMLModel",
          "model_module_version": "1.5.0",
          "state": {
            "_dom_classes": [],
            "_model_module": "@jupyter-widgets/controls",
            "_model_module_version": "1.5.0",
            "_model_name": "HTMLModel",
            "_view_count": null,
            "_view_module": "@jupyter-widgets/controls",
            "_view_module_version": "1.5.0",
            "_view_name": "HTMLView",
            "description": "",
            "description_tooltip": null,
            "layout": "IPY_MODEL_334c9aa8095e4edd9a1afb872ed526c8",
            "placeholder": "​",
            "style": "IPY_MODEL_3eb2668641394af9bc9e0f7d2c04958b",
            "value": "100%"
          }
        },
        "01d76f7002b24bb3acf8f0081e65cb48": {
          "model_module": "@jupyter-widgets/controls",
          "model_name": "FloatProgressModel",
          "model_module_version": "1.5.0",
          "state": {
            "_dom_classes": [],
            "_model_module": "@jupyter-widgets/controls",
            "_model_module_version": "1.5.0",
            "_model_name": "FloatProgressModel",
            "_view_count": null,
            "_view_module": "@jupyter-widgets/controls",
            "_view_module_version": "1.5.0",
            "_view_name": "ProgressView",
            "bar_style": "success",
            "description": "",
            "description_tooltip": null,
            "layout": "IPY_MODEL_8d49371624784b4295f85051b509c9e2",
            "max": 5,
            "min": 0,
            "orientation": "horizontal",
            "style": "IPY_MODEL_ae733cb1f8d84633a31b1c61af5f2bf8",
            "value": 5
          }
        },
        "7b7da43ad0554ef5b15d676c21ad866e": {
          "model_module": "@jupyter-widgets/controls",
          "model_name": "HTMLModel",
          "model_module_version": "1.5.0",
          "state": {
            "_dom_classes": [],
            "_model_module": "@jupyter-widgets/controls",
            "_model_module_version": "1.5.0",
            "_model_name": "HTMLModel",
            "_view_count": null,
            "_view_module": "@jupyter-widgets/controls",
            "_view_module_version": "1.5.0",
            "_view_name": "HTMLView",
            "description": "",
            "description_tooltip": null,
            "layout": "IPY_MODEL_ddfde2e76bfb419fb01e53c7ecb5fc04",
            "placeholder": "​",
            "style": "IPY_MODEL_3ea1b903cf3949df93be35d33b550046",
            "value": " 5/5 [23:27&lt;00:00, 281.45s/it]"
          }
        },
        "b8ad378df36e4125b05ded99fbe54f9d": {
          "model_module": "@jupyter-widgets/base",
          "model_name": "LayoutModel",
          "model_module_version": "1.2.0",
          "state": {
            "_model_module": "@jupyter-widgets/base",
            "_model_module_version": "1.2.0",
            "_model_name": "LayoutModel",
            "_view_count": null,
            "_view_module": "@jupyter-widgets/base",
            "_view_module_version": "1.2.0",
            "_view_name": "LayoutView",
            "align_content": null,
            "align_items": null,
            "align_self": null,
            "border": null,
            "bottom": null,
            "display": null,
            "flex": null,
            "flex_flow": null,
            "grid_area": null,
            "grid_auto_columns": null,
            "grid_auto_flow": null,
            "grid_auto_rows": null,
            "grid_column": null,
            "grid_gap": null,
            "grid_row": null,
            "grid_template_areas": null,
            "grid_template_columns": null,
            "grid_template_rows": null,
            "height": null,
            "justify_content": null,
            "justify_items": null,
            "left": null,
            "margin": null,
            "max_height": null,
            "max_width": null,
            "min_height": null,
            "min_width": null,
            "object_fit": null,
            "object_position": null,
            "order": null,
            "overflow": null,
            "overflow_x": null,
            "overflow_y": null,
            "padding": null,
            "right": null,
            "top": null,
            "visibility": null,
            "width": null
          }
        },
        "334c9aa8095e4edd9a1afb872ed526c8": {
          "model_module": "@jupyter-widgets/base",
          "model_name": "LayoutModel",
          "model_module_version": "1.2.0",
          "state": {
            "_model_module": "@jupyter-widgets/base",
            "_model_module_version": "1.2.0",
            "_model_name": "LayoutModel",
            "_view_count": null,
            "_view_module": "@jupyter-widgets/base",
            "_view_module_version": "1.2.0",
            "_view_name": "LayoutView",
            "align_content": null,
            "align_items": null,
            "align_self": null,
            "border": null,
            "bottom": null,
            "display": null,
            "flex": null,
            "flex_flow": null,
            "grid_area": null,
            "grid_auto_columns": null,
            "grid_auto_flow": null,
            "grid_auto_rows": null,
            "grid_column": null,
            "grid_gap": null,
            "grid_row": null,
            "grid_template_areas": null,
            "grid_template_columns": null,
            "grid_template_rows": null,
            "height": null,
            "justify_content": null,
            "justify_items": null,
            "left": null,
            "margin": null,
            "max_height": null,
            "max_width": null,
            "min_height": null,
            "min_width": null,
            "object_fit": null,
            "object_position": null,
            "order": null,
            "overflow": null,
            "overflow_x": null,
            "overflow_y": null,
            "padding": null,
            "right": null,
            "top": null,
            "visibility": null,
            "width": null
          }
        },
        "3eb2668641394af9bc9e0f7d2c04958b": {
          "model_module": "@jupyter-widgets/controls",
          "model_name": "DescriptionStyleModel",
          "model_module_version": "1.5.0",
          "state": {
            "_model_module": "@jupyter-widgets/controls",
            "_model_module_version": "1.5.0",
            "_model_name": "DescriptionStyleModel",
            "_view_count": null,
            "_view_module": "@jupyter-widgets/base",
            "_view_module_version": "1.2.0",
            "_view_name": "StyleView",
            "description_width": ""
          }
        },
        "8d49371624784b4295f85051b509c9e2": {
          "model_module": "@jupyter-widgets/base",
          "model_name": "LayoutModel",
          "model_module_version": "1.2.0",
          "state": {
            "_model_module": "@jupyter-widgets/base",
            "_model_module_version": "1.2.0",
            "_model_name": "LayoutModel",
            "_view_count": null,
            "_view_module": "@jupyter-widgets/base",
            "_view_module_version": "1.2.0",
            "_view_name": "LayoutView",
            "align_content": null,
            "align_items": null,
            "align_self": null,
            "border": null,
            "bottom": null,
            "display": null,
            "flex": null,
            "flex_flow": null,
            "grid_area": null,
            "grid_auto_columns": null,
            "grid_auto_flow": null,
            "grid_auto_rows": null,
            "grid_column": null,
            "grid_gap": null,
            "grid_row": null,
            "grid_template_areas": null,
            "grid_template_columns": null,
            "grid_template_rows": null,
            "height": null,
            "justify_content": null,
            "justify_items": null,
            "left": null,
            "margin": null,
            "max_height": null,
            "max_width": null,
            "min_height": null,
            "min_width": null,
            "object_fit": null,
            "object_position": null,
            "order": null,
            "overflow": null,
            "overflow_x": null,
            "overflow_y": null,
            "padding": null,
            "right": null,
            "top": null,
            "visibility": null,
            "width": null
          }
        },
        "ae733cb1f8d84633a31b1c61af5f2bf8": {
          "model_module": "@jupyter-widgets/controls",
          "model_name": "ProgressStyleModel",
          "model_module_version": "1.5.0",
          "state": {
            "_model_module": "@jupyter-widgets/controls",
            "_model_module_version": "1.5.0",
            "_model_name": "ProgressStyleModel",
            "_view_count": null,
            "_view_module": "@jupyter-widgets/base",
            "_view_module_version": "1.2.0",
            "_view_name": "StyleView",
            "bar_color": null,
            "description_width": ""
          }
        },
        "ddfde2e76bfb419fb01e53c7ecb5fc04": {
          "model_module": "@jupyter-widgets/base",
          "model_name": "LayoutModel",
          "model_module_version": "1.2.0",
          "state": {
            "_model_module": "@jupyter-widgets/base",
            "_model_module_version": "1.2.0",
            "_model_name": "LayoutModel",
            "_view_count": null,
            "_view_module": "@jupyter-widgets/base",
            "_view_module_version": "1.2.0",
            "_view_name": "LayoutView",
            "align_content": null,
            "align_items": null,
            "align_self": null,
            "border": null,
            "bottom": null,
            "display": null,
            "flex": null,
            "flex_flow": null,
            "grid_area": null,
            "grid_auto_columns": null,
            "grid_auto_flow": null,
            "grid_auto_rows": null,
            "grid_column": null,
            "grid_gap": null,
            "grid_row": null,
            "grid_template_areas": null,
            "grid_template_columns": null,
            "grid_template_rows": null,
            "height": null,
            "justify_content": null,
            "justify_items": null,
            "left": null,
            "margin": null,
            "max_height": null,
            "max_width": null,
            "min_height": null,
            "min_width": null,
            "object_fit": null,
            "object_position": null,
            "order": null,
            "overflow": null,
            "overflow_x": null,
            "overflow_y": null,
            "padding": null,
            "right": null,
            "top": null,
            "visibility": null,
            "width": null
          }
        },
        "3ea1b903cf3949df93be35d33b550046": {
          "model_module": "@jupyter-widgets/controls",
          "model_name": "DescriptionStyleModel",
          "model_module_version": "1.5.0",
          "state": {
            "_model_module": "@jupyter-widgets/controls",
            "_model_module_version": "1.5.0",
            "_model_name": "DescriptionStyleModel",
            "_view_count": null,
            "_view_module": "@jupyter-widgets/base",
            "_view_module_version": "1.2.0",
            "_view_name": "StyleView",
            "description_width": ""
          }
        },
        "9ca77079e21346c6b67efd7c84244218": {
          "model_module": "@jupyter-widgets/controls",
          "model_name": "HBoxModel",
          "model_module_version": "1.5.0",
          "state": {
            "_dom_classes": [],
            "_model_module": "@jupyter-widgets/controls",
            "_model_module_version": "1.5.0",
            "_model_name": "HBoxModel",
            "_view_count": null,
            "_view_module": "@jupyter-widgets/controls",
            "_view_module_version": "1.5.0",
            "_view_name": "HBoxView",
            "box_style": "",
            "children": [
              "IPY_MODEL_648c62ce35b54057aff012d9fa8c8868",
              "IPY_MODEL_1fe1217084e14cf7a056b722c50cec6a",
              "IPY_MODEL_291237b93b884081b714ef85608074c1"
            ],
            "layout": "IPY_MODEL_7a14d91659c44bfab2865743269b7707"
          }
        },
        "648c62ce35b54057aff012d9fa8c8868": {
          "model_module": "@jupyter-widgets/controls",
          "model_name": "HTMLModel",
          "model_module_version": "1.5.0",
          "state": {
            "_dom_classes": [],
            "_model_module": "@jupyter-widgets/controls",
            "_model_module_version": "1.5.0",
            "_model_name": "HTMLModel",
            "_view_count": null,
            "_view_module": "@jupyter-widgets/controls",
            "_view_module_version": "1.5.0",
            "_view_name": "HTMLView",
            "description": "",
            "description_tooltip": null,
            "layout": "IPY_MODEL_f35289fc008a47d2b368260637a090dc",
            "placeholder": "​",
            "style": "IPY_MODEL_f28b750b796b4165ab9901f0fdec9aad",
            "value": "100%"
          }
        },
        "1fe1217084e14cf7a056b722c50cec6a": {
          "model_module": "@jupyter-widgets/controls",
          "model_name": "FloatProgressModel",
          "model_module_version": "1.5.0",
          "state": {
            "_dom_classes": [],
            "_model_module": "@jupyter-widgets/controls",
            "_model_module_version": "1.5.0",
            "_model_name": "FloatProgressModel",
            "_view_count": null,
            "_view_module": "@jupyter-widgets/controls",
            "_view_module_version": "1.5.0",
            "_view_name": "ProgressView",
            "bar_style": "success",
            "description": "",
            "description_tooltip": null,
            "layout": "IPY_MODEL_21a69f5d253c465a9194dc1c95e6b0ea",
            "max": 4,
            "min": 0,
            "orientation": "horizontal",
            "style": "IPY_MODEL_b69ba20d45f5430f9d2dc9a1405f4d7b",
            "value": 4
          }
        },
        "291237b93b884081b714ef85608074c1": {
          "model_module": "@jupyter-widgets/controls",
          "model_name": "HTMLModel",
          "model_module_version": "1.5.0",
          "state": {
            "_dom_classes": [],
            "_model_module": "@jupyter-widgets/controls",
            "_model_module_version": "1.5.0",
            "_model_name": "HTMLModel",
            "_view_count": null,
            "_view_module": "@jupyter-widgets/controls",
            "_view_module_version": "1.5.0",
            "_view_name": "HTMLView",
            "description": "",
            "description_tooltip": null,
            "layout": "IPY_MODEL_cddcae93ef954edca7ffb0e828a7415d",
            "placeholder": "​",
            "style": "IPY_MODEL_5c7fa3bc82fd4cce8dae0eb56752c39d",
            "value": " 4/4 [00:47&lt;00:00, 14.90s/it]"
          }
        },
        "7a14d91659c44bfab2865743269b7707": {
          "model_module": "@jupyter-widgets/base",
          "model_name": "LayoutModel",
          "model_module_version": "1.2.0",
          "state": {
            "_model_module": "@jupyter-widgets/base",
            "_model_module_version": "1.2.0",
            "_model_name": "LayoutModel",
            "_view_count": null,
            "_view_module": "@jupyter-widgets/base",
            "_view_module_version": "1.2.0",
            "_view_name": "LayoutView",
            "align_content": null,
            "align_items": null,
            "align_self": null,
            "border": null,
            "bottom": null,
            "display": null,
            "flex": null,
            "flex_flow": null,
            "grid_area": null,
            "grid_auto_columns": null,
            "grid_auto_flow": null,
            "grid_auto_rows": null,
            "grid_column": null,
            "grid_gap": null,
            "grid_row": null,
            "grid_template_areas": null,
            "grid_template_columns": null,
            "grid_template_rows": null,
            "height": null,
            "justify_content": null,
            "justify_items": null,
            "left": null,
            "margin": null,
            "max_height": null,
            "max_width": null,
            "min_height": null,
            "min_width": null,
            "object_fit": null,
            "object_position": null,
            "order": null,
            "overflow": null,
            "overflow_x": null,
            "overflow_y": null,
            "padding": null,
            "right": null,
            "top": null,
            "visibility": null,
            "width": null
          }
        },
        "f35289fc008a47d2b368260637a090dc": {
          "model_module": "@jupyter-widgets/base",
          "model_name": "LayoutModel",
          "model_module_version": "1.2.0",
          "state": {
            "_model_module": "@jupyter-widgets/base",
            "_model_module_version": "1.2.0",
            "_model_name": "LayoutModel",
            "_view_count": null,
            "_view_module": "@jupyter-widgets/base",
            "_view_module_version": "1.2.0",
            "_view_name": "LayoutView",
            "align_content": null,
            "align_items": null,
            "align_self": null,
            "border": null,
            "bottom": null,
            "display": null,
            "flex": null,
            "flex_flow": null,
            "grid_area": null,
            "grid_auto_columns": null,
            "grid_auto_flow": null,
            "grid_auto_rows": null,
            "grid_column": null,
            "grid_gap": null,
            "grid_row": null,
            "grid_template_areas": null,
            "grid_template_columns": null,
            "grid_template_rows": null,
            "height": null,
            "justify_content": null,
            "justify_items": null,
            "left": null,
            "margin": null,
            "max_height": null,
            "max_width": null,
            "min_height": null,
            "min_width": null,
            "object_fit": null,
            "object_position": null,
            "order": null,
            "overflow": null,
            "overflow_x": null,
            "overflow_y": null,
            "padding": null,
            "right": null,
            "top": null,
            "visibility": null,
            "width": null
          }
        },
        "f28b750b796b4165ab9901f0fdec9aad": {
          "model_module": "@jupyter-widgets/controls",
          "model_name": "DescriptionStyleModel",
          "model_module_version": "1.5.0",
          "state": {
            "_model_module": "@jupyter-widgets/controls",
            "_model_module_version": "1.5.0",
            "_model_name": "DescriptionStyleModel",
            "_view_count": null,
            "_view_module": "@jupyter-widgets/base",
            "_view_module_version": "1.2.0",
            "_view_name": "StyleView",
            "description_width": ""
          }
        },
        "21a69f5d253c465a9194dc1c95e6b0ea": {
          "model_module": "@jupyter-widgets/base",
          "model_name": "LayoutModel",
          "model_module_version": "1.2.0",
          "state": {
            "_model_module": "@jupyter-widgets/base",
            "_model_module_version": "1.2.0",
            "_model_name": "LayoutModel",
            "_view_count": null,
            "_view_module": "@jupyter-widgets/base",
            "_view_module_version": "1.2.0",
            "_view_name": "LayoutView",
            "align_content": null,
            "align_items": null,
            "align_self": null,
            "border": null,
            "bottom": null,
            "display": null,
            "flex": null,
            "flex_flow": null,
            "grid_area": null,
            "grid_auto_columns": null,
            "grid_auto_flow": null,
            "grid_auto_rows": null,
            "grid_column": null,
            "grid_gap": null,
            "grid_row": null,
            "grid_template_areas": null,
            "grid_template_columns": null,
            "grid_template_rows": null,
            "height": null,
            "justify_content": null,
            "justify_items": null,
            "left": null,
            "margin": null,
            "max_height": null,
            "max_width": null,
            "min_height": null,
            "min_width": null,
            "object_fit": null,
            "object_position": null,
            "order": null,
            "overflow": null,
            "overflow_x": null,
            "overflow_y": null,
            "padding": null,
            "right": null,
            "top": null,
            "visibility": null,
            "width": null
          }
        },
        "b69ba20d45f5430f9d2dc9a1405f4d7b": {
          "model_module": "@jupyter-widgets/controls",
          "model_name": "ProgressStyleModel",
          "model_module_version": "1.5.0",
          "state": {
            "_model_module": "@jupyter-widgets/controls",
            "_model_module_version": "1.5.0",
            "_model_name": "ProgressStyleModel",
            "_view_count": null,
            "_view_module": "@jupyter-widgets/base",
            "_view_module_version": "1.2.0",
            "_view_name": "StyleView",
            "bar_color": null,
            "description_width": ""
          }
        },
        "cddcae93ef954edca7ffb0e828a7415d": {
          "model_module": "@jupyter-widgets/base",
          "model_name": "LayoutModel",
          "model_module_version": "1.2.0",
          "state": {
            "_model_module": "@jupyter-widgets/base",
            "_model_module_version": "1.2.0",
            "_model_name": "LayoutModel",
            "_view_count": null,
            "_view_module": "@jupyter-widgets/base",
            "_view_module_version": "1.2.0",
            "_view_name": "LayoutView",
            "align_content": null,
            "align_items": null,
            "align_self": null,
            "border": null,
            "bottom": null,
            "display": null,
            "flex": null,
            "flex_flow": null,
            "grid_area": null,
            "grid_auto_columns": null,
            "grid_auto_flow": null,
            "grid_auto_rows": null,
            "grid_column": null,
            "grid_gap": null,
            "grid_row": null,
            "grid_template_areas": null,
            "grid_template_columns": null,
            "grid_template_rows": null,
            "height": null,
            "justify_content": null,
            "justify_items": null,
            "left": null,
            "margin": null,
            "max_height": null,
            "max_width": null,
            "min_height": null,
            "min_width": null,
            "object_fit": null,
            "object_position": null,
            "order": null,
            "overflow": null,
            "overflow_x": null,
            "overflow_y": null,
            "padding": null,
            "right": null,
            "top": null,
            "visibility": null,
            "width": null
          }
        },
        "5c7fa3bc82fd4cce8dae0eb56752c39d": {
          "model_module": "@jupyter-widgets/controls",
          "model_name": "DescriptionStyleModel",
          "model_module_version": "1.5.0",
          "state": {
            "_model_module": "@jupyter-widgets/controls",
            "_model_module_version": "1.5.0",
            "_model_name": "DescriptionStyleModel",
            "_view_count": null,
            "_view_module": "@jupyter-widgets/base",
            "_view_module_version": "1.2.0",
            "_view_name": "StyleView",
            "description_width": ""
          }
        },
        "abb35c94c74940ec82e12ba8c3243b91": {
          "model_module": "@jupyter-widgets/controls",
          "model_name": "HBoxModel",
          "model_module_version": "1.5.0",
          "state": {
            "_view_name": "HBoxView",
            "_dom_classes": [],
            "_model_name": "HBoxModel",
            "_view_module": "@jupyter-widgets/controls",
            "_model_module_version": "1.5.0",
            "_view_count": null,
            "_view_module_version": "1.5.0",
            "box_style": "",
            "layout": "IPY_MODEL_ca3a930bb33543fd893baec27ec81a5f",
            "_model_module": "@jupyter-widgets/controls",
            "children": [
              "IPY_MODEL_4aead5752d21457787e2f7b0b861a57e",
              "IPY_MODEL_316c57f018b1410dae3cf71c789e971e",
              "IPY_MODEL_64bdf8f26e8a49ec80091b0001ba7a99"
            ]
          }
        },
        "ca3a930bb33543fd893baec27ec81a5f": {
          "model_module": "@jupyter-widgets/base",
          "model_name": "LayoutModel",
          "model_module_version": "1.2.0",
          "state": {
            "_view_name": "LayoutView",
            "grid_template_rows": null,
            "right": null,
            "justify_content": null,
            "_view_module": "@jupyter-widgets/base",
            "overflow": null,
            "_model_module_version": "1.2.0",
            "_view_count": null,
            "flex_flow": null,
            "width": null,
            "min_width": null,
            "border": null,
            "align_items": null,
            "bottom": null,
            "_model_module": "@jupyter-widgets/base",
            "top": null,
            "grid_column": null,
            "overflow_y": null,
            "overflow_x": null,
            "grid_auto_flow": null,
            "grid_area": null,
            "grid_template_columns": null,
            "flex": null,
            "_model_name": "LayoutModel",
            "justify_items": null,
            "grid_row": null,
            "max_height": null,
            "align_content": null,
            "visibility": null,
            "align_self": null,
            "height": null,
            "min_height": null,
            "padding": null,
            "grid_auto_rows": null,
            "grid_gap": null,
            "max_width": null,
            "order": null,
            "_view_module_version": "1.2.0",
            "grid_template_areas": null,
            "object_position": null,
            "object_fit": null,
            "grid_auto_columns": null,
            "margin": null,
            "display": null,
            "left": null
          }
        },
        "4aead5752d21457787e2f7b0b861a57e": {
          "model_module": "@jupyter-widgets/controls",
          "model_name": "HTMLModel",
          "model_module_version": "1.5.0",
          "state": {
            "_view_name": "HTMLView",
            "style": "IPY_MODEL_8670185e627f48d3b13e9b9a1ca03cda",
            "_dom_classes": [],
            "description": "",
            "_model_name": "HTMLModel",
            "placeholder": "​",
            "_view_module": "@jupyter-widgets/controls",
            "_model_module_version": "1.5.0",
            "value": "100%",
            "_view_count": null,
            "_view_module_version": "1.5.0",
            "description_tooltip": null,
            "_model_module": "@jupyter-widgets/controls",
            "layout": "IPY_MODEL_e92f972d1a9b4d26a9d2c2d18febab64"
          }
        },
        "316c57f018b1410dae3cf71c789e971e": {
          "model_module": "@jupyter-widgets/controls",
          "model_name": "FloatProgressModel",
          "model_module_version": "1.5.0",
          "state": {
            "_view_name": "ProgressView",
            "style": "IPY_MODEL_a31fcbe28d754d759196ad3b7ed0632b",
            "_dom_classes": [],
            "description": "",
            "_model_name": "FloatProgressModel",
            "bar_style": "success",
            "max": 2,
            "_view_module": "@jupyter-widgets/controls",
            "_model_module_version": "1.5.0",
            "value": 2,
            "_view_count": null,
            "_view_module_version": "1.5.0",
            "orientation": "horizontal",
            "min": 0,
            "description_tooltip": null,
            "_model_module": "@jupyter-widgets/controls",
            "layout": "IPY_MODEL_b65568fdd9464cb68140941f57dd44ce"
          }
        },
        "64bdf8f26e8a49ec80091b0001ba7a99": {
          "model_module": "@jupyter-widgets/controls",
          "model_name": "HTMLModel",
          "model_module_version": "1.5.0",
          "state": {
            "_view_name": "HTMLView",
            "style": "IPY_MODEL_37800daf604d4f64bbb4e479a7ac2188",
            "_dom_classes": [],
            "description": "",
            "_model_name": "HTMLModel",
            "placeholder": "​",
            "_view_module": "@jupyter-widgets/controls",
            "_model_module_version": "1.5.0",
            "value": " 2/2 [1:00:19&lt;00:00, 1810.05s/it]",
            "_view_count": null,
            "_view_module_version": "1.5.0",
            "description_tooltip": null,
            "_model_module": "@jupyter-widgets/controls",
            "layout": "IPY_MODEL_ce8169bedbd840129e31f02f685daef4"
          }
        },
        "8670185e627f48d3b13e9b9a1ca03cda": {
          "model_module": "@jupyter-widgets/controls",
          "model_name": "DescriptionStyleModel",
          "model_module_version": "1.5.0",
          "state": {
            "_view_name": "StyleView",
            "_model_name": "DescriptionStyleModel",
            "description_width": "",
            "_view_module": "@jupyter-widgets/base",
            "_model_module_version": "1.5.0",
            "_view_count": null,
            "_view_module_version": "1.2.0",
            "_model_module": "@jupyter-widgets/controls"
          }
        },
        "e92f972d1a9b4d26a9d2c2d18febab64": {
          "model_module": "@jupyter-widgets/base",
          "model_name": "LayoutModel",
          "model_module_version": "1.2.0",
          "state": {
            "_view_name": "LayoutView",
            "grid_template_rows": null,
            "right": null,
            "justify_content": null,
            "_view_module": "@jupyter-widgets/base",
            "overflow": null,
            "_model_module_version": "1.2.0",
            "_view_count": null,
            "flex_flow": null,
            "width": null,
            "min_width": null,
            "border": null,
            "align_items": null,
            "bottom": null,
            "_model_module": "@jupyter-widgets/base",
            "top": null,
            "grid_column": null,
            "overflow_y": null,
            "overflow_x": null,
            "grid_auto_flow": null,
            "grid_area": null,
            "grid_template_columns": null,
            "flex": null,
            "_model_name": "LayoutModel",
            "justify_items": null,
            "grid_row": null,
            "max_height": null,
            "align_content": null,
            "visibility": null,
            "align_self": null,
            "height": null,
            "min_height": null,
            "padding": null,
            "grid_auto_rows": null,
            "grid_gap": null,
            "max_width": null,
            "order": null,
            "_view_module_version": "1.2.0",
            "grid_template_areas": null,
            "object_position": null,
            "object_fit": null,
            "grid_auto_columns": null,
            "margin": null,
            "display": null,
            "left": null
          }
        },
        "a31fcbe28d754d759196ad3b7ed0632b": {
          "model_module": "@jupyter-widgets/controls",
          "model_name": "ProgressStyleModel",
          "model_module_version": "1.5.0",
          "state": {
            "_view_name": "StyleView",
            "_model_name": "ProgressStyleModel",
            "description_width": "",
            "_view_module": "@jupyter-widgets/base",
            "_model_module_version": "1.5.0",
            "_view_count": null,
            "_view_module_version": "1.2.0",
            "bar_color": null,
            "_model_module": "@jupyter-widgets/controls"
          }
        },
        "b65568fdd9464cb68140941f57dd44ce": {
          "model_module": "@jupyter-widgets/base",
          "model_name": "LayoutModel",
          "model_module_version": "1.2.0",
          "state": {
            "_view_name": "LayoutView",
            "grid_template_rows": null,
            "right": null,
            "justify_content": null,
            "_view_module": "@jupyter-widgets/base",
            "overflow": null,
            "_model_module_version": "1.2.0",
            "_view_count": null,
            "flex_flow": null,
            "width": null,
            "min_width": null,
            "border": null,
            "align_items": null,
            "bottom": null,
            "_model_module": "@jupyter-widgets/base",
            "top": null,
            "grid_column": null,
            "overflow_y": null,
            "overflow_x": null,
            "grid_auto_flow": null,
            "grid_area": null,
            "grid_template_columns": null,
            "flex": null,
            "_model_name": "LayoutModel",
            "justify_items": null,
            "grid_row": null,
            "max_height": null,
            "align_content": null,
            "visibility": null,
            "align_self": null,
            "height": null,
            "min_height": null,
            "padding": null,
            "grid_auto_rows": null,
            "grid_gap": null,
            "max_width": null,
            "order": null,
            "_view_module_version": "1.2.0",
            "grid_template_areas": null,
            "object_position": null,
            "object_fit": null,
            "grid_auto_columns": null,
            "margin": null,
            "display": null,
            "left": null
          }
        },
        "37800daf604d4f64bbb4e479a7ac2188": {
          "model_module": "@jupyter-widgets/controls",
          "model_name": "DescriptionStyleModel",
          "model_module_version": "1.5.0",
          "state": {
            "_view_name": "StyleView",
            "_model_name": "DescriptionStyleModel",
            "description_width": "",
            "_view_module": "@jupyter-widgets/base",
            "_model_module_version": "1.5.0",
            "_view_count": null,
            "_view_module_version": "1.2.0",
            "_model_module": "@jupyter-widgets/controls"
          }
        },
        "ce8169bedbd840129e31f02f685daef4": {
          "model_module": "@jupyter-widgets/base",
          "model_name": "LayoutModel",
          "model_module_version": "1.2.0",
          "state": {
            "_view_name": "LayoutView",
            "grid_template_rows": null,
            "right": null,
            "justify_content": null,
            "_view_module": "@jupyter-widgets/base",
            "overflow": null,
            "_model_module_version": "1.2.0",
            "_view_count": null,
            "flex_flow": null,
            "width": null,
            "min_width": null,
            "border": null,
            "align_items": null,
            "bottom": null,
            "_model_module": "@jupyter-widgets/base",
            "top": null,
            "grid_column": null,
            "overflow_y": null,
            "overflow_x": null,
            "grid_auto_flow": null,
            "grid_area": null,
            "grid_template_columns": null,
            "flex": null,
            "_model_name": "LayoutModel",
            "justify_items": null,
            "grid_row": null,
            "max_height": null,
            "align_content": null,
            "visibility": null,
            "align_self": null,
            "height": null,
            "min_height": null,
            "padding": null,
            "grid_auto_rows": null,
            "grid_gap": null,
            "max_width": null,
            "order": null,
            "_view_module_version": "1.2.0",
            "grid_template_areas": null,
            "object_position": null,
            "object_fit": null,
            "grid_auto_columns": null,
            "margin": null,
            "display": null,
            "left": null
          }
        },
        "682fdfbe18074347b71b382b9f140141": {
          "model_module": "@jupyter-widgets/controls",
          "model_name": "HBoxModel",
          "model_module_version": "1.5.0",
          "state": {
            "_view_name": "HBoxView",
            "_dom_classes": [],
            "_model_name": "HBoxModel",
            "_view_module": "@jupyter-widgets/controls",
            "_model_module_version": "1.5.0",
            "_view_count": null,
            "_view_module_version": "1.5.0",
            "box_style": "",
            "layout": "IPY_MODEL_d2e02c80579d40f2969cbd62869ddf51",
            "_model_module": "@jupyter-widgets/controls",
            "children": [
              "IPY_MODEL_be584960263a47f083fcc738ec1f7a75",
              "IPY_MODEL_8f1e5a8dd8f646f2bf5ac2500decbffa",
              "IPY_MODEL_c7f8746fcbbf4e1791637a815c90462d"
            ]
          }
        },
        "d2e02c80579d40f2969cbd62869ddf51": {
          "model_module": "@jupyter-widgets/base",
          "model_name": "LayoutModel",
          "model_module_version": "1.2.0",
          "state": {
            "_view_name": "LayoutView",
            "grid_template_rows": null,
            "right": null,
            "justify_content": null,
            "_view_module": "@jupyter-widgets/base",
            "overflow": null,
            "_model_module_version": "1.2.0",
            "_view_count": null,
            "flex_flow": null,
            "width": null,
            "min_width": null,
            "border": null,
            "align_items": null,
            "bottom": null,
            "_model_module": "@jupyter-widgets/base",
            "top": null,
            "grid_column": null,
            "overflow_y": null,
            "overflow_x": null,
            "grid_auto_flow": null,
            "grid_area": null,
            "grid_template_columns": null,
            "flex": null,
            "_model_name": "LayoutModel",
            "justify_items": null,
            "grid_row": null,
            "max_height": null,
            "align_content": null,
            "visibility": null,
            "align_self": null,
            "height": null,
            "min_height": null,
            "padding": null,
            "grid_auto_rows": null,
            "grid_gap": null,
            "max_width": null,
            "order": null,
            "_view_module_version": "1.2.0",
            "grid_template_areas": null,
            "object_position": null,
            "object_fit": null,
            "grid_auto_columns": null,
            "margin": null,
            "display": null,
            "left": null
          }
        },
        "be584960263a47f083fcc738ec1f7a75": {
          "model_module": "@jupyter-widgets/controls",
          "model_name": "HTMLModel",
          "model_module_version": "1.5.0",
          "state": {
            "_view_name": "HTMLView",
            "style": "IPY_MODEL_08a24c518c2a4e25aedf243d5cb01045",
            "_dom_classes": [],
            "description": "",
            "_model_name": "HTMLModel",
            "placeholder": "​",
            "_view_module": "@jupyter-widgets/controls",
            "_model_module_version": "1.5.0",
            "value": "100%",
            "_view_count": null,
            "_view_module_version": "1.5.0",
            "description_tooltip": null,
            "_model_module": "@jupyter-widgets/controls",
            "layout": "IPY_MODEL_a1358d61ef2246e3b7045effd03aef65"
          }
        },
        "8f1e5a8dd8f646f2bf5ac2500decbffa": {
          "model_module": "@jupyter-widgets/controls",
          "model_name": "FloatProgressModel",
          "model_module_version": "1.5.0",
          "state": {
            "_view_name": "ProgressView",
            "style": "IPY_MODEL_6140aaa2c0da49508004a28c7df36872",
            "_dom_classes": [],
            "description": "",
            "_model_name": "FloatProgressModel",
            "bar_style": "success",
            "max": 252,
            "_view_module": "@jupyter-widgets/controls",
            "_model_module_version": "1.5.0",
            "value": 252,
            "_view_count": null,
            "_view_module_version": "1.5.0",
            "orientation": "horizontal",
            "min": 0,
            "description_tooltip": null,
            "_model_module": "@jupyter-widgets/controls",
            "layout": "IPY_MODEL_6494ca997dc4401394efa95594eea0bd"
          }
        },
        "c7f8746fcbbf4e1791637a815c90462d": {
          "model_module": "@jupyter-widgets/controls",
          "model_name": "HTMLModel",
          "model_module_version": "1.5.0",
          "state": {
            "_view_name": "HTMLView",
            "style": "IPY_MODEL_4ea8351599cc4937ba828d6fcb4cf3e8",
            "_dom_classes": [],
            "description": "",
            "_model_name": "HTMLModel",
            "placeholder": "​",
            "_view_module": "@jupyter-widgets/controls",
            "_model_module_version": "1.5.0",
            "value": " 252/252 [03:10&lt;00:00,  1.33it/s]",
            "_view_count": null,
            "_view_module_version": "1.5.0",
            "description_tooltip": null,
            "_model_module": "@jupyter-widgets/controls",
            "layout": "IPY_MODEL_c495d9fdc23340cf9540ad631f494879"
          }
        },
        "08a24c518c2a4e25aedf243d5cb01045": {
          "model_module": "@jupyter-widgets/controls",
          "model_name": "DescriptionStyleModel",
          "model_module_version": "1.5.0",
          "state": {
            "_view_name": "StyleView",
            "_model_name": "DescriptionStyleModel",
            "description_width": "",
            "_view_module": "@jupyter-widgets/base",
            "_model_module_version": "1.5.0",
            "_view_count": null,
            "_view_module_version": "1.2.0",
            "_model_module": "@jupyter-widgets/controls"
          }
        },
        "a1358d61ef2246e3b7045effd03aef65": {
          "model_module": "@jupyter-widgets/base",
          "model_name": "LayoutModel",
          "model_module_version": "1.2.0",
          "state": {
            "_view_name": "LayoutView",
            "grid_template_rows": null,
            "right": null,
            "justify_content": null,
            "_view_module": "@jupyter-widgets/base",
            "overflow": null,
            "_model_module_version": "1.2.0",
            "_view_count": null,
            "flex_flow": null,
            "width": null,
            "min_width": null,
            "border": null,
            "align_items": null,
            "bottom": null,
            "_model_module": "@jupyter-widgets/base",
            "top": null,
            "grid_column": null,
            "overflow_y": null,
            "overflow_x": null,
            "grid_auto_flow": null,
            "grid_area": null,
            "grid_template_columns": null,
            "flex": null,
            "_model_name": "LayoutModel",
            "justify_items": null,
            "grid_row": null,
            "max_height": null,
            "align_content": null,
            "visibility": null,
            "align_self": null,
            "height": null,
            "min_height": null,
            "padding": null,
            "grid_auto_rows": null,
            "grid_gap": null,
            "max_width": null,
            "order": null,
            "_view_module_version": "1.2.0",
            "grid_template_areas": null,
            "object_position": null,
            "object_fit": null,
            "grid_auto_columns": null,
            "margin": null,
            "display": null,
            "left": null
          }
        },
        "6140aaa2c0da49508004a28c7df36872": {
          "model_module": "@jupyter-widgets/controls",
          "model_name": "ProgressStyleModel",
          "model_module_version": "1.5.0",
          "state": {
            "_view_name": "StyleView",
            "_model_name": "ProgressStyleModel",
            "description_width": "",
            "_view_module": "@jupyter-widgets/base",
            "_model_module_version": "1.5.0",
            "_view_count": null,
            "_view_module_version": "1.2.0",
            "bar_color": null,
            "_model_module": "@jupyter-widgets/controls"
          }
        },
        "6494ca997dc4401394efa95594eea0bd": {
          "model_module": "@jupyter-widgets/base",
          "model_name": "LayoutModel",
          "model_module_version": "1.2.0",
          "state": {
            "_view_name": "LayoutView",
            "grid_template_rows": null,
            "right": null,
            "justify_content": null,
            "_view_module": "@jupyter-widgets/base",
            "overflow": null,
            "_model_module_version": "1.2.0",
            "_view_count": null,
            "flex_flow": null,
            "width": null,
            "min_width": null,
            "border": null,
            "align_items": null,
            "bottom": null,
            "_model_module": "@jupyter-widgets/base",
            "top": null,
            "grid_column": null,
            "overflow_y": null,
            "overflow_x": null,
            "grid_auto_flow": null,
            "grid_area": null,
            "grid_template_columns": null,
            "flex": null,
            "_model_name": "LayoutModel",
            "justify_items": null,
            "grid_row": null,
            "max_height": null,
            "align_content": null,
            "visibility": null,
            "align_self": null,
            "height": null,
            "min_height": null,
            "padding": null,
            "grid_auto_rows": null,
            "grid_gap": null,
            "max_width": null,
            "order": null,
            "_view_module_version": "1.2.0",
            "grid_template_areas": null,
            "object_position": null,
            "object_fit": null,
            "grid_auto_columns": null,
            "margin": null,
            "display": null,
            "left": null
          }
        },
        "4ea8351599cc4937ba828d6fcb4cf3e8": {
          "model_module": "@jupyter-widgets/controls",
          "model_name": "DescriptionStyleModel",
          "model_module_version": "1.5.0",
          "state": {
            "_view_name": "StyleView",
            "_model_name": "DescriptionStyleModel",
            "description_width": "",
            "_view_module": "@jupyter-widgets/base",
            "_model_module_version": "1.5.0",
            "_view_count": null,
            "_view_module_version": "1.2.0",
            "_model_module": "@jupyter-widgets/controls"
          }
        },
        "c495d9fdc23340cf9540ad631f494879": {
          "model_module": "@jupyter-widgets/base",
          "model_name": "LayoutModel",
          "model_module_version": "1.2.0",
          "state": {
            "_view_name": "LayoutView",
            "grid_template_rows": null,
            "right": null,
            "justify_content": null,
            "_view_module": "@jupyter-widgets/base",
            "overflow": null,
            "_model_module_version": "1.2.0",
            "_view_count": null,
            "flex_flow": null,
            "width": null,
            "min_width": null,
            "border": null,
            "align_items": null,
            "bottom": null,
            "_model_module": "@jupyter-widgets/base",
            "top": null,
            "grid_column": null,
            "overflow_y": null,
            "overflow_x": null,
            "grid_auto_flow": null,
            "grid_area": null,
            "grid_template_columns": null,
            "flex": null,
            "_model_name": "LayoutModel",
            "justify_items": null,
            "grid_row": null,
            "max_height": null,
            "align_content": null,
            "visibility": null,
            "align_self": null,
            "height": null,
            "min_height": null,
            "padding": null,
            "grid_auto_rows": null,
            "grid_gap": null,
            "max_width": null,
            "order": null,
            "_view_module_version": "1.2.0",
            "grid_template_areas": null,
            "object_position": null,
            "object_fit": null,
            "grid_auto_columns": null,
            "margin": null,
            "display": null,
            "left": null
          }
        },
        "05f05b8c622d42dfb8033454f91a212b": {
          "model_module": "@jupyter-widgets/controls",
          "model_name": "HBoxModel",
          "model_module_version": "1.5.0",
          "state": {
            "_view_name": "HBoxView",
            "_dom_classes": [],
            "_model_name": "HBoxModel",
            "_view_module": "@jupyter-widgets/controls",
            "_model_module_version": "1.5.0",
            "_view_count": null,
            "_view_module_version": "1.5.0",
            "box_style": "",
            "layout": "IPY_MODEL_8c920420edda4c16a213764c816ce227",
            "_model_module": "@jupyter-widgets/controls",
            "children": [
              "IPY_MODEL_27684ab7cf62412bbfa56d43db9a2305",
              "IPY_MODEL_fb5467979e214859a890d1e94def6b1e",
              "IPY_MODEL_d2a914a513b2461c8028d3881c5b8349"
            ]
          }
        },
        "8c920420edda4c16a213764c816ce227": {
          "model_module": "@jupyter-widgets/base",
          "model_name": "LayoutModel",
          "model_module_version": "1.2.0",
          "state": {
            "_view_name": "LayoutView",
            "grid_template_rows": null,
            "right": null,
            "justify_content": null,
            "_view_module": "@jupyter-widgets/base",
            "overflow": null,
            "_model_module_version": "1.2.0",
            "_view_count": null,
            "flex_flow": null,
            "width": null,
            "min_width": null,
            "border": null,
            "align_items": null,
            "bottom": null,
            "_model_module": "@jupyter-widgets/base",
            "top": null,
            "grid_column": null,
            "overflow_y": null,
            "overflow_x": null,
            "grid_auto_flow": null,
            "grid_area": null,
            "grid_template_columns": null,
            "flex": null,
            "_model_name": "LayoutModel",
            "justify_items": null,
            "grid_row": null,
            "max_height": null,
            "align_content": null,
            "visibility": null,
            "align_self": null,
            "height": null,
            "min_height": null,
            "padding": null,
            "grid_auto_rows": null,
            "grid_gap": null,
            "max_width": null,
            "order": null,
            "_view_module_version": "1.2.0",
            "grid_template_areas": null,
            "object_position": null,
            "object_fit": null,
            "grid_auto_columns": null,
            "margin": null,
            "display": null,
            "left": null
          }
        },
        "27684ab7cf62412bbfa56d43db9a2305": {
          "model_module": "@jupyter-widgets/controls",
          "model_name": "HTMLModel",
          "model_module_version": "1.5.0",
          "state": {
            "_view_name": "HTMLView",
            "style": "IPY_MODEL_280ab8d6b4304ce69ff516fe43226f8a",
            "_dom_classes": [],
            "description": "",
            "_model_name": "HTMLModel",
            "placeholder": "​",
            "_view_module": "@jupyter-widgets/controls",
            "_model_module_version": "1.5.0",
            "value": "100%",
            "_view_count": null,
            "_view_module_version": "1.5.0",
            "description_tooltip": null,
            "_model_module": "@jupyter-widgets/controls",
            "layout": "IPY_MODEL_4d0ce419de7045c39fb09e1f8ebb1edb"
          }
        },
        "fb5467979e214859a890d1e94def6b1e": {
          "model_module": "@jupyter-widgets/controls",
          "model_name": "FloatProgressModel",
          "model_module_version": "1.5.0",
          "state": {
            "_view_name": "ProgressView",
            "style": "IPY_MODEL_041b196f8e644c13afc826543766f981",
            "_dom_classes": [],
            "description": "",
            "_model_name": "FloatProgressModel",
            "bar_style": "success",
            "max": 1,
            "_view_module": "@jupyter-widgets/controls",
            "_model_module_version": "1.5.0",
            "value": 1,
            "_view_count": null,
            "_view_module_version": "1.5.0",
            "orientation": "horizontal",
            "min": 0,
            "description_tooltip": null,
            "_model_module": "@jupyter-widgets/controls",
            "layout": "IPY_MODEL_b85dbb9eb0964ddc81689b6c40986453"
          }
        },
        "d2a914a513b2461c8028d3881c5b8349": {
          "model_module": "@jupyter-widgets/controls",
          "model_name": "HTMLModel",
          "model_module_version": "1.5.0",
          "state": {
            "_view_name": "HTMLView",
            "style": "IPY_MODEL_2d4e2e7ade7b41faa6211859129816ed",
            "_dom_classes": [],
            "description": "",
            "_model_name": "HTMLModel",
            "placeholder": "​",
            "_view_module": "@jupyter-widgets/controls",
            "_model_module_version": "1.5.0",
            "value": " 1/1 [24:41&lt;00:00, 1481.78s/it]",
            "_view_count": null,
            "_view_module_version": "1.5.0",
            "description_tooltip": null,
            "_model_module": "@jupyter-widgets/controls",
            "layout": "IPY_MODEL_6c0b8150348e4d4f89ef0071b5658721"
          }
        },
        "280ab8d6b4304ce69ff516fe43226f8a": {
          "model_module": "@jupyter-widgets/controls",
          "model_name": "DescriptionStyleModel",
          "model_module_version": "1.5.0",
          "state": {
            "_view_name": "StyleView",
            "_model_name": "DescriptionStyleModel",
            "description_width": "",
            "_view_module": "@jupyter-widgets/base",
            "_model_module_version": "1.5.0",
            "_view_count": null,
            "_view_module_version": "1.2.0",
            "_model_module": "@jupyter-widgets/controls"
          }
        },
        "4d0ce419de7045c39fb09e1f8ebb1edb": {
          "model_module": "@jupyter-widgets/base",
          "model_name": "LayoutModel",
          "model_module_version": "1.2.0",
          "state": {
            "_view_name": "LayoutView",
            "grid_template_rows": null,
            "right": null,
            "justify_content": null,
            "_view_module": "@jupyter-widgets/base",
            "overflow": null,
            "_model_module_version": "1.2.0",
            "_view_count": null,
            "flex_flow": null,
            "width": null,
            "min_width": null,
            "border": null,
            "align_items": null,
            "bottom": null,
            "_model_module": "@jupyter-widgets/base",
            "top": null,
            "grid_column": null,
            "overflow_y": null,
            "overflow_x": null,
            "grid_auto_flow": null,
            "grid_area": null,
            "grid_template_columns": null,
            "flex": null,
            "_model_name": "LayoutModel",
            "justify_items": null,
            "grid_row": null,
            "max_height": null,
            "align_content": null,
            "visibility": null,
            "align_self": null,
            "height": null,
            "min_height": null,
            "padding": null,
            "grid_auto_rows": null,
            "grid_gap": null,
            "max_width": null,
            "order": null,
            "_view_module_version": "1.2.0",
            "grid_template_areas": null,
            "object_position": null,
            "object_fit": null,
            "grid_auto_columns": null,
            "margin": null,
            "display": null,
            "left": null
          }
        },
        "041b196f8e644c13afc826543766f981": {
          "model_module": "@jupyter-widgets/controls",
          "model_name": "ProgressStyleModel",
          "model_module_version": "1.5.0",
          "state": {
            "_view_name": "StyleView",
            "_model_name": "ProgressStyleModel",
            "description_width": "",
            "_view_module": "@jupyter-widgets/base",
            "_model_module_version": "1.5.0",
            "_view_count": null,
            "_view_module_version": "1.2.0",
            "bar_color": null,
            "_model_module": "@jupyter-widgets/controls"
          }
        },
        "b85dbb9eb0964ddc81689b6c40986453": {
          "model_module": "@jupyter-widgets/base",
          "model_name": "LayoutModel",
          "model_module_version": "1.2.0",
          "state": {
            "_view_name": "LayoutView",
            "grid_template_rows": null,
            "right": null,
            "justify_content": null,
            "_view_module": "@jupyter-widgets/base",
            "overflow": null,
            "_model_module_version": "1.2.0",
            "_view_count": null,
            "flex_flow": null,
            "width": null,
            "min_width": null,
            "border": null,
            "align_items": null,
            "bottom": null,
            "_model_module": "@jupyter-widgets/base",
            "top": null,
            "grid_column": null,
            "overflow_y": null,
            "overflow_x": null,
            "grid_auto_flow": null,
            "grid_area": null,
            "grid_template_columns": null,
            "flex": null,
            "_model_name": "LayoutModel",
            "justify_items": null,
            "grid_row": null,
            "max_height": null,
            "align_content": null,
            "visibility": null,
            "align_self": null,
            "height": null,
            "min_height": null,
            "padding": null,
            "grid_auto_rows": null,
            "grid_gap": null,
            "max_width": null,
            "order": null,
            "_view_module_version": "1.2.0",
            "grid_template_areas": null,
            "object_position": null,
            "object_fit": null,
            "grid_auto_columns": null,
            "margin": null,
            "display": null,
            "left": null
          }
        },
        "2d4e2e7ade7b41faa6211859129816ed": {
          "model_module": "@jupyter-widgets/controls",
          "model_name": "DescriptionStyleModel",
          "model_module_version": "1.5.0",
          "state": {
            "_view_name": "StyleView",
            "_model_name": "DescriptionStyleModel",
            "description_width": "",
            "_view_module": "@jupyter-widgets/base",
            "_model_module_version": "1.5.0",
            "_view_count": null,
            "_view_module_version": "1.2.0",
            "_model_module": "@jupyter-widgets/controls"
          }
        },
        "6c0b8150348e4d4f89ef0071b5658721": {
          "model_module": "@jupyter-widgets/base",
          "model_name": "LayoutModel",
          "model_module_version": "1.2.0",
          "state": {
            "_view_name": "LayoutView",
            "grid_template_rows": null,
            "right": null,
            "justify_content": null,
            "_view_module": "@jupyter-widgets/base",
            "overflow": null,
            "_model_module_version": "1.2.0",
            "_view_count": null,
            "flex_flow": null,
            "width": null,
            "min_width": null,
            "border": null,
            "align_items": null,
            "bottom": null,
            "_model_module": "@jupyter-widgets/base",
            "top": null,
            "grid_column": null,
            "overflow_y": null,
            "overflow_x": null,
            "grid_auto_flow": null,
            "grid_area": null,
            "grid_template_columns": null,
            "flex": null,
            "_model_name": "LayoutModel",
            "justify_items": null,
            "grid_row": null,
            "max_height": null,
            "align_content": null,
            "visibility": null,
            "align_self": null,
            "height": null,
            "min_height": null,
            "padding": null,
            "grid_auto_rows": null,
            "grid_gap": null,
            "max_width": null,
            "order": null,
            "_view_module_version": "1.2.0",
            "grid_template_areas": null,
            "object_position": null,
            "object_fit": null,
            "grid_auto_columns": null,
            "margin": null,
            "display": null,
            "left": null
          }
        },
        "a2586a70a06644bebc4be710940a6694": {
          "model_module": "@jupyter-widgets/controls",
          "model_name": "HBoxModel",
          "model_module_version": "1.5.0",
          "state": {
            "_view_name": "HBoxView",
            "_dom_classes": [],
            "_model_name": "HBoxModel",
            "_view_module": "@jupyter-widgets/controls",
            "_model_module_version": "1.5.0",
            "_view_count": null,
            "_view_module_version": "1.5.0",
            "box_style": "",
            "layout": "IPY_MODEL_8d7143d6e13b47728179850ffa33d43b",
            "_model_module": "@jupyter-widgets/controls",
            "children": [
              "IPY_MODEL_cd6aad4f7bcf4e068f8413da02d30848",
              "IPY_MODEL_e2c29c0a000e4ff3bf94b6dfc581bee9",
              "IPY_MODEL_78b13b3d9f54464fbf437bab94dd6086"
            ]
          }
        },
        "8d7143d6e13b47728179850ffa33d43b": {
          "model_module": "@jupyter-widgets/base",
          "model_name": "LayoutModel",
          "model_module_version": "1.2.0",
          "state": {
            "_view_name": "LayoutView",
            "grid_template_rows": null,
            "right": null,
            "justify_content": null,
            "_view_module": "@jupyter-widgets/base",
            "overflow": null,
            "_model_module_version": "1.2.0",
            "_view_count": null,
            "flex_flow": null,
            "width": null,
            "min_width": null,
            "border": null,
            "align_items": null,
            "bottom": null,
            "_model_module": "@jupyter-widgets/base",
            "top": null,
            "grid_column": null,
            "overflow_y": null,
            "overflow_x": null,
            "grid_auto_flow": null,
            "grid_area": null,
            "grid_template_columns": null,
            "flex": null,
            "_model_name": "LayoutModel",
            "justify_items": null,
            "grid_row": null,
            "max_height": null,
            "align_content": null,
            "visibility": null,
            "align_self": null,
            "height": null,
            "min_height": null,
            "padding": null,
            "grid_auto_rows": null,
            "grid_gap": null,
            "max_width": null,
            "order": null,
            "_view_module_version": "1.2.0",
            "grid_template_areas": null,
            "object_position": null,
            "object_fit": null,
            "grid_auto_columns": null,
            "margin": null,
            "display": null,
            "left": null
          }
        },
        "cd6aad4f7bcf4e068f8413da02d30848": {
          "model_module": "@jupyter-widgets/controls",
          "model_name": "HTMLModel",
          "model_module_version": "1.5.0",
          "state": {
            "_view_name": "HTMLView",
            "style": "IPY_MODEL_b69fc78345d947cd9334ff8828da196d",
            "_dom_classes": [],
            "description": "",
            "_model_name": "HTMLModel",
            "placeholder": "​",
            "_view_module": "@jupyter-widgets/controls",
            "_model_module_version": "1.5.0",
            "value": "100%",
            "_view_count": null,
            "_view_module_version": "1.5.0",
            "description_tooltip": null,
            "_model_module": "@jupyter-widgets/controls",
            "layout": "IPY_MODEL_91a2d3a78f7949d5911eafd52f266104"
          }
        },
        "e2c29c0a000e4ff3bf94b6dfc581bee9": {
          "model_module": "@jupyter-widgets/controls",
          "model_name": "FloatProgressModel",
          "model_module_version": "1.5.0",
          "state": {
            "_view_name": "ProgressView",
            "style": "IPY_MODEL_ea1118456db049fb80ea44209affb18d",
            "_dom_classes": [],
            "description": "",
            "_model_name": "FloatProgressModel",
            "bar_style": "success",
            "max": 252,
            "_view_module": "@jupyter-widgets/controls",
            "_model_module_version": "1.5.0",
            "value": 252,
            "_view_count": null,
            "_view_module_version": "1.5.0",
            "orientation": "horizontal",
            "min": 0,
            "description_tooltip": null,
            "_model_module": "@jupyter-widgets/controls",
            "layout": "IPY_MODEL_7e4e450f949343fe8eb86bc1b5db1418"
          }
        },
        "78b13b3d9f54464fbf437bab94dd6086": {
          "model_module": "@jupyter-widgets/controls",
          "model_name": "HTMLModel",
          "model_module_version": "1.5.0",
          "state": {
            "_view_name": "HTMLView",
            "style": "IPY_MODEL_3ed54cbf68ee4ad99e348d00bbd7e94f",
            "_dom_classes": [],
            "description": "",
            "_model_name": "HTMLModel",
            "placeholder": "​",
            "_view_module": "@jupyter-widgets/controls",
            "_model_module_version": "1.5.0",
            "value": " 252/252 [02:33&lt;00:00,  1.64it/s]",
            "_view_count": null,
            "_view_module_version": "1.5.0",
            "description_tooltip": null,
            "_model_module": "@jupyter-widgets/controls",
            "layout": "IPY_MODEL_25bf6a89b93c422eb62c7430d95ae2af"
          }
        },
        "b69fc78345d947cd9334ff8828da196d": {
          "model_module": "@jupyter-widgets/controls",
          "model_name": "DescriptionStyleModel",
          "model_module_version": "1.5.0",
          "state": {
            "_view_name": "StyleView",
            "_model_name": "DescriptionStyleModel",
            "description_width": "",
            "_view_module": "@jupyter-widgets/base",
            "_model_module_version": "1.5.0",
            "_view_count": null,
            "_view_module_version": "1.2.0",
            "_model_module": "@jupyter-widgets/controls"
          }
        },
        "91a2d3a78f7949d5911eafd52f266104": {
          "model_module": "@jupyter-widgets/base",
          "model_name": "LayoutModel",
          "model_module_version": "1.2.0",
          "state": {
            "_view_name": "LayoutView",
            "grid_template_rows": null,
            "right": null,
            "justify_content": null,
            "_view_module": "@jupyter-widgets/base",
            "overflow": null,
            "_model_module_version": "1.2.0",
            "_view_count": null,
            "flex_flow": null,
            "width": null,
            "min_width": null,
            "border": null,
            "align_items": null,
            "bottom": null,
            "_model_module": "@jupyter-widgets/base",
            "top": null,
            "grid_column": null,
            "overflow_y": null,
            "overflow_x": null,
            "grid_auto_flow": null,
            "grid_area": null,
            "grid_template_columns": null,
            "flex": null,
            "_model_name": "LayoutModel",
            "justify_items": null,
            "grid_row": null,
            "max_height": null,
            "align_content": null,
            "visibility": null,
            "align_self": null,
            "height": null,
            "min_height": null,
            "padding": null,
            "grid_auto_rows": null,
            "grid_gap": null,
            "max_width": null,
            "order": null,
            "_view_module_version": "1.2.0",
            "grid_template_areas": null,
            "object_position": null,
            "object_fit": null,
            "grid_auto_columns": null,
            "margin": null,
            "display": null,
            "left": null
          }
        },
        "ea1118456db049fb80ea44209affb18d": {
          "model_module": "@jupyter-widgets/controls",
          "model_name": "ProgressStyleModel",
          "model_module_version": "1.5.0",
          "state": {
            "_view_name": "StyleView",
            "_model_name": "ProgressStyleModel",
            "description_width": "",
            "_view_module": "@jupyter-widgets/base",
            "_model_module_version": "1.5.0",
            "_view_count": null,
            "_view_module_version": "1.2.0",
            "bar_color": null,
            "_model_module": "@jupyter-widgets/controls"
          }
        },
        "7e4e450f949343fe8eb86bc1b5db1418": {
          "model_module": "@jupyter-widgets/base",
          "model_name": "LayoutModel",
          "model_module_version": "1.2.0",
          "state": {
            "_view_name": "LayoutView",
            "grid_template_rows": null,
            "right": null,
            "justify_content": null,
            "_view_module": "@jupyter-widgets/base",
            "overflow": null,
            "_model_module_version": "1.2.0",
            "_view_count": null,
            "flex_flow": null,
            "width": null,
            "min_width": null,
            "border": null,
            "align_items": null,
            "bottom": null,
            "_model_module": "@jupyter-widgets/base",
            "top": null,
            "grid_column": null,
            "overflow_y": null,
            "overflow_x": null,
            "grid_auto_flow": null,
            "grid_area": null,
            "grid_template_columns": null,
            "flex": null,
            "_model_name": "LayoutModel",
            "justify_items": null,
            "grid_row": null,
            "max_height": null,
            "align_content": null,
            "visibility": null,
            "align_self": null,
            "height": null,
            "min_height": null,
            "padding": null,
            "grid_auto_rows": null,
            "grid_gap": null,
            "max_width": null,
            "order": null,
            "_view_module_version": "1.2.0",
            "grid_template_areas": null,
            "object_position": null,
            "object_fit": null,
            "grid_auto_columns": null,
            "margin": null,
            "display": null,
            "left": null
          }
        },
        "3ed54cbf68ee4ad99e348d00bbd7e94f": {
          "model_module": "@jupyter-widgets/controls",
          "model_name": "DescriptionStyleModel",
          "model_module_version": "1.5.0",
          "state": {
            "_view_name": "StyleView",
            "_model_name": "DescriptionStyleModel",
            "description_width": "",
            "_view_module": "@jupyter-widgets/base",
            "_model_module_version": "1.5.0",
            "_view_count": null,
            "_view_module_version": "1.2.0",
            "_model_module": "@jupyter-widgets/controls"
          }
        },
        "25bf6a89b93c422eb62c7430d95ae2af": {
          "model_module": "@jupyter-widgets/base",
          "model_name": "LayoutModel",
          "model_module_version": "1.2.0",
          "state": {
            "_view_name": "LayoutView",
            "grid_template_rows": null,
            "right": null,
            "justify_content": null,
            "_view_module": "@jupyter-widgets/base",
            "overflow": null,
            "_model_module_version": "1.2.0",
            "_view_count": null,
            "flex_flow": null,
            "width": null,
            "min_width": null,
            "border": null,
            "align_items": null,
            "bottom": null,
            "_model_module": "@jupyter-widgets/base",
            "top": null,
            "grid_column": null,
            "overflow_y": null,
            "overflow_x": null,
            "grid_auto_flow": null,
            "grid_area": null,
            "grid_template_columns": null,
            "flex": null,
            "_model_name": "LayoutModel",
            "justify_items": null,
            "grid_row": null,
            "max_height": null,
            "align_content": null,
            "visibility": null,
            "align_self": null,
            "height": null,
            "min_height": null,
            "padding": null,
            "grid_auto_rows": null,
            "grid_gap": null,
            "max_width": null,
            "order": null,
            "_view_module_version": "1.2.0",
            "grid_template_areas": null,
            "object_position": null,
            "object_fit": null,
            "grid_auto_columns": null,
            "margin": null,
            "display": null,
            "left": null
          }
        },
        "1d1d8f9d05874562b0da0d9f42022f5e": {
          "model_module": "@jupyter-widgets/controls",
          "model_name": "HBoxModel",
          "model_module_version": "1.5.0",
          "state": {
            "_view_name": "HBoxView",
            "_dom_classes": [],
            "_model_name": "HBoxModel",
            "_view_module": "@jupyter-widgets/controls",
            "_model_module_version": "1.5.0",
            "_view_count": null,
            "_view_module_version": "1.5.0",
            "box_style": "",
            "layout": "IPY_MODEL_2ef90ce5007f45868c06df86abf7bef9",
            "_model_module": "@jupyter-widgets/controls",
            "children": [
              "IPY_MODEL_c11a2d13af084317a714c254775b2a07",
              "IPY_MODEL_e60ddc48f732420c9f5130df2bad349e",
              "IPY_MODEL_7988d180e38a4c1f9ed3e700339a4029"
            ]
          }
        },
        "2ef90ce5007f45868c06df86abf7bef9": {
          "model_module": "@jupyter-widgets/base",
          "model_name": "LayoutModel",
          "model_module_version": "1.2.0",
          "state": {
            "_view_name": "LayoutView",
            "grid_template_rows": null,
            "right": null,
            "justify_content": null,
            "_view_module": "@jupyter-widgets/base",
            "overflow": null,
            "_model_module_version": "1.2.0",
            "_view_count": null,
            "flex_flow": null,
            "width": null,
            "min_width": null,
            "border": null,
            "align_items": null,
            "bottom": null,
            "_model_module": "@jupyter-widgets/base",
            "top": null,
            "grid_column": null,
            "overflow_y": null,
            "overflow_x": null,
            "grid_auto_flow": null,
            "grid_area": null,
            "grid_template_columns": null,
            "flex": null,
            "_model_name": "LayoutModel",
            "justify_items": null,
            "grid_row": null,
            "max_height": null,
            "align_content": null,
            "visibility": null,
            "align_self": null,
            "height": null,
            "min_height": null,
            "padding": null,
            "grid_auto_rows": null,
            "grid_gap": null,
            "max_width": null,
            "order": null,
            "_view_module_version": "1.2.0",
            "grid_template_areas": null,
            "object_position": null,
            "object_fit": null,
            "grid_auto_columns": null,
            "margin": null,
            "display": null,
            "left": null
          }
        },
        "c11a2d13af084317a714c254775b2a07": {
          "model_module": "@jupyter-widgets/controls",
          "model_name": "HTMLModel",
          "model_module_version": "1.5.0",
          "state": {
            "_view_name": "HTMLView",
            "style": "IPY_MODEL_01e13fefb4344b958654d40324a160db",
            "_dom_classes": [],
            "description": "",
            "_model_name": "HTMLModel",
            "placeholder": "​",
            "_view_module": "@jupyter-widgets/controls",
            "_model_module_version": "1.5.0",
            "value": "100%",
            "_view_count": null,
            "_view_module_version": "1.5.0",
            "description_tooltip": null,
            "_model_module": "@jupyter-widgets/controls",
            "layout": "IPY_MODEL_a01606b4960840cdae66fdaa7d90f4b4"
          }
        },
        "e60ddc48f732420c9f5130df2bad349e": {
          "model_module": "@jupyter-widgets/controls",
          "model_name": "FloatProgressModel",
          "model_module_version": "1.5.0",
          "state": {
            "_view_name": "ProgressView",
            "style": "IPY_MODEL_f458289e94ea4315aff2c9e1f6a33d1d",
            "_dom_classes": [],
            "description": "",
            "_model_name": "FloatProgressModel",
            "bar_style": "success",
            "max": 5797,
            "_view_module": "@jupyter-widgets/controls",
            "_model_module_version": "1.5.0",
            "value": 5797,
            "_view_count": null,
            "_view_module_version": "1.5.0",
            "orientation": "horizontal",
            "min": 0,
            "description_tooltip": null,
            "_model_module": "@jupyter-widgets/controls",
            "layout": "IPY_MODEL_131fbe8d79544d508756fdda0ab55520"
          }
        },
        "7988d180e38a4c1f9ed3e700339a4029": {
          "model_module": "@jupyter-widgets/controls",
          "model_name": "HTMLModel",
          "model_module_version": "1.5.0",
          "state": {
            "_view_name": "HTMLView",
            "style": "IPY_MODEL_94bd7c2cdd6745049bbc6656422df364",
            "_dom_classes": [],
            "description": "",
            "_model_name": "HTMLModel",
            "placeholder": "​",
            "_view_module": "@jupyter-widgets/controls",
            "_model_module_version": "1.5.0",
            "value": " 5797/5797 [00:00&lt;00:00, 116517.38it/s]",
            "_view_count": null,
            "_view_module_version": "1.5.0",
            "description_tooltip": null,
            "_model_module": "@jupyter-widgets/controls",
            "layout": "IPY_MODEL_c91aa585907545898c626e068d5380fb"
          }
        },
        "01e13fefb4344b958654d40324a160db": {
          "model_module": "@jupyter-widgets/controls",
          "model_name": "DescriptionStyleModel",
          "model_module_version": "1.5.0",
          "state": {
            "_view_name": "StyleView",
            "_model_name": "DescriptionStyleModel",
            "description_width": "",
            "_view_module": "@jupyter-widgets/base",
            "_model_module_version": "1.5.0",
            "_view_count": null,
            "_view_module_version": "1.2.0",
            "_model_module": "@jupyter-widgets/controls"
          }
        },
        "a01606b4960840cdae66fdaa7d90f4b4": {
          "model_module": "@jupyter-widgets/base",
          "model_name": "LayoutModel",
          "model_module_version": "1.2.0",
          "state": {
            "_view_name": "LayoutView",
            "grid_template_rows": null,
            "right": null,
            "justify_content": null,
            "_view_module": "@jupyter-widgets/base",
            "overflow": null,
            "_model_module_version": "1.2.0",
            "_view_count": null,
            "flex_flow": null,
            "width": null,
            "min_width": null,
            "border": null,
            "align_items": null,
            "bottom": null,
            "_model_module": "@jupyter-widgets/base",
            "top": null,
            "grid_column": null,
            "overflow_y": null,
            "overflow_x": null,
            "grid_auto_flow": null,
            "grid_area": null,
            "grid_template_columns": null,
            "flex": null,
            "_model_name": "LayoutModel",
            "justify_items": null,
            "grid_row": null,
            "max_height": null,
            "align_content": null,
            "visibility": null,
            "align_self": null,
            "height": null,
            "min_height": null,
            "padding": null,
            "grid_auto_rows": null,
            "grid_gap": null,
            "max_width": null,
            "order": null,
            "_view_module_version": "1.2.0",
            "grid_template_areas": null,
            "object_position": null,
            "object_fit": null,
            "grid_auto_columns": null,
            "margin": null,
            "display": null,
            "left": null
          }
        },
        "f458289e94ea4315aff2c9e1f6a33d1d": {
          "model_module": "@jupyter-widgets/controls",
          "model_name": "ProgressStyleModel",
          "model_module_version": "1.5.0",
          "state": {
            "_view_name": "StyleView",
            "_model_name": "ProgressStyleModel",
            "description_width": "",
            "_view_module": "@jupyter-widgets/base",
            "_model_module_version": "1.5.0",
            "_view_count": null,
            "_view_module_version": "1.2.0",
            "bar_color": null,
            "_model_module": "@jupyter-widgets/controls"
          }
        },
        "131fbe8d79544d508756fdda0ab55520": {
          "model_module": "@jupyter-widgets/base",
          "model_name": "LayoutModel",
          "model_module_version": "1.2.0",
          "state": {
            "_view_name": "LayoutView",
            "grid_template_rows": null,
            "right": null,
            "justify_content": null,
            "_view_module": "@jupyter-widgets/base",
            "overflow": null,
            "_model_module_version": "1.2.0",
            "_view_count": null,
            "flex_flow": null,
            "width": null,
            "min_width": null,
            "border": null,
            "align_items": null,
            "bottom": null,
            "_model_module": "@jupyter-widgets/base",
            "top": null,
            "grid_column": null,
            "overflow_y": null,
            "overflow_x": null,
            "grid_auto_flow": null,
            "grid_area": null,
            "grid_template_columns": null,
            "flex": null,
            "_model_name": "LayoutModel",
            "justify_items": null,
            "grid_row": null,
            "max_height": null,
            "align_content": null,
            "visibility": null,
            "align_self": null,
            "height": null,
            "min_height": null,
            "padding": null,
            "grid_auto_rows": null,
            "grid_gap": null,
            "max_width": null,
            "order": null,
            "_view_module_version": "1.2.0",
            "grid_template_areas": null,
            "object_position": null,
            "object_fit": null,
            "grid_auto_columns": null,
            "margin": null,
            "display": null,
            "left": null
          }
        },
        "94bd7c2cdd6745049bbc6656422df364": {
          "model_module": "@jupyter-widgets/controls",
          "model_name": "DescriptionStyleModel",
          "model_module_version": "1.5.0",
          "state": {
            "_view_name": "StyleView",
            "_model_name": "DescriptionStyleModel",
            "description_width": "",
            "_view_module": "@jupyter-widgets/base",
            "_model_module_version": "1.5.0",
            "_view_count": null,
            "_view_module_version": "1.2.0",
            "_model_module": "@jupyter-widgets/controls"
          }
        },
        "c91aa585907545898c626e068d5380fb": {
          "model_module": "@jupyter-widgets/base",
          "model_name": "LayoutModel",
          "model_module_version": "1.2.0",
          "state": {
            "_view_name": "LayoutView",
            "grid_template_rows": null,
            "right": null,
            "justify_content": null,
            "_view_module": "@jupyter-widgets/base",
            "overflow": null,
            "_model_module_version": "1.2.0",
            "_view_count": null,
            "flex_flow": null,
            "width": null,
            "min_width": null,
            "border": null,
            "align_items": null,
            "bottom": null,
            "_model_module": "@jupyter-widgets/base",
            "top": null,
            "grid_column": null,
            "overflow_y": null,
            "overflow_x": null,
            "grid_auto_flow": null,
            "grid_area": null,
            "grid_template_columns": null,
            "flex": null,
            "_model_name": "LayoutModel",
            "justify_items": null,
            "grid_row": null,
            "max_height": null,
            "align_content": null,
            "visibility": null,
            "align_self": null,
            "height": null,
            "min_height": null,
            "padding": null,
            "grid_auto_rows": null,
            "grid_gap": null,
            "max_width": null,
            "order": null,
            "_view_module_version": "1.2.0",
            "grid_template_areas": null,
            "object_position": null,
            "object_fit": null,
            "grid_auto_columns": null,
            "margin": null,
            "display": null,
            "left": null
          }
        },
        "ebe5ff03043b40049e918c1a25e140d1": {
          "model_module": "@jupyter-widgets/controls",
          "model_name": "HBoxModel",
          "model_module_version": "1.5.0",
          "state": {
            "_view_name": "HBoxView",
            "_dom_classes": [],
            "_model_name": "HBoxModel",
            "_view_module": "@jupyter-widgets/controls",
            "_model_module_version": "1.5.0",
            "_view_count": null,
            "_view_module_version": "1.5.0",
            "box_style": "",
            "layout": "IPY_MODEL_3a201a95aad64a898b45fcd8ce8ebe1f",
            "_model_module": "@jupyter-widgets/controls",
            "children": [
              "IPY_MODEL_f5f930c8ffd14693af6914e3314da71f",
              "IPY_MODEL_24b846ae797244bc9becfd44a216cc58",
              "IPY_MODEL_d66e2540f0594470beadf03c9cb11b5b"
            ]
          }
        },
        "3a201a95aad64a898b45fcd8ce8ebe1f": {
          "model_module": "@jupyter-widgets/base",
          "model_name": "LayoutModel",
          "model_module_version": "1.2.0",
          "state": {
            "_view_name": "LayoutView",
            "grid_template_rows": null,
            "right": null,
            "justify_content": null,
            "_view_module": "@jupyter-widgets/base",
            "overflow": null,
            "_model_module_version": "1.2.0",
            "_view_count": null,
            "flex_flow": null,
            "width": null,
            "min_width": null,
            "border": null,
            "align_items": null,
            "bottom": null,
            "_model_module": "@jupyter-widgets/base",
            "top": null,
            "grid_column": null,
            "overflow_y": null,
            "overflow_x": null,
            "grid_auto_flow": null,
            "grid_area": null,
            "grid_template_columns": null,
            "flex": null,
            "_model_name": "LayoutModel",
            "justify_items": null,
            "grid_row": null,
            "max_height": null,
            "align_content": null,
            "visibility": null,
            "align_self": null,
            "height": null,
            "min_height": null,
            "padding": null,
            "grid_auto_rows": null,
            "grid_gap": null,
            "max_width": null,
            "order": null,
            "_view_module_version": "1.2.0",
            "grid_template_areas": null,
            "object_position": null,
            "object_fit": null,
            "grid_auto_columns": null,
            "margin": null,
            "display": null,
            "left": null
          }
        },
        "f5f930c8ffd14693af6914e3314da71f": {
          "model_module": "@jupyter-widgets/controls",
          "model_name": "HTMLModel",
          "model_module_version": "1.5.0",
          "state": {
            "_view_name": "HTMLView",
            "style": "IPY_MODEL_d808ed95076d49faaf508529334303d7",
            "_dom_classes": [],
            "description": "",
            "_model_name": "HTMLModel",
            "placeholder": "​",
            "_view_module": "@jupyter-widgets/controls",
            "_model_module_version": "1.5.0",
            "value": "100%",
            "_view_count": null,
            "_view_module_version": "1.5.0",
            "description_tooltip": null,
            "_model_module": "@jupyter-widgets/controls",
            "layout": "IPY_MODEL_3ccc98a3d0fc43e6978116961f24bdad"
          }
        },
        "24b846ae797244bc9becfd44a216cc58": {
          "model_module": "@jupyter-widgets/controls",
          "model_name": "FloatProgressModel",
          "model_module_version": "1.5.0",
          "state": {
            "_view_name": "ProgressView",
            "style": "IPY_MODEL_5216c9a211e545af9ad63deebfc21fbd",
            "_dom_classes": [],
            "description": "",
            "_model_name": "FloatProgressModel",
            "bar_style": "success",
            "max": 90,
            "_view_module": "@jupyter-widgets/controls",
            "_model_module_version": "1.5.0",
            "value": 90,
            "_view_count": null,
            "_view_module_version": "1.5.0",
            "orientation": "horizontal",
            "min": 0,
            "description_tooltip": null,
            "_model_module": "@jupyter-widgets/controls",
            "layout": "IPY_MODEL_59e0a76fe8914cffbd0dc1a423c9092b"
          }
        },
        "d66e2540f0594470beadf03c9cb11b5b": {
          "model_module": "@jupyter-widgets/controls",
          "model_name": "HTMLModel",
          "model_module_version": "1.5.0",
          "state": {
            "_view_name": "HTMLView",
            "style": "IPY_MODEL_37e1c8d6f36b49a5af6ff01fab880fb8",
            "_dom_classes": [],
            "description": "",
            "_model_name": "HTMLModel",
            "placeholder": "​",
            "_view_module": "@jupyter-widgets/controls",
            "_model_module_version": "1.5.0",
            "value": " 90/90 [00:55&lt;00:00,  1.66it/s]",
            "_view_count": null,
            "_view_module_version": "1.5.0",
            "description_tooltip": null,
            "_model_module": "@jupyter-widgets/controls",
            "layout": "IPY_MODEL_cb3627dc92854c1ca0f0fea7d64dc5f2"
          }
        },
        "d808ed95076d49faaf508529334303d7": {
          "model_module": "@jupyter-widgets/controls",
          "model_name": "DescriptionStyleModel",
          "model_module_version": "1.5.0",
          "state": {
            "_view_name": "StyleView",
            "_model_name": "DescriptionStyleModel",
            "description_width": "",
            "_view_module": "@jupyter-widgets/base",
            "_model_module_version": "1.5.0",
            "_view_count": null,
            "_view_module_version": "1.2.0",
            "_model_module": "@jupyter-widgets/controls"
          }
        },
        "3ccc98a3d0fc43e6978116961f24bdad": {
          "model_module": "@jupyter-widgets/base",
          "model_name": "LayoutModel",
          "model_module_version": "1.2.0",
          "state": {
            "_view_name": "LayoutView",
            "grid_template_rows": null,
            "right": null,
            "justify_content": null,
            "_view_module": "@jupyter-widgets/base",
            "overflow": null,
            "_model_module_version": "1.2.0",
            "_view_count": null,
            "flex_flow": null,
            "width": null,
            "min_width": null,
            "border": null,
            "align_items": null,
            "bottom": null,
            "_model_module": "@jupyter-widgets/base",
            "top": null,
            "grid_column": null,
            "overflow_y": null,
            "overflow_x": null,
            "grid_auto_flow": null,
            "grid_area": null,
            "grid_template_columns": null,
            "flex": null,
            "_model_name": "LayoutModel",
            "justify_items": null,
            "grid_row": null,
            "max_height": null,
            "align_content": null,
            "visibility": null,
            "align_self": null,
            "height": null,
            "min_height": null,
            "padding": null,
            "grid_auto_rows": null,
            "grid_gap": null,
            "max_width": null,
            "order": null,
            "_view_module_version": "1.2.0",
            "grid_template_areas": null,
            "object_position": null,
            "object_fit": null,
            "grid_auto_columns": null,
            "margin": null,
            "display": null,
            "left": null
          }
        },
        "5216c9a211e545af9ad63deebfc21fbd": {
          "model_module": "@jupyter-widgets/controls",
          "model_name": "ProgressStyleModel",
          "model_module_version": "1.5.0",
          "state": {
            "_view_name": "StyleView",
            "_model_name": "ProgressStyleModel",
            "description_width": "",
            "_view_module": "@jupyter-widgets/base",
            "_model_module_version": "1.5.0",
            "_view_count": null,
            "_view_module_version": "1.2.0",
            "bar_color": null,
            "_model_module": "@jupyter-widgets/controls"
          }
        },
        "59e0a76fe8914cffbd0dc1a423c9092b": {
          "model_module": "@jupyter-widgets/base",
          "model_name": "LayoutModel",
          "model_module_version": "1.2.0",
          "state": {
            "_view_name": "LayoutView",
            "grid_template_rows": null,
            "right": null,
            "justify_content": null,
            "_view_module": "@jupyter-widgets/base",
            "overflow": null,
            "_model_module_version": "1.2.0",
            "_view_count": null,
            "flex_flow": null,
            "width": null,
            "min_width": null,
            "border": null,
            "align_items": null,
            "bottom": null,
            "_model_module": "@jupyter-widgets/base",
            "top": null,
            "grid_column": null,
            "overflow_y": null,
            "overflow_x": null,
            "grid_auto_flow": null,
            "grid_area": null,
            "grid_template_columns": null,
            "flex": null,
            "_model_name": "LayoutModel",
            "justify_items": null,
            "grid_row": null,
            "max_height": null,
            "align_content": null,
            "visibility": null,
            "align_self": null,
            "height": null,
            "min_height": null,
            "padding": null,
            "grid_auto_rows": null,
            "grid_gap": null,
            "max_width": null,
            "order": null,
            "_view_module_version": "1.2.0",
            "grid_template_areas": null,
            "object_position": null,
            "object_fit": null,
            "grid_auto_columns": null,
            "margin": null,
            "display": null,
            "left": null
          }
        },
        "37e1c8d6f36b49a5af6ff01fab880fb8": {
          "model_module": "@jupyter-widgets/controls",
          "model_name": "DescriptionStyleModel",
          "model_module_version": "1.5.0",
          "state": {
            "_view_name": "StyleView",
            "_model_name": "DescriptionStyleModel",
            "description_width": "",
            "_view_module": "@jupyter-widgets/base",
            "_model_module_version": "1.5.0",
            "_view_count": null,
            "_view_module_version": "1.2.0",
            "_model_module": "@jupyter-widgets/controls"
          }
        },
        "cb3627dc92854c1ca0f0fea7d64dc5f2": {
          "model_module": "@jupyter-widgets/base",
          "model_name": "LayoutModel",
          "model_module_version": "1.2.0",
          "state": {
            "_view_name": "LayoutView",
            "grid_template_rows": null,
            "right": null,
            "justify_content": null,
            "_view_module": "@jupyter-widgets/base",
            "overflow": null,
            "_model_module_version": "1.2.0",
            "_view_count": null,
            "flex_flow": null,
            "width": null,
            "min_width": null,
            "border": null,
            "align_items": null,
            "bottom": null,
            "_model_module": "@jupyter-widgets/base",
            "top": null,
            "grid_column": null,
            "overflow_y": null,
            "overflow_x": null,
            "grid_auto_flow": null,
            "grid_area": null,
            "grid_template_columns": null,
            "flex": null,
            "_model_name": "LayoutModel",
            "justify_items": null,
            "grid_row": null,
            "max_height": null,
            "align_content": null,
            "visibility": null,
            "align_self": null,
            "height": null,
            "min_height": null,
            "padding": null,
            "grid_auto_rows": null,
            "grid_gap": null,
            "max_width": null,
            "order": null,
            "_view_module_version": "1.2.0",
            "grid_template_areas": null,
            "object_position": null,
            "object_fit": null,
            "grid_auto_columns": null,
            "margin": null,
            "display": null,
            "left": null
          }
        }
      }
    }
  },
  "cells": [
    {
      "cell_type": "code",
      "metadata": {
        "colab": {
          "base_uri": "https://localhost:8080/"
        },
        "id": "DLqUa76aAHIg",
        "outputId": "9857ec61-44f1-4270-c68f-718b81ffdd04"
      },
      "source": [
        "!apt install sox"
      ],
      "execution_count": 1,
      "outputs": [
        {
          "output_type": "stream",
          "name": "stdout",
          "text": [
            "Reading package lists... Done\n",
            "Building dependency tree       \n",
            "Reading state information... Done\n",
            "sox is already the newest version (14.4.2-3ubuntu0.18.04.1).\n",
            "0 upgraded, 0 newly installed, 0 to remove and 37 not upgraded.\n"
          ]
        }
      ]
    },
    {
      "cell_type": "markdown",
      "metadata": {
        "id": "eX_UvnL9FOB2"
      },
      "source": [
        "### Baseline commands recognition (2-5 points)\n",
        "\n",
        "We're now going to train a classifier to recognize voice. More specifically, we'll use the [Speech Commands Dataset] that contains around 30 different words with a few thousand voice records each."
      ]
    },
    {
      "cell_type": "code",
      "metadata": {
        "id": "9GOZSrI9epgU"
      },
      "source": [
        "import os\n",
        "from IPython.display import display, Audio\n",
        "import matplotlib.pyplot as plt\n",
        "%matplotlib inline\n",
        "import numpy as np\n",
        "import librosa\n",
        "import torch\n",
        "from torch.utils.data import TensorDataset, DataLoader"
      ],
      "execution_count": 2,
      "outputs": []
    },
    {
      "cell_type": "code",
      "metadata": {
        "colab": {
          "base_uri": "https://localhost:8080/"
        },
        "id": "FvHkw2rfY9k7",
        "outputId": "70c3555b-d430-4b84-d23e-eaf6473d359c"
      },
      "source": [
        "datadir = \"speech_commands\"\n",
        "\n",
        "!wget http://download.tensorflow.org/data/speech_commands_v0.01.tar.gz -O speech_commands_v0.01.tar.gz\n",
        "# alternative url: https://www.dropbox.com/s/j95n278g48bcbta/speech_commands_v0.01.tar.gz?dl=1\n",
        "!mkdir {datadir} && tar -C {datadir} -xvzf speech_commands_v0.01.tar.gz 1> log\n",
        "\n",
        "samples_by_target = {\n",
        "    cls: [os.path.join(datadir, cls, name) for name in os.listdir(\"./speech_commands/{}\".format(cls))]\n",
        "    for cls in os.listdir(datadir)\n",
        "    if os.path.isdir(os.path.join(datadir, cls))\n",
        "}\n",
        "print('Classes:', ', '.join(sorted(samples_by_target.keys())[1:]))"
      ],
      "execution_count": null,
      "outputs": [
        {
          "name": "stdout",
          "output_type": "stream",
          "text": [
            "--2021-10-24 17:43:06--  http://download.tensorflow.org/data/speech_commands_v0.01.tar.gz\n",
            "Resolving download.tensorflow.org (download.tensorflow.org)... 74.125.70.128, 2607:f8b0:4001:c02::80\n",
            "Connecting to download.tensorflow.org (download.tensorflow.org)|74.125.70.128|:80... connected.\n",
            "HTTP request sent, awaiting response... 200 OK\n",
            "Length: 1489096277 (1.4G) [application/gzip]\n",
            "Saving to: ‘speech_commands_v0.01.tar.gz’\n",
            "\n",
            "speech_commands_v0. 100%[===================>]   1.39G   212MB/s    in 6.6s    \n",
            "\n",
            "2021-10-24 17:43:12 (214 MB/s) - ‘speech_commands_v0.01.tar.gz’ saved [1489096277/1489096277]\n",
            "\n",
            "Classes: bed, bird, cat, dog, down, eight, five, four, go, happy, house, left, marvin, nine, no, off, on, one, right, seven, sheila, six, stop, three, tree, two, up, wow, yes, zero\n"
          ]
        }
      ]
    },
    {
      "cell_type": "code",
      "metadata": {
        "colab": {
          "base_uri": "https://localhost:8080/"
        },
        "id": "ME4cVShQ916w",
        "outputId": "f908de11-00cf-4872-fb44-9c98f9b5fb2e"
      },
      "source": [
        "!sox --info speech_commands/bed/00176480_nohash_0.wav"
      ],
      "execution_count": null,
      "outputs": [
        {
          "name": "stdout",
          "output_type": "stream",
          "text": [
            "\n",
            "Input File     : 'speech_commands/bed/00176480_nohash_0.wav'\n",
            "Channels       : 1\n",
            "Sample Rate    : 16000\n",
            "Precision      : 16-bit\n",
            "Duration       : 00:00:01.00 = 16000 samples ~ 75 CDDA sectors\n",
            "File Size      : 32.0k\n",
            "Bit Rate       : 256k\n",
            "Sample Encoding: 16-bit Signed Integer PCM\n",
            "\n"
          ]
        }
      ]
    },
    {
      "cell_type": "code",
      "metadata": {
        "id": "6t5j_qZDpNps"
      },
      "source": [
        "from sklearn.model_selection import train_test_split\n",
        "from itertools import chain\n",
        "from tqdm.notebook import tqdm\n",
        "import joblib as jl\n",
        "import pickle"
      ],
      "execution_count": 3,
      "outputs": []
    },
    {
      "cell_type": "code",
      "metadata": {
        "id": "COBM_YuwU7hw"
      },
      "source": [
        "device = 'cuda' if torch.cuda.is_available() else 'cpu'"
      ],
      "execution_count": 4,
      "outputs": []
    },
    {
      "cell_type": "code",
      "metadata": {
        "id": "nzKvHNS8kKAJ",
        "colab": {
          "base_uri": "https://localhost:8080/"
        },
        "outputId": "fa4ae08e-35c5-4ba2-f99c-e01230fe1763"
      },
      "source": [
        "from google.colab import drive\n",
        "drive.mount('/content/drive')"
      ],
      "execution_count": 5,
      "outputs": [
        {
          "output_type": "stream",
          "name": "stdout",
          "text": [
            "Drive already mounted at /content/drive; to attempt to forcibly remount, call drive.mount(\"/content/drive\", force_remount=True).\n"
          ]
        }
      ]
    },
    {
      "cell_type": "code",
      "metadata": {
        "colab": {
          "base_uri": "https://localhost:8080/"
        },
        "id": "rc9cm1etnDes",
        "outputId": "3229efe1-98ed-4629-dff7-19187452a1e7"
      },
      "source": [
        "classes = (\"left\", \"right\", \"up\", \"down\", \"stop\")\n",
        "\n",
        "def preprocess_sample(filepath, max_length=150):\n",
        "    amplitudes, sr = librosa.core.load(filepath)\n",
        "    spectrogram = librosa.feature.melspectrogram(amplitudes, sr=sr)[:, :max_length]\n",
        "    spectrogram = np.pad(spectrogram, [[0, 0], [0, max(0, max_length - spectrogram.shape[1])]], mode='constant')\n",
        "    target = classes.index(filepath.split(os.sep)[-2])\n",
        "    return np.float32(spectrogram), np.int64(target)\n",
        "\n",
        "all_files = chain(*(samples_by_target[cls] for cls in classes))\n",
        "spectrograms_and_targets = jl.Parallel(n_jobs=-1)(tqdm(list(map(jl.delayed(preprocess_sample), all_files))))\n",
        "X, y = map(np.stack, zip(*spectrograms_and_targets))\n",
        "X = X.transpose([0, 2, 1])  # to [batch, time, channels]\n",
        "\n",
        "X_train, X_test, y_train, y_test = train_test_split(X, y, random_state=42)"
      ],
      "execution_count": null,
      "outputs": [
        {
          "name": "stderr",
          "output_type": "stream",
          "text": [
            "100%|██████████| 11834/11834 [07:26<00:00, 26.49it/s]\n"
          ]
        }
      ]
    },
    {
      "cell_type": "code",
      "metadata": {
        "colab": {
          "base_uri": "https://localhost:8080/",
          "height": 75
        },
        "id": "TGgEXx8kTCYw",
        "outputId": "513ba118-ef58-45f1-ae57-c6f59f715028"
      },
      "source": [
        "Audio('speech_commands/down/00176480_nohash_0.wav')"
      ],
      "execution_count": null,
      "outputs": [
        {
          "data": {
            "text/html": [
              "\n",
              "                <audio controls=\"controls\" >\n",
              "                    <source src=\"data:audio/x-wav;base64,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\" type=\"audio/x-wav\" />\n",
              "                    Your browser does not support the audio element.\n",
              "                </audio>\n",
              "              "
            ],
            "text/plain": [
              "<IPython.lib.display.Audio object>"
            ]
          },
          "execution_count": 21,
          "metadata": {},
          "output_type": "execute_result"
        }
      ]
    },
    {
      "cell_type": "markdown",
      "metadata": {
        "id": "STwaZBHmoXDz"
      },
      "source": [
        "## Попробуем сетку на 1D свертках"
      ]
    },
    {
      "cell_type": "code",
      "metadata": {
        "id": "RwjxGDD7eR7B"
      },
      "source": [
        "X_trainn = X_train.reshape(8875, 128, 150)\n",
        "X_testt = X_test.reshape(2959, 128, 150)"
      ],
      "execution_count": null,
      "outputs": []
    },
    {
      "cell_type": "code",
      "metadata": {
        "id": "7Ol6sywTG_Y9"
      },
      "source": [
        "batch_size = 32\n",
        "\n",
        "tensor_x = torch.Tensor(X_trainn)\n",
        "tensor_y = torch.LongTensor(y_train)\n",
        "\n",
        "train_dataset = TensorDataset(tensor_x, tensor_y)\n",
        "\n",
        "tensor_x = torch.Tensor(X_testt) # transform to torch tensor\n",
        "tensor_y = torch.LongTensor(y_test)\n",
        "\n",
        "test_dataset = TensorDataset(tensor_x, tensor_y)\n",
        "\n",
        "\n",
        "trainloader = DataLoader(train_dataset, batch_size=batch_size,\n",
        "                         shuffle=True, num_workers=2, drop_last=True)\n",
        "testloader = DataLoader(test_dataset, batch_size=batch_size,\n",
        "                        shuffle=False, num_workers=2, drop_last=True)"
      ],
      "execution_count": null,
      "outputs": []
    },
    {
      "cell_type": "code",
      "metadata": {
        "id": "-qr8t6wCF8vT"
      },
      "source": [
        "import torch.nn as nn\n",
        "import torch.nn.functional as F\n",
        "\n",
        "\n",
        "class Net_Conv1D(nn.Module):\n",
        "    def __init__(self, n_input=1, n_output=5, stride=5, n_channel=32):\n",
        "        super().__init__()\n",
        "        # TODO: define your layers here\n",
        "        self.conv1 = nn.Conv1d(n_input, n_channel, kernel_size=80, stride=stride)\n",
        "        nn.init.xavier_normal_(self.conv1.weight) # проинициализируем веса (так лучше учится)\n",
        "        self.bn1 = nn.BatchNorm1d(n_channel)\n",
        "        self.conv2 = nn.Conv1d(n_channel, n_channel, kernel_size=3)\n",
        "        nn.init.xavier_normal_(self.conv2.weight)\n",
        "        self.bn2 = nn.BatchNorm1d(n_channel)\n",
        "        self.conv3 = nn.Conv1d(n_channel, 2 * n_channel, kernel_size=3)\n",
        "        nn.init.xavier_normal_(self.conv3.weight)\n",
        "        self.bn3 = nn.BatchNorm1d(2 * n_channel)\n",
        "        self.conv4 = nn.Conv1d(2 * n_channel, 2 * n_channel, kernel_size=1)\n",
        "        nn.init.xavier_normal_(self.conv4.weight)\n",
        "        self.bn4 = nn.BatchNorm1d(2 * n_channel)\n",
        "        self.fc1 = nn.Linear(2 * n_channel, n_output)\n",
        "\n",
        "    def forward(self, x):\n",
        "        # TODO: apply your layers here\n",
        "        x = F.relu(self.bn1(self.conv1(x)))\n",
        "        x = F.relu(self.bn2(self.conv2(x)))\n",
        "        x = F.relu(self.bn3(self.conv3(x)))\n",
        "        x = F.relu(self.bn4(self.conv4(x)))\n",
        "        x = F.avg_pool1d(x, x.shape[-1])\n",
        "        x = x.permute(0, 2, 1)\n",
        "        x = self.fc1(x)\n",
        "        x = x.reshape(32, 5)\n",
        "        return F.softmax(x)\n",
        "\n",
        "# net on 1D conv layers with 128 input channels\n",
        "net_1D_conv = Net_Conv1D(n_input=128, n_output=5).to(device)"
      ],
      "execution_count": null,
      "outputs": []
    },
    {
      "cell_type": "code",
      "metadata": {
        "id": "MCZ7MkvsF9gs"
      },
      "source": [
        "import torch.optim as optim\n",
        "\n",
        "criterion = nn.CrossEntropyLoss()\n",
        "optimizer = optim.Adam(net_1D_conv.parameters(), lr=0.01)\n",
        "# scheduler = optim.lr_scheduler.StepLR(optimizer, step_size=20, gamma=0.1)"
      ],
      "execution_count": null,
      "outputs": []
    },
    {
      "cell_type": "code",
      "metadata": {
        "colab": {
          "base_uri": "https://localhost:8080/",
          "height": 1000,
          "referenced_widgets": [
            "a1ee52b11ea94aee991a15afba908231",
            "f46d48961a9d4c62b598f9d7ce7fa064",
            "12b3bd3ca01e4706b572e10800888247",
            "c7587af96b5d4dbab8f11b9ca1c39511",
            "4f9021b2600646c4af9651abf7c100be",
            "ab4b611801a140259a5132207a8fffd3",
            "03f49df15c4541b2af1d7fa006e9a93a",
            "8eff2693027641c4875701a38d648850",
            "84f6360721d74d868a57f1a623e3e058",
            "34b1cdcf58f84d798ba8173c1b0a71e0",
            "20a9ea5506ef4cb9bf29e5fdef5fd464"
          ]
        },
        "id": "xR1uxQ-GGGLr",
        "outputId": "57002880-434e-4793-a531-3a0f64706c07"
      },
      "source": [
        "from tqdm.notebook import tqdm\n",
        "\n",
        "losses_train = []\n",
        "\n",
        "for epoch in tqdm(range(50)):  # loop over the dataset multiple times\n",
        "    epoch_loss = 0.0\n",
        "    running_loss = 0.0\n",
        "    for i, (inputs, labels) in enumerate(trainloader, 0):\n",
        "        # get the inputs; data is a list of [inputs, labels]\n",
        "        inputs = inputs.to(device)\n",
        "        labels = labels.to(device)\n",
        "        # print(labels)\n",
        "        # zero the parameter gradients\n",
        "        optimizer.zero_grad()\n",
        "\n",
        "        # forward + backward + optimize\n",
        "        outputs = net_1D_conv(inputs)\n",
        "        # print(outputs)\n",
        "        loss = criterion(outputs, labels)\n",
        "        loss.backward()\n",
        "        optimizer.step()\n",
        "\n",
        "        # print statistics\n",
        "\n",
        "        running_loss += loss.item()\n",
        "        epoch_loss += loss.item()\n",
        "        if i % 200 == 199:    # print every 200 mini-batches\n",
        "            print('[%d, %5d] loss: %.3f' %\n",
        "                  (epoch + 1, i + 1, running_loss / 200))\n",
        "            running_loss = 0.0\n",
        "    losses_train.append(epoch_loss)\n",
        "print('Finished Training')"
      ],
      "execution_count": null,
      "outputs": [
        {
          "data": {
            "application/vnd.jupyter.widget-view+json": {
              "model_id": "a1ee52b11ea94aee991a15afba908231",
              "version_major": 2,
              "version_minor": 0
            },
            "text/plain": [
              "  0%|          | 0/50 [00:00<?, ?it/s]"
            ]
          },
          "metadata": {},
          "output_type": "display_data"
        },
        {
          "name": "stderr",
          "output_type": "stream",
          "text": [
            "/usr/local/lib/python3.7/dist-packages/ipykernel_launcher.py:33: UserWarning: Implicit dimension choice for softmax has been deprecated. Change the call to include dim=X as an argument.\n"
          ]
        },
        {
          "name": "stdout",
          "output_type": "stream",
          "text": [
            "[1,   200] loss: 1.587\n",
            "[2,   200] loss: 1.518\n",
            "[3,   200] loss: 1.496\n",
            "[4,   200] loss: 1.468\n",
            "[5,   200] loss: 1.453\n",
            "[6,   200] loss: 1.434\n",
            "[7,   200] loss: 1.418\n",
            "[8,   200] loss: 1.401\n",
            "[9,   200] loss: 1.383\n",
            "[10,   200] loss: 1.380\n",
            "[11,   200] loss: 1.363\n",
            "[12,   200] loss: 1.351\n",
            "[13,   200] loss: 1.331\n",
            "[14,   200] loss: 1.326\n",
            "[15,   200] loss: 1.323\n",
            "[16,   200] loss: 1.315\n",
            "[17,   200] loss: 1.304\n",
            "[18,   200] loss: 1.294\n",
            "[19,   200] loss: 1.298\n",
            "[20,   200] loss: 1.290\n",
            "[21,   200] loss: 1.282\n",
            "[22,   200] loss: 1.281\n",
            "[23,   200] loss: 1.270\n",
            "[24,   200] loss: 1.255\n",
            "[25,   200] loss: 1.265\n",
            "[26,   200] loss: 1.251\n",
            "[27,   200] loss: 1.243\n",
            "[28,   200] loss: 1.241\n",
            "[29,   200] loss: 1.243\n",
            "[30,   200] loss: 1.238\n",
            "[31,   200] loss: 1.229\n",
            "[32,   200] loss: 1.223\n",
            "[33,   200] loss: 1.231\n",
            "[34,   200] loss: 1.227\n",
            "[35,   200] loss: 1.221\n",
            "[36,   200] loss: 1.225\n",
            "[37,   200] loss: 1.226\n",
            "[38,   200] loss: 1.220\n",
            "[39,   200] loss: 1.210\n",
            "[40,   200] loss: 1.206\n",
            "[41,   200] loss: 1.199\n",
            "[42,   200] loss: 1.207\n",
            "[43,   200] loss: 1.193\n",
            "[44,   200] loss: 1.204\n",
            "[45,   200] loss: 1.191\n",
            "[46,   200] loss: 1.202\n",
            "[47,   200] loss: 1.183\n",
            "[48,   200] loss: 1.189\n",
            "[49,   200] loss: 1.188\n"
          ]
        },
        {
          "name": "stderr",
          "output_type": "stream",
          "text": [
            "Exception ignored in: <function _MultiProcessingDataLoaderIter.__del__ at 0x7f13607d99e0>\n",
            "Traceback (most recent call last):\n",
            "Exception ignored in: <function _MultiProcessingDataLoaderIter.__del__ at 0x7f13607d99e0>\n",
            "  File \"/usr/local/lib/python3.7/dist-packages/torch/utils/data/dataloader.py\", line 1328, in __del__\n",
            "Traceback (most recent call last):\n",
            "    self._shutdown_workers()\n",
            "  File \"/usr/local/lib/python3.7/dist-packages/torch/utils/data/dataloader.py\", line 1320, in _shutdown_workers\n",
            "    if w.is_alive():\n",
            "  File \"/usr/local/lib/python3.7/dist-packages/torch/utils/data/dataloader.py\", line 1328, in __del__\n",
            "  File \"/usr/lib/python3.7/multiprocessing/process.py\", line 151, in is_alive\n",
            "    self._shutdown_workers()\n",
            "  File \"/usr/local/lib/python3.7/dist-packages/torch/utils/data/dataloader.py\", line 1320, in _shutdown_workers\n",
            "    assert self._parent_pid == os.getpid(), 'can only test a child process'\n",
            "    if w.is_alive():\n",
            "AssertionError: can only test a child process\n",
            "  File \"/usr/lib/python3.7/multiprocessing/process.py\", line 151, in is_alive\n",
            "    assert self._parent_pid == os.getpid(), 'can only test a child process'\n",
            "AssertionError: can only test a child process\n"
          ]
        },
        {
          "name": "stdout",
          "output_type": "stream",
          "text": [
            "[50,   200] loss: 1.191\n",
            "Finished Training\n"
          ]
        }
      ]
    },
    {
      "cell_type": "markdown",
      "metadata": {
        "id": "BPPyO3DxvYQf"
      },
      "source": [
        "### Лосс падает нереально"
      ]
    },
    {
      "cell_type": "code",
      "metadata": {
        "colab": {
          "base_uri": "https://localhost:8080/",
          "height": 497
        },
        "id": "97ug6w63vE_n",
        "outputId": "9365c8db-7868-4935-fcbd-cb598bd6817b"
      },
      "source": [
        "import matplotlib.pyplot as plt\n",
        "plt.figure(figsize=(12, 8))\n",
        "plt.xlabel('Number of epoch')\n",
        "plt.ylabel('Loss')\n",
        "plt.plot(range(1, 51), np.array(losses_train) / (X_train.shape[0] // 16), color='green')\n",
        "plt.grid()"
      ],
      "execution_count": null,
      "outputs": [
        {
          "data": {
            "image/png": "[encoded data removed]",
            "text/plain": [
              "<Figure size 864x576 with 1 Axes>"
            ]
          },
          "metadata": {},
          "output_type": "display_data"
        }
      ]
    },
    {
      "cell_type": "code",
      "metadata": {
        "colab": {
          "base_uri": "https://localhost:8080/"
        },
        "id": "LF2ux-UCmD0V",
        "outputId": "dfb9f092-0680-40aa-f318-4d8c8df19ca8"
      },
      "source": [
        "correct_test = 0\n",
        "total_test = 0\n",
        "\n",
        "with torch.no_grad():\n",
        "\n",
        "    for inputs, labels in testloader:\n",
        "        \n",
        "        inputs = inputs.to(device)\n",
        "        labels = labels.to(device)\n",
        "        \n",
        "        outputs = net_1D_conv(inputs)\n",
        "        _, predicted = torch.max(outputs.data, 1)\n",
        "\n",
        "      \n",
        "        total_test += labels.size(0)\n",
        "        correct_test += (predicted == labels).sum().item()\n",
        "    # print(f'Correct = {correct}, total = {total}, percent = {correct / total}')\n",
        "print(f'Accuracy of the network on the {X_test.shape[0]} test inputs = {round(100 * correct_test / total_test, 2)}%')"
      ],
      "execution_count": null,
      "outputs": [
        {
          "name": "stderr",
          "output_type": "stream",
          "text": [
            "/usr/local/lib/python3.7/dist-packages/ipykernel_launcher.py:33: UserWarning: Implicit dimension choice for softmax has been deprecated. Change the call to include dim=X as an argument.\n"
          ]
        },
        {
          "name": "stdout",
          "output_type": "stream",
          "text": [
            "Accuracy of the network on the 2959 test inputs = 54.65%\n"
          ]
        }
      ]
    },
    {
      "cell_type": "markdown",
      "metadata": {
        "id": "sUQ3aqH4FvXo"
      },
      "source": [
        "### Если вдруг пропадут output-ы:\n",
        "Accuracy of the network net_2D_conv on the 2959 test inputs = 54.65%"
      ]
    },
    {
      "cell_type": "markdown",
      "metadata": {
        "id": "vCUnOhYbuzaZ"
      },
      "source": [
        "### Считаю, что норм качество (не 20%)"
      ]
    },
    {
      "cell_type": "markdown",
      "metadata": {
        "id": "UK8VVWc-mcoU"
      },
      "source": [
        "## Попробуем 2D свертки, посмотрим что из этого выйдет"
      ]
    },
    {
      "cell_type": "code",
      "metadata": {
        "id": "xzRJg-I3xN6U"
      },
      "source": [
        "X_tr = X_train[:, None, :, :]\n",
        "X_te = X_test[:, None, :, :]"
      ],
      "execution_count": null,
      "outputs": []
    },
    {
      "cell_type": "code",
      "metadata": {
        "id": "zlOuWvR7w9n4"
      },
      "source": [
        "batch_size = 16\n",
        "\n",
        "tensor_x = torch.Tensor(X_tr)\n",
        "tensor_y = torch.LongTensor(y_train)\n",
        "\n",
        "train_dataset = TensorDataset(tensor_x, tensor_y)\n",
        "\n",
        "tensor_x = torch.Tensor(X_te) # transform to torch tensor\n",
        "tensor_y = torch.LongTensor(y_test)\n",
        "\n",
        "test_dataset = TensorDataset(tensor_x, tensor_y)\n",
        "\n",
        "\n",
        "trainloader = DataLoader(train_dataset, batch_size=batch_size,\n",
        "                         shuffle=True, num_workers=2, drop_last=True)\n",
        "testloader = DataLoader(test_dataset, batch_size=batch_size,\n",
        "                        shuffle=False, num_workers=2, drop_last=True)"
      ],
      "execution_count": null,
      "outputs": []
    },
    {
      "cell_type": "code",
      "metadata": {
        "id": "mkSsAMp6mbwu"
      },
      "source": [
        "import torch.nn as nn\n",
        "import torch.nn.functional as F\n",
        "\n",
        "class Net_Conv2D(nn.Module):\n",
        "    def __init__(self, n_input=1, n_output=5, stride=5, n_channel=32):\n",
        "        super().__init__()\n",
        "        # TODO: define your layers here\n",
        "        self.conv1 = nn.Conv2d(n_input, n_channel, kernel_size=5)\n",
        "        nn.init.xavier_normal_(self.conv1.weight) # проинициализируем веса (так лучше учится)\n",
        "        self.bn1 = nn.BatchNorm2d(n_channel)\n",
        "        self.pool1 = nn.MaxPool2d(2)\n",
        "        self.conv2 = nn.Conv2d(n_channel, n_channel, kernel_size=5)\n",
        "        nn.init.xavier_normal_(self.conv2.weight)\n",
        "        self.bn2 = nn.BatchNorm2d(n_channel)\n",
        "        self.pool2 = nn.MaxPool2d(2)\n",
        "        self.conv3 = nn.Conv2d(n_channel, 2 * n_channel, kernel_size=3)\n",
        "        nn.init.xavier_normal_(self.conv3.weight)\n",
        "        self.bn3 = nn.BatchNorm2d(2 * n_channel)\n",
        "        self.conv4 = nn.Conv2d(2 * n_channel, 2 * n_channel, kernel_size=3)\n",
        "        nn.init.xavier_normal_(self.conv4.weight)\n",
        "        self.bn4 = nn.BatchNorm2d(2 * n_channel)\n",
        "        self.pool4 = nn.MaxPool2d(2)\n",
        "        self.conv5 = nn.Conv2d(2 * n_channel, 2 * n_channel, kernel_size=3)\n",
        "        nn.init.xavier_normal_(self.conv5.weight)\n",
        "        self.bn5 = nn.BatchNorm2d(2 * n_channel)\n",
        "        self.pool5 = nn.MaxPool2d(4)\n",
        "        self.flatten = nn.Flatten()\n",
        "        self.fc1 = nn.Linear(384, 128)\n",
        "        nn.init.xavier_normal_(self.fc1.weight)\n",
        "        self.fc2 = nn.Linear(128, n_output)\n",
        "        nn.init.xavier_normal_(self.fc2.weight)\n",
        "\n",
        "    def forward(self, x):\n",
        "        # TODO: apply your layers here\n",
        "        x = F.relu(self.pool1(self.bn1(self.conv1(x))))\n",
        "        x = F.relu(self.pool2(self.bn2(self.conv2(x))))\n",
        "        x = F.relu(self.bn3(self.conv3(x)))\n",
        "        x = F.relu(self.pool4(self.bn4(self.conv4(x))))\n",
        "        x = F.relu(self.pool5(self.bn5(self.conv5(x))))\n",
        "        x = self.flatten(x)\n",
        "        # print(x.shape)\n",
        "        x = F.relu(self.fc1(x))\n",
        "        x = self.fc2(x)\n",
        "        return F.softmax(x)\n",
        "\n",
        "# net on 2D conv layers with 1 input channels\n",
        "net_2D_conv = Net_Conv2D(n_input=1, n_output=5).to(device)"
      ],
      "execution_count": null,
      "outputs": []
    },
    {
      "cell_type": "code",
      "metadata": {
        "id": "oeMqFHSkmb0O"
      },
      "source": [
        "import torch.optim as optim\n",
        "\n",
        "criterion_2D = nn.CrossEntropyLoss()\n",
        "optimizer_2D = optim.Adam(net_2D_conv.parameters(), lr=0.01)\n",
        "scheduler = optim.lr_scheduler.StepLR(optimizer_2D, step_size=10, gamma=0.4)"
      ],
      "execution_count": null,
      "outputs": []
    },
    {
      "cell_type": "code",
      "metadata": {
        "colab": {
          "base_uri": "https://localhost:8080/",
          "height": 1000,
          "referenced_widgets": [
            "a19f44b643f4454b98daca4e42b10b7c",
            "a93352ea51c94fc99d7c5d5fe023aee6",
            "c6c0731a16a24781afd7faf17a3bff6c",
            "6c55603e66da4785a30280960a72a20a",
            "4a313d8bc4e94b75952f528389045170",
            "4ff688d03c6048d7a19310fb40d21ca8",
            "0cad72e2ac37421baa14b1ef3f7b58d4",
            "6090a61df15e4ec0b1de4971cd807560",
            "078a2e7bcdd54661b16547c296804b63",
            "e7a135a45cd84ab3b1a19aaeca6a205b",
            "4470a2c5172049f08761dac43282b8c5"
          ]
        },
        "id": "241tqwSEmb40",
        "outputId": "1a67e9e2-9f89-4fe1-c4da-11c55526ab55"
      },
      "source": [
        "from tqdm.notebook import tqdm\n",
        "\n",
        "losses_train = []\n",
        "\n",
        "for epoch in tqdm(range(30)):  # loop over the dataset multiple times\n",
        "    epoch_loss = 0.0\n",
        "    running_loss = 0.0\n",
        "    for i, (inputs, labels) in enumerate(trainloader, 0):\n",
        "        # get the inputs; data is a list of [inputs, labels]\n",
        "        inputs = inputs.to(device)\n",
        "        labels = labels.to(device)\n",
        "        # print(inputs.shape)\n",
        "        # zero the parameter gradients\n",
        "        optimizer_2D.zero_grad()\n",
        "\n",
        "        # forward + backward + optimize\n",
        "        outputs = net_2D_conv(inputs)\n",
        "        # print(outputs)\n",
        "        loss = criterion_2D(outputs, labels)\n",
        "        loss.backward()\n",
        "        optimizer_2D.step()\n",
        "\n",
        "        # print statistics\n",
        "\n",
        "        running_loss += loss.item()\n",
        "        epoch_loss += loss.item()\n",
        "        if i % 200 == 199:    # print every 200 mini-batches\n",
        "            print('[%d, %5d] loss: %.3f' %\n",
        "                  (epoch + 1, i + 1, running_loss / 200))\n",
        "            running_loss = 0.0\n",
        "    losses_train.append(epoch_loss)\n",
        "    scheduler.step()\n",
        "print('Finished Training')"
      ],
      "execution_count": null,
      "outputs": [
        {
          "data": {
            "application/vnd.jupyter.widget-view+json": {
              "model_id": "a19f44b643f4454b98daca4e42b10b7c",
              "version_major": 2,
              "version_minor": 0
            },
            "text/plain": [
              "  0%|          | 0/30 [00:00<?, ?it/s]"
            ]
          },
          "metadata": {},
          "output_type": "display_data"
        },
        {
          "name": "stderr",
          "output_type": "stream",
          "text": [
            "/usr/local/lib/python3.7/dist-packages/ipykernel_launcher.py:44: UserWarning: Implicit dimension choice for softmax has been deprecated. Change the call to include dim=X as an argument.\n"
          ]
        },
        {
          "name": "stdout",
          "output_type": "stream",
          "text": [
            "[1,   200] loss: 1.635\n",
            "[1,   400] loss: 1.582\n",
            "[2,   200] loss: 1.577\n",
            "[2,   400] loss: 1.517\n",
            "[3,   200] loss: 1.461\n",
            "[3,   400] loss: 1.410\n",
            "[4,   200] loss: 1.366\n",
            "[4,   400] loss: 1.317\n",
            "[5,   200] loss: 1.247\n",
            "[5,   400] loss: 1.229\n",
            "[6,   200] loss: 1.217\n",
            "[6,   400] loss: 1.179\n",
            "[7,   200] loss: 1.219\n",
            "[7,   400] loss: 1.166\n",
            "[8,   200] loss: 1.128\n",
            "[8,   400] loss: 1.139\n",
            "[9,   200] loss: 1.130\n",
            "[9,   400] loss: 1.109\n",
            "[10,   200] loss: 1.111\n",
            "[10,   400] loss: 1.110\n",
            "[11,   200] loss: 1.071\n",
            "[11,   400] loss: 1.072\n",
            "[12,   200] loss: 1.061\n",
            "[12,   400] loss: 1.060\n",
            "[13,   200] loss: 1.047\n",
            "[13,   400] loss: 1.031\n",
            "[14,   200] loss: 1.031\n",
            "[14,   400] loss: 1.062\n",
            "[15,   200] loss: 1.032\n",
            "[15,   400] loss: 1.057\n",
            "[16,   200] loss: 1.040\n",
            "[16,   400] loss: 1.053\n",
            "[17,   200] loss: 1.036\n",
            "[17,   400] loss: 1.060\n",
            "[18,   200] loss: 1.037\n",
            "[18,   400] loss: 1.026\n",
            "[19,   200] loss: 1.034\n",
            "[19,   400] loss: 1.041\n",
            "[20,   200] loss: 1.022\n",
            "[20,   400] loss: 1.035\n",
            "[21,   200] loss: 1.022\n",
            "[21,   400] loss: 1.023\n",
            "[22,   200] loss: 1.011\n",
            "[22,   400] loss: 1.003\n",
            "[23,   200] loss: 1.004\n",
            "[23,   400] loss: 1.006\n",
            "[24,   200] loss: 1.013\n",
            "[24,   400] loss: 0.997\n",
            "[25,   200] loss: 1.001\n",
            "[25,   400] loss: 1.011\n",
            "[26,   200] loss: 1.006\n",
            "[26,   400] loss: 0.999\n",
            "[27,   200] loss: 1.000\n",
            "[27,   400] loss: 1.004\n",
            "[28,   200] loss: 0.993\n",
            "[28,   400] loss: 1.004\n",
            "[29,   200] loss: 0.992\n",
            "[29,   400] loss: 0.997\n",
            "[30,   200] loss: 0.994\n",
            "[30,   400] loss: 1.001\n",
            "Finished Training\n"
          ]
        }
      ]
    },
    {
      "cell_type": "markdown",
      "metadata": {
        "id": "dGYncaUy3JTi"
      },
      "source": [
        "### Лосс падает еще нереальнее"
      ]
    },
    {
      "cell_type": "code",
      "metadata": {
        "colab": {
          "base_uri": "https://localhost:8080/",
          "height": 513
        },
        "id": "vytIKpye2Svd",
        "outputId": "5aa8226d-f1f8-4d9c-a75c-7b09846cf226"
      },
      "source": [
        "plt.figure(figsize=(12, 8))\n",
        "plt.xlabel('Number of epoch')\n",
        "plt.ylabel('Loss')\n",
        "plt.title('Loss of net_2D_conv')\n",
        "plt.plot(range(1, 31), np.array(losses_train) / (X_train.shape[0] // batch_size), color='green')\n",
        "plt.grid()"
      ],
      "execution_count": null,
      "outputs": [
        {
          "data": {
            "image/png": "[encoded data removed]",
            "text/plain": [
              "<Figure size 864x576 with 1 Axes>"
            ]
          },
          "metadata": {},
          "output_type": "display_data"
        }
      ]
    },
    {
      "cell_type": "code",
      "metadata": {
        "colab": {
          "base_uri": "https://localhost:8080/"
        },
        "id": "W10HVF5A2hmc",
        "outputId": "142c0d09-2cb1-4351-95ca-9ce7f0f18526"
      },
      "source": [
        "correct_test = 0\n",
        "total_test = 0\n",
        "\n",
        "with torch.no_grad():\n",
        "\n",
        "    for inputs, labels in testloader:\n",
        "        \n",
        "        inputs = inputs.to(device)\n",
        "        labels = labels.to(device)\n",
        "        \n",
        "        outputs = net_2D_conv(inputs)\n",
        "        _, predicted = torch.max(outputs.data, 1)\n",
        "\n",
        "        # print(f'Predicted = {predicted}\\nLabels = {labels}\\n')\n",
        "        total_test += labels.size(0)\n",
        "        correct_test += (predicted == labels).sum().item()\n",
        "    # print(f'Correct = {correct}, total = {total}, percent = {correct / total}')\n",
        "print(f'Accuracy of the network net_2D_conv on the {X_test.shape[0]} test inputs = {round(100 * correct_test / total_test, 2)}%')"
      ],
      "execution_count": null,
      "outputs": [
        {
          "name": "stderr",
          "output_type": "stream",
          "text": [
            "/usr/local/lib/python3.7/dist-packages/ipykernel_launcher.py:44: UserWarning: Implicit dimension choice for softmax has been deprecated. Change the call to include dim=X as an argument.\n"
          ]
        },
        {
          "name": "stdout",
          "output_type": "stream",
          "text": [
            "Accuracy of the network net_2D_conv on the 2959 test inputs = 88.42%\n"
          ]
        }
      ]
    },
    {
      "cell_type": "markdown",
      "metadata": {
        "id": "mbMdgnkCFi3l"
      },
      "source": [
        "### Если вдруг пропадут output-ы:\n",
        "Accuracy of the network net_2D_conv on the 2959 test inputs = 88.42%"
      ]
    },
    {
      "cell_type": "markdown",
      "metadata": {
        "id": "nfmZhQjM3PSq"
      },
      "source": [
        "### Тут и говорить не о чем, далеко не 20%, качество - огонь! (менял параметры, лучше не получил)"
      ]
    },
    {
      "cell_type": "markdown",
      "metadata": {
        "id": "4vN9YvRgDMbE"
      },
      "source": [
        "## Попробуем VGG16"
      ]
    },
    {
      "cell_type": "code",
      "metadata": {
        "id": "CJI8WLCvGBdS"
      },
      "source": [
        "X_tr = X_train[:, None, :, :]\n",
        "X_te = X_test[:, None, :, :]"
      ],
      "execution_count": null,
      "outputs": []
    },
    {
      "cell_type": "code",
      "metadata": {
        "id": "gaBvSjO2DSWN"
      },
      "source": [
        "batch_size = 128\n",
        "\n",
        "tensor_x = torch.Tensor(X_tr)\n",
        "tensor_y = torch.LongTensor(y_train)\n",
        "\n",
        "train_dataset = TensorDataset(tensor_x, tensor_y)\n",
        "\n",
        "tensor_x = torch.Tensor(X_te) # transform to torch tensor\n",
        "tensor_y = torch.LongTensor(y_test)\n",
        "\n",
        "test_dataset = TensorDataset(tensor_x, tensor_y)\n",
        "\n",
        "\n",
        "trainloader = DataLoader(train_dataset, batch_size=batch_size,\n",
        "                         shuffle=True, num_workers=2, drop_last=True)\n",
        "testloader = DataLoader(test_dataset, batch_size=batch_size,\n",
        "                        shuffle=False, num_workers=2, drop_last=True)"
      ],
      "execution_count": null,
      "outputs": []
    },
    {
      "cell_type": "code",
      "metadata": {
        "id": "Q-7YiyAdDC5E"
      },
      "source": [
        "import torch.nn as nn\n",
        "import torch.nn.functional as F\n",
        "\n",
        "class VGG16(nn.Module):\n",
        "    def __init__(self):\n",
        "        super(VGG16, self).__init__()\n",
        "        self.conv1_1 = nn.Conv2d(in_channels=1, out_channels=64, kernel_size=3, padding=1)\n",
        "        nn.init.xavier_normal_(self.conv1_1.weight)\n",
        "        self.conv1_2 = nn.Conv2d(in_channels=64, out_channels=64, kernel_size=3, padding=1)\n",
        "        nn.init.xavier_normal_(self.conv1_2.weight)\n",
        "\n",
        "        self.conv2_1 = nn.Conv2d(in_channels=64, out_channels=128, kernel_size=3, padding=1)\n",
        "        nn.init.xavier_normal_(self.conv2_1.weight)\n",
        "        self.conv2_2 = nn.Conv2d(in_channels=128, out_channels=128, kernel_size=3, padding=1)\n",
        "        nn.init.xavier_normal_(self.conv2_2.weight)\n",
        "\n",
        "        self.conv3_1 = nn.Conv2d(in_channels=128, out_channels=256, kernel_size=3, padding=1)\n",
        "        nn.init.xavier_normal_(self.conv3_1.weight)\n",
        "        self.conv3_2 = nn.Conv2d(in_channels=256, out_channels=256, kernel_size=3, padding=1)\n",
        "        nn.init.xavier_normal_(self.conv3_2.weight)\n",
        "        self.conv3_3 = nn.Conv2d(in_channels=256, out_channels=256, kernel_size=3, padding=1)\n",
        "        nn.init.xavier_normal_(self.conv3_3.weight)\n",
        "\n",
        "        self.conv4_1 = nn.Conv2d(in_channels=256, out_channels=512, kernel_size=3, padding=1)\n",
        "        nn.init.xavier_normal_(self.conv4_1.weight)\n",
        "        self.conv4_2 = nn.Conv2d(in_channels=512, out_channels=512, kernel_size=3, padding=1)\n",
        "        nn.init.xavier_normal_(self.conv4_2.weight)\n",
        "        self.conv4_3 = nn.Conv2d(in_channels=512, out_channels=512, kernel_size=3, padding=1)\n",
        "        nn.init.xavier_normal_(self.conv4_3.weight)\n",
        "\n",
        "        self.conv5_1 = nn.Conv2d(in_channels=512, out_channels=512, kernel_size=3, padding=1)\n",
        "        nn.init.xavier_normal_(self.conv5_1.weight)\n",
        "        self.conv5_2 = nn.Conv2d(in_channels=512, out_channels=512, kernel_size=3, padding=1)\n",
        "        nn.init.xavier_normal_(self.conv5_2.weight)\n",
        "        self.conv5_3 = nn.Conv2d(in_channels=512, out_channels=512, kernel_size=3, padding=1)\n",
        "        nn.init.xavier_normal_(self.conv5_3.weight)\n",
        "\n",
        "        self.maxpool = nn.MaxPool2d(kernel_size=5, stride=2)\n",
        "\n",
        "        self.fc1 = nn.Linear(512, 256)\n",
        "        nn.init.xavier_normal_(self.fc1.weight)\n",
        "        self.fc2 = nn.Linear(256, 128)\n",
        "        nn.init.xavier_normal_(self.fc2.weight)\n",
        "        self.fc3 = nn.Linear(128, 5)\n",
        "        nn.init.xavier_normal_(self.fc3.weight)\n",
        "\n",
        "    def forward(self, x):\n",
        "        x = F.relu(self.conv1_1(x))\n",
        "        x = F.relu(self.conv1_2(x))\n",
        "        x = self.maxpool(x)\n",
        "        x = F.relu(self.conv2_1(x))\n",
        "        x = F.relu(self.conv2_2(x))\n",
        "        x = self.maxpool(x)\n",
        "        x = F.relu(self.conv3_1(x))\n",
        "        x = F.relu(self.conv3_2(x))\n",
        "        x = F.relu(self.conv3_3(x))\n",
        "        x = self.maxpool(x)\n",
        "        x = F.relu(self.conv4_1(x))\n",
        "        x = F.relu(self.conv4_2(x))\n",
        "        x = F.relu(self.conv4_3(x))\n",
        "        x = self.maxpool(x)\n",
        "        x = F.relu(self.conv5_1(x))\n",
        "        x = F.relu(self.conv5_2(x))\n",
        "        x = F.relu(self.conv5_3(x))\n",
        "        x = self.maxpool(x)\n",
        "        x = x.reshape(x.shape[0], -1)\n",
        "        x = F.relu(self.fc1(x))\n",
        "        x = F.dropout(x, 0.5)\n",
        "        x = F.relu(self.fc2(x))\n",
        "        x = F.dropout(x, 0.5)\n",
        "        x = self.fc3(x)\n",
        "        return x\n",
        "\n",
        "net_vgg = VGG16().to(device)"
      ],
      "execution_count": null,
      "outputs": []
    },
    {
      "cell_type": "code",
      "metadata": {
        "id": "YKBLShu_DZMO"
      },
      "source": [
        "import torch.optim as optim\n",
        "\n",
        "criterion_vgg = nn.CrossEntropyLoss()\n",
        "optimizer_vgg = optim.Adam(net_vgg.parameters(), lr=0.0001)\n",
        "scheduler_vgg = optim.lr_scheduler.StepLR(optimizer_vgg, step_size=1, gamma=0.9)"
      ],
      "execution_count": null,
      "outputs": []
    },
    {
      "cell_type": "code",
      "metadata": {
        "colab": {
          "base_uri": "https://localhost:8080/",
          "height": 1000,
          "referenced_widgets": [
            "d28e8506bc59439787c25b97321a0df0",
            "8b1886d6e6414261b0371af50d244439",
            "6a3b6b91968c450c81ace2a09f451ffe",
            "6b38964b8f944e7695ecdcee0c99d154",
            "a32360353170435ba7e6b2767d56030e",
            "79d48fca8d5342748d473916a37b2dbc",
            "cbef124fabce4e73a6c04b5a2db59e27",
            "557f128b4b224ce39250bca72132576a",
            "ea2364e82e0d4e4a8bb42a8fcc1c5e3b",
            "a09a3bac2f5d42f1bcce54750215b7f5",
            "9d450cb2265141929d7aafff252ceec9"
          ]
        },
        "id": "PdVu1RVWDvib",
        "outputId": "4389fbde-0e49-4653-ff35-c98185ff37e6"
      },
      "source": [
        "from tqdm.notebook import tqdm\n",
        "\n",
        "losses_train_vgg = []\n",
        "\n",
        "for epoch in tqdm(range(15)):  # loop over the dataset multiple times\n",
        "    epoch_loss = 0.0\n",
        "    running_loss = 0.0\n",
        "    for i, (inputs, labels) in enumerate(trainloader, 0):\n",
        "        # get the inputs; data is a list of [inputs, labels]\n",
        "        inputs = inputs.to(device)\n",
        "        labels = labels.to(device)\n",
        "        # print(inputs.shape)\n",
        "        # zero the parameter gradients\n",
        "        optimizer_vgg.zero_grad()\n",
        "\n",
        "        # forward + backward + optimize\n",
        "        outputs = net_vgg(inputs)\n",
        "        # print(outputs)\n",
        "        loss = criterion_vgg(outputs, labels)\n",
        "        loss.backward()\n",
        "        optimizer_vgg.step()\n",
        "\n",
        "        # print statistics\n",
        "\n",
        "        running_loss += loss.item()\n",
        "        epoch_loss += loss.item()\n",
        "        if i % 10 == 9:    # print every 10 mini-batches\n",
        "            print('[%d, %5d] loss: %.3f' %\n",
        "                  (epoch + 1, i + 1, running_loss / 10))\n",
        "            running_loss = 0.0\n",
        "    losses_train_vgg.append(epoch_loss)\n",
        "    scheduler_vgg.step()\n",
        "print('Finished Training')"
      ],
      "execution_count": null,
      "outputs": [
        {
          "data": {
            "application/vnd.jupyter.widget-view+json": {
              "model_id": "d28e8506bc59439787c25b97321a0df0",
              "version_major": 2,
              "version_minor": 0
            },
            "text/plain": [
              "  0%|          | 0/15 [00:00<?, ?it/s]"
            ]
          },
          "metadata": {},
          "output_type": "display_data"
        },
        {
          "name": "stdout",
          "output_type": "stream",
          "text": [
            "[1,    10] loss: 1.684\n",
            "[1,    20] loss: 1.612\n",
            "[1,    30] loss: 1.610\n",
            "[1,    40] loss: 1.610\n",
            "[1,    50] loss: 1.603\n",
            "[1,    60] loss: 1.608\n",
            "[2,    10] loss: 1.613\n",
            "[2,    20] loss: 1.609\n",
            "[2,    30] loss: 1.605\n",
            "[2,    40] loss: 1.608\n",
            "[2,    50] loss: 1.604\n",
            "[2,    60] loss: 1.607\n",
            "[3,    10] loss: 1.602\n",
            "[3,    20] loss: 1.601\n",
            "[3,    30] loss: 1.598\n",
            "[3,    40] loss: 1.587\n",
            "[3,    50] loss: 1.589\n",
            "[3,    60] loss: 1.587\n",
            "[4,    10] loss: 1.568\n",
            "[4,    20] loss: 1.597\n",
            "[4,    30] loss: 1.584\n",
            "[4,    40] loss: 1.550\n",
            "[4,    50] loss: 1.552\n",
            "[4,    60] loss: 1.533\n",
            "[5,    10] loss: 1.520\n",
            "[5,    20] loss: 1.476\n",
            "[5,    30] loss: 1.486\n",
            "[5,    40] loss: 1.447\n",
            "[5,    50] loss: 1.388\n",
            "[5,    60] loss: 1.356\n",
            "[6,    10] loss: 1.291\n",
            "[6,    20] loss: 1.237\n",
            "[6,    30] loss: 1.255\n",
            "[6,    40] loss: 1.230\n",
            "[6,    50] loss: 1.153\n",
            "[6,    60] loss: 1.119\n",
            "[7,    10] loss: 1.031\n",
            "[7,    20] loss: 0.937\n",
            "[7,    30] loss: 0.925\n",
            "[7,    40] loss: 0.915\n",
            "[7,    50] loss: 0.894\n",
            "[7,    60] loss: 0.951\n",
            "[8,    10] loss: 0.787\n",
            "[8,    20] loss: 0.770\n",
            "[8,    30] loss: 0.814\n",
            "[8,    40] loss: 0.795\n",
            "[8,    50] loss: 0.755\n",
            "[8,    60] loss: 0.691\n",
            "[9,    10] loss: 0.592\n",
            "[9,    20] loss: 0.589\n",
            "[9,    30] loss: 0.556\n",
            "[9,    40] loss: 0.598\n",
            "[9,    50] loss: 0.652\n",
            "[9,    60] loss: 0.642\n",
            "[10,    10] loss: 0.459\n",
            "[10,    20] loss: 0.461\n",
            "[10,    30] loss: 0.464\n",
            "[10,    40] loss: 0.605\n",
            "[10,    50] loss: 0.524\n",
            "[10,    60] loss: 0.463\n",
            "[11,    10] loss: 0.371\n",
            "[11,    20] loss: 0.429\n",
            "[11,    30] loss: 0.414\n",
            "[11,    40] loss: 0.403\n",
            "[11,    50] loss: 0.421\n",
            "[11,    60] loss: 0.378\n",
            "[12,    10] loss: 0.366\n",
            "[12,    20] loss: 0.354\n",
            "[12,    30] loss: 0.343\n",
            "[12,    40] loss: 0.355\n",
            "[12,    50] loss: 0.416\n",
            "[12,    60] loss: 0.383\n",
            "[13,    10] loss: 0.366\n",
            "[13,    20] loss: 0.318\n",
            "[13,    30] loss: 0.313\n",
            "[13,    40] loss: 0.306\n",
            "[13,    50] loss: 0.326\n",
            "[13,    60] loss: 0.300\n",
            "[14,    10] loss: 0.305\n",
            "[14,    20] loss: 0.268\n",
            "[14,    30] loss: 0.217\n",
            "[14,    40] loss: 0.227\n",
            "[14,    50] loss: 0.301\n",
            "[14,    60] loss: 0.252\n",
            "[15,    10] loss: 0.219\n",
            "[15,    20] loss: 0.235\n",
            "[15,    30] loss: 0.208\n",
            "[15,    40] loss: 0.239\n",
            "[15,    50] loss: 0.237\n",
            "[15,    60] loss: 0.237\n",
            "Finished Training\n"
          ]
        }
      ]
    },
    {
      "cell_type": "code",
      "metadata": {
        "colab": {
          "base_uri": "https://localhost:8080/",
          "height": 513
        },
        "id": "BXDAzRsuDvgb",
        "outputId": "e5e4d670-7fc9-4b2d-ff33-e1699f7db838"
      },
      "source": [
        "plt.figure(figsize=(12, 8))\n",
        "plt.xlabel('Number of epoch')\n",
        "plt.ylabel('Loss')\n",
        "plt.title('Loss of net_vgg')\n",
        "plt.plot(range(1, 16), np.array(losses_train_vgg) / (X_train.shape[0] // batch_size), color='green')\n",
        "plt.grid()"
      ],
      "execution_count": null,
      "outputs": [
        {
          "data": {
            "image/png": "[encoded data removed]",
            "text/plain": [
              "<Figure size 864x576 with 1 Axes>"
            ]
          },
          "metadata": {},
          "output_type": "display_data"
        }
      ]
    },
    {
      "cell_type": "code",
      "metadata": {
        "colab": {
          "base_uri": "https://localhost:8080/"
        },
        "id": "xLecb5muP8Ye",
        "outputId": "03feab89-72d9-4657-b990-1f727cd4ac2a"
      },
      "source": [
        "correct_test = 0\n",
        "total_test = 0\n",
        "\n",
        "with torch.no_grad():\n",
        "\n",
        "    for inputs, labels in testloader:\n",
        "        \n",
        "        inputs = inputs.to(device)\n",
        "        labels = labels.to(device)\n",
        "        \n",
        "        outputs = net_vgg(inputs)\n",
        "        _, predicted = torch.max(outputs.data, 1)\n",
        "\n",
        "      \n",
        "        total_test += labels.size(0)\n",
        "        correct_test += (predicted == labels).sum().item()\n",
        "    # print(f'Correct = {correct}, total = {total}, percent = {correct / total}')\n",
        "print(f'Accuracy of the VGG network on the {X_test.shape[0]} test inputs = {round(100 * correct_test / total_test, 2)}%')"
      ],
      "execution_count": null,
      "outputs": [
        {
          "name": "stdout",
          "output_type": "stream",
          "text": [
            "Accuracy of the VGG network on the 2959 test inputs = 87.94%\n"
          ]
        }
      ]
    },
    {
      "cell_type": "markdown",
      "metadata": {
        "id": "cg8coC7hcbsI"
      },
      "source": [
        "Accuracy of the VGG network on the 2959 test inputs = 87.94%\n",
        "\n"
      ]
    },
    {
      "cell_type": "markdown",
      "metadata": {
        "id": "8JfkQdE9cGvH"
      },
      "source": [
        "### Ну норм, почти как моя (чуть похуже), можно было еще поучить, но лимит на GPU на колабе не бесконечный\n",
        "### Ну и учится долговато, поэтому batch_size не получится особо уменьшить, короче, моя бесспорно лучше"
      ]
    },
    {
      "cell_type": "markdown",
      "metadata": {
        "id": "t0_xx9pKmm3X"
      },
      "source": [
        "## Попробуем ResNet"
      ]
    },
    {
      "cell_type": "code",
      "metadata": {
        "id": "ZlpSaqiRmmv4"
      },
      "source": [
        "X_tr = X_train[:, None, :, :]\n",
        "X_te = X_test[:, None, :, :]"
      ],
      "execution_count": null,
      "outputs": []
    },
    {
      "cell_type": "markdown",
      "metadata": {
        "id": "aOihCnLDqoRF"
      },
      "source": [
        "### Долго учится, но батч 128 не влезает в оперативу"
      ]
    },
    {
      "cell_type": "code",
      "metadata": {
        "id": "bEJs1fjRmmsg"
      },
      "source": [
        "batch_size = 64\n",
        "\n",
        "tensor_x = torch.Tensor(X_tr)\n",
        "tensor_y = torch.LongTensor(y_train)\n",
        "\n",
        "train_dataset = TensorDataset(tensor_x, tensor_y)\n",
        "\n",
        "tensor_x = torch.Tensor(X_te) # transform to torch tensor\n",
        "tensor_y = torch.LongTensor(y_test)\n",
        "\n",
        "test_dataset = TensorDataset(tensor_x, tensor_y)\n",
        "\n",
        "\n",
        "trainloader = DataLoader(train_dataset, batch_size=batch_size,\n",
        "                         shuffle=True, num_workers=2, drop_last=True)\n",
        "testloader = DataLoader(test_dataset, batch_size=batch_size,\n",
        "                        shuffle=False, num_workers=2, drop_last=True)"
      ],
      "execution_count": null,
      "outputs": []
    },
    {
      "cell_type": "code",
      "metadata": {
        "id": "G_007iy_mmpm"
      },
      "source": [
        "import torch.nn as nn\n",
        "import torch.nn.functional as F\n",
        "import torchvision.models as models\n",
        "\n",
        "model = models.resnet50(pretrained=False)\n",
        "model.conv1 = nn.Conv2d(in_channels=1, out_channels=64, kernel_size=3, padding=1, bias=False)\n",
        "model = model.to(device)"
      ],
      "execution_count": null,
      "outputs": []
    },
    {
      "cell_type": "code",
      "metadata": {
        "id": "9pnILjWfn7hJ"
      },
      "source": [
        "import torch.optim as optim\n",
        "\n",
        "criterion_resnet = nn.CrossEntropyLoss()\n",
        "optimizer_resnet = optim.Adam(model.parameters(), lr=0.0001)\n",
        "scheduler_resnet = optim.lr_scheduler.StepLR(optimizer_resnet, step_size=1, gamma=0.9)"
      ],
      "execution_count": null,
      "outputs": []
    },
    {
      "cell_type": "code",
      "metadata": {
        "colab": {
          "base_uri": "https://localhost:8080/",
          "height": 1000,
          "referenced_widgets": [
            "873b4d4a07234ff5ad29864bd925e0c3",
            "c1deb5815a0447248582e3484cb04635",
            "01d76f7002b24bb3acf8f0081e65cb48",
            "7b7da43ad0554ef5b15d676c21ad866e",
            "b8ad378df36e4125b05ded99fbe54f9d",
            "334c9aa8095e4edd9a1afb872ed526c8",
            "3eb2668641394af9bc9e0f7d2c04958b",
            "8d49371624784b4295f85051b509c9e2",
            "ae733cb1f8d84633a31b1c61af5f2bf8",
            "ddfde2e76bfb419fb01e53c7ecb5fc04",
            "3ea1b903cf3949df93be35d33b550046"
          ]
        },
        "id": "DTHwzk-Fn7j2",
        "outputId": "3a6df6b8-245f-426a-83da-b7c047e3e75a"
      },
      "source": [
        "from tqdm.notebook import tqdm\n",
        "\n",
        "losses_train_resnet = []\n",
        "\n",
        "for epoch in tqdm(range(5)):  # loop over the dataset multiple times\n",
        "    epoch_loss = 0.0\n",
        "    running_loss = 0.0\n",
        "    for i, (inputs, labels) in enumerate(trainloader, 0):\n",
        "        # get the inputs; data is a list of [inputs, labels]\n",
        "        inputs = inputs.to(device)\n",
        "        labels = labels.to(device)\n",
        "        # print(inputs.shape)\n",
        "        # zero the parameter gradients\n",
        "        optimizer_resnet.zero_grad()\n",
        "\n",
        "        # forward + backward + optimize\n",
        "        outputs = model(inputs)\n",
        "        # print(outputs)\n",
        "        loss = criterion_resnet(outputs, labels)\n",
        "        loss.backward()\n",
        "        optimizer_resnet.step()\n",
        "\n",
        "        # print statistics\n",
        "\n",
        "        running_loss += loss.item()\n",
        "        epoch_loss += loss.item()\n",
        "        if i % 10 == 9:    # print every 10 mini-batches\n",
        "            print('[%d, %5d] loss: %.3f' %\n",
        "                  (epoch + 1, i + 1, running_loss / 10))\n",
        "            running_loss = 0.0\n",
        "    losses_train_resnet.append(epoch_loss)\n",
        "    scheduler_resnet.step()\n",
        "print('Finished Training')"
      ],
      "execution_count": null,
      "outputs": [
        {
          "data": {
            "application/vnd.jupyter.widget-view+json": {
              "model_id": "873b4d4a07234ff5ad29864bd925e0c3",
              "version_major": 2,
              "version_minor": 0
            },
            "text/plain": [
              "  0%|          | 0/5 [00:00<?, ?it/s]"
            ]
          },
          "metadata": {},
          "output_type": "display_data"
        },
        {
          "name": "stdout",
          "output_type": "stream",
          "text": [
            "[1,    10] loss: 5.891\n",
            "[1,    20] loss: 3.562\n",
            "[1,    30] loss: 1.771\n",
            "[1,    40] loss: 1.603\n",
            "[1,    50] loss: 1.600\n",
            "[1,    60] loss: 1.583\n",
            "[1,    70] loss: 1.519\n",
            "[1,    80] loss: 1.505\n",
            "[1,    90] loss: 1.448\n",
            "[1,   100] loss: 1.423\n",
            "[1,   110] loss: 1.387\n",
            "[1,   120] loss: 1.298\n",
            "[1,   130] loss: 1.140\n",
            "[2,    10] loss: 0.985\n",
            "[2,    20] loss: 0.923\n",
            "[2,    30] loss: 0.849\n",
            "[2,    40] loss: 0.825\n",
            "[2,    50] loss: 0.752\n",
            "[2,    60] loss: 0.684\n",
            "[2,    70] loss: 0.718\n",
            "[2,    80] loss: 0.787\n",
            "[2,    90] loss: 0.732\n",
            "[2,   100] loss: 0.650\n",
            "[2,   110] loss: 0.630\n",
            "[2,   120] loss: 0.556\n",
            "[2,   130] loss: 0.527\n",
            "[3,    10] loss: 0.502\n",
            "[3,    20] loss: 0.449\n",
            "[3,    30] loss: 0.522\n",
            "[3,    40] loss: 0.490\n",
            "[3,    50] loss: 0.408\n",
            "[3,    60] loss: 0.489\n",
            "[3,    70] loss: 0.398\n",
            "[3,    80] loss: 0.427\n",
            "[3,    90] loss: 0.440\n",
            "[3,   100] loss: 0.407\n",
            "[3,   110] loss: 0.341\n",
            "[3,   120] loss: 0.382\n",
            "[3,   130] loss: 0.431\n",
            "[4,    10] loss: 0.259\n",
            "[4,    20] loss: 0.290\n",
            "[4,    30] loss: 0.247\n",
            "[4,    40] loss: 0.264\n",
            "[4,    50] loss: 0.269\n",
            "[4,    60] loss: 0.244\n",
            "[4,    70] loss: 0.245\n",
            "[4,    80] loss: 0.273\n",
            "[4,    90] loss: 0.271\n",
            "[4,   100] loss: 0.323\n",
            "[4,   110] loss: 0.308\n",
            "[4,   120] loss: 0.239\n",
            "[4,   130] loss: 0.298\n",
            "[5,    10] loss: 0.213\n",
            "[5,    20] loss: 0.190\n",
            "[5,    30] loss: 0.198\n",
            "[5,    40] loss: 0.190\n",
            "[5,    50] loss: 0.180\n",
            "[5,    60] loss: 0.218\n",
            "[5,    70] loss: 0.235\n",
            "[5,    80] loss: 0.223\n",
            "[5,    90] loss: 0.221\n",
            "[5,   100] loss: 0.184\n",
            "[5,   110] loss: 0.221\n",
            "[5,   120] loss: 0.220\n",
            "[5,   130] loss: 0.248\n",
            "Finished Training\n"
          ]
        }
      ]
    },
    {
      "cell_type": "code",
      "metadata": {
        "colab": {
          "base_uri": "https://localhost:8080/",
          "height": 513
        },
        "id": "iH9HydpCn7my",
        "outputId": "e1c3f5a0-bcc9-4bfc-cbb2-87fee267aa59"
      },
      "source": [
        "plt.figure(figsize=(12, 8))\n",
        "plt.xlabel('Number of epoch')\n",
        "plt.ylabel('Loss')\n",
        "plt.title('Loss of ResNet')\n",
        "plt.plot(range(1, 6), np.array(losses_train_resnet) / (X_train.shape[0] // batch_size), color='green')\n",
        "plt.grid()"
      ],
      "execution_count": null,
      "outputs": [
        {
          "data": {
            "image/png": "[encoded data removed]",
            "text/plain": [
              "<Figure size 864x576 with 1 Axes>"
            ]
          },
          "metadata": {},
          "output_type": "display_data"
        }
      ]
    },
    {
      "cell_type": "code",
      "metadata": {
        "colab": {
          "base_uri": "https://localhost:8080/"
        },
        "id": "CXj9cS_qp8Lk",
        "outputId": "600769ce-1ff3-4e56-d45e-67555ae22e08"
      },
      "source": [
        "correct_test = 0\n",
        "total_test = 0\n",
        "\n",
        "with torch.no_grad():\n",
        "\n",
        "    for inputs, labels in testloader:\n",
        "        \n",
        "        inputs = inputs.to(device)\n",
        "        labels = labels.to(device)\n",
        "        \n",
        "        outputs = model(inputs)\n",
        "        _, predicted = torch.max(outputs.data, 1)\n",
        "\n",
        "      \n",
        "        total_test += labels.size(0)\n",
        "        correct_test += (predicted == labels).sum().item()\n",
        "    # print(f'Correct = {correct}, total = {total}, percent = {correct / total}')\n",
        "print(f'Accuracy of the ResNet50 network on the {X_test.shape[0]} test inputs = {round(100 * correct_test / total_test, 2)}%')"
      ],
      "execution_count": null,
      "outputs": [
        {
          "name": "stdout",
          "output_type": "stream",
          "text": [
            "Accuracy of the ResNet50 network on the 2959 test inputs = 90.46%\n"
          ]
        }
      ]
    },
    {
      "cell_type": "markdown",
      "metadata": {
        "id": "B71ZxxjBw1fI"
      },
      "source": [
        "Accuracy of the ResNet50 network on the 2959 test inputs = 90.46%"
      ]
    },
    {
      "cell_type": "markdown",
      "metadata": {
        "id": "9RdiSXH_w4B3"
      },
      "source": [
        "### Топчик!"
      ]
    },
    {
      "cell_type": "markdown",
      "metadata": {
        "id": "ojEuXjx5DlDW"
      },
      "source": [
        "Train a model: finally, lets' build and train a classifier neural network. You can use any library you like. If in doubt, consult the model & training tips below."
      ]
    },
    {
      "cell_type": "markdown",
      "metadata": {
        "id": "hwgnOrZy1E8p"
      },
      "source": [
        "__Training tips:__ here's what you can try:\n",
        "* __Layers:__ 1d or 2d convolutions, perhaps with some batch normalization in between;\n",
        "* __Architecture:__ VGG-like, residual, highway, densely-connected, MatchboxNet, Dilated convs - you name it :)\n",
        "* __Batch size matters:__ smaller batches usually train slower but better. Try to find the one that suits you best.\n",
        "* __Data augmentation:__ add background noise, faster/slower, change pitch;\n",
        "* __Average checkpoints:__ you can make model more stable with [this simple technique (arxiv)](https://arxiv.org/abs/1803.05407)\n",
        "* __For full scale stage:__ make sure you're not losing too much data due to max_length in the pre-processing stage!\n",
        "\n",
        "These are just recommendations. As long as your model works, you're not required to follow them."
      ]
    },
    {
      "cell_type": "markdown",
      "metadata": {
        "id": "Fvf8UCsPDvj2"
      },
      "source": [
        "## Full scale commands recognition (3+ points)\n",
        "\n",
        "Your final task is to train a full-scale voice command spotter and apply it to a video:\n",
        "1. Build the dataset with all 30+ classes (directions, digits, names, etc.)\n",
        "  * __Optional:__ include a special \"noise\" class that contains random unrelated sounds\n",
        "  * You can download youtube videos with [`youtube-dl`](https://ytdl-org.github.io/youtube-dl/index.html) library.\n",
        "2. Train a model on this full dataset. Kudos for tuning its accuracy :)\n",
        "3. Apply it to a audio/video of your choice to spot the occurences of each keyword\n",
        " * Here's one [video about primes](https://www.youtube.com/watch?v=EK32jo7i5LQ) that you can try. It should be full of numbers :)\n",
        " * There are multiple ways you can analyze the performance of your network, e.g. plot probabilities predicted for every time-step. Chances are you'll discover something useful about how to improve your model :)\n",
        "\n",
        "\n",
        "Please briefly describe what you did in a short informal report."
      ]
    },
    {
      "cell_type": "markdown",
      "metadata": {
        "id": "GOmUhfziHZt-"
      },
      "source": [
        "### Соберем датасет со всеми классами"
      ]
    },
    {
      "cell_type": "code",
      "metadata": {
        "colab": {
          "base_uri": "https://localhost:8080/"
        },
        "id": "TYa-EW9bHnCA",
        "outputId": "093accba-4931-44af-c605-8dfb394c8dd4"
      },
      "source": [
        "tuple(sorted(samples_by_target.keys()))[1:]"
      ],
      "execution_count": null,
      "outputs": [
        {
          "data": {
            "text/plain": [
              "('bed',\n",
              " 'bird',\n",
              " 'cat',\n",
              " 'dog',\n",
              " 'down',\n",
              " 'eight',\n",
              " 'five',\n",
              " 'four',\n",
              " 'go',\n",
              " 'happy',\n",
              " 'house',\n",
              " 'left',\n",
              " 'marvin',\n",
              " 'nine',\n",
              " 'no',\n",
              " 'off',\n",
              " 'on',\n",
              " 'one',\n",
              " 'right',\n",
              " 'seven',\n",
              " 'sheila',\n",
              " 'six',\n",
              " 'stop',\n",
              " 'three',\n",
              " 'tree',\n",
              " 'two',\n",
              " 'up',\n",
              " 'wow',\n",
              " 'yes',\n",
              " 'zero')"
            ]
          },
          "execution_count": 13,
          "metadata": {},
          "output_type": "execute_result"
        }
      ]
    },
    {
      "cell_type": "markdown",
      "metadata": {
        "id": "_cKmHlLT0U7I"
      },
      "source": [
        "### Не хватает оперативы, пришлось батчами датасет собирать:(\n",
        "  (думаю, это заслуживает дополнительного балла)"
      ]
    },
    {
      "cell_type": "markdown",
      "metadata": {
        "id": "c5SSwTtwzEbj"
      },
      "source": [
        "### Преобразованные батчи:\n",
        "('left', 'right', 'up', 'down', 'stop') \\\n",
        "('bed', 'bird', 'cat', 'dog', 'eight', 'five', 'four') \\\n",
        "('go', 'happy', 'house', 'marvin', 'nine', 'no', 'off', 'on') \\\n",
        "('one', 'seven', 'sheila', 'six', 'three', 'tree', 'two', 'wow', 'yes', 'zero')"
      ]
    },
    {
      "cell_type": "code",
      "metadata": {
        "colab": {
          "base_uri": "https://localhost:8080/"
        },
        "id": "16Ux38uFD2g-",
        "outputId": "dfaacdc7-1c21-426e-a9d1-452f868e0869"
      },
      "source": [
        "from sklearn.model_selection import train_test_split\n",
        "from itertools import chain\n",
        "from tqdm import tqdm\n",
        "import joblib as jl\n",
        "\n",
        "classes = ('one', 'seven', 'sheila', 'six', 'three', 'tree', 'two', 'wow', 'yes', 'zero')\n",
        "\n",
        "def preprocess_sample(filepath, max_length=150):\n",
        "    amplitudes, sr = librosa.core.load(filepath)\n",
        "    spectrogram = librosa.feature.melspectrogram(amplitudes, sr=sr)[:, :max_length]\n",
        "    spectrogram = np.pad(spectrogram, [[0, 0], [0, max(0, max_length - spectrogram.shape[1])]], mode='constant')\n",
        "    target = classes.index(filepath.split(os.sep)[-2])\n",
        "    return np.float32(spectrogram), np.int64(target)\n",
        "\n",
        "all_files = chain(*(samples_by_target[cls] for cls in classes))\n",
        "spectrograms_and_targets = jl.Parallel(n_jobs=-1)(tqdm(list(map(jl.delayed(preprocess_sample), all_files))))\n",
        "X, y = map(np.stack, zip(*spectrograms_and_targets))\n",
        "X = X.transpose([0, 2, 1])  # to [batch, time, channels]\n",
        "\n",
        "X_train, X_test, y_train, y_test = train_test_split(X, y, random_state=42)"
      ],
      "execution_count": null,
      "outputs": [
        {
          "name": "stderr",
          "output_type": "stream",
          "text": [
            "100%|██████████| 21810/21810 [13:33<00:00, 26.82it/s]\n"
          ]
        }
      ]
    },
    {
      "cell_type": "code",
      "metadata": {
        "colab": {
          "base_uri": "https://localhost:8080/"
        },
        "id": "8UG1Bd7NVVUC",
        "outputId": "dc33358c-f0b3-4354-8564-d5a99d1cbd8e"
      },
      "source": [
        "%%time\n",
        "with open('/content/drive/MyDrive/speech_technology/X_train_one_seven_sheila_six_three_tree_two_wow_yes_zero.pickle', 'wb') as f:\n",
        "  pickle.dump(X_train, f)\n",
        "\n",
        "with open('/content/drive/MyDrive/speech_technology/X_test_one_seven_sheila_six_three_tree_two_wow_yes_zero.pickle', 'wb') as f:\n",
        "  pickle.dump(X_test, f)\n",
        "\n",
        "with open('/content/drive/MyDrive/speech_technology/y_train_one_seven_sheila_six_three_tree_two_wow_yes_zero.pickle', 'wb') as f:\n",
        "  pickle.dump(y_train, f)\n",
        "\n",
        "with open('/content/drive/MyDrive/speech_technology/y_test_one_seven_sheila_six_three_tree_two_wow_yes_zero.pickle', 'wb') as f:\n",
        "  pickle.dump(y_test, f)"
      ],
      "execution_count": null,
      "outputs": [
        {
          "name": "stdout",
          "output_type": "stream",
          "text": [
            "CPU times: user 2.82 s, sys: 1.89 s, total: 4.71 s\n",
            "Wall time: 12.4 s\n"
          ]
        }
      ]
    },
    {
      "cell_type": "code",
      "metadata": {
        "colab": {
          "base_uri": "https://localhost:8080/"
        },
        "id": "s3vLw9aQz0pn",
        "outputId": "27ed2489-b092-43d4-c21a-0e5a3ef813dd"
      },
      "source": [
        "!ls /content/drive/MyDrive/speech_technology/"
      ],
      "execution_count": null,
      "outputs": [
        {
          "name": "stdout",
          "output_type": "stream",
          "text": [
            "X_test_bed_bird_cat_dog_eight_five_four.pickle\n",
            "X_test_go_happy_house_marvin_nine_no_off_on.pickle\n",
            "X_test_left_right_up_down_stop.pickle\n",
            "X_test_one_seven_sheila_six_three_tree_two_wow_yes_zero.pickle\n",
            "X_train_bed_bird_cat_dog_eight_five_four.pickle\n",
            "X_train_go_happy_house_marvin_nine_no_off_on.pickle\n",
            "X_train_left_right_up_down_stop.pickle\n",
            "X_train_one_seven_sheila_six_three_tree_two_wow_yes_zero.pickle\n",
            "y_test_bed_bird_cat_dog_eight_five_four.pickle\n",
            "y_test_go_happy_house_marvin_nine_no_off_on.pickle\n",
            "y_test_left_right_up_down_stop.pickle\n",
            "y_test_one_seven_sheila_six_three_tree_two_wow_yes_zero.pickle\n",
            "y_train_bed_bird_cat_dog_eight_five_four.pickle\n",
            "y_train_go_happy_house_marvin_nine_no_off_on.pickle\n",
            "y_train_left_right_up_down_stop.pickle\n",
            "y_train_one_seven_sheila_six_three_tree_two_wow_yes_zero.pickle\n"
          ]
        }
      ]
    },
    {
      "cell_type": "markdown",
      "metadata": {
        "id": "j64Njr27hxk6"
      },
      "source": [
        "### Собираем батчи в единые массивы"
      ]
    },
    {
      "cell_type": "code",
      "metadata": {
        "colab": {
          "base_uri": "https://localhost:8080/",
          "height": 49,
          "referenced_widgets": [
            "9ca77079e21346c6b67efd7c84244218",
            "648c62ce35b54057aff012d9fa8c8868",
            "1fe1217084e14cf7a056b722c50cec6a",
            "291237b93b884081b714ef85608074c1",
            "7a14d91659c44bfab2865743269b7707",
            "f35289fc008a47d2b368260637a090dc",
            "f28b750b796b4165ab9901f0fdec9aad",
            "21a69f5d253c465a9194dc1c95e6b0ea",
            "b69ba20d45f5430f9d2dc9a1405f4d7b",
            "cddcae93ef954edca7ffb0e828a7415d",
            "5c7fa3bc82fd4cce8dae0eb56752c39d"
          ]
        },
        "id": "G7uEgt2dac6G",
        "outputId": "68e6ef47-38fe-4112-eccd-58be661909c9"
      },
      "source": [
        "empty = True\n",
        "for file in tqdm(['X_train_bed_bird_cat_dog_eight_five_four.pickle', 'X_train_go_happy_house_marvin_nine_no_off_on.pickle', \n",
        "             'X_train_left_right_up_down_stop.pickle', 'X_train_one_seven_sheila_six_three_tree_two_wow_yes_zero.pickle']):\n",
        "  with open(f'/content/drive/MyDrive/speech_technology/{file}', 'rb') as f:\n",
        "    if empty:\n",
        "      X_train = pickle.load(f)\n",
        "      empty = False\n",
        "    else:\n",
        "      X_train = np.concatenate((X_train, pickle.load(f)))"
      ],
      "execution_count": null,
      "outputs": [
        {
          "data": {
            "application/vnd.jupyter.widget-view+json": {
              "model_id": "9ca77079e21346c6b67efd7c84244218",
              "version_major": 2,
              "version_minor": 0
            },
            "text/plain": [
              "  0%|          | 0/4 [00:00<?, ?it/s]"
            ]
          },
          "metadata": {},
          "output_type": "display_data"
        }
      ]
    },
    {
      "cell_type": "code",
      "metadata": {
        "id": "etzP1NKdc8o9"
      },
      "source": [
        "empty = True\n",
        "for file in ['X_test_bed_bird_cat_dog_eight_five_four.pickle', 'X_test_go_happy_house_marvin_nine_no_off_on.pickle', \n",
        "             'X_test_left_right_up_down_stop.pickle', 'X_test_one_seven_sheila_six_three_tree_two_wow_yes_zero.pickle']:\n",
        "  with open(f'/content/drive/MyDrive/speech_technology/{file}', 'rb') as f:\n",
        "    if empty:\n",
        "      X_test = pickle.load(f)\n",
        "      empty = False\n",
        "    else:\n",
        "      X_test = np.concatenate((X_test, pickle.load(f)))"
      ],
      "execution_count": null,
      "outputs": []
    },
    {
      "cell_type": "code",
      "metadata": {
        "id": "ldAtGp4xdN_F"
      },
      "source": [
        "empty = True\n",
        "shift = 0\n",
        "for file in ['y_train_bed_bird_cat_dog_eight_five_four.pickle', 'y_train_go_happy_house_marvin_nine_no_off_on.pickle', \n",
        "             'y_train_left_right_up_down_stop.pickle', 'y_train_one_seven_sheila_six_three_tree_two_wow_yes_zero.pickle']:\n",
        "  with open(f'/content/drive/MyDrive/speech_technology/{file}', 'rb') as f:\n",
        "    if empty:\n",
        "      y_train = pickle.load(f)\n",
        "      empty = False\n",
        "    else:\n",
        "      y_train_new = pickle.load(f)\n",
        "      shift = y_train.max() + 1\n",
        "      y_train = np.concatenate((y_train, y_train_new + shift))"
      ],
      "execution_count": null,
      "outputs": []
    },
    {
      "cell_type": "code",
      "metadata": {
        "id": "ey_q28oedRFE"
      },
      "source": [
        "empty = True\n",
        "shift = 0\n",
        "for file in ['y_test_bed_bird_cat_dog_eight_five_four.pickle', 'y_test_go_happy_house_marvin_nine_no_off_on.pickle', \n",
        "             'y_test_left_right_up_down_stop.pickle', 'y_test_one_seven_sheila_six_three_tree_two_wow_yes_zero.pickle']:\n",
        "  with open(f'/content/drive/MyDrive/speech_technology/{file}', 'rb') as f:\n",
        "    if empty:\n",
        "      y_test = pickle.load(f)\n",
        "      empty = False\n",
        "    else:\n",
        "      y_test_new = pickle.load(f)\n",
        "      shift = y_test.max() + 1\n",
        "      y_test = np.concatenate((y_test, y_test_new + shift))"
      ],
      "execution_count": null,
      "outputs": []
    },
    {
      "cell_type": "markdown",
      "metadata": {
        "id": "V6X7gZPEh7zB"
      },
      "source": [
        "### Пишем все файлы на диск, чтобы миллион раз не ждать обработку"
      ]
    },
    {
      "cell_type": "code",
      "metadata": {
        "colab": {
          "base_uri": "https://localhost:8080/"
        },
        "id": "QTbhMopNdtLc",
        "outputId": "0274f5c3-35e6-480f-c46d-53734191de06"
      },
      "source": [
        "%%time\n",
        "with open('/content/drive/MyDrive/speech_technology/X_train.pickle', 'wb') as f:\n",
        "  pickle.dump(X_train, f)\n",
        "\n",
        "with open('/content/drive/MyDrive/speech_technology/X_test.pickle', 'wb') as f:\n",
        "  pickle.dump(X_test, f)"
      ],
      "execution_count": null,
      "outputs": [
        {
          "name": "stdout",
          "output_type": "stream",
          "text": [
            "CPU times: user 1.64 s, sys: 6.06 s, total: 7.7 s\n",
            "Wall time: 1min 30s\n"
          ]
        }
      ]
    },
    {
      "cell_type": "code",
      "metadata": {
        "id": "YsTo-Mof6DAG"
      },
      "source": [
        "with open('/content/drive/MyDrive/speech_technology/y_train.pickle', 'wb') as f:\n",
        "  pickle.dump(y_train, f)\n",
        "\n",
        "with open('/content/drive/MyDrive/speech_technology/y_test.pickle', 'wb') as f:\n",
        "  pickle.dump(y_test, f)"
      ],
      "execution_count": null,
      "outputs": []
    },
    {
      "cell_type": "markdown",
      "metadata": {
        "id": "8ZU9Mz9VvmNe"
      },
      "source": [
        "### Читаем данные с диска"
      ]
    },
    {
      "cell_type": "code",
      "metadata": {
        "colab": {
          "base_uri": "https://localhost:8080/"
        },
        "id": "MIHK5d75e6Iv",
        "outputId": "a7c78c71-8273-498c-a949-f5a2fd595c1c"
      },
      "source": [
        "print('reading X_train...')\n",
        "with open('/content/drive/MyDrive/speech_technology/X_train.pickle', 'rb') as f:\n",
        "  X_train = pickle.load(f)\n",
        "print('reading X_test...')\n",
        "with open('/content/drive/MyDrive/speech_technology/X_test.pickle', 'rb') as f:\n",
        "  X_test = pickle.load(f)\n",
        "print('reading y_train...')\n",
        "with open('/content/drive/MyDrive/speech_technology/y_train.pickle', 'rb') as f:\n",
        "  y_train = pickle.load(f)\n",
        "print('reading y_test...')\n",
        "with open('/content/drive/MyDrive/speech_technology/y_test.pickle', 'rb') as f:\n",
        "  y_test = pickle.load(f)"
      ],
      "execution_count": 6,
      "outputs": [
        {
          "output_type": "stream",
          "name": "stdout",
          "text": [
            "reading X_train...\n",
            "reading X_test...\n",
            "reading y_train...\n",
            "reading y_test...\n"
          ]
        }
      ]
    },
    {
      "cell_type": "code",
      "metadata": {
        "colab": {
          "base_uri": "https://localhost:8080/"
        },
        "id": "t0XZiYpbduB9",
        "outputId": "3ead33fd-6d62-4424-9a6f-e1115039f8b2"
      },
      "source": [
        "X_train.shape, X_test.shape, y_train.shape, y_test.shape"
      ],
      "execution_count": 7,
      "outputs": [
        {
          "output_type": "execute_result",
          "data": {
            "text/plain": [
              "((48539, 150, 128), (16182, 150, 128), (48539,), (16182,))"
            ]
          },
          "metadata": {},
          "execution_count": 7
        }
      ]
    },
    {
      "cell_type": "code",
      "metadata": {
        "colab": {
          "base_uri": "https://localhost:8080/"
        },
        "id": "g11t5keF6c52",
        "outputId": "27a10c11-9ae1-45d8-c490-0f91c99420e8"
      },
      "source": [
        "y_train.max(), y_train.min(), y_test.max(), y_test.min()"
      ],
      "execution_count": 8,
      "outputs": [
        {
          "output_type": "execute_result",
          "data": {
            "text/plain": [
              "(29, 0, 29, 0)"
            ]
          },
          "metadata": {},
          "execution_count": 8
        }
      ]
    },
    {
      "cell_type": "markdown",
      "metadata": {
        "id": "G3chcv9OIUY9"
      },
      "source": [
        "### Буду учить ResNet - добавил чекпоинты для модели, потому что колаб очень неприятно слетает в самый подходящий момент"
      ]
    },
    {
      "cell_type": "code",
      "metadata": {
        "id": "hJ9qUtqGITK1"
      },
      "source": [
        "X_train = X_train[:, None, :, :]\n",
        "X_test = X_test[:, None, :, :]"
      ],
      "execution_count": 9,
      "outputs": []
    },
    {
      "cell_type": "code",
      "metadata": {
        "id": "dsYqDN8pH3u9"
      },
      "source": [
        "batch_size = 64\n",
        "\n",
        "tensor_x = torch.Tensor(X_train)\n",
        "tensor_y = torch.LongTensor(y_train)\n",
        "\n",
        "train_dataset = TensorDataset(tensor_x, tensor_y)\n",
        "\n",
        "tensor_x = torch.Tensor(X_test) # transform to torch tensor\n",
        "tensor_y = torch.LongTensor(y_test)\n",
        "\n",
        "test_dataset = TensorDataset(tensor_x, tensor_y)\n",
        "\n",
        "\n",
        "trainloader = DataLoader(train_dataset, batch_size=batch_size,\n",
        "                         shuffle=True, num_workers=2, drop_last=True)\n",
        "testloader = DataLoader(test_dataset, batch_size=batch_size,\n",
        "                        shuffle=False, num_workers=2, drop_last=True)"
      ],
      "execution_count": 10,
      "outputs": []
    },
    {
      "cell_type": "code",
      "metadata": {
        "id": "C1Zh5JK-hsBb"
      },
      "source": [
        "import torch.nn as nn\n",
        "import torch.nn.functional as F\n",
        "import torchvision.models as models"
      ],
      "execution_count": 11,
      "outputs": []
    },
    {
      "cell_type": "code",
      "metadata": {
        "id": "accItmsAIt8X"
      },
      "source": [
        "model = models.resnet50(pretrained=False)\n",
        "model.conv1 = nn.Conv2d(in_channels=1, out_channels=64, kernel_size=3, padding=1, bias=False)\n",
        "model = model.to(device)"
      ],
      "execution_count": null,
      "outputs": []
    },
    {
      "cell_type": "code",
      "metadata": {
        "id": "xagBTpD-It-7"
      },
      "source": [
        "import torch.optim as optim\n",
        "\n",
        "criterion_resnet = nn.CrossEntropyLoss()\n",
        "optimizer_resnet = optim.Adam(model.parameters(), lr=0.0001)\n",
        "scheduler_resnet = optim.lr_scheduler.StepLR(optimizer_resnet, step_size=1, gamma=0.9)"
      ],
      "execution_count": null,
      "outputs": []
    },
    {
      "cell_type": "code",
      "metadata": {
        "colab": {
          "base_uri": "https://localhost:8080/",
          "height": 762,
          "referenced_widgets": [
            "abb35c94c74940ec82e12ba8c3243b91",
            "ca3a930bb33543fd893baec27ec81a5f",
            "4aead5752d21457787e2f7b0b861a57e",
            "316c57f018b1410dae3cf71c789e971e",
            "64bdf8f26e8a49ec80091b0001ba7a99",
            "8670185e627f48d3b13e9b9a1ca03cda",
            "e92f972d1a9b4d26a9d2c2d18febab64",
            "a31fcbe28d754d759196ad3b7ed0632b",
            "b65568fdd9464cb68140941f57dd44ce",
            "37800daf604d4f64bbb4e479a7ac2188",
            "ce8169bedbd840129e31f02f685daef4"
          ]
        },
        "id": "QsIsn8_bIuB1",
        "outputId": "8cc6405f-de78-4735-95ef-4b34f0e68cf6"
      },
      "source": [
        "from tqdm.notebook import tqdm\n",
        "\n",
        "losses_train_resnet = []\n",
        "\n",
        "for epoch in tqdm(range(2)):  # loop over the dataset multiple times\n",
        "    epoch_loss = 0.0\n",
        "    running_loss = 0.0\n",
        "    for i, (inputs, labels) in enumerate(trainloader, 0):\n",
        "        # get the inputs; data is a list of [inputs, labels]\n",
        "        inputs = inputs.to(device)\n",
        "        labels = labels.to(device)\n",
        "        # print(inputs.shape)\n",
        "        # zero the parameter gradients\n",
        "        optimizer_resnet.zero_grad()\n",
        "\n",
        "        # forward + backward + optimize\n",
        "        outputs = model(inputs)\n",
        "        # print(outputs)\n",
        "        loss = criterion_resnet(outputs, labels)\n",
        "        loss.backward()\n",
        "        optimizer_resnet.step()\n",
        "\n",
        "        # print statistics\n",
        "\n",
        "        running_loss += loss.item()\n",
        "        epoch_loss += loss.item()\n",
        "        if i % 50 == 49:    # print every 50 mini-batches\n",
        "            print('[%d, %5d] loss: %.3f' %\n",
        "                  (epoch + 1, i + 1, running_loss / 10))\n",
        "            running_loss = 0.0\n",
        "            if i % 200 == 199: # model checkpoints\n",
        "              torch.save(model, f'/content/drive/MyDrive/speech_technology/ResNet50_full_dataset_epoch_{epoch}_stage_{i}')\n",
        "              print(f'Saved model ResNet50_full_dataset_epoch_{epoch}_stage_{i}')\n",
        "    losses_train_resnet.append(epoch_loss)\n",
        "    scheduler_resnet.step()\n",
        "print('Finished Training')"
      ],
      "execution_count": null,
      "outputs": [
        {
          "output_type": "display_data",
          "data": {
            "application/vnd.jupyter.widget-view+json": {
              "model_id": "abb35c94c74940ec82e12ba8c3243b91",
              "version_minor": 0,
              "version_major": 2
            },
            "text/plain": [
              "  0%|          | 0/2 [00:00<?, ?it/s]"
            ]
          },
          "metadata": {}
        },
        {
          "output_type": "stream",
          "name": "stderr",
          "text": [
            "/usr/local/lib/python3.7/dist-packages/torch/nn/functional.py:718: UserWarning: Named tensors and all their associated APIs are an experimental feature and subject to change. Please do not use them for anything important until they are released as stable. (Triggered internally at  /pytorch/c10/core/TensorImpl.h:1156.)\n",
            "  return torch.max_pool2d(input, kernel_size, stride, padding, dilation, ceil_mode)\n"
          ]
        },
        {
          "output_type": "stream",
          "name": "stdout",
          "text": [
            "[1,    50] loss: 21.973\n",
            "[1,   100] loss: 16.892\n",
            "[1,   150] loss: 16.088\n",
            "[1,   200] loss: 14.136\n",
            "Saved model ResNet50_full_dataset_epoch_0_stage_199\n",
            "[1,   250] loss: 12.016\n",
            "[1,   300] loss: 10.419\n",
            "[1,   350] loss: 8.925\n",
            "[1,   400] loss: 7.628\n",
            "Saved model ResNet50_full_dataset_epoch_0_stage_399\n",
            "[1,   450] loss: 6.816\n",
            "[1,   500] loss: 5.738\n",
            "[1,   550] loss: 5.185\n",
            "[1,   600] loss: 4.999\n",
            "Saved model ResNet50_full_dataset_epoch_0_stage_599\n",
            "[1,   650] loss: 4.319\n",
            "[1,   700] loss: 4.071\n",
            "[1,   750] loss: 3.788\n",
            "[2,    50] loss: 3.209\n",
            "[2,   100] loss: 3.318\n",
            "[2,   150] loss: 3.015\n",
            "[2,   200] loss: 2.857\n",
            "Saved model ResNet50_full_dataset_epoch_1_stage_199\n",
            "[2,   250] loss: 2.804\n",
            "[2,   300] loss: 2.596\n",
            "[2,   350] loss: 2.573\n",
            "[2,   400] loss: 2.628\n",
            "Saved model ResNet50_full_dataset_epoch_1_stage_399\n",
            "[2,   450] loss: 2.312\n",
            "[2,   500] loss: 2.238\n",
            "[2,   550] loss: 2.356\n",
            "[2,   600] loss: 2.177\n",
            "Saved model ResNet50_full_dataset_epoch_1_stage_599\n",
            "[2,   650] loss: 2.286\n",
            "[2,   700] loss: 2.230\n",
            "[2,   750] loss: 2.107\n",
            "Finished Training\n"
          ]
        }
      ]
    },
    {
      "cell_type": "code",
      "metadata": {
        "id": "5oI5O6gZIuE5",
        "colab": {
          "base_uri": "https://localhost:8080/",
          "height": 513
        },
        "outputId": "37ce9e17-1967-47d3-b51a-d968ce5dd8fd"
      },
      "source": [
        "plt.figure(figsize=(12, 8))\n",
        "plt.xlabel('Number of epoch')\n",
        "plt.ylabel('Loss')\n",
        "plt.title('Loss of ResNet50')\n",
        "plt.plot(range(1, 3), np.array(losses_train_resnet) / (X_train.shape[0] // batch_size), color='green')\n",
        "plt.grid()"
      ],
      "execution_count": null,
      "outputs": [
        {
          "output_type": "display_data",
          "data": {
            "image/png": "[encoded data removed]",
            "text/plain": [
              "<Figure size 864x576 with 1 Axes>"
            ]
          },
          "metadata": {
            "needs_background": "light"
          }
        }
      ]
    },
    {
      "cell_type": "code",
      "metadata": {
        "id": "0_rV92mKrAYB"
      },
      "source": [
        "torch.save(model, '/content/drive/MyDrive/speech_technology/ResNet50_full_dataset')"
      ],
      "execution_count": null,
      "outputs": []
    },
    {
      "cell_type": "code",
      "metadata": {
        "id": "p85wlDnAIuHl",
        "colab": {
          "base_uri": "https://localhost:8080/",
          "height": 67,
          "referenced_widgets": [
            "682fdfbe18074347b71b382b9f140141",
            "d2e02c80579d40f2969cbd62869ddf51",
            "be584960263a47f083fcc738ec1f7a75",
            "8f1e5a8dd8f646f2bf5ac2500decbffa",
            "c7f8746fcbbf4e1791637a815c90462d",
            "08a24c518c2a4e25aedf243d5cb01045",
            "a1358d61ef2246e3b7045effd03aef65",
            "6140aaa2c0da49508004a28c7df36872",
            "6494ca997dc4401394efa95594eea0bd",
            "4ea8351599cc4937ba828d6fcb4cf3e8",
            "c495d9fdc23340cf9540ad631f494879"
          ]
        },
        "outputId": "5d91767e-43f3-475a-df93-f1cf5cd83355"
      },
      "source": [
        "correct_test = 0\n",
        "total_test = 0\n",
        "\n",
        "with torch.no_grad():\n",
        "\n",
        "    for inputs, labels in tqdm(testloader):\n",
        "        \n",
        "        inputs = inputs.to(device)\n",
        "        labels = labels.to(device)\n",
        "        \n",
        "        outputs = model(inputs)\n",
        "        _, predicted = torch.max(outputs.data, 1)\n",
        "\n",
        "      \n",
        "        total_test += labels.size(0)\n",
        "        correct_test += (predicted == labels).sum().item()\n",
        "    # print(f'Correct = {correct}, total = {total}, percent = {correct / total}')\n",
        "print(f'Accuracy of the ResNet50 network on the {X_test.shape[0]} test inputs = {round(100 * correct_test / total_test, 2)}%')"
      ],
      "execution_count": null,
      "outputs": [
        {
          "output_type": "display_data",
          "data": {
            "application/vnd.jupyter.widget-view+json": {
              "model_id": "682fdfbe18074347b71b382b9f140141",
              "version_minor": 0,
              "version_major": 2
            },
            "text/plain": [
              "  0%|          | 0/252 [00:00<?, ?it/s]"
            ]
          },
          "metadata": {}
        },
        {
          "output_type": "stream",
          "name": "stdout",
          "text": [
            "Accuracy of the ResNet50 network on the 16182 test inputs = 75.08%\n"
          ]
        }
      ]
    },
    {
      "cell_type": "markdown",
      "metadata": {
        "id": "JhP40HErhxcp"
      },
      "source": [
        "### Хочется еще эпоху"
      ]
    },
    {
      "cell_type": "code",
      "metadata": {
        "id": "kHdZrJX6CJwp"
      },
      "source": [
        "import torch.nn as nn\n",
        "import torch.nn.functional as F\n",
        "import torchvision.models as models"
      ],
      "execution_count": null,
      "outputs": []
    },
    {
      "cell_type": "code",
      "metadata": {
        "id": "_RymSFy2rQ0G"
      },
      "source": [
        "model = torch.load('/content/drive/MyDrive/speech_technology/ResNet50_full_dataset')"
      ],
      "execution_count": 12,
      "outputs": []
    },
    {
      "cell_type": "code",
      "metadata": {
        "id": "BHJtGH7uiHxq"
      },
      "source": [
        "model = model.to(device)"
      ],
      "execution_count": 13,
      "outputs": []
    },
    {
      "cell_type": "code",
      "metadata": {
        "id": "LDdBzezAh956"
      },
      "source": [
        "import torch.optim as optim\n",
        "\n",
        "criterion_resnet = nn.CrossEntropyLoss()\n",
        "optimizer_resnet = optim.Adam(model.parameters(), lr=0.00001)\n",
        "scheduler_resnet = optim.lr_scheduler.StepLR(optimizer_resnet, step_size=1, gamma=0.9)"
      ],
      "execution_count": 16,
      "outputs": []
    },
    {
      "cell_type": "code",
      "metadata": {
        "colab": {
          "base_uri": "https://localhost:8080/",
          "height": 387,
          "referenced_widgets": [
            "05f05b8c622d42dfb8033454f91a212b",
            "8c920420edda4c16a213764c816ce227",
            "27684ab7cf62412bbfa56d43db9a2305",
            "fb5467979e214859a890d1e94def6b1e",
            "d2a914a513b2461c8028d3881c5b8349",
            "280ab8d6b4304ce69ff516fe43226f8a",
            "4d0ce419de7045c39fb09e1f8ebb1edb",
            "041b196f8e644c13afc826543766f981",
            "b85dbb9eb0964ddc81689b6c40986453",
            "2d4e2e7ade7b41faa6211859129816ed",
            "6c0b8150348e4d4f89ef0071b5658721"
          ]
        },
        "id": "JYFnO3fihxLH",
        "outputId": "c8166490-10cf-4a9f-eff4-c4e43597545b"
      },
      "source": [
        "from tqdm.notebook import tqdm\n",
        "\n",
        "losses_train_resnet = []\n",
        "\n",
        "for epoch in tqdm(range(3, 4)):\n",
        "    epoch_loss = 0.0\n",
        "    running_loss = 0.0\n",
        "    for i, (inputs, labels) in enumerate(trainloader, 0):\n",
        "        # get the inputs; data is a list of [inputs, labels]\n",
        "        inputs = inputs.to(device)\n",
        "        labels = labels.to(device)\n",
        "        # print(inputs.shape)\n",
        "        # zero the parameter gradients\n",
        "        optimizer_resnet.zero_grad()\n",
        "\n",
        "        # forward + backward + optimize\n",
        "        outputs = model(inputs)\n",
        "        # print(outputs)\n",
        "        loss = criterion_resnet(outputs, labels)\n",
        "        loss.backward()\n",
        "        optimizer_resnet.step()\n",
        "\n",
        "        # print statistics\n",
        "\n",
        "        running_loss += loss.item()\n",
        "        epoch_loss += loss.item()\n",
        "        if i % 50 == 49:    # print every 50 mini-batches\n",
        "            print('[%d, %5d] loss: %.3f' %\n",
        "                  (epoch, i + 1, running_loss / 10))\n",
        "            running_loss = 0.0\n",
        "            if i % 200 == 199: # model checkpoints\n",
        "              torch.save(model, f'/content/drive/MyDrive/speech_technology/ResNet50_full_dataset_epoch_{epoch}_stage_{i}')\n",
        "              print(f'Saved model ResNet50_full_dataset_epoch_{epoch}_stage_{i}')\n",
        "    losses_train_resnet.append(epoch_loss)\n",
        "    scheduler_resnet.step()\n",
        "print('Finished Training')"
      ],
      "execution_count": 17,
      "outputs": [
        {
          "output_type": "display_data",
          "data": {
            "application/vnd.jupyter.widget-view+json": {
              "model_id": "05f05b8c622d42dfb8033454f91a212b",
              "version_minor": 0,
              "version_major": 2
            },
            "text/plain": [
              "  0%|          | 0/1 [00:00<?, ?it/s]"
            ]
          },
          "metadata": {}
        },
        {
          "output_type": "stream",
          "name": "stdout",
          "text": [
            "[3,    50] loss: 1.256\n",
            "[3,   100] loss: 1.201\n",
            "[3,   150] loss: 1.092\n",
            "[3,   200] loss: 1.070\n",
            "Saved model ResNet50_full_dataset_epoch_3_stage_199\n",
            "[3,   250] loss: 1.033\n",
            "[3,   300] loss: 1.041\n",
            "[3,   350] loss: 1.066\n",
            "[3,   400] loss: 1.138\n",
            "Saved model ResNet50_full_dataset_epoch_3_stage_399\n",
            "[3,   450] loss: 1.101\n",
            "[3,   500] loss: 1.060\n",
            "[3,   550] loss: 1.052\n",
            "[3,   600] loss: 1.046\n",
            "Saved model ResNet50_full_dataset_epoch_3_stage_599\n",
            "[3,   650] loss: 1.000\n",
            "[3,   700] loss: 0.983\n",
            "[3,   750] loss: 0.979\n",
            "Finished Training\n"
          ]
        }
      ]
    },
    {
      "cell_type": "code",
      "metadata": {
        "id": "9GwUQ13mkVIx"
      },
      "source": [
        "torch.save(model, '/content/drive/MyDrive/speech_technology/ResNet50_full_dataset_latest')"
      ],
      "execution_count": 18,
      "outputs": []
    },
    {
      "cell_type": "code",
      "metadata": {
        "colab": {
          "base_uri": "https://localhost:8080/",
          "height": 67,
          "referenced_widgets": [
            "a2586a70a06644bebc4be710940a6694",
            "8d7143d6e13b47728179850ffa33d43b",
            "cd6aad4f7bcf4e068f8413da02d30848",
            "e2c29c0a000e4ff3bf94b6dfc581bee9",
            "78b13b3d9f54464fbf437bab94dd6086",
            "b69fc78345d947cd9334ff8828da196d",
            "91a2d3a78f7949d5911eafd52f266104",
            "ea1118456db049fb80ea44209affb18d",
            "7e4e450f949343fe8eb86bc1b5db1418",
            "3ed54cbf68ee4ad99e348d00bbd7e94f",
            "25bf6a89b93c422eb62c7430d95ae2af"
          ]
        },
        "id": "_iukfg1AhxIK",
        "outputId": "f57802f6-b338-471a-8524-11c72738f1d0"
      },
      "source": [
        "correct_test = 0\n",
        "total_test = 0\n",
        "\n",
        "with torch.no_grad():\n",
        "\n",
        "    for inputs, labels in tqdm(testloader):\n",
        "        \n",
        "        inputs = inputs.to(device)\n",
        "        labels = labels.to(device)\n",
        "        \n",
        "        outputs = model(inputs)\n",
        "        _, predicted = torch.max(outputs.data, 1)\n",
        "\n",
        "      \n",
        "        total_test += labels.size(0)\n",
        "        correct_test += (predicted == labels).sum().item()\n",
        "    # print(f'Correct = {correct}, total = {total}, percent = {correct / total}')\n",
        "print(f'Accuracy of the ResNet50 network on the {X_test.shape[0]} test inputs = {round(100 * correct_test / total_test, 2)}%')"
      ],
      "execution_count": 19,
      "outputs": [
        {
          "output_type": "display_data",
          "data": {
            "application/vnd.jupyter.widget-view+json": {
              "model_id": "a2586a70a06644bebc4be710940a6694",
              "version_minor": 0,
              "version_major": 2
            },
            "text/plain": [
              "  0%|          | 0/252 [00:00<?, ?it/s]"
            ]
          },
          "metadata": {}
        },
        {
          "output_type": "stream",
          "name": "stdout",
          "text": [
            "Accuracy of the ResNet50 network on the 16182 test inputs = 82.51%\n"
          ]
        }
      ]
    },
    {
      "cell_type": "markdown",
      "metadata": {
        "id": "cd0z0m18KMhg"
      },
      "source": [
        "Accuracy of the ResNet50 network on the 16182 test inputs = 82.51%"
      ]
    },
    {
      "cell_type": "markdown",
      "metadata": {
        "id": "m00qRKatwE9H"
      },
      "source": [
        "## Попробуем считать видосик с ютуба"
      ]
    },
    {
      "cell_type": "code",
      "metadata": {
        "colab": {
          "base_uri": "https://localhost:8080/"
        },
        "id": "G9S4I7DiyUMV",
        "outputId": "8ff678e7-5031-41d4-f162-4c6c675e3120"
      },
      "source": [
        "!sudo curl -L https://yt-dl.org/downloads/latest/youtube-dl -o /usr/local/bin/youtube-dl"
      ],
      "execution_count": 40,
      "outputs": [
        {
          "output_type": "stream",
          "name": "stdout",
          "text": [
            "  % Total    % Received % Xferd  Average Speed   Time    Time     Time  Current\n",
            "                                 Dload  Upload   Total   Spent    Left  Speed\n",
            "100     3  100     3    0     0      1      0  0:00:03  0:00:02  0:00:01     1\n",
            "100     3  100     3    0     0      1      0  0:00:03  0:00:02  0:00:01     1\n",
            "100   614  100   614    0     0    193      0  0:00:03  0:00:03 --:--:--   193\n",
            "100 1797k  100 1797k    0     0   506k      0  0:00:03  0:00:03 --:--:-- 19.7M\n"
          ]
        }
      ]
    },
    {
      "cell_type": "code",
      "metadata": {
        "id": "4o1cSA251Vjq"
      },
      "source": [
        "!sudo chmod a+rx /usr/local/bin/youtube-dl"
      ],
      "execution_count": 41,
      "outputs": []
    },
    {
      "cell_type": "code",
      "metadata": {
        "colab": {
          "base_uri": "https://localhost:8080/"
        },
        "id": "Z7u36GzyxE_2",
        "outputId": "69815cdb-48ae-48b3-89e1-1a03a06cbbcc"
      },
      "source": [
        "!youtube-dl --list-formats https://www.youtube.com/watch?v=EK32jo7i5LQ"
      ],
      "execution_count": 43,
      "outputs": [
        {
          "output_type": "stream",
          "name": "stdout",
          "text": [
            "[youtube] EK32jo7i5LQ: Downloading webpage\n",
            "[info] Available formats for EK32jo7i5LQ:\n",
            "format code  extension  resolution note\n",
            "249          webm       audio only tiny   55k , webm_dash container, opus @ 55k (48000Hz), 8.86MiB\n",
            "250          webm       audio only tiny   73k , webm_dash container, opus @ 73k (48000Hz), 11.81MiB\n",
            "140          m4a        audio only tiny  129k , m4a_dash container, mp4a.40.2@129k (44100Hz), 20.83MiB\n",
            "251          webm       audio only tiny  141k , webm_dash container, opus @141k (48000Hz), 22.81MiB\n",
            "160          mp4        256x144    144p   25k , mp4_dash container, avc1.4d400c@  25k, 30fps, video only, 4.07MiB\n",
            "394          mp4        256x144    144p   44k , mp4_dash container, av01.0.00M.08@  44k, 30fps, video only, 7.13MiB\n",
            "278          webm       256x144    144p   46k , webm_dash container, vp9@  46k, 30fps, video only, 7.48MiB\n",
            "133          mp4        426x240    240p   55k , mp4_dash container, avc1.4d4015@  55k, 30fps, video only, 8.89MiB\n",
            "242          webm       426x240    240p   69k , webm_dash container, vp9@  69k, 30fps, video only, 11.26MiB\n",
            "395          mp4        426x240    240p   74k , mp4_dash container, av01.0.00M.08@  74k, 30fps, video only, 12.03MiB\n",
            "134          mp4        640x360    360p  103k , mp4_dash container, avc1.4d401e@ 103k, 30fps, video only, 16.69MiB\n",
            "243          webm       640x360    360p  142k , webm_dash container, vp9@ 142k, 30fps, video only, 22.86MiB\n",
            "396          mp4        640x360    360p  142k , mp4_dash container, av01.0.01M.08@ 142k, 30fps, video only, 22.89MiB\n",
            "135          mp4        854x480    480p  164k , mp4_dash container, avc1.4d401f@ 164k, 30fps, video only, 26.43MiB\n",
            "244          webm       854x480    480p  237k , webm_dash container, vp9@ 237k, 30fps, video only, 38.25MiB\n",
            "397          mp4        854x480    480p  240k , mp4_dash container, av01.0.04M.08@ 240k, 30fps, video only, 38.76MiB\n",
            "136          mp4        1280x720   720p  420k , mp4_dash container, avc1.4d401f@ 420k, 30fps, video only, 67.65MiB\n",
            "247          webm       1280x720   720p  453k , webm_dash container, vp9@ 453k, 30fps, video only, 72.94MiB\n",
            "398          mp4        1280x720   720p60  605k , mp4_dash container, av01.0.08M.08@ 605k, 60fps, video only, 97.47MiB\n",
            "302          webm       1280x720   720p60  648k , webm_dash container, vp9@ 648k, 60fps, video only, 104.25MiB\n",
            "298          mp4        1280x720   720p60  657k , mp4_dash container, avc1.4d4020@ 657k, 60fps, video only, 105.83MiB\n",
            "399          mp4        1920x1080  1080p60  984k , mp4_dash container, av01.0.09M.08@ 984k, 60fps, video only, 158.41MiB\n",
            "299          mp4        1920x1080  1080p60 1116k , mp4_dash container, avc1.64002a@1116k, 60fps, video only, 179.69MiB\n",
            "303          webm       1920x1080  1080p60 1240k , webm_dash container, vp9@1240k, 60fps, video only, 199.59MiB\n",
            "400          mp4        2560x1440  1440p60 2462k , mp4_dash container, av01.0.12M.08@2462k, 60fps, video only, 396.13MiB\n",
            "308          webm       2560x1440  1440p60 3286k , webm_dash container, vp9@3286k, 60fps, video only, 528.73MiB\n",
            "18           mp4        640x360    360p  332k , avc1.42001E, 30fps, mp4a.40.2 (44100Hz), 53.50MiB\n",
            "22           mp4        1280x720   720p  549k , avc1.64001F, 30fps, mp4a.40.2 (44100Hz) (best)\n"
          ]
        }
      ]
    },
    {
      "cell_type": "code",
      "metadata": {
        "colab": {
          "base_uri": "https://localhost:8080/"
        },
        "id": "ALOhEuD-wDpr",
        "outputId": "9deaeedf-b5d2-41b5-87d4-31540af6d1fc"
      },
      "source": [
        "!youtube-dl -o '/content/drive/MyDrive/speech_technology/youtube_video_1.wav' -x --audio-format wav https://www.youtube.com/watch?v=EK32jo7i5LQ"
      ],
      "execution_count": 44,
      "outputs": [
        {
          "output_type": "stream",
          "name": "stdout",
          "text": [
            "[youtube] EK32jo7i5LQ: Downloading webpage\n",
            "[download] Destination: /content/drive/MyDrive/speech_technology/youtube_video_1.wav\n",
            "\u001b[K[download] 100% of 22.81MiB in 06:19\n",
            "[ffmpeg] Post-process file /content/drive/MyDrive/speech_technology/youtube_video_1.wav exists, skipping\n"
          ]
        }
      ]
    },
    {
      "cell_type": "markdown",
      "metadata": {
        "id": "WliIEnotWxWh"
      },
      "source": [
        "### Создадим словарик для соответствия индексов и таргетов (цифра <-> слово)"
      ]
    },
    {
      "cell_type": "code",
      "metadata": {
        "id": "kN1MJJLqwD77"
      },
      "source": [
        "target_words_ordered = 'bed_bird_cat_dog_eight_five_four'.split('_') + 'go_happy_house_marvin_nine_no_off_on'.split('_') + \\\n",
        "                        'left_right_up_down_stop'.split('_') + 'one_seven_sheila_six_three_tree_two_wow_yes_zero'.split('_')\n",
        "\n",
        "target_to_word = {\n",
        "    ind: word for ind, word in enumerate(target_words_ordered)\n",
        "}"
      ],
      "execution_count": 30,
      "outputs": []
    },
    {
      "cell_type": "code",
      "metadata": {
        "colab": {
          "base_uri": "https://localhost:8080/"
        },
        "id": "R52Ngs1wKZVr",
        "outputId": "8992a396-7952-4189-e0cb-75f4c803ef19"
      },
      "source": [
        "!sox --info /content/drive/MyDrive/speech_technology/prime_numbers_mono.wav"
      ],
      "execution_count": 109,
      "outputs": [
        {
          "output_type": "stream",
          "name": "stdout",
          "text": [
            "\n",
            "Input File     : '/content/drive/MyDrive/speech_technology/prime_numbers_mono.wav'\n",
            "Channels       : 1\n",
            "Sample Rate    : 16000\n",
            "Precision      : 16-bit\n",
            "Duration       : 00:22:29.52 = 21592247 samples ~ 101214 CDDA sectors\n",
            "File Size      : 43.2M\n",
            "Bit Rate       : 256k\n",
            "Sample Encoding: 16-bit Signed Integer PCM\n",
            "\n"
          ]
        }
      ]
    },
    {
      "cell_type": "code",
      "metadata": {
        "colab": {
          "base_uri": "https://localhost:8080/"
        },
        "id": "uNEPDrexwEEV",
        "outputId": "02cd9966-c606-4a08-d353-9ec7868834c9"
      },
      "source": [
        "%%time\n",
        "amplitudes, sr = librosa.core.load('/content/drive/MyDrive/speech_technology/prime_numbers_mono.wav')"
      ],
      "execution_count": 122,
      "outputs": [
        {
          "output_type": "stream",
          "name": "stdout",
          "text": [
            "CPU times: user 38.5 s, sys: 230 ms, total: 38.7 s\n",
            "Wall time: 39.5 s\n"
          ]
        }
      ]
    },
    {
      "cell_type": "code",
      "metadata": {
        "id": "ZZ6H7Q0QwEHQ"
      },
      "source": [
        "spectrogram = librosa.feature.melspectrogram(amplitudes, sr=sr)"
      ],
      "execution_count": 123,
      "outputs": []
    },
    {
      "cell_type": "code",
      "metadata": {
        "colab": {
          "base_uri": "https://localhost:8080/"
        },
        "id": "OuZU5h3tAqrz",
        "outputId": "f21ba33e-7678-447b-cc73-774cda43d551"
      },
      "source": [
        "spectrogram.shape"
      ],
      "execution_count": 125,
      "outputs": [
        {
          "output_type": "execute_result",
          "data": {
            "text/plain": [
              "(128, 58119)"
            ]
          },
          "metadata": {},
          "execution_count": 125
        }
      ]
    },
    {
      "cell_type": "markdown",
      "metadata": {
        "id": "5MLzpW8fV6ZS"
      },
      "source": [
        "### Нарезал спектрограмму окошком длины 150"
      ]
    },
    {
      "cell_type": "code",
      "metadata": {
        "colab": {
          "base_uri": "https://localhost:8080/",
          "height": 49,
          "referenced_widgets": [
            "1d1d8f9d05874562b0da0d9f42022f5e",
            "2ef90ce5007f45868c06df86abf7bef9",
            "c11a2d13af084317a714c254775b2a07",
            "e60ddc48f732420c9f5130df2bad349e",
            "7988d180e38a4c1f9ed3e700339a4029",
            "01e13fefb4344b958654d40324a160db",
            "a01606b4960840cdae66fdaa7d90f4b4",
            "f458289e94ea4315aff2c9e1f6a33d1d",
            "131fbe8d79544d508756fdda0ab55520",
            "94bd7c2cdd6745049bbc6656422df364",
            "c91aa585907545898c626e068d5380fb"
          ]
        },
        "id": "QjLSERokAS9T",
        "outputId": "ec6907bd-ad76-4c41-d938-7a298ca02547"
      },
      "source": [
        "samples = []\n",
        "for i in tqdm(range(0, spectrogram.shape[1]-150, 10)):\n",
        "  samples.append(spectrogram[:, i:i + 150])"
      ],
      "execution_count": 129,
      "outputs": [
        {
          "output_type": "display_data",
          "data": {
            "application/vnd.jupyter.widget-view+json": {
              "model_id": "1d1d8f9d05874562b0da0d9f42022f5e",
              "version_minor": 0,
              "version_major": 2
            },
            "text/plain": [
              "  0%|          | 0/5797 [00:00<?, ?it/s]"
            ]
          },
          "metadata": {}
        }
      ]
    },
    {
      "cell_type": "code",
      "metadata": {
        "id": "A6_o6czjBXMo"
      },
      "source": [
        "samples = np.float32(samples)"
      ],
      "execution_count": 130,
      "outputs": []
    },
    {
      "cell_type": "code",
      "metadata": {
        "colab": {
          "base_uri": "https://localhost:8080/"
        },
        "id": "gm9xhqfjBgOI",
        "outputId": "43992dd0-8a69-4a5e-deff-6e65a3dfa02f"
      },
      "source": [
        "samples.shape"
      ],
      "execution_count": 131,
      "outputs": [
        {
          "output_type": "execute_result",
          "data": {
            "text/plain": [
              "(5797, 128, 150)"
            ]
          },
          "metadata": {},
          "execution_count": 131
        }
      ]
    },
    {
      "cell_type": "code",
      "metadata": {
        "id": "8BN0nZcxwEOF"
      },
      "source": [
        "samples = samples.transpose([0, 2, 1])"
      ],
      "execution_count": 132,
      "outputs": []
    },
    {
      "cell_type": "code",
      "metadata": {
        "colab": {
          "base_uri": "https://localhost:8080/"
        },
        "id": "fyF04SS1ByMy",
        "outputId": "c7cc17af-9046-45d9-d926-ff31067916e1"
      },
      "source": [
        "samples = samples[:, None, :, :]\n",
        "samples.shape"
      ],
      "execution_count": 133,
      "outputs": [
        {
          "output_type": "execute_result",
          "data": {
            "text/plain": [
              "(5797, 1, 150, 128)"
            ]
          },
          "metadata": {},
          "execution_count": 133
        }
      ]
    },
    {
      "cell_type": "code",
      "metadata": {
        "id": "e6pHM8qmCLpR"
      },
      "source": [
        "import torch.nn as nn\n",
        "import torch.nn.functional as F\n",
        "import torchvision.models as models"
      ],
      "execution_count": 134,
      "outputs": []
    },
    {
      "cell_type": "code",
      "metadata": {
        "id": "dCcUe5boB6Tj"
      },
      "source": [
        "model = torch.load('/content/drive/MyDrive/speech_technology/ResNet50_full_dataset_latest').to(device)"
      ],
      "execution_count": 135,
      "outputs": []
    },
    {
      "cell_type": "code",
      "metadata": {
        "id": "-KVhlmzxCiYJ"
      },
      "source": [
        "batch_size = 64\n",
        "\n",
        "tensor_video = torch.Tensor(samples)\n",
        "\n",
        "video_dataset = TensorDataset(tensor_video)\n",
        "\n",
        "videoloader = DataLoader(video_dataset, batch_size=batch_size,\n",
        "                         shuffle=False, num_workers=2, drop_last=True)"
      ],
      "execution_count": 136,
      "outputs": []
    },
    {
      "cell_type": "code",
      "metadata": {
        "colab": {
          "base_uri": "https://localhost:8080/",
          "height": 1000,
          "referenced_widgets": [
            "ebe5ff03043b40049e918c1a25e140d1",
            "3a201a95aad64a898b45fcd8ce8ebe1f",
            "f5f930c8ffd14693af6914e3314da71f",
            "24b846ae797244bc9becfd44a216cc58",
            "d66e2540f0594470beadf03c9cb11b5b",
            "d808ed95076d49faaf508529334303d7",
            "3ccc98a3d0fc43e6978116961f24bdad",
            "5216c9a211e545af9ad63deebfc21fbd",
            "59e0a76fe8914cffbd0dc1a423c9092b",
            "37e1c8d6f36b49a5af6ff01fab880fb8",
            "cb3627dc92854c1ca0f0fea7d64dc5f2"
          ]
        },
        "id": "b2IURS0DCN9Z",
        "outputId": "8dbaf6e6-3949-451b-9c02-d70fb1de980d"
      },
      "source": [
        "global_time = 0\n",
        "with torch.no_grad():\n",
        "    model.eval()\n",
        "    for inputs in tqdm(videoloader):\n",
        "      \n",
        "        inputs = inputs[0].to(device)\n",
        "        \n",
        "        outputs = F.softmax(model(inputs)[:, :30])\n",
        "        _, predicted = torch.max(outputs.data, 1)\n",
        "        \n",
        "        for i, pred in enumerate(predicted):\n",
        "          if outputs[i, pred].item() > 0.9:\n",
        "            print(f'Video TimeCode: {global_time} milliseconds \\t Predicted word is \"{target_to_word[pred.item()]}\"')\n",
        "          global_time += 5"
      ],
      "execution_count": 137,
      "outputs": [
        {
          "output_type": "display_data",
          "data": {
            "application/vnd.jupyter.widget-view+json": {
              "model_id": "ebe5ff03043b40049e918c1a25e140d1",
              "version_minor": 0,
              "version_major": 2
            },
            "text/plain": [
              "  0%|          | 0/90 [00:00<?, ?it/s]"
            ]
          },
          "metadata": {}
        },
        {
          "output_type": "stream",
          "name": "stderr",
          "text": [
            "/usr/local/lib/python3.7/dist-packages/ipykernel_launcher.py:8: UserWarning: Implicit dimension choice for softmax has been deprecated. Change the call to include dim=X as an argument.\n",
            "  \n"
          ]
        },
        {
          "output_type": "stream",
          "name": "stdout",
          "text": [
            "Video TimeCode: 480 milliseconds \t Predicted word is \"three\"\n",
            "Video TimeCode: 485 milliseconds \t Predicted word is \"three\"\n",
            "Video TimeCode: 490 milliseconds \t Predicted word is \"three\"\n",
            "Video TimeCode: 500 milliseconds \t Predicted word is \"three\"\n",
            "Video TimeCode: 585 milliseconds \t Predicted word is \"zero\"\n",
            "Video TimeCode: 605 milliseconds \t Predicted word is \"zero\"\n",
            "Video TimeCode: 615 milliseconds \t Predicted word is \"zero\"\n",
            "Video TimeCode: 705 milliseconds \t Predicted word is \"zero\"\n",
            "Video TimeCode: 1070 milliseconds \t Predicted word is \"three\"\n",
            "Video TimeCode: 1075 milliseconds \t Predicted word is \"three\"\n",
            "Video TimeCode: 1080 milliseconds \t Predicted word is \"three\"\n",
            "Video TimeCode: 1085 milliseconds \t Predicted word is \"three\"\n",
            "Video TimeCode: 1090 milliseconds \t Predicted word is \"three\"\n",
            "Video TimeCode: 1100 milliseconds \t Predicted word is \"three\"\n",
            "Video TimeCode: 1105 milliseconds \t Predicted word is \"three\"\n",
            "Video TimeCode: 1110 milliseconds \t Predicted word is \"three\"\n",
            "Video TimeCode: 1115 milliseconds \t Predicted word is \"three\"\n",
            "Video TimeCode: 1120 milliseconds \t Predicted word is \"three\"\n",
            "Video TimeCode: 1145 milliseconds \t Predicted word is \"three\"\n",
            "Video TimeCode: 1150 milliseconds \t Predicted word is \"three\"\n",
            "Video TimeCode: 1570 milliseconds \t Predicted word is \"three\"\n",
            "Video TimeCode: 1590 milliseconds \t Predicted word is \"three\"\n",
            "Video TimeCode: 1650 milliseconds \t Predicted word is \"three\"\n",
            "Video TimeCode: 1655 milliseconds \t Predicted word is \"three\"\n",
            "Video TimeCode: 1725 milliseconds \t Predicted word is \"zero\"\n",
            "Video TimeCode: 1765 milliseconds \t Predicted word is \"three\"\n",
            "Video TimeCode: 1770 milliseconds \t Predicted word is \"three\"\n",
            "Video TimeCode: 1775 milliseconds \t Predicted word is \"three\"\n",
            "Video TimeCode: 2395 milliseconds \t Predicted word is \"three\"\n",
            "Video TimeCode: 2400 milliseconds \t Predicted word is \"three\"\n",
            "Video TimeCode: 2410 milliseconds \t Predicted word is \"three\"\n",
            "Video TimeCode: 2450 milliseconds \t Predicted word is \"three\"\n",
            "Video TimeCode: 2585 milliseconds \t Predicted word is \"three\"\n",
            "Video TimeCode: 2655 milliseconds \t Predicted word is \"zero\"\n",
            "Video TimeCode: 3105 milliseconds \t Predicted word is \"three\"\n",
            "Video TimeCode: 3235 milliseconds \t Predicted word is \"three\"\n",
            "Video TimeCode: 3245 milliseconds \t Predicted word is \"three\"\n",
            "Video TimeCode: 3250 milliseconds \t Predicted word is \"three\"\n",
            "Video TimeCode: 3455 milliseconds \t Predicted word is \"three\"\n",
            "Video TimeCode: 3465 milliseconds \t Predicted word is \"three\"\n",
            "Video TimeCode: 3485 milliseconds \t Predicted word is \"three\"\n",
            "Video TimeCode: 3860 milliseconds \t Predicted word is \"three\"\n",
            "Video TimeCode: 4530 milliseconds \t Predicted word is \"three\"\n",
            "Video TimeCode: 4535 milliseconds \t Predicted word is \"three\"\n",
            "Video TimeCode: 4550 milliseconds \t Predicted word is \"three\"\n",
            "Video TimeCode: 4555 milliseconds \t Predicted word is \"three\"\n",
            "Video TimeCode: 4795 milliseconds \t Predicted word is \"three\"\n",
            "Video TimeCode: 4800 milliseconds \t Predicted word is \"three\"\n",
            "Video TimeCode: 4810 milliseconds \t Predicted word is \"three\"\n",
            "Video TimeCode: 4820 milliseconds \t Predicted word is \"three\"\n",
            "Video TimeCode: 4825 milliseconds \t Predicted word is \"three\"\n",
            "Video TimeCode: 4830 milliseconds \t Predicted word is \"three\"\n",
            "Video TimeCode: 4840 milliseconds \t Predicted word is \"three\"\n",
            "Video TimeCode: 4865 milliseconds \t Predicted word is \"three\"\n",
            "Video TimeCode: 5310 milliseconds \t Predicted word is \"three\"\n",
            "Video TimeCode: 5320 milliseconds \t Predicted word is \"three\"\n",
            "Video TimeCode: 5325 milliseconds \t Predicted word is \"three\"\n",
            "Video TimeCode: 5330 milliseconds \t Predicted word is \"three\"\n",
            "Video TimeCode: 5335 milliseconds \t Predicted word is \"three\"\n",
            "Video TimeCode: 5340 milliseconds \t Predicted word is \"three\"\n",
            "Video TimeCode: 5345 milliseconds \t Predicted word is \"three\"\n",
            "Video TimeCode: 5350 milliseconds \t Predicted word is \"three\"\n",
            "Video TimeCode: 5355 milliseconds \t Predicted word is \"three\"\n",
            "Video TimeCode: 5360 milliseconds \t Predicted word is \"three\"\n",
            "Video TimeCode: 5365 milliseconds \t Predicted word is \"three\"\n",
            "Video TimeCode: 5370 milliseconds \t Predicted word is \"three\"\n",
            "Video TimeCode: 5375 milliseconds \t Predicted word is \"three\"\n",
            "Video TimeCode: 5385 milliseconds \t Predicted word is \"three\"\n",
            "Video TimeCode: 5405 milliseconds \t Predicted word is \"three\"\n",
            "Video TimeCode: 5750 milliseconds \t Predicted word is \"three\"\n",
            "Video TimeCode: 5765 milliseconds \t Predicted word is \"three\"\n",
            "Video TimeCode: 6075 milliseconds \t Predicted word is \"three\"\n",
            "Video TimeCode: 6080 milliseconds \t Predicted word is \"three\"\n",
            "Video TimeCode: 6085 milliseconds \t Predicted word is \"three\"\n",
            "Video TimeCode: 6095 milliseconds \t Predicted word is \"three\"\n",
            "Video TimeCode: 6100 milliseconds \t Predicted word is \"three\"\n",
            "Video TimeCode: 6245 milliseconds \t Predicted word is \"four\"\n",
            "Video TimeCode: 6505 milliseconds \t Predicted word is \"zero\"\n",
            "Video TimeCode: 6675 milliseconds \t Predicted word is \"marvin\"\n",
            "Video TimeCode: 6725 milliseconds \t Predicted word is \"three\"\n",
            "Video TimeCode: 6730 milliseconds \t Predicted word is \"zero\"\n",
            "Video TimeCode: 6765 milliseconds \t Predicted word is \"three\"\n",
            "Video TimeCode: 6800 milliseconds \t Predicted word is \"three\"\n",
            "Video TimeCode: 7185 milliseconds \t Predicted word is \"three\"\n",
            "Video TimeCode: 7265 milliseconds \t Predicted word is \"three\"\n",
            "Video TimeCode: 7290 milliseconds \t Predicted word is \"three\"\n",
            "Video TimeCode: 7310 milliseconds \t Predicted word is \"marvin\"\n",
            "Video TimeCode: 7655 milliseconds \t Predicted word is \"zero\"\n",
            "Video TimeCode: 7670 milliseconds \t Predicted word is \"zero\"\n",
            "Video TimeCode: 7675 milliseconds \t Predicted word is \"zero\"\n",
            "Video TimeCode: 7680 milliseconds \t Predicted word is \"zero\"\n",
            "Video TimeCode: 8280 milliseconds \t Predicted word is \"three\"\n",
            "Video TimeCode: 8480 milliseconds \t Predicted word is \"three\"\n",
            "Video TimeCode: 8770 milliseconds \t Predicted word is \"zero\"\n",
            "Video TimeCode: 8795 milliseconds \t Predicted word is \"three\"\n",
            "Video TimeCode: 8870 milliseconds \t Predicted word is \"three\"\n",
            "Video TimeCode: 8995 milliseconds \t Predicted word is \"zero\"\n",
            "Video TimeCode: 9000 milliseconds \t Predicted word is \"zero\"\n",
            "Video TimeCode: 9170 milliseconds \t Predicted word is \"three\"\n",
            "Video TimeCode: 9320 milliseconds \t Predicted word is \"zero\"\n",
            "Video TimeCode: 9520 milliseconds \t Predicted word is \"zero\"\n",
            "Video TimeCode: 9595 milliseconds \t Predicted word is \"three\"\n",
            "Video TimeCode: 9705 milliseconds \t Predicted word is \"three\"\n",
            "Video TimeCode: 9710 milliseconds \t Predicted word is \"three\"\n",
            "Video TimeCode: 9715 milliseconds \t Predicted word is \"three\"\n",
            "Video TimeCode: 9720 milliseconds \t Predicted word is \"three\"\n",
            "Video TimeCode: 9725 milliseconds \t Predicted word is \"three\"\n",
            "Video TimeCode: 9740 milliseconds \t Predicted word is \"three\"\n",
            "Video TimeCode: 9860 milliseconds \t Predicted word is \"three\"\n",
            "Video TimeCode: 10115 milliseconds \t Predicted word is \"three\"\n",
            "Video TimeCode: 10705 milliseconds \t Predicted word is \"three\"\n",
            "Video TimeCode: 10715 milliseconds \t Predicted word is \"three\"\n",
            "Video TimeCode: 10745 milliseconds \t Predicted word is \"three\"\n",
            "Video TimeCode: 10755 milliseconds \t Predicted word is \"three\"\n",
            "Video TimeCode: 10760 milliseconds \t Predicted word is \"three\"\n",
            "Video TimeCode: 10815 milliseconds \t Predicted word is \"zero\"\n",
            "Video TimeCode: 10825 milliseconds \t Predicted word is \"zero\"\n",
            "Video TimeCode: 10845 milliseconds \t Predicted word is \"zero\"\n",
            "Video TimeCode: 11200 milliseconds \t Predicted word is \"three\"\n",
            "Video TimeCode: 11210 milliseconds \t Predicted word is \"three\"\n",
            "Video TimeCode: 11220 milliseconds \t Predicted word is \"three\"\n",
            "Video TimeCode: 11230 milliseconds \t Predicted word is \"three\"\n",
            "Video TimeCode: 11250 milliseconds \t Predicted word is \"three\"\n",
            "Video TimeCode: 11855 milliseconds \t Predicted word is \"zero\"\n",
            "Video TimeCode: 12135 milliseconds \t Predicted word is \"three\"\n",
            "Video TimeCode: 12155 milliseconds \t Predicted word is \"three\"\n",
            "Video TimeCode: 12205 milliseconds \t Predicted word is \"three\"\n",
            "Video TimeCode: 12230 milliseconds \t Predicted word is \"three\"\n",
            "Video TimeCode: 12240 milliseconds \t Predicted word is \"three\"\n",
            "Video TimeCode: 12250 milliseconds \t Predicted word is \"three\"\n",
            "Video TimeCode: 12315 milliseconds \t Predicted word is \"three\"\n",
            "Video TimeCode: 12340 milliseconds \t Predicted word is \"zero\"\n",
            "Video TimeCode: 12355 milliseconds \t Predicted word is \"zero\"\n",
            "Video TimeCode: 12360 milliseconds \t Predicted word is \"zero\"\n",
            "Video TimeCode: 12365 milliseconds \t Predicted word is \"zero\"\n",
            "Video TimeCode: 12370 milliseconds \t Predicted word is \"zero\"\n",
            "Video TimeCode: 12375 milliseconds \t Predicted word is \"zero\"\n",
            "Video TimeCode: 12380 milliseconds \t Predicted word is \"zero\"\n",
            "Video TimeCode: 12385 milliseconds \t Predicted word is \"zero\"\n",
            "Video TimeCode: 12390 milliseconds \t Predicted word is \"zero\"\n",
            "Video TimeCode: 12395 milliseconds \t Predicted word is \"zero\"\n",
            "Video TimeCode: 12425 milliseconds \t Predicted word is \"zero\"\n",
            "Video TimeCode: 12885 milliseconds \t Predicted word is \"three\"\n",
            "Video TimeCode: 13050 milliseconds \t Predicted word is \"zero\"\n",
            "Video TimeCode: 13125 milliseconds \t Predicted word is \"three\"\n",
            "Video TimeCode: 13130 milliseconds \t Predicted word is \"three\"\n",
            "Video TimeCode: 13135 milliseconds \t Predicted word is \"three\"\n",
            "Video TimeCode: 13150 milliseconds \t Predicted word is \"three\"\n",
            "Video TimeCode: 13165 milliseconds \t Predicted word is \"three\"\n",
            "Video TimeCode: 13170 milliseconds \t Predicted word is \"three\"\n",
            "Video TimeCode: 13420 milliseconds \t Predicted word is \"zero\"\n",
            "Video TimeCode: 13590 milliseconds \t Predicted word is \"three\"\n",
            "Video TimeCode: 13595 milliseconds \t Predicted word is \"three\"\n",
            "Video TimeCode: 13620 milliseconds \t Predicted word is \"three\"\n",
            "Video TimeCode: 13630 milliseconds \t Predicted word is \"three\"\n",
            "Video TimeCode: 13635 milliseconds \t Predicted word is \"three\"\n",
            "Video TimeCode: 13975 milliseconds \t Predicted word is \"zero\"\n",
            "Video TimeCode: 14025 milliseconds \t Predicted word is \"zero\"\n",
            "Video TimeCode: 14295 milliseconds \t Predicted word is \"three\"\n",
            "Video TimeCode: 14310 milliseconds \t Predicted word is \"three\"\n",
            "Video TimeCode: 14370 milliseconds \t Predicted word is \"three\"\n",
            "Video TimeCode: 14480 milliseconds \t Predicted word is \"three\"\n",
            "Video TimeCode: 14835 milliseconds \t Predicted word is \"three\"\n",
            "Video TimeCode: 14980 milliseconds \t Predicted word is \"zero\"\n",
            "Video TimeCode: 15000 milliseconds \t Predicted word is \"zero\"\n",
            "Video TimeCode: 15270 milliseconds \t Predicted word is \"three\"\n",
            "Video TimeCode: 15515 milliseconds \t Predicted word is \"three\"\n",
            "Video TimeCode: 15530 milliseconds \t Predicted word is \"three\"\n",
            "Video TimeCode: 15570 milliseconds \t Predicted word is \"three\"\n",
            "Video TimeCode: 15725 milliseconds \t Predicted word is \"three\"\n",
            "Video TimeCode: 15730 milliseconds \t Predicted word is \"three\"\n",
            "Video TimeCode: 16340 milliseconds \t Predicted word is \"three\"\n",
            "Video TimeCode: 16345 milliseconds \t Predicted word is \"three\"\n",
            "Video TimeCode: 16350 milliseconds \t Predicted word is \"three\"\n",
            "Video TimeCode: 16365 milliseconds \t Predicted word is \"three\"\n",
            "Video TimeCode: 16410 milliseconds \t Predicted word is \"three\"\n",
            "Video TimeCode: 16415 milliseconds \t Predicted word is \"three\"\n",
            "Video TimeCode: 16420 milliseconds \t Predicted word is \"three\"\n",
            "Video TimeCode: 16425 milliseconds \t Predicted word is \"three\"\n",
            "Video TimeCode: 16430 milliseconds \t Predicted word is \"three\"\n",
            "Video TimeCode: 16440 milliseconds \t Predicted word is \"three\"\n",
            "Video TimeCode: 16450 milliseconds \t Predicted word is \"three\"\n",
            "Video TimeCode: 16600 milliseconds \t Predicted word is \"zero\"\n",
            "Video TimeCode: 16610 milliseconds \t Predicted word is \"zero\"\n",
            "Video TimeCode: 16625 milliseconds \t Predicted word is \"three\"\n",
            "Video TimeCode: 16630 milliseconds \t Predicted word is \"three\"\n",
            "Video TimeCode: 16680 milliseconds \t Predicted word is \"three\"\n",
            "Video TimeCode: 17100 milliseconds \t Predicted word is \"three\"\n",
            "Video TimeCode: 17145 milliseconds \t Predicted word is \"marvin\"\n",
            "Video TimeCode: 17150 milliseconds \t Predicted word is \"marvin\"\n",
            "Video TimeCode: 17155 milliseconds \t Predicted word is \"marvin\"\n",
            "Video TimeCode: 17160 milliseconds \t Predicted word is \"marvin\"\n",
            "Video TimeCode: 17165 milliseconds \t Predicted word is \"marvin\"\n",
            "Video TimeCode: 17170 milliseconds \t Predicted word is \"marvin\"\n",
            "Video TimeCode: 17175 milliseconds \t Predicted word is \"marvin\"\n",
            "Video TimeCode: 17655 milliseconds \t Predicted word is \"zero\"\n",
            "Video TimeCode: 17700 milliseconds \t Predicted word is \"three\"\n",
            "Video TimeCode: 18395 milliseconds \t Predicted word is \"zero\"\n",
            "Video TimeCode: 18575 milliseconds \t Predicted word is \"zero\"\n",
            "Video TimeCode: 18785 milliseconds \t Predicted word is \"three\"\n",
            "Video TimeCode: 18790 milliseconds \t Predicted word is \"three\"\n",
            "Video TimeCode: 18800 milliseconds \t Predicted word is \"three\"\n",
            "Video TimeCode: 18805 milliseconds \t Predicted word is \"three\"\n",
            "Video TimeCode: 18950 milliseconds \t Predicted word is \"three\"\n",
            "Video TimeCode: 18965 milliseconds \t Predicted word is \"three\"\n",
            "Video TimeCode: 18970 milliseconds \t Predicted word is \"three\"\n",
            "Video TimeCode: 19130 milliseconds \t Predicted word is \"three\"\n",
            "Video TimeCode: 19145 milliseconds \t Predicted word is \"three\"\n",
            "Video TimeCode: 19190 milliseconds \t Predicted word is \"three\"\n",
            "Video TimeCode: 19240 milliseconds \t Predicted word is \"three\"\n",
            "Video TimeCode: 19250 milliseconds \t Predicted word is \"zero\"\n",
            "Video TimeCode: 19410 milliseconds \t Predicted word is \"three\"\n",
            "Video TimeCode: 19580 milliseconds \t Predicted word is \"one\"\n",
            "Video TimeCode: 19755 milliseconds \t Predicted word is \"three\"\n",
            "Video TimeCode: 19760 milliseconds \t Predicted word is \"three\"\n",
            "Video TimeCode: 20165 milliseconds \t Predicted word is \"three\"\n",
            "Video TimeCode: 20335 milliseconds \t Predicted word is \"three\"\n",
            "Video TimeCode: 20350 milliseconds \t Predicted word is \"three\"\n",
            "Video TimeCode: 20390 milliseconds \t Predicted word is \"three\"\n",
            "Video TimeCode: 20535 milliseconds \t Predicted word is \"zero\"\n",
            "Video TimeCode: 21195 milliseconds \t Predicted word is \"three\"\n",
            "Video TimeCode: 21205 milliseconds \t Predicted word is \"three\"\n",
            "Video TimeCode: 21230 milliseconds \t Predicted word is \"three\"\n",
            "Video TimeCode: 21250 milliseconds \t Predicted word is \"three\"\n",
            "Video TimeCode: 21455 milliseconds \t Predicted word is \"three\"\n",
            "Video TimeCode: 22035 milliseconds \t Predicted word is \"three\"\n",
            "Video TimeCode: 22455 milliseconds \t Predicted word is \"three\"\n",
            "Video TimeCode: 22460 milliseconds \t Predicted word is \"three\"\n",
            "Video TimeCode: 22485 milliseconds \t Predicted word is \"three\"\n",
            "Video TimeCode: 22560 milliseconds \t Predicted word is \"zero\"\n",
            "Video TimeCode: 22850 milliseconds \t Predicted word is \"three\"\n",
            "Video TimeCode: 23070 milliseconds \t Predicted word is \"zero\"\n",
            "Video TimeCode: 23075 milliseconds \t Predicted word is \"zero\"\n",
            "Video TimeCode: 23080 milliseconds \t Predicted word is \"zero\"\n",
            "Video TimeCode: 23415 milliseconds \t Predicted word is \"one\"\n",
            "Video TimeCode: 23425 milliseconds \t Predicted word is \"one\"\n",
            "Video TimeCode: 23435 milliseconds \t Predicted word is \"one\"\n",
            "Video TimeCode: 23445 milliseconds \t Predicted word is \"one\"\n",
            "Video TimeCode: 24125 milliseconds \t Predicted word is \"three\"\n",
            "Video TimeCode: 24680 milliseconds \t Predicted word is \"three\"\n",
            "Video TimeCode: 24890 milliseconds \t Predicted word is \"three\"\n",
            "Video TimeCode: 25080 milliseconds \t Predicted word is \"three\"\n",
            "Video TimeCode: 25310 milliseconds \t Predicted word is \"three\"\n",
            "Video TimeCode: 25320 milliseconds \t Predicted word is \"three\"\n",
            "Video TimeCode: 25920 milliseconds \t Predicted word is \"three\"\n",
            "Video TimeCode: 25925 milliseconds \t Predicted word is \"three\"\n",
            "Video TimeCode: 25935 milliseconds \t Predicted word is \"three\"\n",
            "Video TimeCode: 25940 milliseconds \t Predicted word is \"three\"\n",
            "Video TimeCode: 25955 milliseconds \t Predicted word is \"three\"\n",
            "Video TimeCode: 25960 milliseconds \t Predicted word is \"three\"\n",
            "Video TimeCode: 26205 milliseconds \t Predicted word is \"happy\"\n",
            "Video TimeCode: 26475 milliseconds \t Predicted word is \"three\"\n",
            "Video TimeCode: 26515 milliseconds \t Predicted word is \"three\"\n",
            "Video TimeCode: 26530 milliseconds \t Predicted word is \"three\"\n",
            "Video TimeCode: 26535 milliseconds \t Predicted word is \"three\"\n",
            "Video TimeCode: 26540 milliseconds \t Predicted word is \"three\"\n",
            "Video TimeCode: 26545 milliseconds \t Predicted word is \"three\"\n",
            "Video TimeCode: 26560 milliseconds \t Predicted word is \"three\"\n",
            "Video TimeCode: 26795 milliseconds \t Predicted word is \"zero\"\n",
            "Video TimeCode: 26860 milliseconds \t Predicted word is \"three\"\n",
            "Video TimeCode: 27425 milliseconds \t Predicted word is \"three\"\n",
            "Video TimeCode: 27665 milliseconds \t Predicted word is \"three\"\n",
            "Video TimeCode: 28320 milliseconds \t Predicted word is \"three\"\n",
            "Video TimeCode: 28380 milliseconds \t Predicted word is \"zero\"\n"
          ]
        }
      ]
    },
    {
      "cell_type": "markdown",
      "metadata": {
        "id": "DPBhzqV4Sj0k"
      },
      "source": [
        "### Еще надо было, наверное, добавить в обучающую выборку пустой звук/шум, чтобы, если он не распознает слово, то выдает шум (пустой класс)"
      ]
    },
    {
      "cell_type": "markdown",
      "metadata": {
        "id": "NtCakOJpQe-u"
      },
      "source": [
        "### Чё-то я запутался, кажется, не так подготовил спектрограмму для нарезания, или нарезаю не так, или идея по подготовке данных плохая, или еще где-то накосячил, всякое может быть, но у меня больше нет вариантов (точнее нет времени):("
      ]
    },
    {
      "cell_type": "code",
      "metadata": {
        "id": "RM7oE68sSjLd"
      },
      "source": [
        ""
      ],
      "execution_count": null,
      "outputs": []
    }
  ]
}