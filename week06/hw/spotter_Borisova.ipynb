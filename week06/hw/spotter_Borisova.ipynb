{
 "cells": [
  {
   "cell_type": "code",
   "execution_count": 1,
   "metadata": {
    "colab": {
     "base_uri": "https://localhost:8080/"
    },
    "id": "DLqUa76aAHIg",
    "outputId": "7596d41d-ad15-4f14-852f-0181c1a2aa7b"
   },
   "outputs": [
    {
     "name": "stdout",
     "output_type": "stream",
     "text": [
      "Reading package lists... Done\n",
      "Building dependency tree       \n",
      "Reading state information... Done\n",
      "The following additional packages will be installed:\n",
      "  libmagic-mgc libmagic1 libopencore-amrnb0 libopencore-amrwb0 libsox-fmt-alsa\n",
      "  libsox-fmt-base libsox3\n",
      "Suggested packages:\n",
      "  file libsox-fmt-all\n",
      "The following NEW packages will be installed:\n",
      "  libmagic-mgc libmagic1 libopencore-amrnb0 libopencore-amrwb0 libsox-fmt-alsa\n",
      "  libsox-fmt-base libsox3 sox\n",
      "0 upgraded, 8 newly installed, 0 to remove and 37 not upgraded.\n",
      "Need to get 760 kB of archives.\n",
      "After this operation, 6,717 kB of additional disk space will be used.\n",
      "Get:1 http://archive.ubuntu.com/ubuntu bionic/universe amd64 libopencore-amrnb0 amd64 0.1.3-2.1 [92.0 kB]\n",
      "Get:2 http://archive.ubuntu.com/ubuntu bionic/universe amd64 libopencore-amrwb0 amd64 0.1.3-2.1 [45.8 kB]\n",
      "Get:3 http://archive.ubuntu.com/ubuntu bionic-updates/main amd64 libmagic-mgc amd64 1:5.32-2ubuntu0.4 [184 kB]\n",
      "Get:4 http://archive.ubuntu.com/ubuntu bionic-updates/main amd64 libmagic1 amd64 1:5.32-2ubuntu0.4 [68.6 kB]\n",
      "Get:5 http://archive.ubuntu.com/ubuntu bionic-updates/universe amd64 libsox3 amd64 14.4.2-3ubuntu0.18.04.1 [226 kB]\n",
      "Get:6 http://archive.ubuntu.com/ubuntu bionic-updates/universe amd64 libsox-fmt-alsa amd64 14.4.2-3ubuntu0.18.04.1 [10.6 kB]\n",
      "Get:7 http://archive.ubuntu.com/ubuntu bionic-updates/universe amd64 libsox-fmt-base amd64 14.4.2-3ubuntu0.18.04.1 [32.1 kB]\n",
      "Get:8 http://archive.ubuntu.com/ubuntu bionic-updates/universe amd64 sox amd64 14.4.2-3ubuntu0.18.04.1 [101 kB]\n",
      "Fetched 760 kB in 1s (727 kB/s)\n",
      "Selecting previously unselected package libopencore-amrnb0:amd64.\n",
      "(Reading database ... 155047 files and directories currently installed.)\n",
      "Preparing to unpack .../0-libopencore-amrnb0_0.1.3-2.1_amd64.deb ...\n",
      "Unpacking libopencore-amrnb0:amd64 (0.1.3-2.1) ...\n",
      "Selecting previously unselected package libopencore-amrwb0:amd64.\n",
      "Preparing to unpack .../1-libopencore-amrwb0_0.1.3-2.1_amd64.deb ...\n",
      "Unpacking libopencore-amrwb0:amd64 (0.1.3-2.1) ...\n",
      "Selecting previously unselected package libmagic-mgc.\n",
      "Preparing to unpack .../2-libmagic-mgc_1%3a5.32-2ubuntu0.4_amd64.deb ...\n",
      "Unpacking libmagic-mgc (1:5.32-2ubuntu0.4) ...\n",
      "Selecting previously unselected package libmagic1:amd64.\n",
      "Preparing to unpack .../3-libmagic1_1%3a5.32-2ubuntu0.4_amd64.deb ...\n",
      "Unpacking libmagic1:amd64 (1:5.32-2ubuntu0.4) ...\n",
      "Selecting previously unselected package libsox3:amd64.\n",
      "Preparing to unpack .../4-libsox3_14.4.2-3ubuntu0.18.04.1_amd64.deb ...\n",
      "Unpacking libsox3:amd64 (14.4.2-3ubuntu0.18.04.1) ...\n",
      "Selecting previously unselected package libsox-fmt-alsa:amd64.\n",
      "Preparing to unpack .../5-libsox-fmt-alsa_14.4.2-3ubuntu0.18.04.1_amd64.deb ...\n",
      "Unpacking libsox-fmt-alsa:amd64 (14.4.2-3ubuntu0.18.04.1) ...\n",
      "Selecting previously unselected package libsox-fmt-base:amd64.\n",
      "Preparing to unpack .../6-libsox-fmt-base_14.4.2-3ubuntu0.18.04.1_amd64.deb ...\n",
      "Unpacking libsox-fmt-base:amd64 (14.4.2-3ubuntu0.18.04.1) ...\n",
      "Selecting previously unselected package sox.\n",
      "Preparing to unpack .../7-sox_14.4.2-3ubuntu0.18.04.1_amd64.deb ...\n",
      "Unpacking sox (14.4.2-3ubuntu0.18.04.1) ...\n",
      "Setting up libmagic-mgc (1:5.32-2ubuntu0.4) ...\n",
      "Setting up libmagic1:amd64 (1:5.32-2ubuntu0.4) ...\n",
      "Setting up libopencore-amrnb0:amd64 (0.1.3-2.1) ...\n",
      "Setting up libopencore-amrwb0:amd64 (0.1.3-2.1) ...\n",
      "Setting up libsox3:amd64 (14.4.2-3ubuntu0.18.04.1) ...\n",
      "Setting up libsox-fmt-base:amd64 (14.4.2-3ubuntu0.18.04.1) ...\n",
      "Setting up libsox-fmt-alsa:amd64 (14.4.2-3ubuntu0.18.04.1) ...\n",
      "Setting up sox (14.4.2-3ubuntu0.18.04.1) ...\n",
      "Processing triggers for libc-bin (2.27-3ubuntu1.3) ...\n",
      "/sbin/ldconfig.real: /usr/local/lib/python3.7/dist-packages/ideep4py/lib/libmkldnn.so.0 is not a symbolic link\n",
      "\n",
      "Processing triggers for man-db (2.8.3-2ubuntu0.1) ...\n",
      "Processing triggers for mime-support (3.60ubuntu1) ...\n"
     ]
    }
   ],
   "source": [
    "!apt install sox"
   ]
  },
  {
   "cell_type": "markdown",
   "metadata": {
    "id": "eX_UvnL9FOB2"
   },
   "source": [
    "### Baseline commands recognition (2-5 points)\n",
    "\n",
    "We're now going to train a classifier to recognize voice. More specifically, we'll use the [Speech Commands Dataset] that contains around 30 different words with a few thousand voice records each."
   ]
  },
  {
   "cell_type": "code",
   "execution_count": 2,
   "metadata": {
    "id": "kgdP8SO2xeot"
   },
   "outputs": [],
   "source": [
    "import os\n",
    "from IPython.display import display, Audio\n",
    "import matplotlib.pyplot as plt\n",
    "%matplotlib inline\n",
    "import numpy as np\n",
    "import pickle\n",
    "import librosa\n",
    "import torch\n",
    "from torch.utils.data import TensorDataset, DataLoader\n",
    "import torch.optim as optim\n",
    "import torchvision.transforms as T\n",
    "from scipy.io import wavfile\n",
    "import IPython.display as ipd\n",
    "\n",
    "device = 'cuda'"
   ]
  },
  {
   "cell_type": "code",
   "execution_count": 2,
   "metadata": {
    "colab": {
     "base_uri": "https://localhost:8080/"
    },
    "id": "FvHkw2rfY9k7",
    "outputId": "75bbe48d-f8e8-485d-ab8e-7541feeebc72"
   },
   "outputs": [
    {
     "name": "stdout",
     "output_type": "stream",
     "text": [
      "--2021-10-24 14:31:22--  http://download.tensorflow.org/data/speech_commands_v0.01.tar.gz\n",
      "Resolving download.tensorflow.org (download.tensorflow.org)... 142.250.13.128, 2a00:1450:400c:c03::80\n",
      "Connecting to download.tensorflow.org (download.tensorflow.org)|142.250.13.128|:80... connected.\n",
      "HTTP request sent, awaiting response... 200 OK\n",
      "Length: 1489096277 (1.4G) [application/gzip]\n",
      "Saving to: ‘speech_commands_v0.01.tar.gz’\n",
      "\n",
      "speech_commands_v0. 100%[===================>]   1.39G  88.0MB/s    in 18s     \n",
      "\n",
      "2021-10-24 14:31:41 (76.8 MB/s) - ‘speech_commands_v0.01.tar.gz’ saved [1489096277/1489096277]\n",
      "\n",
      "Classes: bed, bird, cat, dog, down, eight, five, four, go, happy, house, left, marvin, nine, no, off, on, one, right, seven, sheila, six, stop, three, tree, two, up, wow, yes, zero\n"
     ]
    }
   ],
   "source": [
    "datadir = \"speech_commands\"\n",
    "\n",
    "!wget http://download.tensorflow.org/data/speech_commands_v0.01.tar.gz -O speech_commands_v0.01.tar.gz\n",
    "# alternative url: https://www.dropbox.com/s/j95n278g48bcbta/speech_commands_v0.01.tar.gz?dl=1\n",
    "!mkdir {datadir} && tar -C {datadir} -xvzf speech_commands_v0.01.tar.gz 1> log\n",
    "\n",
    "samples_by_target = {\n",
    "    cls: [os.path.join(datadir, cls, name) for name in os.listdir(\"./speech_commands/{}\".format(cls))]\n",
    "    for cls in os.listdir(datadir)\n",
    "    if os.path.isdir(os.path.join(datadir, cls))\n",
    "}\n",
    "print('Classes:', ', '.join(sorted(samples_by_target.keys())[1:]))"
   ]
  },
  {
   "cell_type": "code",
   "execution_count": 3,
   "metadata": {
    "colab": {
     "base_uri": "https://localhost:8080/"
    },
    "id": "ME4cVShQ916w",
    "outputId": "7c3169dc-b7f1-4238-d550-374432f7bd78"
   },
   "outputs": [
    {
     "name": "stdout",
     "output_type": "stream",
     "text": [
      "\n",
      "Input File     : 'speech_commands/bed/00176480_nohash_0.wav'\n",
      "Channels       : 1\n",
      "Sample Rate    : 16000\n",
      "Precision      : 16-bit\n",
      "Duration       : 00:00:01.00 = 16000 samples ~ 75 CDDA sectors\n",
      "File Size      : 32.0k\n",
      "Bit Rate       : 256k\n",
      "Sample Encoding: 16-bit Signed Integer PCM\n",
      "\n"
     ]
    }
   ],
   "source": [
    "!sox --info speech_commands/bed/00176480_nohash_0.wav"
   ]
  },
  {
   "cell_type": "markdown",
   "metadata": {
    "id": "JF87vTlRs5qv"
   },
   "source": [
    "### Нарисуем спектрограмму для файлика с комнадой \"right\""
   ]
  },
  {
   "cell_type": "code",
   "execution_count": 3,
   "metadata": {
    "id": "zBb8LEcRs35y"
   },
   "outputs": [],
   "source": [
    "def show_spectrogram(wav_path):\n",
    "\n",
    "    # Read the wav file (mono)\n",
    "    samplingFrequency, signalData = wavfile.read(wav_path)\n",
    "\n",
    "    plt.subplot(211)\n",
    "    plt.title('Spectrogram of a wav file')\n",
    "\n",
    "    plt.plot(signalData)\n",
    "    plt.xlabel('Sample')\n",
    "    plt.ylabel('Amplitude') \n",
    "\n",
    "    plt.subplot(212)\n",
    "    plt.specgram(signalData,Fs=samplingFrequency)\n",
    "    plt.xlabel('Time')\n",
    "    plt.ylabel('Frequency')\n",
    "\n",
    "    plt.show()\n",
    "    return ipd.Audio(wav_path)"
   ]
  },
  {
   "cell_type": "code",
   "execution_count": 5,
   "metadata": {
    "colab": {
     "base_uri": "https://localhost:8080/",
     "height": 353
    },
    "id": "MTBuaYpktJVB",
    "outputId": "b24bca1d-f3f8-418e-ab92-7e642351b510"
   },
   "outputs": [
    {
     "data": {
      "image/png": "[encoded data removed]",
      "text/plain": [
       "<Figure size 432x288 with 2 Axes>"
      ]
     },
     "metadata": {
      "needs_background": "light"
     },
     "output_type": "display_data"
    },
    {
     "data": {
      "text/html": [
       "\n",
       "                <audio controls=\"controls\" >\n",
       "                    <source src=\"data:audio/x-wav;base64,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\" type=\"audio/x-wav\" />\n",
       "                    Your browser does not support the audio element.\n",
       "                </audio>\n",
       "              "
      ],
      "text/plain": [
       "<IPython.lib.display.Audio object>"
      ]
     },
     "execution_count": 5,
     "metadata": {},
     "output_type": "execute_result"
    }
   ],
   "source": [
    "show_spectrogram('/content/speech_commands/right/00b01445_nohash_0.wav')"
   ]
  },
  {
   "cell_type": "markdown",
   "metadata": {
    "id": "L_LYOd_TtM6B"
   },
   "source": [
    "### Подготовка данных"
   ]
  },
  {
   "cell_type": "code",
   "execution_count": 6,
   "metadata": {
    "colab": {
     "base_uri": "https://localhost:8080/"
    },
    "id": "cvF5l-PCyd8z",
    "outputId": "e118fd1a-8dca-4fdc-9320-bbf7b4657c06"
   },
   "outputs": [
    {
     "name": "stderr",
     "output_type": "stream",
     "text": [
      "100%|██████████| 11834/11834 [07:32<00:00, 26.13it/s]\n"
     ]
    }
   ],
   "source": [
    "from sklearn.model_selection import train_test_split\n",
    "from itertools import chain\n",
    "from tqdm import tqdm\n",
    "import joblib as jl\n",
    "\n",
    "classes = (\"left\", \"right\", \"up\", \"down\", \"stop\")\n",
    "\n",
    "def preprocess_sample(filepath, max_length=150):\n",
    "    amplitudes, sr = librosa.core.load(filepath)\n",
    "    spectrogram = librosa.feature.melspectrogram(amplitudes, sr=sr)[:, :max_length]\n",
    "    spectrogram = np.pad(spectrogram, [[0, 0], [0, max(0, max_length - spectrogram.shape[1])]], mode='constant')\n",
    "    target = classes.index(filepath.split(os.sep)[-2])\n",
    "    return np.float32(spectrogram), np.int64(target)\n",
    "\n",
    "all_files = chain(*(samples_by_target[cls] for cls in classes))\n",
    "spectrograms_and_targets = jl.Parallel(n_jobs=-1)(tqdm(list(map(jl.delayed(preprocess_sample), all_files))))\n",
    "X, y = map(np.stack, zip(*spectrograms_and_targets))\n",
    "X = X.transpose([0, 2, 1])  # to [batch, time, channels]\n",
    "# X_train, X_test, y_train, y_test = train_test_split(X, y, random_state=42)"
   ]
  },
  {
   "cell_type": "markdown",
   "metadata": {
    "id": "5JSAwXkemEj4"
   },
   "source": [
    "### Модель с 2d-свертками\n",
    "* __Подготовка данных:__ поскольку модель на 2d-свертки, то нужно добавить количество каналов(1) в шейп тензора данных;\n",
    "* __Подготовка выборки:__ разделим данные на трейн и тест и объявим даталоудеры\n",
    "* __Batch size:__ Возьмем batch_size = 16"
   ]
  },
  {
   "cell_type": "code",
   "execution_count": 7,
   "metadata": {
    "colab": {
     "base_uri": "https://localhost:8080/"
    },
    "id": "QHb3RCvSjxWt",
    "outputId": "2a5fd7d1-eb7f-4566-be86-4bb7736eaccd"
   },
   "outputs": [
    {
     "data": {
      "text/plain": [
       "(11834, 1, 150, 128)"
      ]
     },
     "execution_count": 7,
     "metadata": {},
     "output_type": "execute_result"
    }
   ],
   "source": [
    "# X.shape\n",
    "X_r = X[:,None,:,:]\n",
    "X_r.shape"
   ]
  },
  {
   "cell_type": "code",
   "execution_count": 8,
   "metadata": {
    "id": "B0BhnljvkZWN"
   },
   "outputs": [],
   "source": [
    "X_train, X_test, y_train, y_test = train_test_split(X_r, y, random_state=42)"
   ]
  },
  {
   "cell_type": "code",
   "execution_count": 9,
   "metadata": {
    "id": "7Ol6sywTG_Y9"
   },
   "outputs": [],
   "source": [
    "batch_size = 16\n",
    "\n",
    "tensor_x = torch.Tensor(X_train)\n",
    "tensor_y = torch.LongTensor(y_train)\n",
    "\n",
    "train_dataset = TensorDataset(tensor_x, tensor_y)\n",
    "\n",
    "tensor_x = torch.Tensor(X_test) # transform to torch tensor\n",
    "tensor_y = torch.LongTensor(y_test)\n",
    "\n",
    "test_dataset = TensorDataset(tensor_x, tensor_y)\n",
    "\n",
    "\n",
    "trainloader = DataLoader(train_dataset, batch_size=batch_size,\n",
    "                         shuffle=True, num_workers=2)\n",
    "testloader = DataLoader(test_dataset, batch_size=batch_size,\n",
    "                        shuffle=False, num_workers=2)"
   ]
  },
  {
   "cell_type": "markdown",
   "metadata": {
    "id": "Sye_tt_jplnm"
   },
   "source": [
    "### Модель\n",
    "__Примечание:__ Был выбран оптимизатор Adam, поскольку с использованием SGD лосс почти не менялся даже при подборе разного шага (learning rate)"
   ]
  },
  {
   "cell_type": "code",
   "execution_count": 23,
   "metadata": {
    "id": "-qr8t6wCF8vT"
   },
   "outputs": [],
   "source": [
    "import torch.nn as nn\n",
    "import torch.nn.functional as F\n",
    "\n",
    "\n",
    "class Net2d(nn.Module):\n",
    "    def __init__(self):\n",
    "        super().__init__()\n",
    "        # TODO: define your layers here\n",
    "        self.conv1 = nn.Conv2d(1, 16, 5)\n",
    "        self.bn1 = nn.BatchNorm2d(16)\n",
    "        self.pool1 = nn.MaxPool2d(2, 2)\n",
    "        # self.bn1 = nn.BatchNorm2D(16)\n",
    "\n",
    "        self.conv2 = nn.Conv2d(16, 32, 5)\n",
    "        self.bn2 = nn.BatchNorm2d(32)\n",
    "        self.pool2 = nn.MaxPool2d(4, 2)\n",
    "\n",
    "        self.conv3 = nn.Conv2d(32, 64, 5)\n",
    "        self.bn3 = nn.BatchNorm2d(64)\n",
    "        self.pool3 = nn.MaxPool2d(6, 2)\n",
    "\n",
    "        self.conv4 = nn.Conv2d(64, 128, 5)\n",
    "        self.bn4 = nn.BatchNorm2d(128)\n",
    "        self.pool4 = nn.MaxPool2d(6, 2)\n",
    "\n",
    "\n",
    "        self.flatten = nn.Flatten()\n",
    "        self.dense1 = nn.Linear(256, 64)\n",
    "        self.relu1 = nn.ReLU()\n",
    "        self.dense2 = nn.Linear(64, 5)\n",
    "\n",
    "    def forward(self, x):\n",
    "        # TODO: apply your layers here\n",
    "        x = self.conv1(x)\n",
    "        x = self.bn1(x)\n",
    "        x = self.pool1(x)\n",
    "        x = self.conv2(x)\n",
    "        x = self.bn2(x)\n",
    "        x = self.pool2(x)\n",
    "        x = self.conv3(x)\n",
    "        x = self.bn3(x)\n",
    "        x = self.pool3(x)\n",
    "        x = self.conv4(x)\n",
    "        x = self.bn4(x)\n",
    "        x = self.pool4(x)\n",
    "        x = self.flatten(x)\n",
    "        x = self.dense1(x)\n",
    "        x = self.relu1(x)\n",
    "        x = self.dense2(x)\n",
    "        return F.softmax(x)\n",
    "\n",
    "\n",
    "net2d = Net2d().to(device)\n",
    "criterion = nn.CrossEntropyLoss()\n",
    "optimizer = optim.Adam(net2d.parameters(), lr=0.003)#, momentum=0.9)"
   ]
  },
  {
   "cell_type": "markdown",
   "metadata": {
    "id": "DC4IeBurqOYI"
   },
   "source": [
    "### Объявим функцию обучения модели\n",
    "__Параметры:__\n",
    "* модель\n",
    "* данные для обучения\n",
    "* количество эпох\n",
    "\n",
    "Функция возвращает лосс"
   ]
  },
  {
   "cell_type": "code",
   "execution_count": 10,
   "metadata": {
    "id": "xR1uxQ-GGGLr"
   },
   "outputs": [],
   "source": [
    "def model_train(model, trainloader, epochs):\n",
    "  total_step = len(trainloader)\n",
    "  losses, epoch_losses = [], []\n",
    "  for epoch in range(epochs):  # loop over the dataset multiple times\n",
    "      model.train()\n",
    "      running_loss = 0.0\n",
    "      epoch_loss = 0.0\n",
    "      for i, data in enumerate(trainloader, 0):\n",
    "          # get the inputs; data is a list of [inputs, labels]\n",
    "          inputs, labels = data\n",
    "          inputs = inputs.to(device)\n",
    "          labels = labels.to(device)\n",
    "\n",
    "          # zero the parameter gradients\n",
    "          optimizer.zero_grad()\n",
    "\n",
    "          # forward + backward + optimize\n",
    "          outputs = model(inputs)\n",
    "          loss = criterion(outputs, labels)\n",
    "          loss.backward()     \n",
    "          optimizer.step()\n",
    "\n",
    "          # print statistics\n",
    "          running_loss += loss.item()\n",
    "          epoch_loss += loss.item()\n",
    "          if (i+1) % 50 == 0:    # print every 50 mini-batches\n",
    "              print('Epoch [{}/{}], Step [{}/{}], loss: {:.3f}'\n",
    "                  .format(epoch, epochs, i+1, total_step, running_loss / 50))\n",
    "              running_loss = 0.0\n",
    "      epoch_losses.append(epoch_loss)\n",
    "\n",
    "\n",
    "  print('Finished Training')\n",
    "  return epoch_losses"
   ]
  },
  {
   "cell_type": "markdown",
   "metadata": {
    "id": "-JQb7aZjqvoR"
   },
   "source": [
    "### Предсказания на тестовых данных\n",
    "\n",
    "Посмотрим accuracy (в том числе и для каждого класса)"
   ]
  },
  {
   "cell_type": "code",
   "execution_count": 16,
   "metadata": {
    "id": "0UNsDwelBZVg"
   },
   "outputs": [],
   "source": [
    "def model_predict(model, testloader):\n",
    "  correct_pred = {classname: 0 for classname in classes}\n",
    "  total_pred = {classname: 0 for classname in classes}\n",
    "  correct = 0\n",
    "  total = 0\n",
    "\n",
    "  # again no gradients needed\n",
    "  with torch.no_grad():\n",
    "      for data in testloader:\n",
    "          inputs, labels = data\n",
    "          inputs = inputs.to(device)\n",
    "          labels = labels.to(device)\n",
    "          outputs = model(inputs)\n",
    "          _, predictions = torch.max(outputs, 1)\n",
    "          total += labels.size(0)\n",
    "          correct += (predictions == labels).sum().item()\n",
    "          # collect the correct predictions for each class\n",
    "          for label, prediction in zip(labels, predictions):\n",
    "              if label == prediction:\n",
    "                  correct_pred[classes[label]] += 1\n",
    "              total_pred[classes[label]] += 1\n",
    "\n",
    "\n",
    "  # print accuracy for each class\n",
    "  for classname, correct_count in correct_pred.items():\n",
    "      accuracy = 100 * float(correct_count) / total_pred[classname]\n",
    "      print(\"Accuracy for class {:5s} is: {:.1f} %\".format(classname,\n",
    "                                                    accuracy))\n",
    "  print('Total accuracy: %d %%' % (\n",
    "      100 * correct / total))\n",
    "  return"
   ]
  },
  {
   "cell_type": "code",
   "execution_count": 28,
   "metadata": {
    "colab": {
     "base_uri": "https://localhost:8080/"
    },
    "id": "f4HNvZYNsTja",
    "outputId": "42ac77bf-7cfb-4c7d-e86b-2a0cd9b983e5"
   },
   "outputs": [
    {
     "name": "stderr",
     "output_type": "stream",
     "text": [
      "/usr/local/lib/python3.7/dist-packages/ipykernel_launcher.py:50: UserWarning: Implicit dimension choice for softmax has been deprecated. Change the call to include dim=X as an argument.\n"
     ]
    },
    {
     "name": "stdout",
     "output_type": "stream",
     "text": [
      "Epoch [0/20], Step [50/555], loss: 1.587\n",
      "Epoch [0/20], Step [100/555], loss: 1.569\n",
      "Epoch [0/20], Step [150/555], loss: 1.542\n",
      "Epoch [0/20], Step [200/555], loss: 1.531\n",
      "Epoch [0/20], Step [250/555], loss: 1.476\n",
      "Epoch [0/20], Step [300/555], loss: 1.477\n",
      "Epoch [0/20], Step [350/555], loss: 1.416\n",
      "Epoch [0/20], Step [400/555], loss: 1.452\n",
      "Epoch [0/20], Step [450/555], loss: 1.436\n",
      "Epoch [0/20], Step [500/555], loss: 1.388\n",
      "Epoch [0/20], Step [550/555], loss: 1.427\n",
      "Epoch [1/20], Step [50/555], loss: 1.402\n",
      "Epoch [1/20], Step [100/555], loss: 1.330\n",
      "Epoch [1/20], Step [150/555], loss: 1.382\n",
      "Epoch [1/20], Step [200/555], loss: 1.354\n",
      "Epoch [1/20], Step [250/555], loss: 1.320\n",
      "Epoch [1/20], Step [300/555], loss: 1.367\n",
      "Epoch [1/20], Step [350/555], loss: 1.314\n",
      "Epoch [1/20], Step [400/555], loss: 1.338\n",
      "Epoch [1/20], Step [450/555], loss: 1.357\n",
      "Epoch [1/20], Step [500/555], loss: 1.334\n",
      "Epoch [1/20], Step [550/555], loss: 1.307\n",
      "Epoch [2/20], Step [50/555], loss: 1.384\n",
      "Epoch [2/20], Step [100/555], loss: 1.274\n",
      "Epoch [2/20], Step [150/555], loss: 1.305\n",
      "Epoch [2/20], Step [200/555], loss: 1.275\n",
      "Epoch [2/20], Step [250/555], loss: 1.305\n",
      "Epoch [2/20], Step [300/555], loss: 1.317\n",
      "Epoch [2/20], Step [350/555], loss: 1.363\n",
      "Epoch [2/20], Step [400/555], loss: 1.246\n",
      "Epoch [2/20], Step [450/555], loss: 1.299\n",
      "Epoch [2/20], Step [500/555], loss: 1.292\n",
      "Epoch [2/20], Step [550/555], loss: 1.275\n",
      "Epoch [3/20], Step [50/555], loss: 1.252\n",
      "Epoch [3/20], Step [100/555], loss: 1.245\n",
      "Epoch [3/20], Step [150/555], loss: 1.236\n",
      "Epoch [3/20], Step [200/555], loss: 1.291\n",
      "Epoch [3/20], Step [250/555], loss: 1.222\n",
      "Epoch [3/20], Step [300/555], loss: 1.269\n",
      "Epoch [3/20], Step [350/555], loss: 1.321\n",
      "Epoch [3/20], Step [400/555], loss: 1.255\n",
      "Epoch [3/20], Step [450/555], loss: 1.235\n",
      "Epoch [3/20], Step [500/555], loss: 1.312\n",
      "Epoch [3/20], Step [550/555], loss: 1.276\n",
      "Epoch [4/20], Step [50/555], loss: 1.247\n",
      "Epoch [4/20], Step [100/555], loss: 1.259\n",
      "Epoch [4/20], Step [150/555], loss: 1.289\n",
      "Epoch [4/20], Step [200/555], loss: 1.221\n",
      "Epoch [4/20], Step [250/555], loss: 1.244\n",
      "Epoch [4/20], Step [300/555], loss: 1.253\n",
      "Epoch [4/20], Step [350/555], loss: 1.234\n",
      "Epoch [4/20], Step [400/555], loss: 1.224\n",
      "Epoch [4/20], Step [450/555], loss: 1.180\n",
      "Epoch [4/20], Step [500/555], loss: 1.260\n",
      "Epoch [4/20], Step [550/555], loss: 1.280\n",
      "Epoch [5/20], Step [50/555], loss: 1.224\n",
      "Epoch [5/20], Step [100/555], loss: 1.200\n",
      "Epoch [5/20], Step [150/555], loss: 1.330\n",
      "Epoch [5/20], Step [200/555], loss: 1.241\n",
      "Epoch [5/20], Step [250/555], loss: 1.242\n",
      "Epoch [5/20], Step [300/555], loss: 1.217\n",
      "Epoch [5/20], Step [350/555], loss: 1.174\n",
      "Epoch [5/20], Step [400/555], loss: 1.194\n",
      "Epoch [5/20], Step [450/555], loss: 1.201\n",
      "Epoch [5/20], Step [500/555], loss: 1.215\n",
      "Epoch [5/20], Step [550/555], loss: 1.202\n",
      "Epoch [6/20], Step [50/555], loss: 1.218\n",
      "Epoch [6/20], Step [100/555], loss: 1.236\n",
      "Epoch [6/20], Step [150/555], loss: 1.277\n",
      "Epoch [6/20], Step [200/555], loss: 1.266\n",
      "Epoch [6/20], Step [250/555], loss: 1.209\n",
      "Epoch [6/20], Step [300/555], loss: 1.211\n",
      "Epoch [6/20], Step [350/555], loss: 1.199\n",
      "Epoch [6/20], Step [400/555], loss: 1.157\n",
      "Epoch [6/20], Step [450/555], loss: 1.186\n",
      "Epoch [6/20], Step [500/555], loss: 1.247\n",
      "Epoch [6/20], Step [550/555], loss: 1.205\n",
      "Epoch [7/20], Step [50/555], loss: 1.209\n",
      "Epoch [7/20], Step [100/555], loss: 1.252\n",
      "Epoch [7/20], Step [150/555], loss: 1.260\n",
      "Epoch [7/20], Step [200/555], loss: 1.248\n",
      "Epoch [7/20], Step [250/555], loss: 1.246\n",
      "Epoch [7/20], Step [300/555], loss: 1.172\n",
      "Epoch [7/20], Step [350/555], loss: 1.177\n",
      "Epoch [7/20], Step [400/555], loss: 1.190\n",
      "Epoch [7/20], Step [450/555], loss: 1.146\n",
      "Epoch [7/20], Step [500/555], loss: 1.136\n",
      "Epoch [7/20], Step [550/555], loss: 1.145\n",
      "Epoch [8/20], Step [50/555], loss: 1.177\n",
      "Epoch [8/20], Step [100/555], loss: 1.236\n",
      "Epoch [8/20], Step [150/555], loss: 1.144\n",
      "Epoch [8/20], Step [200/555], loss: 1.287\n",
      "Epoch [8/20], Step [250/555], loss: 1.285\n",
      "Epoch [8/20], Step [300/555], loss: 1.231\n",
      "Epoch [8/20], Step [350/555], loss: 1.252\n",
      "Epoch [8/20], Step [400/555], loss: 1.203\n",
      "Epoch [8/20], Step [450/555], loss: 1.171\n",
      "Epoch [8/20], Step [500/555], loss: 1.201\n",
      "Epoch [8/20], Step [550/555], loss: 1.141\n",
      "Epoch [9/20], Step [50/555], loss: 1.151\n",
      "Epoch [9/20], Step [100/555], loss: 1.176\n",
      "Epoch [9/20], Step [150/555], loss: 1.215\n",
      "Epoch [9/20], Step [200/555], loss: 1.236\n",
      "Epoch [9/20], Step [250/555], loss: 1.227\n",
      "Epoch [9/20], Step [300/555], loss: 1.189\n",
      "Epoch [9/20], Step [350/555], loss: 1.184\n",
      "Epoch [9/20], Step [400/555], loss: 1.175\n",
      "Epoch [9/20], Step [450/555], loss: 1.206\n",
      "Epoch [9/20], Step [500/555], loss: 1.208\n",
      "Epoch [9/20], Step [550/555], loss: 1.200\n",
      "Epoch [10/20], Step [50/555], loss: 1.180\n",
      "Epoch [10/20], Step [100/555], loss: 1.205\n",
      "Epoch [10/20], Step [150/555], loss: 1.261\n",
      "Epoch [10/20], Step [200/555], loss: 1.193\n",
      "Epoch [10/20], Step [250/555], loss: 1.176\n",
      "Epoch [10/20], Step [300/555], loss: 1.160\n",
      "Epoch [10/20], Step [350/555], loss: 1.133\n",
      "Epoch [10/20], Step [400/555], loss: 1.148\n",
      "Epoch [10/20], Step [450/555], loss: 1.171\n",
      "Epoch [10/20], Step [500/555], loss: 1.191\n",
      "Epoch [10/20], Step [550/555], loss: 1.213\n",
      "Epoch [11/20], Step [50/555], loss: 1.135\n",
      "Epoch [11/20], Step [100/555], loss: 1.170\n",
      "Epoch [11/20], Step [150/555], loss: 1.147\n",
      "Epoch [11/20], Step [200/555], loss: 1.174\n",
      "Epoch [11/20], Step [250/555], loss: 1.195\n",
      "Epoch [11/20], Step [300/555], loss: 1.171\n",
      "Epoch [11/20], Step [350/555], loss: 1.185\n",
      "Epoch [11/20], Step [400/555], loss: 1.167\n",
      "Epoch [11/20], Step [450/555], loss: 1.196\n",
      "Epoch [11/20], Step [500/555], loss: 1.154\n",
      "Epoch [11/20], Step [550/555], loss: 1.293\n",
      "Epoch [12/20], Step [50/555], loss: 1.220\n",
      "Epoch [12/20], Step [100/555], loss: 1.256\n",
      "Epoch [12/20], Step [150/555], loss: 1.226\n",
      "Epoch [12/20], Step [200/555], loss: 1.179\n",
      "Epoch [12/20], Step [250/555], loss: 1.181\n",
      "Epoch [12/20], Step [300/555], loss: 1.192\n",
      "Epoch [12/20], Step [350/555], loss: 1.299\n",
      "Epoch [12/20], Step [400/555], loss: 1.270\n",
      "Epoch [12/20], Step [450/555], loss: 1.169\n",
      "Epoch [12/20], Step [500/555], loss: 1.169\n",
      "Epoch [12/20], Step [550/555], loss: 1.172\n",
      "Epoch [13/20], Step [50/555], loss: 1.149\n",
      "Epoch [13/20], Step [100/555], loss: 1.159\n",
      "Epoch [13/20], Step [150/555], loss: 1.249\n",
      "Epoch [13/20], Step [200/555], loss: 1.204\n",
      "Epoch [13/20], Step [250/555], loss: 1.160\n",
      "Epoch [13/20], Step [300/555], loss: 1.212\n",
      "Epoch [13/20], Step [350/555], loss: 1.192\n",
      "Epoch [13/20], Step [400/555], loss: 1.150\n",
      "Epoch [13/20], Step [450/555], loss: 1.142\n",
      "Epoch [13/20], Step [500/555], loss: 1.138\n",
      "Epoch [13/20], Step [550/555], loss: 1.136\n",
      "Epoch [14/20], Step [50/555], loss: 1.209\n",
      "Epoch [14/20], Step [100/555], loss: 1.191\n",
      "Epoch [14/20], Step [150/555], loss: 1.173\n",
      "Epoch [14/20], Step [200/555], loss: 1.215\n",
      "Epoch [14/20], Step [250/555], loss: 1.229\n",
      "Epoch [14/20], Step [300/555], loss: 1.232\n",
      "Epoch [14/20], Step [350/555], loss: 1.166\n",
      "Epoch [14/20], Step [400/555], loss: 1.185\n",
      "Epoch [14/20], Step [450/555], loss: 1.173\n",
      "Epoch [14/20], Step [500/555], loss: 1.171\n",
      "Epoch [14/20], Step [550/555], loss: 1.157\n",
      "Epoch [15/20], Step [50/555], loss: 1.180\n",
      "Epoch [15/20], Step [100/555], loss: 1.155\n",
      "Epoch [15/20], Step [150/555], loss: 1.151\n",
      "Epoch [15/20], Step [200/555], loss: 1.165\n",
      "Epoch [15/20], Step [250/555], loss: 1.142\n",
      "Epoch [15/20], Step [300/555], loss: 1.179\n",
      "Epoch [15/20], Step [350/555], loss: 1.194\n",
      "Epoch [15/20], Step [400/555], loss: 1.234\n",
      "Epoch [15/20], Step [450/555], loss: 1.190\n",
      "Epoch [15/20], Step [500/555], loss: 1.160\n",
      "Epoch [15/20], Step [550/555], loss: 1.253\n",
      "Epoch [16/20], Step [50/555], loss: 1.209\n",
      "Epoch [16/20], Step [100/555], loss: 1.144\n",
      "Epoch [16/20], Step [150/555], loss: 1.189\n",
      "Epoch [16/20], Step [200/555], loss: 1.164\n",
      "Epoch [16/20], Step [250/555], loss: 1.264\n",
      "Epoch [16/20], Step [300/555], loss: 1.267\n",
      "Epoch [16/20], Step [350/555], loss: 1.234\n",
      "Epoch [16/20], Step [400/555], loss: 1.186\n",
      "Epoch [16/20], Step [450/555], loss: 1.252\n",
      "Epoch [16/20], Step [500/555], loss: 1.175\n",
      "Epoch [16/20], Step [550/555], loss: 1.138\n",
      "Epoch [17/20], Step [50/555], loss: 1.176\n",
      "Epoch [17/20], Step [100/555], loss: 1.134\n",
      "Epoch [17/20], Step [150/555], loss: 1.142\n",
      "Epoch [17/20], Step [200/555], loss: 1.157\n",
      "Epoch [17/20], Step [250/555], loss: 1.272\n",
      "Epoch [17/20], Step [300/555], loss: 1.156\n",
      "Epoch [17/20], Step [350/555], loss: 1.192\n",
      "Epoch [17/20], Step [400/555], loss: 1.216\n",
      "Epoch [17/20], Step [450/555], loss: 1.191\n",
      "Epoch [17/20], Step [500/555], loss: 1.175\n",
      "Epoch [17/20], Step [550/555], loss: 1.174\n",
      "Epoch [18/20], Step [50/555], loss: 1.173\n",
      "Epoch [18/20], Step [100/555], loss: 1.195\n",
      "Epoch [18/20], Step [150/555], loss: 1.188\n",
      "Epoch [18/20], Step [200/555], loss: 1.137\n",
      "Epoch [18/20], Step [250/555], loss: 1.149\n",
      "Epoch [18/20], Step [300/555], loss: 1.136\n",
      "Epoch [18/20], Step [350/555], loss: 1.192\n",
      "Epoch [18/20], Step [400/555], loss: 1.232\n",
      "Epoch [18/20], Step [450/555], loss: 1.170\n",
      "Epoch [18/20], Step [500/555], loss: 1.220\n",
      "Epoch [18/20], Step [550/555], loss: 1.251\n",
      "Epoch [19/20], Step [50/555], loss: 1.144\n",
      "Epoch [19/20], Step [100/555], loss: 1.158\n",
      "Epoch [19/20], Step [150/555], loss: 1.194\n",
      "Epoch [19/20], Step [200/555], loss: 1.158\n",
      "Epoch [19/20], Step [250/555], loss: 1.122\n",
      "Epoch [19/20], Step [300/555], loss: 1.155\n",
      "Epoch [19/20], Step [350/555], loss: 1.192\n",
      "Epoch [19/20], Step [400/555], loss: 1.171\n",
      "Epoch [19/20], Step [450/555], loss: 1.218\n",
      "Epoch [19/20], Step [500/555], loss: 1.137\n",
      "Epoch [19/20], Step [550/555], loss: 1.139\n",
      "Finished Training\n"
     ]
    }
   ],
   "source": [
    "epoch_losses = model_train(net2d, trainloader, 20)"
   ]
  },
  {
   "cell_type": "code",
   "execution_count": 29,
   "metadata": {
    "colab": {
     "base_uri": "https://localhost:8080/",
     "height": 295
    },
    "id": "r3EZ6aklsYlQ",
    "outputId": "0973cdf7-5c34-41b0-b6a7-f4b00e735e51"
   },
   "outputs": [
    {
     "data": {
      "image/png": "[encoded data removed]",
      "text/plain": [
       "<Figure size 432x288 with 1 Axes>"
      ]
     },
     "metadata": {
      "needs_background": "light"
     },
     "output_type": "display_data"
    }
   ],
   "source": [
    "plt.plot(epoch_losses, '-')\n",
    "plt.xlabel('epoch')\n",
    "plt.ylabel('loss')\n",
    "plt.grid()\n",
    "plt.title('Losses')"
   ]
  },
  {
   "cell_type": "code",
   "execution_count": 32,
   "metadata": {
    "colab": {
     "base_uri": "https://localhost:8080/"
    },
    "id": "IwYQrrHtsd1r",
    "outputId": "48667873-983f-4bf6-c218-18a6dff0555d"
   },
   "outputs": [
    {
     "name": "stderr",
     "output_type": "stream",
     "text": [
      "/usr/local/lib/python3.7/dist-packages/ipykernel_launcher.py:50: UserWarning: Implicit dimension choice for softmax has been deprecated. Change the call to include dim=X as an argument.\n"
     ]
    },
    {
     "name": "stdout",
     "output_type": "stream",
     "text": [
      "Accuracy for class left  is: 78.9 %\n",
      "Accuracy for class right is: 81.7 %\n",
      "Accuracy for class up    is: 78.6 %\n",
      "Accuracy for class down  is: 83.0 %\n",
      "Accuracy for class stop  is: 75.0 %\n",
      "Total accuracy: 79 %\n"
     ]
    }
   ],
   "source": [
    "model_predict(net2d, testloader)"
   ]
  },
  {
   "cell_type": "markdown",
   "metadata": {
    "id": "ZPd6LzrRl6oq"
   },
   "source": [
    "## Построим модель на 1d-свертках"
   ]
  },
  {
   "cell_type": "code",
   "execution_count": 33,
   "metadata": {
    "id": "a4P9kwAvlBt0"
   },
   "outputs": [],
   "source": [
    "X_train1d, X_test1d, y_train1d, y_test1d = train_test_split(X, y, random_state=42)"
   ]
  },
  {
   "cell_type": "code",
   "execution_count": 34,
   "metadata": {
    "id": "lZaLeSM7HgbY"
   },
   "outputs": [],
   "source": [
    "batch_size = 16\n",
    "\n",
    "tensor_x1d = torch.Tensor(X_train1d)\n",
    "tensor_y1d = torch.LongTensor(y_train1d)\n",
    "\n",
    "train_dataset1d = TensorDataset(tensor_x1d, tensor_y1d)\n",
    "\n",
    "tensor_x1d = torch.Tensor(X_test1d) # transform to torch tensor\n",
    "tensor_y1d = torch.LongTensor(y_test1d)\n",
    "\n",
    "test_dataset1d = TensorDataset(tensor_x1d, tensor_y1d)\n",
    "\n",
    "\n",
    "trainloader1d = DataLoader(train_dataset1d, batch_size=batch_size,\n",
    "                         shuffle=True, num_workers=2)\n",
    "testloader1d = DataLoader(test_dataset1d, batch_size=batch_size,\n",
    "                        shuffle=False, num_workers=2)"
   ]
  },
  {
   "cell_type": "code",
   "execution_count": 35,
   "metadata": {
    "colab": {
     "base_uri": "https://localhost:8080/"
    },
    "id": "iTmyelaQHstB",
    "outputId": "c8e918ce-c56e-48a5-c10e-ecc4c4cef5f9"
   },
   "outputs": [
    {
     "data": {
      "text/plain": [
       "(8875, 150, 128)"
      ]
     },
     "execution_count": 35,
     "metadata": {},
     "output_type": "execute_result"
    }
   ],
   "source": [
    "X_train1d.shape"
   ]
  },
  {
   "cell_type": "code",
   "execution_count": 36,
   "metadata": {
    "id": "GJkhP4KZHOsX"
   },
   "outputs": [],
   "source": [
    "import torch.nn as nn\n",
    "import torch.nn.functional as F\n",
    "\n",
    "\n",
    "class Net1d(nn.Module):\n",
    "    def __init__(self):\n",
    "        super().__init__()\n",
    "        # TODO: define your layers here\n",
    "        self.conv1 = nn.Conv1d(150, 16, 5)\n",
    "        self.bn1 = nn.BatchNorm1d(16)\n",
    "        self.pool1 = nn.MaxPool1d(2, 2)\n",
    "        # self.bn1 = nn.BatchNorm2D(16)\n",
    "\n",
    "        self.conv2 = nn.Conv1d(16, 32, 5)\n",
    "        self.bn2 = nn.BatchNorm1d(32)\n",
    "        self.pool2 = nn.MaxPool1d(4, 2)\n",
    "\n",
    "        self.conv3 = nn.Conv1d(32, 64, 5)\n",
    "        self.bn3 = nn.BatchNorm1d(64)\n",
    "        self.pool3 = nn.MaxPool1d(6, 2)\n",
    "\n",
    "        self.conv4 = nn.Conv1d(64, 128, 5)\n",
    "        self.bn4 = nn.BatchNorm1d(128)\n",
    "        self.pool4 = nn.MaxPool1d(6, 2)\n",
    "\n",
    "\n",
    "        self.flatten = nn.Flatten()\n",
    "        self.dense1 = nn.Linear(128, 64)\n",
    "        self.relu1 = nn.ReLU()\n",
    "        self.dense2 = nn.Linear(64, 5)\n",
    "        # self.relu2 = nn.ReLU()\n",
    "        # self.dense3 = nn.Linear(32, 5)\n",
    "\n",
    "    def forward(self, x):\n",
    "        # TODO: apply your layers here\n",
    "        x = self.conv1(x)\n",
    "        x = self.bn1(x)\n",
    "        x = self.pool1(x)\n",
    "        x = self.conv2(x)\n",
    "        x = self.bn2(x)\n",
    "        x = self.pool2(x)\n",
    "        x = self.conv3(x)\n",
    "        x = self.bn3(x)\n",
    "        x = self.pool3(x)\n",
    "        x = self.conv4(x)\n",
    "        x = self.bn4(x)\n",
    "        x = self.pool4(x)\n",
    "        x = self.flatten(x)\n",
    "        x = self.dense1(x)\n",
    "        x = self.relu1(x)\n",
    "        x = self.dense2(x)\n",
    "        # x = self.relu2(x)\n",
    "        # x = self.dense3(x)\n",
    "        return F.softmax(x)\n",
    "\n",
    "\n",
    "net1d = Net1d().to(device)\n",
    "criterion = nn.CrossEntropyLoss()\n",
    "optimizer = optim.Adam(net1d.parameters(), lr=0.003)#, momentum=0.9)"
   ]
  },
  {
   "cell_type": "code",
   "execution_count": 37,
   "metadata": {
    "colab": {
     "base_uri": "https://localhost:8080/"
    },
    "id": "bzn4MZKnEhGF",
    "outputId": "7d32e17d-0295-49cb-92f4-2ff0efc7ce3c"
   },
   "outputs": [
    {
     "name": "stderr",
     "output_type": "stream",
     "text": [
      "/usr/local/lib/python3.7/dist-packages/ipykernel_launcher.py:54: UserWarning: Implicit dimension choice for softmax has been deprecated. Change the call to include dim=X as an argument.\n"
     ]
    },
    {
     "name": "stdout",
     "output_type": "stream",
     "text": [
      "Epoch [0/20], Step [50/555], loss: 1.610\n",
      "Epoch [0/20], Step [100/555], loss: 1.599\n",
      "Epoch [0/20], Step [150/555], loss: 1.602\n",
      "Epoch [0/20], Step [200/555], loss: 1.596\n",
      "Epoch [0/20], Step [250/555], loss: 1.573\n",
      "Epoch [0/20], Step [300/555], loss: 1.576\n",
      "Epoch [0/20], Step [350/555], loss: 1.549\n",
      "Epoch [0/20], Step [400/555], loss: 1.539\n",
      "Epoch [0/20], Step [450/555], loss: 1.554\n",
      "Epoch [0/20], Step [500/555], loss: 1.536\n",
      "Epoch [0/20], Step [550/555], loss: 1.542\n",
      "Epoch [1/20], Step [50/555], loss: 1.535\n",
      "Epoch [1/20], Step [100/555], loss: 1.528\n",
      "Epoch [1/20], Step [150/555], loss: 1.539\n",
      "Epoch [1/20], Step [200/555], loss: 1.500\n",
      "Epoch [1/20], Step [250/555], loss: 1.541\n",
      "Epoch [1/20], Step [300/555], loss: 1.514\n",
      "Epoch [1/20], Step [350/555], loss: 1.530\n",
      "Epoch [1/20], Step [400/555], loss: 1.500\n",
      "Epoch [1/20], Step [450/555], loss: 1.522\n",
      "Epoch [1/20], Step [500/555], loss: 1.502\n",
      "Epoch [1/20], Step [550/555], loss: 1.512\n",
      "Epoch [2/20], Step [50/555], loss: 1.499\n",
      "Epoch [2/20], Step [100/555], loss: 1.529\n",
      "Epoch [2/20], Step [150/555], loss: 1.509\n",
      "Epoch [2/20], Step [200/555], loss: 1.531\n",
      "Epoch [2/20], Step [250/555], loss: 1.519\n",
      "Epoch [2/20], Step [300/555], loss: 1.520\n",
      "Epoch [2/20], Step [350/555], loss: 1.494\n",
      "Epoch [2/20], Step [400/555], loss: 1.501\n",
      "Epoch [2/20], Step [450/555], loss: 1.503\n",
      "Epoch [2/20], Step [500/555], loss: 1.513\n",
      "Epoch [2/20], Step [550/555], loss: 1.473\n",
      "Epoch [3/20], Step [50/555], loss: 1.496\n",
      "Epoch [3/20], Step [100/555], loss: 1.504\n",
      "Epoch [3/20], Step [150/555], loss: 1.479\n",
      "Epoch [3/20], Step [200/555], loss: 1.491\n",
      "Epoch [3/20], Step [250/555], loss: 1.451\n",
      "Epoch [3/20], Step [300/555], loss: 1.481\n",
      "Epoch [3/20], Step [350/555], loss: 1.469\n",
      "Epoch [3/20], Step [400/555], loss: 1.503\n",
      "Epoch [3/20], Step [450/555], loss: 1.494\n",
      "Epoch [3/20], Step [500/555], loss: 1.479\n",
      "Epoch [3/20], Step [550/555], loss: 1.464\n",
      "Epoch [4/20], Step [50/555], loss: 1.475\n",
      "Epoch [4/20], Step [100/555], loss: 1.458\n",
      "Epoch [4/20], Step [150/555], loss: 1.466\n",
      "Epoch [4/20], Step [200/555], loss: 1.476\n",
      "Epoch [4/20], Step [250/555], loss: 1.454\n",
      "Epoch [4/20], Step [300/555], loss: 1.448\n",
      "Epoch [4/20], Step [350/555], loss: 1.446\n",
      "Epoch [4/20], Step [400/555], loss: 1.482\n",
      "Epoch [4/20], Step [450/555], loss: 1.466\n",
      "Epoch [4/20], Step [500/555], loss: 1.454\n",
      "Epoch [4/20], Step [550/555], loss: 1.445\n",
      "Epoch [5/20], Step [50/555], loss: 1.424\n",
      "Epoch [5/20], Step [100/555], loss: 1.450\n",
      "Epoch [5/20], Step [150/555], loss: 1.464\n",
      "Epoch [5/20], Step [200/555], loss: 1.468\n",
      "Epoch [5/20], Step [250/555], loss: 1.489\n",
      "Epoch [5/20], Step [300/555], loss: 1.471\n",
      "Epoch [5/20], Step [350/555], loss: 1.440\n",
      "Epoch [5/20], Step [400/555], loss: 1.462\n",
      "Epoch [5/20], Step [450/555], loss: 1.466\n",
      "Epoch [5/20], Step [500/555], loss: 1.440\n",
      "Epoch [5/20], Step [550/555], loss: 1.455\n",
      "Epoch [6/20], Step [50/555], loss: 1.434\n",
      "Epoch [6/20], Step [100/555], loss: 1.437\n",
      "Epoch [6/20], Step [150/555], loss: 1.435\n",
      "Epoch [6/20], Step [200/555], loss: 1.440\n",
      "Epoch [6/20], Step [250/555], loss: 1.406\n",
      "Epoch [6/20], Step [300/555], loss: 1.482\n",
      "Epoch [6/20], Step [350/555], loss: 1.429\n",
      "Epoch [6/20], Step [400/555], loss: 1.441\n",
      "Epoch [6/20], Step [450/555], loss: 1.407\n",
      "Epoch [6/20], Step [500/555], loss: 1.426\n",
      "Epoch [6/20], Step [550/555], loss: 1.421\n",
      "Epoch [7/20], Step [50/555], loss: 1.461\n",
      "Epoch [7/20], Step [100/555], loss: 1.403\n",
      "Epoch [7/20], Step [150/555], loss: 1.418\n",
      "Epoch [7/20], Step [200/555], loss: 1.440\n",
      "Epoch [7/20], Step [250/555], loss: 1.410\n",
      "Epoch [7/20], Step [300/555], loss: 1.400\n",
      "Epoch [7/20], Step [350/555], loss: 1.432\n",
      "Epoch [7/20], Step [400/555], loss: 1.472\n",
      "Epoch [7/20], Step [450/555], loss: 1.432\n",
      "Epoch [7/20], Step [500/555], loss: 1.435\n",
      "Epoch [7/20], Step [550/555], loss: 1.445\n",
      "Epoch [8/20], Step [50/555], loss: 1.434\n",
      "Epoch [8/20], Step [100/555], loss: 1.433\n",
      "Epoch [8/20], Step [150/555], loss: 1.425\n",
      "Epoch [8/20], Step [200/555], loss: 1.435\n",
      "Epoch [8/20], Step [250/555], loss: 1.410\n",
      "Epoch [8/20], Step [300/555], loss: 1.437\n",
      "Epoch [8/20], Step [350/555], loss: 1.405\n",
      "Epoch [8/20], Step [400/555], loss: 1.385\n",
      "Epoch [8/20], Step [450/555], loss: 1.419\n",
      "Epoch [8/20], Step [500/555], loss: 1.436\n",
      "Epoch [8/20], Step [550/555], loss: 1.428\n",
      "Epoch [9/20], Step [50/555], loss: 1.393\n",
      "Epoch [9/20], Step [100/555], loss: 1.422\n",
      "Epoch [9/20], Step [150/555], loss: 1.421\n",
      "Epoch [9/20], Step [200/555], loss: 1.428\n",
      "Epoch [9/20], Step [250/555], loss: 1.405\n",
      "Epoch [9/20], Step [300/555], loss: 1.426\n",
      "Epoch [9/20], Step [350/555], loss: 1.381\n",
      "Epoch [9/20], Step [400/555], loss: 1.411\n",
      "Epoch [9/20], Step [450/555], loss: 1.416\n",
      "Epoch [9/20], Step [500/555], loss: 1.462\n",
      "Epoch [9/20], Step [550/555], loss: 1.394\n",
      "Epoch [10/20], Step [50/555], loss: 1.395\n",
      "Epoch [10/20], Step [100/555], loss: 1.389\n",
      "Epoch [10/20], Step [150/555], loss: 1.407\n",
      "Epoch [10/20], Step [200/555], loss: 1.421\n",
      "Epoch [10/20], Step [250/555], loss: 1.405\n",
      "Epoch [10/20], Step [300/555], loss: 1.395\n",
      "Epoch [10/20], Step [350/555], loss: 1.400\n",
      "Epoch [10/20], Step [400/555], loss: 1.403\n",
      "Epoch [10/20], Step [450/555], loss: 1.371\n",
      "Epoch [10/20], Step [500/555], loss: 1.400\n",
      "Epoch [10/20], Step [550/555], loss: 1.427\n",
      "Epoch [11/20], Step [50/555], loss: 1.413\n",
      "Epoch [11/20], Step [100/555], loss: 1.377\n",
      "Epoch [11/20], Step [150/555], loss: 1.406\n",
      "Epoch [11/20], Step [200/555], loss: 1.418\n",
      "Epoch [11/20], Step [250/555], loss: 1.419\n",
      "Epoch [11/20], Step [300/555], loss: 1.394\n",
      "Epoch [11/20], Step [350/555], loss: 1.417\n",
      "Epoch [11/20], Step [400/555], loss: 1.368\n",
      "Epoch [11/20], Step [450/555], loss: 1.406\n",
      "Epoch [11/20], Step [500/555], loss: 1.406\n",
      "Epoch [11/20], Step [550/555], loss: 1.399\n",
      "Epoch [12/20], Step [50/555], loss: 1.380\n",
      "Epoch [12/20], Step [100/555], loss: 1.397\n",
      "Epoch [12/20], Step [150/555], loss: 1.448\n",
      "Epoch [12/20], Step [200/555], loss: 1.391\n",
      "Epoch [12/20], Step [250/555], loss: 1.399\n",
      "Epoch [12/20], Step [300/555], loss: 1.450\n",
      "Epoch [12/20], Step [350/555], loss: 1.390\n",
      "Epoch [12/20], Step [400/555], loss: 1.397\n",
      "Epoch [12/20], Step [450/555], loss: 1.392\n",
      "Epoch [12/20], Step [500/555], loss: 1.408\n",
      "Epoch [12/20], Step [550/555], loss: 1.382\n",
      "Epoch [13/20], Step [50/555], loss: 1.401\n",
      "Epoch [13/20], Step [100/555], loss: 1.397\n",
      "Epoch [13/20], Step [150/555], loss: 1.393\n",
      "Epoch [13/20], Step [200/555], loss: 1.383\n",
      "Epoch [13/20], Step [250/555], loss: 1.387\n",
      "Epoch [13/20], Step [300/555], loss: 1.403\n",
      "Epoch [13/20], Step [350/555], loss: 1.361\n",
      "Epoch [13/20], Step [400/555], loss: 1.367\n",
      "Epoch [13/20], Step [450/555], loss: 1.370\n",
      "Epoch [13/20], Step [500/555], loss: 1.402\n",
      "Epoch [13/20], Step [550/555], loss: 1.401\n",
      "Epoch [14/20], Step [50/555], loss: 1.374\n",
      "Epoch [14/20], Step [100/555], loss: 1.373\n",
      "Epoch [14/20], Step [150/555], loss: 1.403\n",
      "Epoch [14/20], Step [200/555], loss: 1.387\n",
      "Epoch [14/20], Step [250/555], loss: 1.400\n",
      "Epoch [14/20], Step [300/555], loss: 1.417\n",
      "Epoch [14/20], Step [350/555], loss: 1.368\n",
      "Epoch [14/20], Step [400/555], loss: 1.410\n",
      "Epoch [14/20], Step [450/555], loss: 1.400\n",
      "Epoch [14/20], Step [500/555], loss: 1.388\n",
      "Epoch [14/20], Step [550/555], loss: 1.431\n",
      "Epoch [15/20], Step [50/555], loss: 1.392\n",
      "Epoch [15/20], Step [100/555], loss: 1.386\n",
      "Epoch [15/20], Step [150/555], loss: 1.373\n",
      "Epoch [15/20], Step [200/555], loss: 1.354\n",
      "Epoch [15/20], Step [250/555], loss: 1.377\n",
      "Epoch [15/20], Step [300/555], loss: 1.369\n",
      "Epoch [15/20], Step [350/555], loss: 1.380\n",
      "Epoch [15/20], Step [400/555], loss: 1.389\n",
      "Epoch [15/20], Step [450/555], loss: 1.383\n",
      "Epoch [15/20], Step [500/555], loss: 1.407\n",
      "Epoch [15/20], Step [550/555], loss: 1.380\n",
      "Epoch [16/20], Step [50/555], loss: 1.386\n",
      "Epoch [16/20], Step [100/555], loss: 1.347\n",
      "Epoch [16/20], Step [150/555], loss: 1.398\n",
      "Epoch [16/20], Step [200/555], loss: 1.378\n",
      "Epoch [16/20], Step [250/555], loss: 1.377\n",
      "Epoch [16/20], Step [300/555], loss: 1.366\n",
      "Epoch [16/20], Step [350/555], loss: 1.383\n",
      "Epoch [16/20], Step [400/555], loss: 1.379\n",
      "Epoch [16/20], Step [450/555], loss: 1.367\n",
      "Epoch [16/20], Step [500/555], loss: 1.383\n",
      "Epoch [16/20], Step [550/555], loss: 1.402\n",
      "Epoch [17/20], Step [50/555], loss: 1.382\n",
      "Epoch [17/20], Step [100/555], loss: 1.398\n",
      "Epoch [17/20], Step [150/555], loss: 1.381\n",
      "Epoch [17/20], Step [200/555], loss: 1.366\n",
      "Epoch [17/20], Step [250/555], loss: 1.390\n",
      "Epoch [17/20], Step [300/555], loss: 1.406\n",
      "Epoch [17/20], Step [350/555], loss: 1.378\n",
      "Epoch [17/20], Step [400/555], loss: 1.336\n",
      "Epoch [17/20], Step [450/555], loss: 1.369\n",
      "Epoch [17/20], Step [500/555], loss: 1.379\n",
      "Epoch [17/20], Step [550/555], loss: 1.369\n",
      "Epoch [18/20], Step [50/555], loss: 1.375\n",
      "Epoch [18/20], Step [100/555], loss: 1.388\n",
      "Epoch [18/20], Step [150/555], loss: 1.371\n",
      "Epoch [18/20], Step [200/555], loss: 1.378\n",
      "Epoch [18/20], Step [250/555], loss: 1.380\n",
      "Epoch [18/20], Step [300/555], loss: 1.394\n",
      "Epoch [18/20], Step [350/555], loss: 1.360\n",
      "Epoch [18/20], Step [400/555], loss: 1.383\n",
      "Epoch [18/20], Step [450/555], loss: 1.390\n",
      "Epoch [18/20], Step [500/555], loss: 1.425\n",
      "Epoch [18/20], Step [550/555], loss: 1.400\n",
      "Epoch [19/20], Step [50/555], loss: 1.378\n",
      "Epoch [19/20], Step [100/555], loss: 1.359\n",
      "Epoch [19/20], Step [150/555], loss: 1.368\n",
      "Epoch [19/20], Step [200/555], loss: 1.358\n",
      "Epoch [19/20], Step [250/555], loss: 1.392\n",
      "Epoch [19/20], Step [300/555], loss: 1.367\n",
      "Epoch [19/20], Step [350/555], loss: 1.369\n",
      "Epoch [19/20], Step [400/555], loss: 1.385\n",
      "Epoch [19/20], Step [450/555], loss: 1.358\n",
      "Epoch [19/20], Step [500/555], loss: 1.378\n",
      "Epoch [19/20], Step [550/555], loss: 1.370\n",
      "Finished Training\n"
     ]
    }
   ],
   "source": [
    "epoch_losses1d = model_train(net1d, trainloader1d, 20)"
   ]
  },
  {
   "cell_type": "code",
   "execution_count": 39,
   "metadata": {
    "colab": {
     "base_uri": "https://localhost:8080/"
    },
    "id": "Z__ZvrLjgqg-",
    "outputId": "4a81c456-30a3-4f31-8bc4-c250586fd66c"
   },
   "outputs": [
    {
     "name": "stderr",
     "output_type": "stream",
     "text": [
      "/usr/local/lib/python3.7/dist-packages/ipykernel_launcher.py:54: UserWarning: Implicit dimension choice for softmax has been deprecated. Change the call to include dim=X as an argument.\n"
     ]
    },
    {
     "name": "stdout",
     "output_type": "stream",
     "text": [
      "Accuracy for class left  is: 70.9 %\n",
      "Accuracy for class right is: 51.2 %\n",
      "Accuracy for class up    is: 50.2 %\n",
      "Accuracy for class down  is: 42.4 %\n",
      "Accuracy for class stop  is: 48.5 %\n",
      "Total accuracy: 52 %\n"
     ]
    }
   ],
   "source": [
    "model_predict(net1d, testloader1d)"
   ]
  },
  {
   "cell_type": "markdown",
   "metadata": {
    "id": "JVs8tJMS1NN-"
   },
   "source": [
    "### Сравнение лоссов\n",
    "Модель с 2d-свертками побеждает"
   ]
  },
  {
   "cell_type": "code",
   "execution_count": 41,
   "metadata": {
    "colab": {
     "base_uri": "https://localhost:8080/",
     "height": 312
    },
    "id": "ocofSxBC07xZ",
    "outputId": "f768310e-2968-45c7-9f1f-456f9946343e"
   },
   "outputs": [
    {
     "data": {
      "text/plain": [
       "Text(0.5, 1.0, 'Losses')"
      ]
     },
     "execution_count": 41,
     "metadata": {},
     "output_type": "execute_result"
    },
    {
     "data": {
      "image/png": "[encoded data removed]",
      "text/plain": [
       "<Figure size 432x288 with 1 Axes>"
      ]
     },
     "metadata": {
      "needs_background": "light"
     },
     "output_type": "display_data"
    }
   ],
   "source": [
    "plt.plot(epoch_losses, '-', label='conv2d')\n",
    "plt.plot(epoch_losses1d, '-', label='conv1d')\n",
    "plt.xlabel('epoch')\n",
    "plt.ylabel('loss')\n",
    "plt.grid()\n",
    "plt.legend()\n",
    "plt.title('Losses')"
   ]
  },
  {
   "cell_type": "markdown",
   "metadata": {
    "id": "5hiBQK6M1a7Y"
   },
   "source": [
    "### Используем готовую модель: ResNet"
   ]
  },
  {
   "cell_type": "code",
   "execution_count": 52,
   "metadata": {
    "colab": {
     "base_uri": "https://localhost:8080/"
    },
    "id": "_YgnzbI-zB99",
    "outputId": "170e1d40-6f4e-49e2-b188-e6c38887108a"
   },
   "outputs": [
    {
     "name": "stdout",
     "output_type": "stream",
     "text": [
      "ResNet(\n",
      "  (conv1): Conv2d(1, 64, kernel_size=(7, 7), stride=(2, 2), padding=(3, 3), bias=False)\n",
      "  (bn1): BatchNorm2d(64, eps=1e-05, momentum=0.1, affine=True, track_running_stats=True)\n",
      "  (relu): ReLU(inplace=True)\n",
      "  (maxpool): MaxPool2d(kernel_size=3, stride=2, padding=1, dilation=1, ceil_mode=False)\n",
      "  (layer1): Sequential(\n",
      "    (0): BasicBlock(\n",
      "      (conv1): Conv2d(64, 64, kernel_size=(3, 3), stride=(1, 1), padding=(1, 1), bias=False)\n",
      "      (bn1): BatchNorm2d(64, eps=1e-05, momentum=0.1, affine=True, track_running_stats=True)\n",
      "      (relu): ReLU(inplace=True)\n",
      "      (conv2): Conv2d(64, 64, kernel_size=(3, 3), stride=(1, 1), padding=(1, 1), bias=False)\n",
      "      (bn2): BatchNorm2d(64, eps=1e-05, momentum=0.1, affine=True, track_running_stats=True)\n",
      "    )\n",
      "    (1): BasicBlock(\n",
      "      (conv1): Conv2d(64, 64, kernel_size=(3, 3), stride=(1, 1), padding=(1, 1), bias=False)\n",
      "      (bn1): BatchNorm2d(64, eps=1e-05, momentum=0.1, affine=True, track_running_stats=True)\n",
      "      (relu): ReLU(inplace=True)\n",
      "      (conv2): Conv2d(64, 64, kernel_size=(3, 3), stride=(1, 1), padding=(1, 1), bias=False)\n",
      "      (bn2): BatchNorm2d(64, eps=1e-05, momentum=0.1, affine=True, track_running_stats=True)\n",
      "    )\n",
      "  )\n",
      "  (layer2): Sequential(\n",
      "    (0): BasicBlock(\n",
      "      (conv1): Conv2d(64, 128, kernel_size=(3, 3), stride=(2, 2), padding=(1, 1), bias=False)\n",
      "      (bn1): BatchNorm2d(128, eps=1e-05, momentum=0.1, affine=True, track_running_stats=True)\n",
      "      (relu): ReLU(inplace=True)\n",
      "      (conv2): Conv2d(128, 128, kernel_size=(3, 3), stride=(1, 1), padding=(1, 1), bias=False)\n",
      "      (bn2): BatchNorm2d(128, eps=1e-05, momentum=0.1, affine=True, track_running_stats=True)\n",
      "      (downsample): Sequential(\n",
      "        (0): Conv2d(64, 128, kernel_size=(1, 1), stride=(2, 2), bias=False)\n",
      "        (1): BatchNorm2d(128, eps=1e-05, momentum=0.1, affine=True, track_running_stats=True)\n",
      "      )\n",
      "    )\n",
      "    (1): BasicBlock(\n",
      "      (conv1): Conv2d(128, 128, kernel_size=(3, 3), stride=(1, 1), padding=(1, 1), bias=False)\n",
      "      (bn1): BatchNorm2d(128, eps=1e-05, momentum=0.1, affine=True, track_running_stats=True)\n",
      "      (relu): ReLU(inplace=True)\n",
      "      (conv2): Conv2d(128, 128, kernel_size=(3, 3), stride=(1, 1), padding=(1, 1), bias=False)\n",
      "      (bn2): BatchNorm2d(128, eps=1e-05, momentum=0.1, affine=True, track_running_stats=True)\n",
      "    )\n",
      "  )\n",
      "  (layer3): Sequential(\n",
      "    (0): BasicBlock(\n",
      "      (conv1): Conv2d(128, 256, kernel_size=(3, 3), stride=(2, 2), padding=(1, 1), bias=False)\n",
      "      (bn1): BatchNorm2d(256, eps=1e-05, momentum=0.1, affine=True, track_running_stats=True)\n",
      "      (relu): ReLU(inplace=True)\n",
      "      (conv2): Conv2d(256, 256, kernel_size=(3, 3), stride=(1, 1), padding=(1, 1), bias=False)\n",
      "      (bn2): BatchNorm2d(256, eps=1e-05, momentum=0.1, affine=True, track_running_stats=True)\n",
      "      (downsample): Sequential(\n",
      "        (0): Conv2d(128, 256, kernel_size=(1, 1), stride=(2, 2), bias=False)\n",
      "        (1): BatchNorm2d(256, eps=1e-05, momentum=0.1, affine=True, track_running_stats=True)\n",
      "      )\n",
      "    )\n",
      "    (1): BasicBlock(\n",
      "      (conv1): Conv2d(256, 256, kernel_size=(3, 3), stride=(1, 1), padding=(1, 1), bias=False)\n",
      "      (bn1): BatchNorm2d(256, eps=1e-05, momentum=0.1, affine=True, track_running_stats=True)\n",
      "      (relu): ReLU(inplace=True)\n",
      "      (conv2): Conv2d(256, 256, kernel_size=(3, 3), stride=(1, 1), padding=(1, 1), bias=False)\n",
      "      (bn2): BatchNorm2d(256, eps=1e-05, momentum=0.1, affine=True, track_running_stats=True)\n",
      "    )\n",
      "  )\n",
      "  (layer4): Sequential(\n",
      "    (0): BasicBlock(\n",
      "      (conv1): Conv2d(256, 512, kernel_size=(3, 3), stride=(2, 2), padding=(1, 1), bias=False)\n",
      "      (bn1): BatchNorm2d(512, eps=1e-05, momentum=0.1, affine=True, track_running_stats=True)\n",
      "      (relu): ReLU(inplace=True)\n",
      "      (conv2): Conv2d(512, 512, kernel_size=(3, 3), stride=(1, 1), padding=(1, 1), bias=False)\n",
      "      (bn2): BatchNorm2d(512, eps=1e-05, momentum=0.1, affine=True, track_running_stats=True)\n",
      "      (downsample): Sequential(\n",
      "        (0): Conv2d(256, 512, kernel_size=(1, 1), stride=(2, 2), bias=False)\n",
      "        (1): BatchNorm2d(512, eps=1e-05, momentum=0.1, affine=True, track_running_stats=True)\n",
      "      )\n",
      "    )\n",
      "    (1): BasicBlock(\n",
      "      (conv1): Conv2d(512, 512, kernel_size=(3, 3), stride=(1, 1), padding=(1, 1), bias=False)\n",
      "      (bn1): BatchNorm2d(512, eps=1e-05, momentum=0.1, affine=True, track_running_stats=True)\n",
      "      (relu): ReLU(inplace=True)\n",
      "      (conv2): Conv2d(512, 512, kernel_size=(3, 3), stride=(1, 1), padding=(1, 1), bias=False)\n",
      "      (bn2): BatchNorm2d(512, eps=1e-05, momentum=0.1, affine=True, track_running_stats=True)\n",
      "    )\n",
      "  )\n",
      "  (avgpool): AdaptiveAvgPool2d(output_size=(1, 1))\n",
      "  (fc): Linear(in_features=512, out_features=1000, bias=True)\n",
      ")\n"
     ]
    }
   ],
   "source": [
    "import torchvision.models as models\n",
    "\n",
    "resnet = models.resnet.resnet18()\n",
    "resnet.conv1 = nn.Conv2d(1, 64, kernel_size=7, stride=2, padding=3, bias=False)\n",
    "resnet = resnet.to(device)\n",
    "print(resnet)"
   ]
  },
  {
   "cell_type": "code",
   "execution_count": 53,
   "metadata": {
    "id": "wE031kP0zEgt"
   },
   "outputs": [],
   "source": [
    "criterion = nn.CrossEntropyLoss()\n",
    "optimizer = optim.Adam(resnet.parameters(), lr=0.003)#, momentum=0.9)"
   ]
  },
  {
   "cell_type": "code",
   "execution_count": 54,
   "metadata": {
    "colab": {
     "base_uri": "https://localhost:8080/"
    },
    "id": "NZWdLn4hJSzY",
    "outputId": "1f504bb1-f194-435a-f90a-3a3822a8aea2"
   },
   "outputs": [
    {
     "name": "stdout",
     "output_type": "stream",
     "text": [
      "Epoch [0/20], Step [50/555], loss: 2.114\n",
      "Epoch [0/20], Step [100/555], loss: 1.685\n",
      "Epoch [0/20], Step [150/555], loss: 1.682\n",
      "Epoch [0/20], Step [200/555], loss: 1.511\n",
      "Epoch [0/20], Step [250/555], loss: 1.433\n",
      "Epoch [0/20], Step [300/555], loss: 1.306\n",
      "Epoch [0/20], Step [350/555], loss: 1.250\n",
      "Epoch [0/20], Step [400/555], loss: 1.116\n",
      "Epoch [0/20], Step [450/555], loss: 0.958\n",
      "Epoch [0/20], Step [500/555], loss: 0.810\n",
      "Epoch [0/20], Step [550/555], loss: 0.718\n",
      "Epoch [1/20], Step [50/555], loss: 0.624\n",
      "Epoch [1/20], Step [100/555], loss: 0.580\n",
      "Epoch [1/20], Step [150/555], loss: 0.515\n",
      "Epoch [1/20], Step [200/555], loss: 0.598\n",
      "Epoch [1/20], Step [250/555], loss: 0.475\n",
      "Epoch [1/20], Step [300/555], loss: 0.420\n",
      "Epoch [1/20], Step [350/555], loss: 0.465\n",
      "Epoch [1/20], Step [400/555], loss: 0.371\n",
      "Epoch [1/20], Step [450/555], loss: 0.375\n",
      "Epoch [1/20], Step [500/555], loss: 0.344\n",
      "Epoch [1/20], Step [550/555], loss: 0.324\n",
      "Epoch [2/20], Step [50/555], loss: 0.311\n",
      "Epoch [2/20], Step [100/555], loss: 0.300\n",
      "Epoch [2/20], Step [150/555], loss: 0.341\n",
      "Epoch [2/20], Step [200/555], loss: 0.362\n",
      "Epoch [2/20], Step [250/555], loss: 0.311\n",
      "Epoch [2/20], Step [300/555], loss: 0.314\n",
      "Epoch [2/20], Step [350/555], loss: 0.241\n",
      "Epoch [2/20], Step [400/555], loss: 0.306\n",
      "Epoch [2/20], Step [450/555], loss: 0.297\n",
      "Epoch [2/20], Step [500/555], loss: 0.298\n",
      "Epoch [2/20], Step [550/555], loss: 0.276\n",
      "Epoch [3/20], Step [50/555], loss: 0.296\n",
      "Epoch [3/20], Step [100/555], loss: 0.285\n",
      "Epoch [3/20], Step [150/555], loss: 0.179\n",
      "Epoch [3/20], Step [200/555], loss: 0.252\n",
      "Epoch [3/20], Step [250/555], loss: 0.320\n",
      "Epoch [3/20], Step [300/555], loss: 0.228\n",
      "Epoch [3/20], Step [350/555], loss: 0.260\n",
      "Epoch [3/20], Step [400/555], loss: 0.226\n",
      "Epoch [3/20], Step [450/555], loss: 0.229\n",
      "Epoch [3/20], Step [500/555], loss: 0.186\n",
      "Epoch [3/20], Step [550/555], loss: 0.249\n",
      "Epoch [4/20], Step [50/555], loss: 0.207\n",
      "Epoch [4/20], Step [100/555], loss: 0.222\n",
      "Epoch [4/20], Step [150/555], loss: 0.177\n",
      "Epoch [4/20], Step [200/555], loss: 0.152\n",
      "Epoch [4/20], Step [250/555], loss: 0.225\n",
      "Epoch [4/20], Step [300/555], loss: 0.210\n",
      "Epoch [4/20], Step [350/555], loss: 0.244\n",
      "Epoch [4/20], Step [400/555], loss: 0.220\n",
      "Epoch [4/20], Step [450/555], loss: 0.207\n",
      "Epoch [4/20], Step [500/555], loss: 0.183\n",
      "Epoch [4/20], Step [550/555], loss: 0.166\n",
      "Epoch [5/20], Step [50/555], loss: 0.251\n",
      "Epoch [5/20], Step [100/555], loss: 0.195\n",
      "Epoch [5/20], Step [150/555], loss: 0.190\n",
      "Epoch [5/20], Step [200/555], loss: 0.152\n",
      "Epoch [5/20], Step [250/555], loss: 0.175\n",
      "Epoch [5/20], Step [300/555], loss: 0.176\n",
      "Epoch [5/20], Step [350/555], loss: 0.148\n",
      "Epoch [5/20], Step [400/555], loss: 0.136\n",
      "Epoch [5/20], Step [450/555], loss: 0.239\n",
      "Epoch [5/20], Step [500/555], loss: 0.147\n",
      "Epoch [5/20], Step [550/555], loss: 0.127\n",
      "Epoch [6/20], Step [50/555], loss: 0.129\n",
      "Epoch [6/20], Step [100/555], loss: 0.111\n",
      "Epoch [6/20], Step [150/555], loss: 0.141\n",
      "Epoch [6/20], Step [200/555], loss: 0.146\n",
      "Epoch [6/20], Step [250/555], loss: 0.135\n",
      "Epoch [6/20], Step [300/555], loss: 0.134\n",
      "Epoch [6/20], Step [350/555], loss: 0.141\n",
      "Epoch [6/20], Step [400/555], loss: 0.238\n",
      "Epoch [6/20], Step [450/555], loss: 0.184\n",
      "Epoch [6/20], Step [500/555], loss: 0.118\n",
      "Epoch [6/20], Step [550/555], loss: 0.168\n",
      "Epoch [7/20], Step [50/555], loss: 0.126\n",
      "Epoch [7/20], Step [100/555], loss: 0.150\n",
      "Epoch [7/20], Step [150/555], loss: 0.149\n",
      "Epoch [7/20], Step [200/555], loss: 0.144\n",
      "Epoch [7/20], Step [250/555], loss: 0.119\n",
      "Epoch [7/20], Step [300/555], loss: 0.165\n",
      "Epoch [7/20], Step [350/555], loss: 0.150\n",
      "Epoch [7/20], Step [400/555], loss: 0.130\n",
      "Epoch [7/20], Step [450/555], loss: 0.135\n",
      "Epoch [7/20], Step [500/555], loss: 0.140\n",
      "Epoch [7/20], Step [550/555], loss: 0.121\n",
      "Epoch [8/20], Step [50/555], loss: 0.146\n",
      "Epoch [8/20], Step [100/555], loss: 0.119\n",
      "Epoch [8/20], Step [150/555], loss: 0.078\n",
      "Epoch [8/20], Step [200/555], loss: 0.109\n",
      "Epoch [8/20], Step [250/555], loss: 0.120\n",
      "Epoch [8/20], Step [300/555], loss: 0.131\n",
      "Epoch [8/20], Step [350/555], loss: 0.159\n",
      "Epoch [8/20], Step [400/555], loss: 0.095\n",
      "Epoch [8/20], Step [450/555], loss: 0.146\n",
      "Epoch [8/20], Step [500/555], loss: 0.175\n",
      "Epoch [8/20], Step [550/555], loss: 0.127\n",
      "Epoch [9/20], Step [50/555], loss: 0.069\n",
      "Epoch [9/20], Step [100/555], loss: 0.118\n",
      "Epoch [9/20], Step [150/555], loss: 0.068\n",
      "Epoch [9/20], Step [200/555], loss: 0.080\n",
      "Epoch [9/20], Step [250/555], loss: 0.132\n",
      "Epoch [9/20], Step [300/555], loss: 0.159\n",
      "Epoch [9/20], Step [350/555], loss: 0.127\n",
      "Epoch [9/20], Step [400/555], loss: 0.110\n",
      "Epoch [9/20], Step [450/555], loss: 0.103\n",
      "Epoch [9/20], Step [500/555], loss: 0.173\n",
      "Epoch [9/20], Step [550/555], loss: 0.175\n",
      "Epoch [10/20], Step [50/555], loss: 0.086\n",
      "Epoch [10/20], Step [100/555], loss: 0.066\n",
      "Epoch [10/20], Step [150/555], loss: 0.095\n",
      "Epoch [10/20], Step [200/555], loss: 0.076\n",
      "Epoch [10/20], Step [250/555], loss: 0.106\n",
      "Epoch [10/20], Step [300/555], loss: 0.082\n",
      "Epoch [10/20], Step [350/555], loss: 0.086\n",
      "Epoch [10/20], Step [400/555], loss: 0.086\n",
      "Epoch [10/20], Step [450/555], loss: 0.098\n",
      "Epoch [10/20], Step [500/555], loss: 0.119\n",
      "Epoch [10/20], Step [550/555], loss: 0.121\n",
      "Epoch [11/20], Step [50/555], loss: 0.105\n",
      "Epoch [11/20], Step [100/555], loss: 0.074\n",
      "Epoch [11/20], Step [150/555], loss: 0.102\n",
      "Epoch [11/20], Step [200/555], loss: 0.074\n",
      "Epoch [11/20], Step [250/555], loss: 0.118\n",
      "Epoch [11/20], Step [300/555], loss: 0.085\n",
      "Epoch [11/20], Step [350/555], loss: 0.136\n",
      "Epoch [11/20], Step [400/555], loss: 0.098\n",
      "Epoch [11/20], Step [450/555], loss: 0.095\n",
      "Epoch [11/20], Step [500/555], loss: 0.066\n",
      "Epoch [11/20], Step [550/555], loss: 0.075\n",
      "Epoch [12/20], Step [50/555], loss: 0.072\n",
      "Epoch [12/20], Step [100/555], loss: 0.056\n",
      "Epoch [12/20], Step [150/555], loss: 0.074\n",
      "Epoch [12/20], Step [200/555], loss: 0.064\n",
      "Epoch [12/20], Step [250/555], loss: 0.108\n",
      "Epoch [12/20], Step [300/555], loss: 0.082\n",
      "Epoch [12/20], Step [350/555], loss: 0.071\n",
      "Epoch [12/20], Step [400/555], loss: 0.086\n",
      "Epoch [12/20], Step [450/555], loss: 0.119\n",
      "Epoch [12/20], Step [500/555], loss: 0.108\n",
      "Epoch [12/20], Step [550/555], loss: 0.063\n",
      "Epoch [13/20], Step [50/555], loss: 0.064\n",
      "Epoch [13/20], Step [100/555], loss: 0.066\n",
      "Epoch [13/20], Step [150/555], loss: 0.086\n",
      "Epoch [13/20], Step [200/555], loss: 0.091\n",
      "Epoch [13/20], Step [250/555], loss: 0.064\n",
      "Epoch [13/20], Step [300/555], loss: 0.070\n",
      "Epoch [13/20], Step [350/555], loss: 0.064\n",
      "Epoch [13/20], Step [400/555], loss: 0.099\n",
      "Epoch [13/20], Step [450/555], loss: 0.117\n",
      "Epoch [13/20], Step [500/555], loss: 0.087\n",
      "Epoch [13/20], Step [550/555], loss: 0.089\n",
      "Epoch [14/20], Step [50/555], loss: 0.051\n",
      "Epoch [14/20], Step [100/555], loss: 0.045\n",
      "Epoch [14/20], Step [150/555], loss: 0.056\n",
      "Epoch [14/20], Step [200/555], loss: 0.045\n",
      "Epoch [14/20], Step [250/555], loss: 0.047\n",
      "Epoch [14/20], Step [300/555], loss: 0.055\n",
      "Epoch [14/20], Step [350/555], loss: 0.111\n",
      "Epoch [14/20], Step [400/555], loss: 0.104\n",
      "Epoch [14/20], Step [450/555], loss: 0.087\n",
      "Epoch [14/20], Step [500/555], loss: 0.054\n",
      "Epoch [14/20], Step [550/555], loss: 0.061\n",
      "Epoch [15/20], Step [50/555], loss: 0.043\n",
      "Epoch [15/20], Step [100/555], loss: 0.054\n",
      "Epoch [15/20], Step [150/555], loss: 0.063\n",
      "Epoch [15/20], Step [200/555], loss: 0.142\n",
      "Epoch [15/20], Step [250/555], loss: 0.076\n",
      "Epoch [15/20], Step [300/555], loss: 0.080\n",
      "Epoch [15/20], Step [350/555], loss: 0.067\n",
      "Epoch [15/20], Step [400/555], loss: 0.071\n",
      "Epoch [15/20], Step [450/555], loss: 0.091\n",
      "Epoch [15/20], Step [500/555], loss: 0.082\n",
      "Epoch [15/20], Step [550/555], loss: 0.050\n",
      "Epoch [16/20], Step [50/555], loss: 0.034\n",
      "Epoch [16/20], Step [100/555], loss: 0.060\n",
      "Epoch [16/20], Step [150/555], loss: 0.074\n",
      "Epoch [16/20], Step [200/555], loss: 0.057\n",
      "Epoch [16/20], Step [250/555], loss: 0.078\n",
      "Epoch [16/20], Step [300/555], loss: 0.053\n",
      "Epoch [16/20], Step [350/555], loss: 0.047\n",
      "Epoch [16/20], Step [400/555], loss: 0.049\n",
      "Epoch [16/20], Step [450/555], loss: 0.079\n",
      "Epoch [16/20], Step [500/555], loss: 0.096\n",
      "Epoch [16/20], Step [550/555], loss: 0.072\n",
      "Epoch [17/20], Step [50/555], loss: 0.088\n",
      "Epoch [17/20], Step [100/555], loss: 0.048\n",
      "Epoch [17/20], Step [150/555], loss: 0.072\n",
      "Epoch [17/20], Step [200/555], loss: 0.055\n",
      "Epoch [17/20], Step [250/555], loss: 0.093\n",
      "Epoch [17/20], Step [300/555], loss: 0.049\n",
      "Epoch [17/20], Step [350/555], loss: 0.060\n",
      "Epoch [17/20], Step [400/555], loss: 0.177\n",
      "Epoch [17/20], Step [450/555], loss: 0.102\n",
      "Epoch [17/20], Step [500/555], loss: 0.081\n",
      "Epoch [17/20], Step [550/555], loss: 0.056\n",
      "Epoch [18/20], Step [50/555], loss: 0.035\n",
      "Epoch [18/20], Step [100/555], loss: 0.047\n",
      "Epoch [18/20], Step [150/555], loss: 0.032\n",
      "Epoch [18/20], Step [200/555], loss: 0.028\n",
      "Epoch [18/20], Step [250/555], loss: 0.029\n",
      "Epoch [18/20], Step [300/555], loss: 0.046\n",
      "Epoch [18/20], Step [350/555], loss: 0.055\n",
      "Epoch [18/20], Step [400/555], loss: 0.069\n",
      "Epoch [18/20], Step [450/555], loss: 0.073\n",
      "Epoch [18/20], Step [500/555], loss: 0.069\n",
      "Epoch [18/20], Step [550/555], loss: 0.075\n",
      "Epoch [19/20], Step [50/555], loss: 0.051\n",
      "Epoch [19/20], Step [100/555], loss: 0.044\n",
      "Epoch [19/20], Step [150/555], loss: 0.085\n",
      "Epoch [19/20], Step [200/555], loss: 0.055\n",
      "Epoch [19/20], Step [250/555], loss: 0.088\n",
      "Epoch [19/20], Step [300/555], loss: 0.034\n",
      "Epoch [19/20], Step [350/555], loss: 0.045\n",
      "Epoch [19/20], Step [400/555], loss: 0.041\n",
      "Epoch [19/20], Step [450/555], loss: 0.027\n",
      "Epoch [19/20], Step [500/555], loss: 0.058\n",
      "Epoch [19/20], Step [550/555], loss: 0.075\n",
      "Finished Training\n"
     ]
    }
   ],
   "source": [
    "epoch_losses_resnet = model_train(resnet, trainloader, 20)"
   ]
  },
  {
   "cell_type": "code",
   "execution_count": 56,
   "metadata": {
    "colab": {
     "base_uri": "https://localhost:8080/"
    },
    "id": "UTcxK4eF-jvP",
    "outputId": "697e9fb9-93be-4a88-a27d-d370e96f1b59"
   },
   "outputs": [
    {
     "name": "stdout",
     "output_type": "stream",
     "text": [
      "Accuracy for class left  is: 93.9 %\n",
      "Accuracy for class right is: 96.9 %\n",
      "Accuracy for class up    is: 97.3 %\n",
      "Accuracy for class down  is: 90.4 %\n",
      "Accuracy for class stop  is: 89.6 %\n",
      "Total accuracy: 93 %\n"
     ]
    }
   ],
   "source": [
    "model_predict(resnet, testloader)"
   ]
  },
  {
   "cell_type": "markdown",
   "metadata": {
    "id": "biCn_-5G8pBE"
   },
   "source": [
    "### Какое восхитительное качество показала модель ResNet!\n",
    "\n",
    "Ниже для сравнения приведены лоссы трех моделей. ResNet справляется очень хорошо:)"
   ]
  },
  {
   "cell_type": "code",
   "execution_count": 57,
   "metadata": {
    "colab": {
     "base_uri": "https://localhost:8080/",
     "height": 312
    },
    "id": "mTbJlIok8NDJ",
    "outputId": "4e9d007a-90eb-4eed-bce1-397ea4bd431b"
   },
   "outputs": [
    {
     "data": {
      "text/plain": [
       "Text(0.5, 1.0, 'Losses')"
      ]
     },
     "execution_count": 57,
     "metadata": {},
     "output_type": "execute_result"
    },
    {
     "data": {
      "image/png": "[encoded data removed]",
      "text/plain": [
       "<Figure size 432x288 with 1 Axes>"
      ]
     },
     "metadata": {
      "needs_background": "light"
     },
     "output_type": "display_data"
    }
   ],
   "source": [
    "plt.plot(epoch_losses, '-', label='conv2d')\n",
    "plt.plot(epoch_losses1d, '-', label='conv1d')\n",
    "plt.plot(epoch_losses_resnet, '-', label='resnet')\n",
    "plt.xlabel('epoch')\n",
    "plt.ylabel('loss')\n",
    "plt.grid()\n",
    "plt.legend()\n",
    "plt.title('Losses')"
   ]
  },
  {
   "cell_type": "markdown",
   "metadata": {
    "id": "ojEuXjx5DlDW"
   },
   "source": [
    "Train a model: finally, lets' build and train a classifier neural network. You can use any library you like. If in doubt, consult the model & training tips below."
   ]
  },
  {
   "cell_type": "markdown",
   "metadata": {
    "id": "hwgnOrZy1E8p"
   },
   "source": [
    "__Training tips:__ here's what you can try:\n",
    "* __Layers:__ 1d or 2d convolutions, perhaps with some batch normalization in between;\n",
    "* __Architecture:__ VGG-like, residual, highway, densely-connected, MatchboxNet, Dilated convs - you name it :)\n",
    "* __Batch size matters:__ smaller batches usually train slower but better. Try to find the one that suits you best.\n",
    "* __Data augmentation:__ add background noise, faster/slower, change pitch;\n",
    "* __Average checkpoints:__ you can make model more stable with [this simple technique (arxiv)](https://arxiv.org/abs/1803.05407)\n",
    "* __For full scale stage:__ make sure you're not losing too much data due to max_length in the pre-processing stage!\n",
    "\n",
    "These are just recommendations. As long as your model works, you're not required to follow them."
   ]
  },
  {
   "cell_type": "markdown",
   "metadata": {
    "id": "Fvf8UCsPDvj2"
   },
   "source": [
    "### Full scale commands recognition (3+ points)\n",
    "\n",
    "Your final task is to train a full-scale voice command spotter and apply it to a video:\n",
    "1. Build the dataset with all 30+ classes (directions, digits, names, etc.)\n",
    "  * __Optional:__ include a special \"noise\" class that contains random unrelated sounds\n",
    "  * You can download youtube videos with [`youtube-dl`](https://ytdl-org.github.io/youtube-dl/index.html) library.\n",
    "2. Train a model on this full dataset. Kudos for tuning its accuracy :)\n",
    "3. Apply it to a audio/video of your choice to spot the occurences of each keyword\n",
    " * Here's one [video about primes](https://www.youtube.com/watch?v=EK32jo7i5LQ) that you can try. It should be full of numbers :)\n",
    " * There are multiple ways you can analyze the performance of your network, e.g. plot probabilities predicted for every time-step. Chances are you'll discover something useful about how to improve your model :)\n",
    "\n",
    "\n",
    "Please briefly describe what you did in a short informal report."
   ]
  },
  {
   "cell_type": "markdown",
   "metadata": {
    "id": "uo3P6bMNriIj"
   },
   "source": [
    "### Обучение на всем датасете\n",
    "Датасет слишком большой, поэтому пришлось обрабатывать его по частям. В ноутбуке финальные файлы"
   ]
  },
  {
   "cell_type": "code",
   "execution_count": 4,
   "metadata": {
    "colab": {
     "base_uri": "https://localhost:8080/"
    },
    "id": "Tfc5o7cwvBuC",
    "outputId": "c7da5f02-0ccc-402c-d538-22a9e95d6daf"
   },
   "outputs": [
    {
     "name": "stdout",
     "output_type": "stream",
     "text": [
      "Mounted at /content/drive\n"
     ]
    }
   ],
   "source": [
    "from google.colab import drive\n",
    "drive.mount('/content/drive')"
   ]
  },
  {
   "cell_type": "code",
   "execution_count": 5,
   "metadata": {
    "id": "9hWycdhJwayr"
   },
   "outputs": [],
   "source": [
    "with open('/content/drive/MyDrive/speech_technology/X_train.pickle', 'rb') as f:\n",
    "  X_train = pickle.load(f)\n",
    "  \n",
    "with open('/content/drive/MyDrive/speech_technology/X_test.pickle', 'rb') as f:\n",
    "  X_test = pickle.load(f)\n",
    "\n",
    "with open('/content/drive/MyDrive/speech_technology/y_train.pickle', 'rb') as f:\n",
    "  y_train = pickle.load(f)\n",
    "\n",
    "with open('/content/drive/MyDrive/speech_technology/y_test.pickle', 'rb') as f:\n",
    "  y_test = pickle.load(f)"
   ]
  },
  {
   "cell_type": "code",
   "execution_count": 6,
   "metadata": {
    "colab": {
     "base_uri": "https://localhost:8080/"
    },
    "id": "FgMZJdoJ_klS",
    "outputId": "789e48ea-7ba2-48d5-8952-35a56a1714d2"
   },
   "outputs": [
    {
     "data": {
      "text/plain": [
       "(48539, 150, 128)"
      ]
     },
     "execution_count": 6,
     "metadata": {},
     "output_type": "execute_result"
    }
   ],
   "source": [
    "X_train.shape"
   ]
  },
  {
   "cell_type": "code",
   "execution_count": 7,
   "metadata": {
    "id": "568ZPJYn_tLV"
   },
   "outputs": [],
   "source": [
    "# X.shape\n",
    "X_train_r = X_train[:,None,:,:]\n",
    "X_test_r = X_test[:,None,:,:]"
   ]
  },
  {
   "cell_type": "code",
   "execution_count": 8,
   "metadata": {
    "colab": {
     "base_uri": "https://localhost:8080/"
    },
    "id": "ud5OxvOl_Rks",
    "outputId": "07a73f9d-061f-481b-a098-db33db3e76d9"
   },
   "outputs": [
    {
     "name": "stderr",
     "output_type": "stream",
     "text": [
      "/usr/local/lib/python3.7/dist-packages/torch/utils/data/dataloader.py:481: UserWarning: This DataLoader will create 4 worker processes in total. Our suggested max number of worker in current system is 2, which is smaller than what this DataLoader is going to create. Please be aware that excessive worker creation might get DataLoader running slow or even freeze, lower the worker number to avoid potential slowness/freeze if necessary.\n",
      "  cpuset_checked))\n"
     ]
    }
   ],
   "source": [
    "batch_size = 64\n",
    "\n",
    "tensor_x = torch.Tensor(X_train_r)\n",
    "tensor_y = torch.LongTensor(y_train)\n",
    "\n",
    "train_dataset = TensorDataset(tensor_x, tensor_y)\n",
    "\n",
    "tensor_x = torch.Tensor(X_test_r) # transform to torch tensor\n",
    "tensor_y = torch.LongTensor(y_test)\n",
    "\n",
    "test_dataset = TensorDataset(tensor_x, tensor_y)\n",
    "\n",
    "\n",
    "trainloader = DataLoader(train_dataset, batch_size=batch_size,\n",
    "                         shuffle=True, num_workers=4)\n",
    "testloader = DataLoader(test_dataset, batch_size=batch_size,\n",
    "                        shuffle=False, num_workers=2)"
   ]
  },
  {
   "cell_type": "code",
   "execution_count": 9,
   "metadata": {
    "id": "YoqeKb-Y7x6D"
   },
   "outputs": [],
   "source": [
    "import torch.nn as nn\n",
    "import torch.nn.functional as F\n",
    "import torchvision.models as models\n",
    "\n",
    "resnet = models.resnet.resnet18()\n",
    "resnet.conv1 = nn.Conv2d(1, 64, kernel_size=7, stride=2, padding=3, bias=False)\n",
    "resnet = resnet.to(device)"
   ]
  },
  {
   "cell_type": "code",
   "execution_count": 11,
   "metadata": {
    "id": "L65aKUgHANJR"
   },
   "outputs": [],
   "source": [
    "criterion = nn.CrossEntropyLoss()\n",
    "optimizer = optim.Adam(resnet.parameters(), lr=0.003)"
   ]
  },
  {
   "cell_type": "code",
   "execution_count": 12,
   "metadata": {
    "colab": {
     "base_uri": "https://localhost:8080/"
    },
    "id": "NJtKxRVw_9SC",
    "outputId": "30b66d83-c6ea-4c92-d032-cd97b9863d39"
   },
   "outputs": [
    {
     "name": "stderr",
     "output_type": "stream",
     "text": [
      "/usr/local/lib/python3.7/dist-packages/torch/utils/data/dataloader.py:481: UserWarning: This DataLoader will create 4 worker processes in total. Our suggested max number of worker in current system is 2, which is smaller than what this DataLoader is going to create. Please be aware that excessive worker creation might get DataLoader running slow or even freeze, lower the worker number to avoid potential slowness/freeze if necessary.\n",
      "  cpuset_checked))\n",
      "/usr/local/lib/python3.7/dist-packages/torch/nn/functional.py:718: UserWarning: Named tensors and all their associated APIs are an experimental feature and subject to change. Please do not use them for anything important until they are released as stable. (Triggered internally at  /pytorch/c10/core/TensorImpl.h:1156.)\n",
      "  return torch.max_pool2d(input, kernel_size, stride, padding, dilation, ceil_mode)\n"
     ]
    },
    {
     "name": "stdout",
     "output_type": "stream",
     "text": [
      "Epoch [0/10], Step [50/759], loss: 3.800\n",
      "Epoch [0/10], Step [100/759], loss: 3.215\n",
      "Epoch [0/10], Step [150/759], loss: 2.832\n",
      "Epoch [0/10], Step [200/759], loss: 2.424\n",
      "Epoch [0/10], Step [250/759], loss: 2.063\n",
      "Epoch [0/10], Step [300/759], loss: 1.741\n",
      "Epoch [0/10], Step [350/759], loss: 1.520\n",
      "Epoch [0/10], Step [400/759], loss: 1.337\n",
      "Epoch [0/10], Step [450/759], loss: 1.214\n",
      "Epoch [0/10], Step [500/759], loss: 1.077\n",
      "Epoch [0/10], Step [550/759], loss: 0.986\n",
      "Epoch [0/10], Step [600/759], loss: 0.933\n",
      "Epoch [0/10], Step [650/759], loss: 0.863\n",
      "Epoch [0/10], Step [700/759], loss: 0.800\n",
      "Epoch [0/10], Step [750/759], loss: 0.782\n",
      "Epoch [1/10], Step [50/759], loss: 0.742\n",
      "Epoch [1/10], Step [100/759], loss: 0.670\n",
      "Epoch [1/10], Step [150/759], loss: 0.666\n",
      "Epoch [1/10], Step [200/759], loss: 0.623\n",
      "Epoch [1/10], Step [250/759], loss: 0.634\n",
      "Epoch [1/10], Step [300/759], loss: 0.600\n",
      "Epoch [1/10], Step [350/759], loss: 0.582\n",
      "Epoch [1/10], Step [400/759], loss: 0.590\n",
      "Epoch [1/10], Step [450/759], loss: 0.539\n",
      "Epoch [1/10], Step [500/759], loss: 0.496\n",
      "Epoch [1/10], Step [550/759], loss: 0.525\n",
      "Epoch [1/10], Step [600/759], loss: 0.519\n",
      "Epoch [1/10], Step [650/759], loss: 0.508\n",
      "Epoch [1/10], Step [700/759], loss: 0.486\n",
      "Epoch [1/10], Step [750/759], loss: 0.470\n",
      "Epoch [2/10], Step [50/759], loss: 0.435\n",
      "Epoch [2/10], Step [100/759], loss: 0.413\n",
      "Epoch [2/10], Step [150/759], loss: 0.445\n",
      "Epoch [2/10], Step [200/759], loss: 0.422\n",
      "Epoch [2/10], Step [250/759], loss: 0.409\n",
      "Epoch [2/10], Step [300/759], loss: 0.411\n",
      "Epoch [2/10], Step [350/759], loss: 0.377\n",
      "Epoch [2/10], Step [400/759], loss: 0.381\n",
      "Epoch [2/10], Step [450/759], loss: 0.383\n",
      "Epoch [2/10], Step [500/759], loss: 0.402\n",
      "Epoch [2/10], Step [550/759], loss: 0.390\n",
      "Epoch [2/10], Step [600/759], loss: 0.403\n",
      "Epoch [2/10], Step [650/759], loss: 0.385\n",
      "Epoch [2/10], Step [700/759], loss: 0.382\n",
      "Epoch [2/10], Step [750/759], loss: 0.374\n",
      "Epoch [3/10], Step [50/759], loss: 0.306\n",
      "Epoch [3/10], Step [100/759], loss: 0.319\n",
      "Epoch [3/10], Step [150/759], loss: 0.352\n",
      "Epoch [3/10], Step [200/759], loss: 0.339\n",
      "Epoch [3/10], Step [250/759], loss: 0.281\n",
      "Epoch [3/10], Step [300/759], loss: 0.311\n",
      "Epoch [3/10], Step [350/759], loss: 0.322\n",
      "Epoch [3/10], Step [400/759], loss: 0.349\n",
      "Epoch [3/10], Step [450/759], loss: 0.320\n",
      "Epoch [3/10], Step [500/759], loss: 0.342\n",
      "Epoch [3/10], Step [550/759], loss: 0.318\n",
      "Epoch [3/10], Step [600/759], loss: 0.305\n",
      "Epoch [3/10], Step [650/759], loss: 0.326\n",
      "Epoch [3/10], Step [700/759], loss: 0.307\n",
      "Epoch [3/10], Step [750/759], loss: 0.296\n",
      "Epoch [4/10], Step [50/759], loss: 0.256\n",
      "Epoch [4/10], Step [100/759], loss: 0.254\n",
      "Epoch [4/10], Step [150/759], loss: 0.226\n",
      "Epoch [4/10], Step [200/759], loss: 0.209\n",
      "Epoch [4/10], Step [250/759], loss: 0.257\n",
      "Epoch [4/10], Step [300/759], loss: 0.271\n",
      "Epoch [4/10], Step [350/759], loss: 0.293\n",
      "Epoch [4/10], Step [400/759], loss: 0.275\n",
      "Epoch [4/10], Step [450/759], loss: 0.252\n",
      "Epoch [4/10], Step [500/759], loss: 0.256\n",
      "Epoch [4/10], Step [550/759], loss: 0.287\n",
      "Epoch [4/10], Step [600/759], loss: 0.285\n",
      "Epoch [4/10], Step [650/759], loss: 0.288\n",
      "Epoch [4/10], Step [700/759], loss: 0.254\n",
      "Epoch [4/10], Step [750/759], loss: 0.290\n",
      "Epoch [5/10], Step [50/759], loss: 0.225\n",
      "Epoch [5/10], Step [100/759], loss: 0.226\n",
      "Epoch [5/10], Step [150/759], loss: 0.199\n",
      "Epoch [5/10], Step [200/759], loss: 0.223\n",
      "Epoch [5/10], Step [250/759], loss: 0.233\n",
      "Epoch [5/10], Step [300/759], loss: 0.216\n",
      "Epoch [5/10], Step [350/759], loss: 0.245\n",
      "Epoch [5/10], Step [400/759], loss: 0.260\n",
      "Epoch [5/10], Step [450/759], loss: 0.255\n",
      "Epoch [5/10], Step [500/759], loss: 0.230\n",
      "Epoch [5/10], Step [550/759], loss: 0.215\n",
      "Epoch [5/10], Step [600/759], loss: 0.248\n",
      "Epoch [5/10], Step [650/759], loss: 0.217\n",
      "Epoch [5/10], Step [700/759], loss: 0.209\n",
      "Epoch [5/10], Step [750/759], loss: 0.241\n",
      "Epoch [6/10], Step [50/759], loss: 0.187\n",
      "Epoch [6/10], Step [100/759], loss: 0.171\n",
      "Epoch [6/10], Step [150/759], loss: 0.199\n",
      "Epoch [6/10], Step [200/759], loss: 0.189\n",
      "Epoch [6/10], Step [250/759], loss: 0.204\n",
      "Epoch [6/10], Step [300/759], loss: 0.187\n",
      "Epoch [6/10], Step [350/759], loss: 0.193\n",
      "Epoch [6/10], Step [400/759], loss: 0.205\n",
      "Epoch [6/10], Step [450/759], loss: 0.200\n",
      "Epoch [6/10], Step [500/759], loss: 0.177\n",
      "Epoch [6/10], Step [550/759], loss: 0.230\n",
      "Epoch [6/10], Step [600/759], loss: 0.212\n",
      "Epoch [6/10], Step [650/759], loss: 0.196\n",
      "Epoch [6/10], Step [700/759], loss: 0.195\n",
      "Epoch [6/10], Step [750/759], loss: 0.206\n",
      "Epoch [7/10], Step [50/759], loss: 0.181\n",
      "Epoch [7/10], Step [100/759], loss: 0.157\n",
      "Epoch [7/10], Step [150/759], loss: 0.161\n",
      "Epoch [7/10], Step [200/759], loss: 0.139\n",
      "Epoch [7/10], Step [250/759], loss: 0.152\n",
      "Epoch [7/10], Step [300/759], loss: 0.156\n",
      "Epoch [7/10], Step [350/759], loss: 0.174\n",
      "Epoch [7/10], Step [400/759], loss: 0.217\n",
      "Epoch [7/10], Step [450/759], loss: 0.202\n",
      "Epoch [7/10], Step [500/759], loss: 0.210\n",
      "Epoch [7/10], Step [550/759], loss: 0.203\n",
      "Epoch [7/10], Step [600/759], loss: 0.195\n",
      "Epoch [7/10], Step [650/759], loss: 0.205\n",
      "Epoch [7/10], Step [700/759], loss: 0.168\n",
      "Epoch [7/10], Step [750/759], loss: 0.168\n",
      "Epoch [8/10], Step [50/759], loss: 0.155\n",
      "Epoch [8/10], Step [100/759], loss: 0.133\n",
      "Epoch [8/10], Step [150/759], loss: 0.131\n",
      "Epoch [8/10], Step [200/759], loss: 0.132\n",
      "Epoch [8/10], Step [250/759], loss: 0.155\n",
      "Epoch [8/10], Step [300/759], loss: 0.154\n",
      "Epoch [8/10], Step [350/759], loss: 0.143\n",
      "Epoch [8/10], Step [400/759], loss: 0.147\n",
      "Epoch [8/10], Step [450/759], loss: 0.171\n",
      "Epoch [8/10], Step [500/759], loss: 0.165\n",
      "Epoch [8/10], Step [550/759], loss: 0.147\n",
      "Epoch [8/10], Step [600/759], loss: 0.165\n",
      "Epoch [8/10], Step [650/759], loss: 0.192\n",
      "Epoch [8/10], Step [700/759], loss: 0.176\n",
      "Epoch [8/10], Step [750/759], loss: 0.154\n",
      "Epoch [9/10], Step [50/759], loss: 0.134\n",
      "Epoch [9/10], Step [100/759], loss: 0.111\n",
      "Epoch [9/10], Step [150/759], loss: 0.127\n",
      "Epoch [9/10], Step [200/759], loss: 0.107\n",
      "Epoch [9/10], Step [250/759], loss: 0.120\n",
      "Epoch [9/10], Step [300/759], loss: 0.141\n",
      "Epoch [9/10], Step [350/759], loss: 0.139\n",
      "Epoch [9/10], Step [400/759], loss: 0.141\n",
      "Epoch [9/10], Step [450/759], loss: 0.138\n",
      "Epoch [9/10], Step [500/759], loss: 0.154\n",
      "Epoch [9/10], Step [550/759], loss: 0.150\n",
      "Epoch [9/10], Step [600/759], loss: 0.141\n",
      "Epoch [9/10], Step [650/759], loss: 0.149\n",
      "Epoch [9/10], Step [700/759], loss: 0.183\n",
      "Epoch [9/10], Step [750/759], loss: 0.149\n",
      "Finished Training\n"
     ]
    }
   ],
   "source": [
    "losses = model_train(resnet, trainloader, 10)"
   ]
  },
  {
   "cell_type": "code",
   "execution_count": 13,
   "metadata": {
    "colab": {
     "base_uri": "https://localhost:8080/",
     "height": 312
    },
    "id": "-AfBKNUmAEKt",
    "outputId": "94f3d47f-78f1-4292-ff9a-6e3c9b154afd"
   },
   "outputs": [
    {
     "data": {
      "text/plain": [
       "Text(0.5, 1.0, 'Losses')"
      ]
     },
     "execution_count": 13,
     "metadata": {},
     "output_type": "execute_result"
    },
    {
     "data": {
      "image/png": "[encoded data removed]",
      "text/plain": [
       "<Figure size 432x288 with 1 Axes>"
      ]
     },
     "metadata": {
      "needs_background": "light"
     },
     "output_type": "display_data"
    }
   ],
   "source": [
    "plt.plot(losses, '-')\n",
    "plt.xlabel('epoch')\n",
    "plt.ylabel('loss')\n",
    "plt.grid()\n",
    "plt.title('Losses')"
   ]
  },
  {
   "cell_type": "code",
   "execution_count": 14,
   "metadata": {
    "colab": {
     "base_uri": "https://localhost:8080/"
    },
    "id": "G5GZ2ZX-KkbR",
    "outputId": "9070ac5d-1cdb-4680-c56e-f11790481f5d"
   },
   "outputs": [
    {
     "name": "stdout",
     "output_type": "stream",
     "text": [
      "Total accuracy: 83 %\n"
     ]
    }
   ],
   "source": [
    "correct = 0\n",
    "total = 0\n",
    "\n",
    "# again no gradients needed\n",
    "with torch.no_grad():\n",
    "    for data in testloader:\n",
    "        inputs, labels = data\n",
    "        inputs = inputs.to(device)\n",
    "        labels = labels.to(device)\n",
    "        outputs = resnet(inputs)\n",
    "        _, predictions = torch.max(outputs, 1)\n",
    "        total += labels.size(0)\n",
    "        correct += (predictions == labels).sum().item()\n",
    "        # collect the correct predictions for each class\n",
    "print('Total accuracy: %d %%' % (\n",
    "    100 * correct / total))"
   ]
  },
  {
   "cell_type": "markdown",
   "metadata": {
    "id": "yubcOux7r31P"
   },
   "source": [
    "### Применение модели на видео"
   ]
  },
  {
   "cell_type": "code",
   "execution_count": 3,
   "metadata": {
    "colab": {
     "base_uri": "https://localhost:8080/"
    },
    "id": "aBbYF1bPK8C9",
    "outputId": "04de95d5-449d-4707-e51f-d80124f44da2"
   },
   "outputs": [
    {
     "name": "stdout",
     "output_type": "stream",
     "text": [
      "Collecting youtube_dl\n",
      "  Downloading youtube_dl-2021.6.6-py2.py3-none-any.whl (1.9 MB)\n",
      "\u001b[K     |████████████████████████████████| 1.9 MB 5.1 MB/s \n",
      "\u001b[?25hInstalling collected packages: youtube-dl\n",
      "Successfully installed youtube-dl-2021.6.6\n"
     ]
    }
   ],
   "source": [
    "!pip install youtube_dl"
   ]
  },
  {
   "cell_type": "code",
   "execution_count": 15,
   "metadata": {
    "id": "Pxafjm2JAIiD"
   },
   "outputs": [],
   "source": [
    "import youtube_dl"
   ]
  },
  {
   "cell_type": "code",
   "execution_count": 40,
   "metadata": {
    "colab": {
     "base_uri": "https://localhost:8080/"
    },
    "id": "eHtfWqhtI21n",
    "outputId": "b4880628-2804-47f9-9804-551f0f9ca9ad"
   },
   "outputs": [
    {
     "name": "stdout",
     "output_type": "stream",
     "text": [
      "[youtube] EK32jo7i5LQ: Downloading webpage\n",
      "[download] Destination: Why do prime numbers make these spirals _ Dirichlet’s theorem-EK32jo7i5LQ.webm\n",
      "[download] 100% of 22.81MiB in 05:10\n",
      "[ffmpeg] Destination: Why do prime numbers make these spirals _ Dirichlet’s theorem-EK32jo7i5LQ.wav\n"
     ]
    }
   ],
   "source": [
    "ydl_opts = {\n",
    "    'format': 'bestaudio/best',\n",
    "    'postprocessors': [{\n",
    "        'key': 'FFmpegExtractAudio',\n",
    "        'preferredcodec': 'wav',\n",
    "        'preferredquality': '256'\n",
    "    }],\n",
    "    'postprocessor_args': [\n",
    "        '-ar', '16000',\n",
    "        '-ac', '1'  #mono\n",
    "        \n",
    "    ],\n",
    "    'prefer_ffmpeg': True,\n",
    "    'keepvideo': True\n",
    "    \n",
    "}\n",
    "with youtube_dl.YoutubeDL(ydl_opts) as ydl:\n",
    "    ydl.download(['https://www.youtube.com/watch?v=EK32jo7i5LQ'])"
   ]
  },
  {
   "cell_type": "code",
   "execution_count": 41,
   "metadata": {
    "colab": {
     "base_uri": "https://localhost:8080/"
    },
    "id": "RvDqwmfZLipw",
    "outputId": "b47a1921-d93b-44e9-ad87-04f2da5c503d"
   },
   "outputs": [
    {
     "name": "stdout",
     "output_type": "stream",
     "text": [
      "\n",
      "Input File     : 'prime_numbers_1.wav'\n",
      "Channels       : 1\n",
      "Sample Rate    : 16000\n",
      "Precision      : 16-bit\n",
      "Duration       : 00:22:29.52 = 21592247 samples ~ 101214 CDDA sectors\n",
      "File Size      : 43.2M\n",
      "Bit Rate       : 256k\n",
      "Sample Encoding: 16-bit Signed Integer PCM\n",
      "\n"
     ]
    }
   ],
   "source": [
    "!sox --info prime_numbers_1.wav"
   ]
  },
  {
   "cell_type": "code",
   "execution_count": 43,
   "metadata": {
    "colab": {
     "base_uri": "https://localhost:8080/",
     "height": 328
    },
    "id": "vX19Ht35G1PB",
    "outputId": "6d9c95f3-7bc6-4c93-f170-4a6cdc5f4eac"
   },
   "outputs": [
    {
     "name": "stderr",
     "output_type": "stream",
     "text": [
      "/usr/local/lib/python3.7/dist-packages/matplotlib/axes/_axes.py:7592: RuntimeWarning: divide by zero encountered in log10\n",
      "  Z = 10. * np.log10(spec)\n"
     ]
    },
    {
     "data": {
      "image/png": "[encoded data removed]",
      "text/plain": [
       "<Figure size 432x288 with 2 Axes>"
      ]
     },
     "metadata": {
      "needs_background": "light"
     },
     "output_type": "display_data"
    }
   ],
   "source": [
    "show_spectrogram('prime_numbers_mono.wav')"
   ]
  },
  {
   "cell_type": "code",
   "execution_count": 15,
   "metadata": {
    "id": "-ekZJTe6mhd7"
   },
   "outputs": [],
   "source": [
    "# словарь с индексами и названиями классов\n",
    "classes = ['bed', 'bird', 'cat', 'dog', 'eight', 'five', 'four', \n",
    "           'go', 'happy', 'house', 'marvin', 'nine', 'no', 'off', 'on',\n",
    "           'left', 'right', 'up', 'down', 'stop', 'one', 'seven',\n",
    "           'sheila', 'six', 'three', 'tree', 'two', 'wow', 'yes', 'zero']\n",
    "\n",
    "classes_dict = {\n",
    "    ind: word for ind, word in enumerate(classes)\n",
    "}"
   ]
  },
  {
   "cell_type": "markdown",
   "metadata": {
    "id": "hHyqyWrosWI9"
   },
   "source": [
    "### Спектрограмма"
   ]
  },
  {
   "cell_type": "code",
   "execution_count": 16,
   "metadata": {
    "id": "u09cx1VdOR7x"
   },
   "outputs": [],
   "source": [
    "import joblib as jl\n",
    "\n",
    "def preprocess_sample(filepath):\n",
    "    amplitudes, sr = librosa.core.load(filepath)\n",
    "    spectrogram = librosa.feature.melspectrogram(amplitudes, sr=sr)\n",
    "    return np.float32(spectrogram)"
   ]
  },
  {
   "cell_type": "code",
   "execution_count": 17,
   "metadata": {
    "id": "3_49CqToOrFV"
   },
   "outputs": [],
   "source": [
    "spectrogram = preprocess_sample('/content/drive/MyDrive/speech_technology/prime_numbers_mono.wav')"
   ]
  },
  {
   "cell_type": "code",
   "execution_count": 18,
   "metadata": {
    "colab": {
     "base_uri": "https://localhost:8080/"
    },
    "id": "4lxhLNSEPRsP",
    "outputId": "da67dfac-f751-4506-855d-3b8aad73d06d"
   },
   "outputs": [
    {
     "data": {
      "text/plain": [
       "(128, 58119)"
      ]
     },
     "execution_count": 18,
     "metadata": {},
     "output_type": "execute_result"
    }
   ],
   "source": [
    "spectrogram.shape"
   ]
  },
  {
   "cell_type": "markdown",
   "metadata": {
    "id": "duFBprRNsfx3"
   },
   "source": [
    "### Нарезание спектрограммы на кусочки 1.5 секунды и подготовка даталоудера"
   ]
  },
  {
   "cell_type": "code",
   "execution_count": 23,
   "metadata": {
    "colab": {
     "base_uri": "https://localhost:8080/"
    },
    "id": "8F1XA30oUNp3",
    "outputId": "7387bbfe-d770-46da-f7e0-f3adacc47b5c"
   },
   "outputs": [
    {
     "name": "stderr",
     "output_type": "stream",
     "text": [
      "/usr/local/lib/python3.7/dist-packages/torch/utils/data/dataloader.py:481: UserWarning: This DataLoader will create 4 worker processes in total. Our suggested max number of worker in current system is 2, which is smaller than what this DataLoader is going to create. Please be aware that excessive worker creation might get DataLoader running slow or even freeze, lower the worker number to avoid potential slowness/freeze if necessary.\n",
      "  cpuset_checked))\n"
     ]
    }
   ],
   "source": [
    "parts = []\n",
    "for i in range(0, spectrogram.shape[1]-150, 10):\n",
    "  parts.append(spectrogram[:, i:i + 150])\n",
    "parts = np.float32(parts)\n",
    "parts = parts.transpose([0, 2, 1])\n",
    "parts = parts[:, None, :, :]\n",
    "\n",
    "batch_size = 64\n",
    "\n",
    "tensor_video = torch.Tensor(parts)\n",
    "\n",
    "video_dataset = TensorDataset(tensor_video)\n",
    "\n",
    "videoloader = DataLoader(video_dataset, batch_size=batch_size,\n",
    "                         shuffle=False, num_workers=4, drop_last=True)"
   ]
  },
  {
   "cell_type": "code",
   "execution_count": 25,
   "metadata": {
    "colab": {
     "base_uri": "https://localhost:8080/"
    },
    "id": "_xJaWb8Vi5jY",
    "outputId": "47b76716-cd27-4dd1-c9c6-7ae893a28380"
   },
   "outputs": [
    {
     "name": "stderr",
     "output_type": "stream",
     "text": [
      "/usr/local/lib/python3.7/dist-packages/torch/utils/data/dataloader.py:481: UserWarning: This DataLoader will create 4 worker processes in total. Our suggested max number of worker in current system is 2, which is smaller than what this DataLoader is going to create. Please be aware that excessive worker creation might get DataLoader running slow or even freeze, lower the worker number to avoid potential slowness/freeze if necessary.\n",
      "  cpuset_checked))\n",
      "/usr/local/lib/python3.7/dist-packages/ipykernel_launcher.py:7: UserWarning: Implicit dimension choice for softmax has been deprecated. Change the call to include dim=X as an argument.\n",
      "  import sys\n"
     ]
    },
    {
     "name": "stdout",
     "output_type": "stream",
     "text": [
      "Time: 20 ms \t Predicted word is \"nine\"\n",
      "Time: 75 ms \t Predicted word is \"up\"\n",
      "Time: 250 ms \t Predicted word is \"happy\"\n",
      "Time: 255 ms \t Predicted word is \"happy\"\n",
      "Time: 260 ms \t Predicted word is \"happy\"\n",
      "Time: 265 ms \t Predicted word is \"happy\"\n",
      "Time: 270 ms \t Predicted word is \"happy\"\n",
      "Time: 275 ms \t Predicted word is \"happy\"\n",
      "Time: 280 ms \t Predicted word is \"happy\"\n",
      "Time: 285 ms \t Predicted word is \"happy\"\n",
      "Time: 290 ms \t Predicted word is \"happy\"\n",
      "Time: 295 ms \t Predicted word is \"happy\"\n",
      "Time: 305 ms \t Predicted word is \"happy\"\n",
      "Time: 510 ms \t Predicted word is \"bird\"\n",
      "Time: 530 ms \t Predicted word is \"bird\"\n",
      "Time: 630 ms \t Predicted word is \"go\"\n",
      "Time: 945 ms \t Predicted word is \"bird\"\n",
      "Time: 1065 ms \t Predicted word is \"dog\"\n",
      "Time: 1115 ms \t Predicted word is \"happy\"\n",
      "Time: 1175 ms \t Predicted word is \"five\"\n",
      "Time: 1180 ms \t Predicted word is \"five\"\n",
      "Time: 1200 ms \t Predicted word is \"happy\"\n",
      "Time: 1205 ms \t Predicted word is \"up\"\n",
      "Time: 1340 ms \t Predicted word is \"happy\"\n",
      "Time: 1345 ms \t Predicted word is \"happy\"\n",
      "Time: 1390 ms \t Predicted word is \"happy\"\n",
      "Time: 1410 ms \t Predicted word is \"happy\"\n",
      "Time: 1420 ms \t Predicted word is \"six\"\n",
      "Time: 1485 ms \t Predicted word is \"down\"\n",
      "Time: 1500 ms \t Predicted word is \"down\"\n",
      "Time: 1660 ms \t Predicted word is \"stop\"\n",
      "Time: 1785 ms \t Predicted word is \"six\"\n",
      "Time: 1800 ms \t Predicted word is \"six\"\n",
      "Time: 2130 ms \t Predicted word is \"up\"\n",
      "Time: 2180 ms \t Predicted word is \"happy\"\n",
      "Time: 2795 ms \t Predicted word is \"five\"\n",
      "Time: 2860 ms \t Predicted word is \"up\"\n",
      "Time: 2900 ms \t Predicted word is \"happy\"\n",
      "Time: 3700 ms \t Predicted word is \"happy\"\n",
      "Time: 3705 ms \t Predicted word is \"happy\"\n",
      "Time: 3715 ms \t Predicted word is \"happy\"\n",
      "Time: 3720 ms \t Predicted word is \"happy\"\n",
      "Time: 3725 ms \t Predicted word is \"happy\"\n",
      "Time: 3730 ms \t Predicted word is \"happy\"\n",
      "Time: 3755 ms \t Predicted word is \"six\"\n",
      "Time: 3945 ms \t Predicted word is \"go\"\n",
      "Time: 4320 ms \t Predicted word is \"happy\"\n",
      "Time: 4325 ms \t Predicted word is \"eight\"\n",
      "Time: 4380 ms \t Predicted word is \"bed\"\n",
      "Time: 4570 ms \t Predicted word is \"dog\"\n",
      "Time: 4605 ms \t Predicted word is \"five\"\n",
      "Time: 4620 ms \t Predicted word is \"five\"\n",
      "Time: 4750 ms \t Predicted word is \"five\"\n",
      "Time: 4780 ms \t Predicted word is \"up\"\n",
      "Time: 4880 ms \t Predicted word is \"five\"\n",
      "Time: 4895 ms \t Predicted word is \"five\"\n",
      "Time: 4910 ms \t Predicted word is \"five\"\n",
      "Time: 4920 ms \t Predicted word is \"five\"\n",
      "Time: 5050 ms \t Predicted word is \"nine\"\n",
      "Time: 5165 ms \t Predicted word is \"down\"\n",
      "Time: 5370 ms \t Predicted word is \"five\"\n",
      "Time: 5520 ms \t Predicted word is \"down\"\n",
      "Time: 5525 ms \t Predicted word is \"go\"\n",
      "Time: 5540 ms \t Predicted word is \"go\"\n",
      "Time: 5545 ms \t Predicted word is \"go\"\n",
      "Time: 5720 ms \t Predicted word is \"up\"\n",
      "Time: 5840 ms \t Predicted word is \"happy\"\n",
      "Time: 5855 ms \t Predicted word is \"happy\"\n",
      "Time: 5860 ms \t Predicted word is \"happy\"\n",
      "Time: 5910 ms \t Predicted word is \"happy\"\n",
      "Time: 5945 ms \t Predicted word is \"down\"\n",
      "Time: 6040 ms \t Predicted word is \"down\"\n",
      "Time: 6045 ms \t Predicted word is \"down\"\n",
      "Time: 6195 ms \t Predicted word is \"go\"\n",
      "Time: 6235 ms \t Predicted word is \"four\"\n",
      "Time: 6245 ms \t Predicted word is \"four\"\n",
      "Time: 6270 ms \t Predicted word is \"four\"\n",
      "Time: 6480 ms \t Predicted word is \"zero\"\n",
      "Time: 6545 ms \t Predicted word is \"five\"\n",
      "Time: 6550 ms \t Predicted word is \"five\"\n",
      "Time: 6565 ms \t Predicted word is \"five\"\n",
      "Time: 6570 ms \t Predicted word is \"five\"\n",
      "Time: 6575 ms \t Predicted word is \"five\"\n",
      "Time: 6580 ms \t Predicted word is \"five\"\n",
      "Time: 6660 ms \t Predicted word is \"dog\"\n",
      "Time: 6670 ms \t Predicted word is \"dog\"\n",
      "Time: 6700 ms \t Predicted word is \"dog\"\n",
      "Time: 6905 ms \t Predicted word is \"happy\"\n",
      "Time: 6910 ms \t Predicted word is \"up\"\n",
      "Time: 7465 ms \t Predicted word is \"six\"\n",
      "Time: 7510 ms \t Predicted word is \"right\"\n",
      "Time: 7535 ms \t Predicted word is \"six\"\n",
      "Time: 7540 ms \t Predicted word is \"six\"\n",
      "Time: 7600 ms \t Predicted word is \"go\"\n",
      "Time: 7625 ms \t Predicted word is \"go\"\n",
      "Time: 7635 ms \t Predicted word is \"go\"\n",
      "Time: 7640 ms \t Predicted word is \"go\"\n",
      "Time: 7650 ms \t Predicted word is \"go\"\n",
      "Time: 7655 ms \t Predicted word is \"go\"\n",
      "Time: 7675 ms \t Predicted word is \"zero\"\n",
      "Time: 7680 ms \t Predicted word is \"go\"\n",
      "Time: 7720 ms \t Predicted word is \"go\"\n",
      "Time: 7725 ms \t Predicted word is \"go\"\n",
      "Time: 7835 ms \t Predicted word is \"five\"\n",
      "Time: 7870 ms \t Predicted word is \"up\"\n",
      "Time: 8025 ms \t Predicted word is \"six\"\n",
      "Time: 8030 ms \t Predicted word is \"six\"\n",
      "Time: 8150 ms \t Predicted word is \"four\"\n",
      "Time: 8630 ms \t Predicted word is \"six\"\n",
      "Time: 8635 ms \t Predicted word is \"six\"\n",
      "Time: 8740 ms \t Predicted word is \"up\"\n",
      "Time: 9045 ms \t Predicted word is \"go\"\n",
      "Time: 9070 ms \t Predicted word is \"up\"\n",
      "Time: 9100 ms \t Predicted word is \"six\"\n",
      "Time: 9340 ms \t Predicted word is \"up\"\n",
      "Time: 9355 ms \t Predicted word is \"up\"\n",
      "Time: 9380 ms \t Predicted word is \"up\"\n",
      "Time: 9405 ms \t Predicted word is \"six\"\n",
      "Time: 9410 ms \t Predicted word is \"six\"\n",
      "Time: 9440 ms \t Predicted word is \"dog\"\n",
      "Time: 9450 ms \t Predicted word is \"dog\"\n",
      "Time: 9475 ms \t Predicted word is \"dog\"\n",
      "Time: 9480 ms \t Predicted word is \"dog\"\n",
      "Time: 9770 ms \t Predicted word is \"go\"\n",
      "Time: 9845 ms \t Predicted word is \"four\"\n",
      "Time: 10035 ms \t Predicted word is \"go\"\n",
      "Time: 10060 ms \t Predicted word is \"four\"\n",
      "Time: 10205 ms \t Predicted word is \"five\"\n",
      "Time: 10225 ms \t Predicted word is \"five\"\n",
      "Time: 10235 ms \t Predicted word is \"five\"\n",
      "Time: 10240 ms \t Predicted word is \"five\"\n",
      "Time: 10245 ms \t Predicted word is \"five\"\n",
      "Time: 10250 ms \t Predicted word is \"five\"\n",
      "Time: 10530 ms \t Predicted word is \"six\"\n",
      "Time: 10645 ms \t Predicted word is \"go\"\n",
      "Time: 10730 ms \t Predicted word is \"up\"\n",
      "Time: 10900 ms \t Predicted word is \"four\"\n",
      "Time: 11265 ms \t Predicted word is \"down\"\n",
      "Time: 11270 ms \t Predicted word is \"down\"\n",
      "Time: 11275 ms \t Predicted word is \"down\"\n",
      "Time: 11300 ms \t Predicted word is \"down\"\n",
      "Time: 11385 ms \t Predicted word is \"four\"\n",
      "Time: 11390 ms \t Predicted word is \"four\"\n",
      "Time: 11445 ms \t Predicted word is \"happy\"\n",
      "Time: 11480 ms \t Predicted word is \"happy\"\n",
      "Time: 11595 ms \t Predicted word is \"dog\"\n",
      "Time: 11630 ms \t Predicted word is \"up\"\n",
      "Time: 11650 ms \t Predicted word is \"up\"\n",
      "Time: 11670 ms \t Predicted word is \"up\"\n",
      "Time: 11935 ms \t Predicted word is \"nine\"\n",
      "Time: 11965 ms \t Predicted word is \"left\"\n",
      "Time: 12225 ms \t Predicted word is \"four\"\n",
      "Time: 12370 ms \t Predicted word is \"zero\"\n",
      "Time: 12395 ms \t Predicted word is \"go\"\n",
      "Time: 12595 ms \t Predicted word is \"happy\"\n",
      "Time: 12600 ms \t Predicted word is \"happy\"\n",
      "Time: 12610 ms \t Predicted word is \"happy\"\n",
      "Time: 12660 ms \t Predicted word is \"go\"\n",
      "Time: 12680 ms \t Predicted word is \"go\"\n",
      "Time: 12685 ms \t Predicted word is \"go\"\n",
      "Time: 12710 ms \t Predicted word is \"stop\"\n",
      "Time: 12770 ms \t Predicted word is \"down\"\n",
      "Time: 12920 ms \t Predicted word is \"happy\"\n",
      "Time: 12995 ms \t Predicted word is \"four\"\n",
      "Time: 13000 ms \t Predicted word is \"four\"\n",
      "Time: 13005 ms \t Predicted word is \"four\"\n",
      "Time: 13050 ms \t Predicted word is \"six\"\n",
      "Time: 13345 ms \t Predicted word is \"four\"\n",
      "Time: 13360 ms \t Predicted word is \"four\"\n",
      "Time: 13365 ms \t Predicted word is \"four\"\n",
      "Time: 13370 ms \t Predicted word is \"four\"\n",
      "Time: 13375 ms \t Predicted word is \"four\"\n",
      "Time: 13475 ms \t Predicted word is \"up\"\n",
      "Time: 13490 ms \t Predicted word is \"off\"\n",
      "Time: 13515 ms \t Predicted word is \"up\"\n",
      "Time: 13555 ms \t Predicted word is \"up\"\n",
      "Time: 13625 ms \t Predicted word is \"up\"\n",
      "Time: 14000 ms \t Predicted word is \"dog\"\n",
      "Time: 14030 ms \t Predicted word is \"zero\"\n",
      "Time: 14100 ms \t Predicted word is \"five\"\n",
      "Time: 14155 ms \t Predicted word is \"up\"\n",
      "Time: 14165 ms \t Predicted word is \"up\"\n",
      "Time: 14170 ms \t Predicted word is \"up\"\n",
      "Time: 14185 ms \t Predicted word is \"up\"\n",
      "Time: 14210 ms \t Predicted word is \"happy\"\n",
      "Time: 14255 ms \t Predicted word is \"two\"\n",
      "Time: 14340 ms \t Predicted word is \"dog\"\n",
      "Time: 14365 ms \t Predicted word is \"six\"\n",
      "Time: 14395 ms \t Predicted word is \"six\"\n",
      "Time: 14505 ms \t Predicted word is \"six\"\n",
      "Time: 14555 ms \t Predicted word is \"happy\"\n",
      "Time: 14630 ms \t Predicted word is \"go\"\n",
      "Time: 14870 ms \t Predicted word is \"five\"\n",
      "Time: 15135 ms \t Predicted word is \"six\"\n",
      "Time: 15200 ms \t Predicted word is \"five\"\n",
      "Time: 15350 ms \t Predicted word is \"five\"\n",
      "Time: 15410 ms \t Predicted word is \"dog\"\n",
      "Time: 15525 ms \t Predicted word is \"on\"\n",
      "Time: 15655 ms \t Predicted word is \"five\"\n",
      "Time: 15660 ms \t Predicted word is \"five\"\n",
      "Time: 16110 ms \t Predicted word is \"up\"\n",
      "Time: 16125 ms \t Predicted word is \"up\"\n",
      "Time: 16165 ms \t Predicted word is \"five\"\n",
      "Time: 16400 ms \t Predicted word is \"go\"\n",
      "Time: 16405 ms \t Predicted word is \"go\"\n",
      "Time: 16700 ms \t Predicted word is \"dog\"\n",
      "Time: 16710 ms \t Predicted word is \"five\"\n",
      "Time: 16740 ms \t Predicted word is \"dog\"\n",
      "Time: 16745 ms \t Predicted word is \"dog\"\n",
      "Time: 16755 ms \t Predicted word is \"dog\"\n",
      "Time: 16760 ms \t Predicted word is \"dog\"\n",
      "Time: 16845 ms \t Predicted word is \"six\"\n",
      "Time: 16955 ms \t Predicted word is \"five\"\n",
      "Time: 16965 ms \t Predicted word is \"five\"\n",
      "Time: 16970 ms \t Predicted word is \"five\"\n",
      "Time: 17155 ms \t Predicted word is \"five\"\n",
      "Time: 17160 ms \t Predicted word is \"five\"\n",
      "Time: 17165 ms \t Predicted word is \"five\"\n",
      "Time: 17170 ms \t Predicted word is \"five\"\n",
      "Time: 17175 ms \t Predicted word is \"five\"\n",
      "Time: 17180 ms \t Predicted word is \"five\"\n",
      "Time: 17185 ms \t Predicted word is \"five\"\n",
      "Time: 17190 ms \t Predicted word is \"five\"\n",
      "Time: 17195 ms \t Predicted word is \"five\"\n",
      "Time: 17200 ms \t Predicted word is \"five\"\n",
      "Time: 17205 ms \t Predicted word is \"five\"\n",
      "Time: 17370 ms \t Predicted word is \"four\"\n",
      "Time: 17765 ms \t Predicted word is \"six\"\n",
      "Time: 18095 ms \t Predicted word is \"dog\"\n",
      "Time: 18190 ms \t Predicted word is \"dog\"\n",
      "Time: 18215 ms \t Predicted word is \"up\"\n",
      "Time: 18410 ms \t Predicted word is \"bed\"\n",
      "Time: 18435 ms \t Predicted word is \"happy\"\n",
      "Time: 18450 ms \t Predicted word is \"happy\"\n",
      "Time: 18710 ms \t Predicted word is \"six\"\n",
      "Time: 18730 ms \t Predicted word is \"six\"\n",
      "Time: 18745 ms \t Predicted word is \"six\"\n",
      "Time: 18755 ms \t Predicted word is \"down\"\n",
      "Time: 18880 ms \t Predicted word is \"six\"\n",
      "Time: 19415 ms \t Predicted word is \"happy\"\n",
      "Time: 19420 ms \t Predicted word is \"six\"\n",
      "Time: 19600 ms \t Predicted word is \"one\"\n",
      "Time: 19605 ms \t Predicted word is \"dog\"\n",
      "Time: 19615 ms \t Predicted word is \"up\"\n",
      "Time: 19620 ms \t Predicted word is \"up\"\n",
      "Time: 19635 ms \t Predicted word is \"up\"\n",
      "Time: 19640 ms \t Predicted word is \"up\"\n",
      "Time: 19645 ms \t Predicted word is \"up\"\n",
      "Time: 19660 ms \t Predicted word is \"up\"\n",
      "Time: 19665 ms \t Predicted word is \"up\"\n",
      "Time: 19690 ms \t Predicted word is \"happy\"\n",
      "Time: 19780 ms \t Predicted word is \"dog\"\n",
      "Time: 19820 ms \t Predicted word is \"five\"\n",
      "Time: 19845 ms \t Predicted word is \"up\"\n",
      "Time: 19860 ms \t Predicted word is \"six\"\n",
      "Time: 19865 ms \t Predicted word is \"six\"\n",
      "Time: 19880 ms \t Predicted word is \"six\"\n",
      "Time: 19935 ms \t Predicted word is \"five\"\n",
      "Time: 19970 ms \t Predicted word is \"five\"\n",
      "Time: 20085 ms \t Predicted word is \"happy\"\n",
      "Time: 20090 ms \t Predicted word is \"happy\"\n",
      "Time: 20100 ms \t Predicted word is \"happy\"\n",
      "Time: 20115 ms \t Predicted word is \"happy\"\n",
      "Time: 20195 ms \t Predicted word is \"happy\"\n",
      "Time: 20200 ms \t Predicted word is \"happy\"\n",
      "Time: 20285 ms \t Predicted word is \"four\"\n",
      "Time: 20345 ms \t Predicted word is \"five\"\n",
      "Time: 20385 ms \t Predicted word is \"happy\"\n",
      "Time: 20470 ms \t Predicted word is \"go\"\n",
      "Time: 20720 ms \t Predicted word is \"no\"\n",
      "Time: 20855 ms \t Predicted word is \"up\"\n",
      "Time: 20870 ms \t Predicted word is \"up\"\n",
      "Time: 20875 ms \t Predicted word is \"up\"\n",
      "Time: 20915 ms \t Predicted word is \"up\"\n",
      "Time: 20970 ms \t Predicted word is \"up\"\n",
      "Time: 21105 ms \t Predicted word is \"happy\"\n",
      "Time: 21125 ms \t Predicted word is \"happy\"\n",
      "Time: 21130 ms \t Predicted word is \"happy\"\n",
      "Time: 21220 ms \t Predicted word is \"happy\"\n",
      "Time: 21225 ms \t Predicted word is \"happy\"\n",
      "Time: 21395 ms \t Predicted word is \"happy\"\n",
      "Time: 21400 ms \t Predicted word is \"happy\"\n",
      "Time: 21620 ms \t Predicted word is \"six\"\n",
      "Time: 21710 ms \t Predicted word is \"up\"\n",
      "Time: 21720 ms \t Predicted word is \"up\"\n",
      "Time: 22005 ms \t Predicted word is \"five\"\n",
      "Time: 22345 ms \t Predicted word is \"bed\"\n",
      "Time: 22355 ms \t Predicted word is \"happy\"\n",
      "Time: 22360 ms \t Predicted word is \"happy\"\n",
      "Time: 22525 ms \t Predicted word is \"five\"\n",
      "Time: 22535 ms \t Predicted word is \"five\"\n",
      "Time: 22605 ms \t Predicted word is \"go\"\n",
      "Time: 22675 ms \t Predicted word is \"stop\"\n",
      "Time: 22770 ms \t Predicted word is \"happy\"\n",
      "Time: 22775 ms \t Predicted word is \"happy\"\n",
      "Time: 22780 ms \t Predicted word is \"happy\"\n",
      "Time: 22885 ms \t Predicted word is \"five\"\n",
      "Time: 22910 ms \t Predicted word is \"five\"\n",
      "Time: 22920 ms \t Predicted word is \"five\"\n",
      "Time: 22965 ms \t Predicted word is \"six\"\n",
      "Time: 22980 ms \t Predicted word is \"six\"\n",
      "Time: 23125 ms \t Predicted word is \"dog\"\n",
      "Time: 23145 ms \t Predicted word is \"dog\"\n",
      "Time: 23435 ms \t Predicted word is \"one\"\n",
      "Time: 23515 ms \t Predicted word is \"off\"\n",
      "Time: 23520 ms \t Predicted word is \"off\"\n",
      "Time: 23585 ms \t Predicted word is \"on\"\n",
      "Time: 23595 ms \t Predicted word is \"on\"\n",
      "Time: 23600 ms \t Predicted word is \"on\"\n",
      "Time: 23605 ms \t Predicted word is \"on\"\n",
      "Time: 23610 ms \t Predicted word is \"on\"\n",
      "Time: 23660 ms \t Predicted word is \"happy\"\n",
      "Time: 23850 ms \t Predicted word is \"five\"\n",
      "Time: 23855 ms \t Predicted word is \"bird\"\n",
      "Time: 24005 ms \t Predicted word is \"happy\"\n",
      "Time: 24250 ms \t Predicted word is \"nine\"\n",
      "Time: 24365 ms \t Predicted word is \"dog\"\n",
      "Time: 24370 ms \t Predicted word is \"dog\"\n",
      "Time: 24400 ms \t Predicted word is \"dog\"\n",
      "Time: 24535 ms \t Predicted word is \"five\"\n",
      "Time: 24540 ms \t Predicted word is \"five\"\n",
      "Time: 24555 ms \t Predicted word is \"five\"\n",
      "Time: 24560 ms \t Predicted word is \"five\"\n",
      "Time: 24570 ms \t Predicted word is \"right\"\n",
      "Time: 24590 ms \t Predicted word is \"go\"\n",
      "Time: 24605 ms \t Predicted word is \"go\"\n",
      "Time: 24610 ms \t Predicted word is \"go\"\n",
      "Time: 24615 ms \t Predicted word is \"go\"\n",
      "Time: 24905 ms \t Predicted word is \"five\"\n",
      "Time: 25040 ms \t Predicted word is \"go\"\n",
      "Time: 25060 ms \t Predicted word is \"bird\"\n",
      "Time: 25260 ms \t Predicted word is \"go\"\n",
      "Time: 25425 ms \t Predicted word is \"up\"\n",
      "Time: 25475 ms \t Predicted word is \"happy\"\n",
      "Time: 25480 ms \t Predicted word is \"happy\"\n",
      "Time: 25525 ms \t Predicted word is \"up\"\n",
      "Time: 25575 ms \t Predicted word is \"up\"\n",
      "Time: 25635 ms \t Predicted word is \"down\"\n",
      "Time: 25675 ms \t Predicted word is \"left\"\n",
      "Time: 25690 ms \t Predicted word is \"left\"\n",
      "Time: 25710 ms \t Predicted word is \"left\"\n",
      "Time: 25780 ms \t Predicted word is \"happy\"\n",
      "Time: 25795 ms \t Predicted word is \"happy\"\n",
      "Time: 25810 ms \t Predicted word is \"happy\"\n",
      "Time: 25815 ms \t Predicted word is \"happy\"\n",
      "Time: 25835 ms \t Predicted word is \"six\"\n",
      "Time: 25945 ms \t Predicted word is \"five\"\n",
      "Time: 25960 ms \t Predicted word is \"five\"\n",
      "Time: 26000 ms \t Predicted word is \"happy\"\n",
      "Time: 26015 ms \t Predicted word is \"happy\"\n",
      "Time: 26060 ms \t Predicted word is \"five\"\n",
      "Time: 26195 ms \t Predicted word is \"happy\"\n",
      "Time: 26200 ms \t Predicted word is \"happy\"\n",
      "Time: 26205 ms \t Predicted word is \"happy\"\n",
      "Time: 26210 ms \t Predicted word is \"happy\"\n",
      "Time: 26215 ms \t Predicted word is \"happy\"\n",
      "Time: 26220 ms \t Predicted word is \"happy\"\n",
      "Time: 26225 ms \t Predicted word is \"happy\"\n",
      "Time: 26230 ms \t Predicted word is \"happy\"\n",
      "Time: 26455 ms \t Predicted word is \"four\"\n",
      "Time: 26465 ms \t Predicted word is \"four\"\n",
      "Time: 26470 ms \t Predicted word is \"four\"\n",
      "Time: 26595 ms \t Predicted word is \"four\"\n",
      "Time: 26675 ms \t Predicted word is \"dog\"\n",
      "Time: 26680 ms \t Predicted word is \"dog\"\n",
      "Time: 26685 ms \t Predicted word is \"five\"\n",
      "Time: 26735 ms \t Predicted word is \"four\"\n",
      "Time: 26785 ms \t Predicted word is \"go\"\n",
      "Time: 26795 ms \t Predicted word is \"go\"\n",
      "Time: 26890 ms \t Predicted word is \"go\"\n",
      "Time: 26915 ms \t Predicted word is \"dog\"\n",
      "Time: 27025 ms \t Predicted word is \"happy\"\n",
      "Time: 27220 ms \t Predicted word is \"four\"\n",
      "Time: 27325 ms \t Predicted word is \"six\"\n",
      "Time: 27865 ms \t Predicted word is \"four\"\n",
      "Time: 28230 ms \t Predicted word is \"four\"\n",
      "Time: 28240 ms \t Predicted word is \"four\"\n",
      "Time: 28255 ms \t Predicted word is \"four\"\n",
      "Time: 28400 ms \t Predicted word is \"up\"\n",
      "Time: 28420 ms \t Predicted word is \"up\"\n",
      "Time: 28445 ms \t Predicted word is \"up\"\n",
      "Time: 28450 ms \t Predicted word is \"up\"\n"
     ]
    }
   ],
   "source": [
    "global_time = 0\n",
    "with torch.no_grad():\n",
    "    resnet.eval()\n",
    "    for inputs in videoloader:\n",
    "        # print(inputs[0].shape)\n",
    "        inputs = inputs[0].to(device)\n",
    "        outputs = F.softmax(resnet(inputs)[:, :30])\n",
    "        _, predicted = torch.max(outputs.data, 1)\n",
    "        \n",
    "        for i, pred in enumerate(predicted):\n",
    "          if outputs[i, pred].item() > 0.9:\n",
    "            print(f'Time: {global_time} ms \\t Predicted word is \"{classes_dict[pred.item()]}\"')\n",
    "          global_time += 5"
   ]
  },
  {
   "cell_type": "markdown",
   "metadata": {
    "id": "xTGRhBr0wHa2"
   },
   "source": [
    "### Интересно получилось :)"
   ]
  }
 ],
 "metadata": {
  "accelerator": "GPU",
  "colab": {
   "collapsed_sections": [],
   "name": "HW2_speech_tech.ipynb\"",
   "provenance": []
  },
  "kernelspec": {
   "display_name": "Python 3",
   "language": "python",
   "name": "python3"
  },
  "language_info": {
   "codemirror_mode": {
    "name": "ipython",
    "version": 3
   },
   "file_extension": ".py",
   "mimetype": "text/x-python",
   "name": "python",
   "nbconvert_exporter": "python",
   "pygments_lexer": "ipython3",
   "version": "3.6.4"
  }
 },
 "nbformat": 4,
 "nbformat_minor": 1
}
