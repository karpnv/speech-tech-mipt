{
  "cells": [
    {
      "cell_type": "markdown",
      "source": [
        " # Nikonov, 2021-12-13 #"
      ],
      "metadata": {
        "id": "89SfBhAPOabv"
      }
    },
    {
      "cell_type": "code",
      "execution_count": null,
      "metadata": {
        "colab": {
          "base_uri": "https://localhost:8080/"
        },
        "id": "DLqUa76aAHIg",
        "outputId": "7596d41d-ad15-4f14-852f-0181c1a2aa7b"
      },
      "outputs": [
        {
          "name": "stdout",
          "output_type": "stream",
          "text": [
            "Reading package lists... Done\n",
            "Building dependency tree       \n",
            "Reading state information... Done\n",
            "The following additional packages will be installed:\n",
            "  libmagic-mgc libmagic1 libopencore-amrnb0 libopencore-amrwb0 libsox-fmt-alsa\n",
            "  libsox-fmt-base libsox3\n",
            "Suggested packages:\n",
            "  file libsox-fmt-all\n",
            "The following NEW packages will be installed:\n",
            "  libmagic-mgc libmagic1 libopencore-amrnb0 libopencore-amrwb0 libsox-fmt-alsa\n",
            "  libsox-fmt-base libsox3 sox\n",
            "0 upgraded, 8 newly installed, 0 to remove and 37 not upgraded.\n",
            "Need to get 760 kB of archives.\n",
            "After this operation, 6,717 kB of additional disk space will be used.\n",
            "Get:1 http://archive.ubuntu.com/ubuntu bionic/universe amd64 libopencore-amrnb0 amd64 0.1.3-2.1 [92.0 kB]\n",
            "Get:2 http://archive.ubuntu.com/ubuntu bionic/universe amd64 libopencore-amrwb0 amd64 0.1.3-2.1 [45.8 kB]\n",
            "Get:3 http://archive.ubuntu.com/ubuntu bionic-updates/main amd64 libmagic-mgc amd64 1:5.32-2ubuntu0.4 [184 kB]\n",
            "Get:4 http://archive.ubuntu.com/ubuntu bionic-updates/main amd64 libmagic1 amd64 1:5.32-2ubuntu0.4 [68.6 kB]\n",
            "Get:5 http://archive.ubuntu.com/ubuntu bionic-updates/universe amd64 libsox3 amd64 14.4.2-3ubuntu0.18.04.1 [226 kB]\n",
            "Get:6 http://archive.ubuntu.com/ubuntu bionic-updates/universe amd64 libsox-fmt-alsa amd64 14.4.2-3ubuntu0.18.04.1 [10.6 kB]\n",
            "Get:7 http://archive.ubuntu.com/ubuntu bionic-updates/universe amd64 libsox-fmt-base amd64 14.4.2-3ubuntu0.18.04.1 [32.1 kB]\n",
            "Get:8 http://archive.ubuntu.com/ubuntu bionic-updates/universe amd64 sox amd64 14.4.2-3ubuntu0.18.04.1 [101 kB]\n",
            "Fetched 760 kB in 1s (727 kB/s)\n",
            "Selecting previously unselected package libopencore-amrnb0:amd64.\n",
            "(Reading database ... 155047 files and directories currently installed.)\n",
            "Preparing to unpack .../0-libopencore-amrnb0_0.1.3-2.1_amd64.deb ...\n",
            "Unpacking libopencore-amrnb0:amd64 (0.1.3-2.1) ...\n",
            "Selecting previously unselected package libopencore-amrwb0:amd64.\n",
            "Preparing to unpack .../1-libopencore-amrwb0_0.1.3-2.1_amd64.deb ...\n",
            "Unpacking libopencore-amrwb0:amd64 (0.1.3-2.1) ...\n",
            "Selecting previously unselected package libmagic-mgc.\n",
            "Preparing to unpack .../2-libmagic-mgc_1%3a5.32-2ubuntu0.4_amd64.deb ...\n",
            "Unpacking libmagic-mgc (1:5.32-2ubuntu0.4) ...\n",
            "Selecting previously unselected package libmagic1:amd64.\n",
            "Preparing to unpack .../3-libmagic1_1%3a5.32-2ubuntu0.4_amd64.deb ...\n",
            "Unpacking libmagic1:amd64 (1:5.32-2ubuntu0.4) ...\n",
            "Selecting previously unselected package libsox3:amd64.\n",
            "Preparing to unpack .../4-libsox3_14.4.2-3ubuntu0.18.04.1_amd64.deb ...\n",
            "Unpacking libsox3:amd64 (14.4.2-3ubuntu0.18.04.1) ...\n",
            "Selecting previously unselected package libsox-fmt-alsa:amd64.\n",
            "Preparing to unpack .../5-libsox-fmt-alsa_14.4.2-3ubuntu0.18.04.1_amd64.deb ...\n",
            "Unpacking libsox-fmt-alsa:amd64 (14.4.2-3ubuntu0.18.04.1) ...\n",
            "Selecting previously unselected package libsox-fmt-base:amd64.\n",
            "Preparing to unpack .../6-libsox-fmt-base_14.4.2-3ubuntu0.18.04.1_amd64.deb ...\n",
            "Unpacking libsox-fmt-base:amd64 (14.4.2-3ubuntu0.18.04.1) ...\n",
            "Selecting previously unselected package sox.\n",
            "Preparing to unpack .../7-sox_14.4.2-3ubuntu0.18.04.1_amd64.deb ...\n",
            "Unpacking sox (14.4.2-3ubuntu0.18.04.1) ...\n",
            "Setting up libmagic-mgc (1:5.32-2ubuntu0.4) ...\n",
            "Setting up libmagic1:amd64 (1:5.32-2ubuntu0.4) ...\n",
            "Setting up libopencore-amrnb0:amd64 (0.1.3-2.1) ...\n",
            "Setting up libopencore-amrwb0:amd64 (0.1.3-2.1) ...\n",
            "Setting up libsox3:amd64 (14.4.2-3ubuntu0.18.04.1) ...\n",
            "Setting up libsox-fmt-base:amd64 (14.4.2-3ubuntu0.18.04.1) ...\n",
            "Setting up libsox-fmt-alsa:amd64 (14.4.2-3ubuntu0.18.04.1) ...\n",
            "Setting up sox (14.4.2-3ubuntu0.18.04.1) ...\n",
            "Processing triggers for libc-bin (2.27-3ubuntu1.3) ...\n",
            "/sbin/ldconfig.real: /usr/local/lib/python3.7/dist-packages/ideep4py/lib/libmkldnn.so.0 is not a symbolic link\n",
            "\n",
            "Processing triggers for man-db (2.8.3-2ubuntu0.1) ...\n",
            "Processing triggers for mime-support (3.60ubuntu1) ...\n"
          ]
        }
      ],
      "source": [
        "!apt install sox"
      ]
    },
    {
      "cell_type": "markdown",
      "metadata": {
        "id": "eX_UvnL9FOB2"
      },
      "source": [
        "### Baseline commands recognition (2-5 points)\n",
        "\n",
        "We're now going to train a classifier to recognize voice. More specifically, we'll use the [Speech Commands Dataset] that contains around 30 different words with a few thousand voice records each."
      ]
    },
    {
      "cell_type": "code",
      "execution_count": null,
      "metadata": {
        "id": "kgdP8SO2xeot"
      },
      "outputs": [],
      "source": [
        "import os\n",
        "from IPython.display import display, Audio\n",
        "import matplotlib.pyplot as plt\n",
        "%matplotlib inline\n",
        "import numpy as np\n",
        "import pickle\n",
        "import librosa\n",
        "import torch\n",
        "from torch.utils.data import TensorDataset, DataLoader\n",
        "import torch.optim as optim\n",
        "import torchvision.transforms as T\n",
        "from scipy.io import wavfile\n",
        "import IPython.display as ipd\n",
        "\n",
        "device = 'cuda'"
      ]
    },
    {
      "cell_type": "code",
      "execution_count": null,
      "metadata": {
        "colab": {
          "base_uri": "https://localhost:8080/"
        },
        "id": "FvHkw2rfY9k7",
        "outputId": "75bbe48d-f8e8-485d-ab8e-7541feeebc72"
      },
      "outputs": [
        {
          "name": "stdout",
          "output_type": "stream",
          "text": [
            "--2021-10-24 14:31:22--  http://download.tensorflow.org/data/speech_commands_v0.01.tar.gz\n",
            "Resolving download.tensorflow.org (download.tensorflow.org)... 142.250.13.128, 2a00:1450:400c:c03::80\n",
            "Connecting to download.tensorflow.org (download.tensorflow.org)|142.250.13.128|:80... connected.\n",
            "HTTP request sent, awaiting response... 200 OK\n",
            "Length: 1489096277 (1.4G) [application/gzip]\n",
            "Saving to: ‘speech_commands_v0.01.tar.gz’\n",
            "\n",
            "speech_commands_v0. 100%[===================>]   1.39G  88.0MB/s    in 18s     \n",
            "\n",
            "2021-10-24 14:31:41 (76.8 MB/s) - ‘speech_commands_v0.01.tar.gz’ saved [1489096277/1489096277]\n",
            "\n",
            "Classes: bed, bird, cat, dog, down, eight, five, four, go, happy, house, left, marvin, nine, no, off, on, one, right, seven, sheila, six, stop, three, tree, two, up, wow, yes, zero\n"
          ]
        }
      ],
      "source": [
        "datadir = \"speech_commands\"\n",
        "\n",
        "!wget http://download.tensorflow.org/data/speech_commands_v0.01.tar.gz -O speech_commands_v0.01.tar.gz\n",
        "# alternative url: https://www.dropbox.com/s/j95n278g48bcbta/speech_commands_v0.01.tar.gz?dl=1\n",
        "!mkdir {datadir} && tar -C {datadir} -xvzf speech_commands_v0.01.tar.gz 1> log\n",
        "\n",
        "samples_by_target = {\n",
        "    cls: [os.path.join(datadir, cls, name) for name in os.listdir(\"./speech_commands/{}\".format(cls))]\n",
        "    for cls in os.listdir(datadir)\n",
        "    if os.path.isdir(os.path.join(datadir, cls))\n",
        "}\n",
        "print('Classes:', ', '.join(sorted(samples_by_target.keys())[1:]))"
      ]
    },
    {
      "cell_type": "code",
      "execution_count": null,
      "metadata": {
        "colab": {
          "base_uri": "https://localhost:8080/"
        },
        "id": "ME4cVShQ916w",
        "outputId": "7c3169dc-b7f1-4238-d550-374432f7bd78"
      },
      "outputs": [
        {
          "name": "stdout",
          "output_type": "stream",
          "text": [
            "\n",
            "Input File     : 'speech_commands/bed/00176480_nohash_0.wav'\n",
            "Channels       : 1\n",
            "Sample Rate    : 16000\n",
            "Precision      : 16-bit\n",
            "Duration       : 00:00:01.00 = 16000 samples ~ 75 CDDA sectors\n",
            "File Size      : 32.0k\n",
            "Bit Rate       : 256k\n",
            "Sample Encoding: 16-bit Signed Integer PCM\n",
            "\n"
          ]
        }
      ],
      "source": [
        "!sox --info speech_commands/bed/00176480_nohash_0.wav"
      ]
    },
    {
      "cell_type": "code",
      "source": [
        ""
      ],
      "metadata": {
        "id": "WEPUzj1qN7F_"
      },
      "execution_count": null,
      "outputs": []
    },
    {
      "cell_type": "markdown",
      "metadata": {
        "id": "JF87vTlRs5qv"
      },
      "source": [
        "### Нарисуем спектрограмму \"right\""
      ]
    },
    {
      "cell_type": "code",
      "execution_count": null,
      "metadata": {
        "id": "zBb8LEcRs35y"
      },
      "outputs": [],
      "source": [
        "def show_spectrogram(wav_path):\n",
        "\n",
        "    # Read the wav file (mono)\n",
        "    samplingFrequency, signalData = wavfile.read(wav_path)\n",
        "\n",
        "    plt.subplot(211)\n",
        "    plt.title('Spectrogram of a wav file')\n",
        "\n",
        "    plt.plot(signalData)\n",
        "    plt.xlabel('Sample')\n",
        "    plt.ylabel('Amplitude') \n",
        "\n",
        "    plt.subplot(212)\n",
        "    plt.specgram(signalData,Fs=samplingFrequency)\n",
        "    plt.xlabel('Time')\n",
        "    plt.ylabel('Frequency')\n",
        "\n",
        "    plt.show()\n",
        "    return ipd.Audio(wav_path)"
      ]
    },
    {
      "cell_type": "code",
      "execution_count": null,
      "metadata": {
        "id": "MTBuaYpktJVB"
      },
      "outputs": [],
      "source": [
        "show_spectrogram('/content/speech_commands/right/00b01445_nohash_0.wav')"
      ]
    },
    {
      "cell_type": "markdown",
      "metadata": {
        "id": "L_LYOd_TtM6B"
      },
      "source": [
        "### Подготовка данных"
      ]
    },
    {
      "cell_type": "code",
      "execution_count": null,
      "metadata": {
        "colab": {
          "base_uri": "https://localhost:8080/"
        },
        "id": "cvF5l-PCyd8z",
        "outputId": "e118fd1a-8dca-4fdc-9320-bbf7b4657c06"
      },
      "outputs": [
        {
          "name": "stderr",
          "output_type": "stream",
          "text": [
            "100%|██████████| 11834/11834 [07:32<00:00, 26.13it/s]\n"
          ]
        }
      ],
      "source": [
        "from sklearn.model_selection import train_test_split\n",
        "from itertools import chain\n",
        "from tqdm import tqdm\n",
        "import joblib as jl\n",
        "\n",
        "classes = (\"left\", \"right\", \"up\", \"down\", \"stop\")\n",
        "\n",
        "def preprocess_sample(filepath, max_length=150):\n",
        "    amplitudes, sr = librosa.core.load(filepath)\n",
        "    spectrogram = librosa.feature.melspectrogram(amplitudes, sr=sr)[:, :max_length]\n",
        "    spectrogram = np.pad(spectrogram, [[0, 0], [0, max(0, max_length - spectrogram.shape[1])]], mode='constant')\n",
        "    target = classes.index(filepath.split(os.sep)[-2])\n",
        "    return np.float32(spectrogram), np.int64(target)\n",
        "\n",
        "all_files = chain(*(samples_by_target[cls] for cls in classes))\n",
        "spectrograms_and_targets = jl.Parallel(n_jobs=-1)(tqdm(list(map(jl.delayed(preprocess_sample), all_files))))\n",
        "X, y = map(np.stack, zip(*spectrograms_and_targets))\n",
        "X = X.transpose([0, 2, 1])  \n"
      ]
    },
    {
      "cell_type": "markdown",
      "metadata": {
        "id": "5JSAwXkemEj4"
      },
      "source": [
        "### Модель с 2d-свертками"
      ]
    },
    {
      "cell_type": "code",
      "execution_count": null,
      "metadata": {
        "colab": {
          "base_uri": "https://localhost:8080/"
        },
        "id": "QHb3RCvSjxWt",
        "outputId": "2a5fd7d1-eb7f-4566-be86-4bb7736eaccd"
      },
      "outputs": [
        {
          "data": {
            "text/plain": [
              "(11834, 1, 150, 128)"
            ]
          },
          "execution_count": 7,
          "metadata": {},
          "output_type": "execute_result"
        }
      ],
      "source": [
        "# X.shape\n",
        "X_r = X[:,None,:,:]\n",
        "X_r.shape"
      ]
    },
    {
      "cell_type": "code",
      "execution_count": null,
      "metadata": {
        "id": "B0BhnljvkZWN"
      },
      "outputs": [],
      "source": [
        "X_train, X_test, y_train, y_test = train_test_split(X_r, y, random_state=42)"
      ]
    },
    {
      "cell_type": "code",
      "execution_count": null,
      "metadata": {
        "id": "7Ol6sywTG_Y9"
      },
      "outputs": [],
      "source": [
        "batch_size = 16\n",
        "\n",
        "tensor_x = torch.Tensor(X_train)\n",
        "tensor_y = torch.LongTensor(y_train)\n",
        "\n",
        "train_dataset = TensorDataset(tensor_x, tensor_y)\n",
        "\n",
        "tensor_x = torch.Tensor(X_test) # transform to torch tensor\n",
        "tensor_y = torch.LongTensor(y_test)\n",
        "\n",
        "test_dataset = TensorDataset(tensor_x, tensor_y)\n",
        "\n",
        "\n",
        "trainloader = DataLoader(train_dataset, batch_size=batch_size,\n",
        "                         shuffle=True, num_workers=2)\n",
        "testloader = DataLoader(test_dataset, batch_size=batch_size,\n",
        "                        shuffle=False, num_workers=2)"
      ]
    },
    {
      "cell_type": "markdown",
      "metadata": {
        "id": "DC4IeBurqOYI"
      },
      "source": [
        "### Функция обучения модели\n",
        "__Параметры:__\n",
        "* модель\n",
        "* данные для обучения\n",
        "* количество эпох\n",
        "\n",
        "Функция возвращает лосс"
      ]
    },
    {
      "cell_type": "code",
      "execution_count": null,
      "metadata": {
        "id": "xR1uxQ-GGGLr"
      },
      "outputs": [],
      "source": [
        "def model_train(model, trainloader, epochs):\n",
        "  total_step = len(trainloader)\n",
        "  losses, epoch_losses = [], []\n",
        "  for epoch in range(epochs):  # loop over the dataset multiple times\n",
        "      model.train()\n",
        "      running_loss = 0.0\n",
        "      epoch_loss = 0.0\n",
        "      for i, data in enumerate(trainloader, 0):\n",
        "          # get the inputs; data is a list of [inputs, labels]\n",
        "          inputs, labels = data\n",
        "          inputs = inputs.to(device)\n",
        "          labels = labels.to(device)\n",
        "\n",
        "          # zero the parameter gradients\n",
        "          optimizer.zero_grad()\n",
        "\n",
        "          # forward + backward + optimize\n",
        "          outputs = model(inputs)\n",
        "          loss = criterion(outputs, labels)\n",
        "          loss.backward()     \n",
        "          optimizer.step()\n",
        "\n",
        "          # print statistics\n",
        "          running_loss += loss.item()\n",
        "          epoch_loss += loss.item()\n",
        "          if (i+1) % 50 == 0:    # print every 50 mini-batches\n",
        "              print('Epoch [{}/{}], Step [{}/{}], loss: {:.3f}'\n",
        "                  .format(epoch, epochs, i+1, total_step, running_loss / 50))\n",
        "              running_loss = 0.0\n",
        "      epoch_losses.append(epoch_loss)\n",
        "\n",
        "\n",
        "  print('Finished Training')\n",
        "  return epoch_losses"
      ]
    },
    {
      "cell_type": "markdown",
      "metadata": {
        "id": "Sye_tt_jplnm"
      },
      "source": [
        "### Модель"
      ]
    },
    {
      "cell_type": "code",
      "execution_count": null,
      "metadata": {
        "id": "-qr8t6wCF8vT"
      },
      "outputs": [],
      "source": [
        "import torch.nn as nn\n",
        "import torch.nn.functional as F\n",
        "\n",
        "\n",
        "class Net2d(nn.Module):\n",
        "    def __init__(self):\n",
        "        super().__init__()\n",
        "        # TODO: define your layers here\n",
        "        self.conv1 = nn.Conv2d(1, 16, 5)\n",
        "        self.bn1 = nn.BatchNorm2d(16)\n",
        "        self.pool1 = nn.MaxPool2d(2, 2)\n",
        "        # self.bn1 = nn.BatchNorm2D(16)\n",
        "\n",
        "        self.conv2 = nn.Conv2d(16, 32, 5)\n",
        "        self.bn2 = nn.BatchNorm2d(32)\n",
        "        self.pool2 = nn.MaxPool2d(4, 2)\n",
        "\n",
        "        self.conv3 = nn.Conv2d(32, 64, 5)\n",
        "        self.bn3 = nn.BatchNorm2d(64)\n",
        "        self.pool3 = nn.MaxPool2d(6, 2)\n",
        "\n",
        "        self.conv4 = nn.Conv2d(64, 128, 5)\n",
        "        self.bn4 = nn.BatchNorm2d(128)\n",
        "        self.pool4 = nn.MaxPool2d(6, 2)\n",
        "\n",
        "\n",
        "        self.flatten = nn.Flatten()\n",
        "        self.dense1 = nn.Linear(256, 64)\n",
        "        self.relu1 = nn.ReLU()\n",
        "        self.dense2 = nn.Linear(64, 5)\n",
        "\n",
        "    def forward(self, x):\n",
        "        # TODO: apply your layers here\n",
        "        x = self.conv1(x)\n",
        "        x = self.bn1(x)\n",
        "        x = self.pool1(x)\n",
        "        x = self.conv2(x)\n",
        "        x = self.bn2(x)\n",
        "        x = self.pool2(x)\n",
        "        x = self.conv3(x)\n",
        "        x = self.bn3(x)\n",
        "        x = self.pool3(x)\n",
        "        x = self.conv4(x)\n",
        "        x = self.bn4(x)\n",
        "        x = self.pool4(x)\n",
        "        x = self.flatten(x)\n",
        "        x = self.dense1(x)\n",
        "        x = self.relu1(x)\n",
        "        x = self.dense2(x)\n",
        "        return F.softmax(x)\n",
        "\n",
        "\n",
        "net2d = Net2d().to(device)\n",
        "criterion = nn.CrossEntropyLoss()\n",
        "optimizer = optim.Adam(net2d.parameters(), lr=0.003)#, momentum=0.9)"
      ]
    },
    {
      "cell_type": "markdown",
      "metadata": {
        "id": "-JQb7aZjqvoR"
      },
      "source": [
        "### Предсказания на тестовых данных\n",
        "\n",
        "Посмотрим accuracy в т.ч поклассово"
      ]
    },
    {
      "cell_type": "markdown",
      "source": [
        ""
      ],
      "metadata": {
        "id": "AEbZp1YxOJgc"
      }
    },
    {
      "cell_type": "code",
      "execution_count": null,
      "metadata": {
        "id": "0UNsDwelBZVg"
      },
      "outputs": [],
      "source": [
        "def model_predict(model, testloader):\n",
        "  correct_pred = {classname: 0 for classname in classes}\n",
        "  total_pred = {classname: 0 for classname in classes}\n",
        "  correct = 0\n",
        "  total = 0\n",
        "\n",
        "  # again no gradients needed\n",
        "  with torch.no_grad():\n",
        "      for data in testloader:\n",
        "          inputs, labels = data\n",
        "          inputs = inputs.to(device)\n",
        "          labels = labels.to(device)\n",
        "          outputs = model(inputs)\n",
        "          _, predictions = torch.max(outputs, 1)\n",
        "          total += labels.size(0)\n",
        "          correct += (predictions == labels).sum().item()\n",
        "          # collect the correct predictions for each class\n",
        "          for label, prediction in zip(labels, predictions):\n",
        "              if label == prediction:\n",
        "                  correct_pred[classes[label]] += 1\n",
        "              total_pred[classes[label]] += 1\n",
        "\n",
        "\n",
        "  # print accuracy for each class\n",
        "  for classname, correct_count in correct_pred.items():\n",
        "      accuracy = 100 * float(correct_count) / total_pred[classname]\n",
        "      print(\"Accuracy for class {:5s} is: {:.1f} %\".format(classname,\n",
        "                                                    accuracy))\n",
        "  print('Total accuracy: %d %%' % (\n",
        "      100 * correct / total))\n",
        "  return"
      ]
    },
    {
      "cell_type": "code",
      "execution_count": null,
      "metadata": {
        "colab": {
          "base_uri": "https://localhost:8080/"
        },
        "id": "f4HNvZYNsTja",
        "outputId": "42ac77bf-7cfb-4c7d-e86b-2a0cd9b983e5"
      },
      "outputs": [
        {
          "name": "stderr",
          "output_type": "stream",
          "text": [
            "/usr/local/lib/python3.7/dist-packages/ipykernel_launcher.py:50: UserWarning: Implicit dimension choice for softmax has been deprecated. Change the call to include dim=X as an argument.\n"
          ]
        },
        {
          "name": "stdout",
          "output_type": "stream",
          "text": [
            "Epoch [0/20], Step [50/555], loss: 1.587\n",
            "Epoch [0/20], Step [100/555], loss: 1.569\n",
            "Epoch [0/20], Step [150/555], loss: 1.542\n",
            "Epoch [0/20], Step [200/555], loss: 1.531\n",
            "Epoch [0/20], Step [250/555], loss: 1.476\n",
            "Epoch [0/20], Step [300/555], loss: 1.477\n",
            "Epoch [0/20], Step [350/555], loss: 1.416\n",
            "Epoch [0/20], Step [400/555], loss: 1.452\n",
            "Epoch [0/20], Step [450/555], loss: 1.436\n",
            "Epoch [0/20], Step [500/555], loss: 1.388\n",
            "Epoch [0/20], Step [550/555], loss: 1.427\n",
            "Epoch [1/20], Step [50/555], loss: 1.402\n",
            "Epoch [1/20], Step [100/555], loss: 1.330\n",
            "Epoch [1/20], Step [150/555], loss: 1.382\n",
            "Epoch [1/20], Step [200/555], loss: 1.354\n",
            "Epoch [1/20], Step [250/555], loss: 1.320\n",
            "Epoch [1/20], Step [300/555], loss: 1.367\n",
            "Epoch [1/20], Step [350/555], loss: 1.314\n",
            "Epoch [1/20], Step [400/555], loss: 1.338\n",
            "Epoch [1/20], Step [450/555], loss: 1.357\n",
            "Epoch [1/20], Step [500/555], loss: 1.334\n",
            "Epoch [1/20], Step [550/555], loss: 1.307\n",
            "Epoch [2/20], Step [50/555], loss: 1.384\n",
            "Epoch [2/20], Step [100/555], loss: 1.274\n",
            "Epoch [2/20], Step [150/555], loss: 1.305\n",
            "Epoch [2/20], Step [200/555], loss: 1.275\n",
            "Epoch [2/20], Step [250/555], loss: 1.305\n",
            "Epoch [2/20], Step [300/555], loss: 1.317\n",
            "Epoch [2/20], Step [350/555], loss: 1.363\n",
            "Epoch [2/20], Step [400/555], loss: 1.246\n",
            "Epoch [2/20], Step [450/555], loss: 1.299\n",
            "Epoch [2/20], Step [500/555], loss: 1.292\n",
            "Epoch [2/20], Step [550/555], loss: 1.275\n",
            "Epoch [3/20], Step [50/555], loss: 1.252\n",
            "Epoch [3/20], Step [100/555], loss: 1.245\n",
            "Epoch [3/20], Step [150/555], loss: 1.236\n",
            "Epoch [3/20], Step [200/555], loss: 1.291\n",
            "Epoch [3/20], Step [250/555], loss: 1.222\n",
            "Epoch [3/20], Step [300/555], loss: 1.269\n",
            "Epoch [3/20], Step [350/555], loss: 1.321\n",
            "Epoch [3/20], Step [400/555], loss: 1.255\n",
            "Epoch [3/20], Step [450/555], loss: 1.235\n",
            "Epoch [3/20], Step [500/555], loss: 1.312\n",
            "Epoch [3/20], Step [550/555], loss: 1.276\n",
            "Epoch [4/20], Step [50/555], loss: 1.247\n",
            "Epoch [4/20], Step [100/555], loss: 1.259\n",
            "Epoch [4/20], Step [150/555], loss: 1.289\n",
            "Epoch [4/20], Step [200/555], loss: 1.221\n",
            "Epoch [4/20], Step [250/555], loss: 1.244\n",
            "Epoch [4/20], Step [300/555], loss: 1.253\n",
            "Epoch [4/20], Step [350/555], loss: 1.234\n",
            "Epoch [4/20], Step [400/555], loss: 1.224\n",
            "Epoch [4/20], Step [450/555], loss: 1.180\n",
            "Epoch [4/20], Step [500/555], loss: 1.260\n",
            "Epoch [4/20], Step [550/555], loss: 1.280\n",
            "Epoch [5/20], Step [50/555], loss: 1.224\n",
            "Epoch [5/20], Step [100/555], loss: 1.200\n",
            "Epoch [5/20], Step [150/555], loss: 1.330\n",
            "Epoch [5/20], Step [200/555], loss: 1.241\n",
            "Epoch [5/20], Step [250/555], loss: 1.242\n",
            "Epoch [5/20], Step [300/555], loss: 1.217\n",
            "Epoch [5/20], Step [350/555], loss: 1.174\n",
            "Epoch [5/20], Step [400/555], loss: 1.194\n",
            "Epoch [5/20], Step [450/555], loss: 1.201\n",
            "Epoch [5/20], Step [500/555], loss: 1.215\n",
            "Epoch [5/20], Step [550/555], loss: 1.202\n",
            "Epoch [6/20], Step [50/555], loss: 1.218\n",
            "Epoch [6/20], Step [100/555], loss: 1.236\n",
            "Epoch [6/20], Step [150/555], loss: 1.277\n",
            "Epoch [6/20], Step [200/555], loss: 1.266\n",
            "Epoch [6/20], Step [250/555], loss: 1.209\n",
            "Epoch [6/20], Step [300/555], loss: 1.211\n",
            "Epoch [6/20], Step [350/555], loss: 1.199\n",
            "Epoch [6/20], Step [400/555], loss: 1.157\n",
            "Epoch [6/20], Step [450/555], loss: 1.186\n",
            "Epoch [6/20], Step [500/555], loss: 1.247\n",
            "Epoch [6/20], Step [550/555], loss: 1.205\n",
            "Epoch [7/20], Step [50/555], loss: 1.209\n",
            "Epoch [7/20], Step [100/555], loss: 1.252\n",
            "Epoch [7/20], Step [150/555], loss: 1.260\n",
            "Epoch [7/20], Step [200/555], loss: 1.248\n",
            "Epoch [7/20], Step [250/555], loss: 1.246\n",
            "Epoch [7/20], Step [300/555], loss: 1.172\n",
            "Epoch [7/20], Step [350/555], loss: 1.177\n",
            "Epoch [7/20], Step [400/555], loss: 1.190\n",
            "Epoch [7/20], Step [450/555], loss: 1.146\n",
            "Epoch [7/20], Step [500/555], loss: 1.136\n",
            "Epoch [7/20], Step [550/555], loss: 1.145\n",
            "Epoch [8/20], Step [50/555], loss: 1.177\n",
            "Epoch [8/20], Step [100/555], loss: 1.236\n",
            "Epoch [8/20], Step [150/555], loss: 1.144\n",
            "Epoch [8/20], Step [200/555], loss: 1.287\n",
            "Epoch [8/20], Step [250/555], loss: 1.285\n",
            "Epoch [8/20], Step [300/555], loss: 1.231\n",
            "Epoch [8/20], Step [350/555], loss: 1.252\n",
            "Epoch [8/20], Step [400/555], loss: 1.203\n",
            "Epoch [8/20], Step [450/555], loss: 1.171\n",
            "Epoch [8/20], Step [500/555], loss: 1.201\n",
            "Epoch [8/20], Step [550/555], loss: 1.141\n",
            "Epoch [9/20], Step [50/555], loss: 1.151\n",
            "Epoch [9/20], Step [100/555], loss: 1.176\n",
            "Epoch [9/20], Step [150/555], loss: 1.215\n",
            "Epoch [9/20], Step [200/555], loss: 1.236\n",
            "Epoch [9/20], Step [250/555], loss: 1.227\n",
            "Epoch [9/20], Step [300/555], loss: 1.189\n",
            "Epoch [9/20], Step [350/555], loss: 1.184\n",
            "Epoch [9/20], Step [400/555], loss: 1.175\n",
            "Epoch [9/20], Step [450/555], loss: 1.206\n",
            "Epoch [9/20], Step [500/555], loss: 1.208\n",
            "Epoch [9/20], Step [550/555], loss: 1.200\n",
            "Epoch [10/20], Step [50/555], loss: 1.180\n",
            "Epoch [10/20], Step [100/555], loss: 1.205\n",
            "Epoch [10/20], Step [150/555], loss: 1.261\n",
            "Epoch [10/20], Step [200/555], loss: 1.193\n",
            "Epoch [10/20], Step [250/555], loss: 1.176\n",
            "Epoch [10/20], Step [300/555], loss: 1.160\n",
            "Epoch [10/20], Step [350/555], loss: 1.133\n",
            "Epoch [10/20], Step [400/555], loss: 1.148\n",
            "Epoch [10/20], Step [450/555], loss: 1.171\n",
            "Epoch [10/20], Step [500/555], loss: 1.191\n",
            "Epoch [10/20], Step [550/555], loss: 1.213\n",
            "Epoch [11/20], Step [50/555], loss: 1.135\n",
            "Epoch [11/20], Step [100/555], loss: 1.170\n",
            "Epoch [11/20], Step [150/555], loss: 1.147\n",
            "Epoch [11/20], Step [200/555], loss: 1.174\n",
            "Epoch [11/20], Step [250/555], loss: 1.195\n",
            "Epoch [11/20], Step [300/555], loss: 1.171\n",
            "Epoch [11/20], Step [350/555], loss: 1.185\n",
            "Epoch [11/20], Step [400/555], loss: 1.167\n",
            "Epoch [11/20], Step [450/555], loss: 1.196\n",
            "Epoch [11/20], Step [500/555], loss: 1.154\n",
            "Epoch [11/20], Step [550/555], loss: 1.293\n",
            "Epoch [12/20], Step [50/555], loss: 1.220\n",
            "Epoch [12/20], Step [100/555], loss: 1.256\n",
            "Epoch [12/20], Step [150/555], loss: 1.226\n",
            "Epoch [12/20], Step [200/555], loss: 1.179\n",
            "Epoch [12/20], Step [250/555], loss: 1.181\n",
            "Epoch [12/20], Step [300/555], loss: 1.192\n",
            "Epoch [12/20], Step [350/555], loss: 1.299\n",
            "Epoch [12/20], Step [400/555], loss: 1.270\n",
            "Epoch [12/20], Step [450/555], loss: 1.169\n",
            "Epoch [12/20], Step [500/555], loss: 1.169\n",
            "Epoch [12/20], Step [550/555], loss: 1.172\n",
            "Epoch [13/20], Step [50/555], loss: 1.149\n",
            "Epoch [13/20], Step [100/555], loss: 1.159\n",
            "Epoch [13/20], Step [150/555], loss: 1.249\n",
            "Epoch [13/20], Step [200/555], loss: 1.204\n",
            "Epoch [13/20], Step [250/555], loss: 1.160\n",
            "Epoch [13/20], Step [300/555], loss: 1.212\n",
            "Epoch [13/20], Step [350/555], loss: 1.192\n",
            "Epoch [13/20], Step [400/555], loss: 1.150\n",
            "Epoch [13/20], Step [450/555], loss: 1.142\n",
            "Epoch [13/20], Step [500/555], loss: 1.138\n",
            "Epoch [13/20], Step [550/555], loss: 1.136\n",
            "Epoch [14/20], Step [50/555], loss: 1.209\n",
            "Epoch [14/20], Step [100/555], loss: 1.191\n",
            "Epoch [14/20], Step [150/555], loss: 1.173\n",
            "Epoch [14/20], Step [200/555], loss: 1.215\n",
            "Epoch [14/20], Step [250/555], loss: 1.229\n",
            "Epoch [14/20], Step [300/555], loss: 1.232\n",
            "Epoch [14/20], Step [350/555], loss: 1.166\n",
            "Epoch [14/20], Step [400/555], loss: 1.185\n",
            "Epoch [14/20], Step [450/555], loss: 1.173\n",
            "Epoch [14/20], Step [500/555], loss: 1.171\n",
            "Epoch [14/20], Step [550/555], loss: 1.157\n",
            "Epoch [15/20], Step [50/555], loss: 1.180\n",
            "Epoch [15/20], Step [100/555], loss: 1.155\n",
            "Epoch [15/20], Step [150/555], loss: 1.151\n",
            "Epoch [15/20], Step [200/555], loss: 1.165\n",
            "Epoch [15/20], Step [250/555], loss: 1.142\n",
            "Epoch [15/20], Step [300/555], loss: 1.179\n",
            "Epoch [15/20], Step [350/555], loss: 1.194\n",
            "Epoch [15/20], Step [400/555], loss: 1.234\n",
            "Epoch [15/20], Step [450/555], loss: 1.190\n",
            "Epoch [15/20], Step [500/555], loss: 1.160\n",
            "Epoch [15/20], Step [550/555], loss: 1.253\n",
            "Epoch [16/20], Step [50/555], loss: 1.209\n",
            "Epoch [16/20], Step [100/555], loss: 1.144\n",
            "Epoch [16/20], Step [150/555], loss: 1.189\n",
            "Epoch [16/20], Step [200/555], loss: 1.164\n",
            "Epoch [16/20], Step [250/555], loss: 1.264\n",
            "Epoch [16/20], Step [300/555], loss: 1.267\n",
            "Epoch [16/20], Step [350/555], loss: 1.234\n",
            "Epoch [16/20], Step [400/555], loss: 1.186\n",
            "Epoch [16/20], Step [450/555], loss: 1.252\n",
            "Epoch [16/20], Step [500/555], loss: 1.175\n",
            "Epoch [16/20], Step [550/555], loss: 1.138\n",
            "Epoch [17/20], Step [50/555], loss: 1.176\n",
            "Epoch [17/20], Step [100/555], loss: 1.134\n",
            "Epoch [17/20], Step [150/555], loss: 1.142\n",
            "Epoch [17/20], Step [200/555], loss: 1.157\n",
            "Epoch [17/20], Step [250/555], loss: 1.272\n",
            "Epoch [17/20], Step [300/555], loss: 1.156\n",
            "Epoch [17/20], Step [350/555], loss: 1.192\n",
            "Epoch [17/20], Step [400/555], loss: 1.216\n",
            "Epoch [17/20], Step [450/555], loss: 1.191\n",
            "Epoch [17/20], Step [500/555], loss: 1.175\n",
            "Epoch [17/20], Step [550/555], loss: 1.174\n",
            "Epoch [18/20], Step [50/555], loss: 1.173\n",
            "Epoch [18/20], Step [100/555], loss: 1.195\n",
            "Epoch [18/20], Step [150/555], loss: 1.188\n",
            "Epoch [18/20], Step [200/555], loss: 1.137\n",
            "Epoch [18/20], Step [250/555], loss: 1.149\n",
            "Epoch [18/20], Step [300/555], loss: 1.136\n",
            "Epoch [18/20], Step [350/555], loss: 1.192\n",
            "Epoch [18/20], Step [400/555], loss: 1.232\n",
            "Epoch [18/20], Step [450/555], loss: 1.170\n",
            "Epoch [18/20], Step [500/555], loss: 1.220\n",
            "Epoch [18/20], Step [550/555], loss: 1.251\n",
            "Epoch [19/20], Step [50/555], loss: 1.144\n",
            "Epoch [19/20], Step [100/555], loss: 1.158\n",
            "Epoch [19/20], Step [150/555], loss: 1.194\n",
            "Epoch [19/20], Step [200/555], loss: 1.158\n",
            "Epoch [19/20], Step [250/555], loss: 1.122\n",
            "Epoch [19/20], Step [300/555], loss: 1.155\n",
            "Epoch [19/20], Step [350/555], loss: 1.192\n",
            "Epoch [19/20], Step [400/555], loss: 1.171\n",
            "Epoch [19/20], Step [450/555], loss: 1.218\n",
            "Epoch [19/20], Step [500/555], loss: 1.137\n",
            "Epoch [19/20], Step [550/555], loss: 1.139\n",
            "Finished Training\n"
          ]
        }
      ],
      "source": [
        "epoch_losses = model_train(net2d, trainloader, 20)"
      ]
    },
    {
      "cell_type": "code",
      "execution_count": null,
      "metadata": {
        "colab": {
          "base_uri": "https://localhost:8080/",
          "height": 295
        },
        "id": "r3EZ6aklsYlQ",
        "outputId": "0973cdf7-5c34-41b0-b6a7-f4b00e735e51"
      },
      "outputs": [
        {
          "data": {
            "image/png": "[encoded data removed]",
            "text/plain": [
              "<Figure size 432x288 with 1 Axes>"
            ]
          },
          "metadata": {
            "needs_background": "light"
          },
          "output_type": "display_data"
        }
      ],
      "source": [
        "plt.plot(epoch_losses, '-')\n",
        "plt.xlabel('epoch')\n",
        "plt.ylabel('loss')\n",
        "plt.grid()\n",
        "plt.title('Losses')"
      ]
    },
    {
      "cell_type": "code",
      "execution_count": null,
      "metadata": {
        "colab": {
          "base_uri": "https://localhost:8080/"
        },
        "id": "IwYQrrHtsd1r",
        "outputId": "48667873-983f-4bf6-c218-18a6dff0555d"
      },
      "outputs": [
        {
          "name": "stderr",
          "output_type": "stream",
          "text": [
            "/usr/local/lib/python3.7/dist-packages/ipykernel_launcher.py:50: UserWarning: Implicit dimension choice for softmax has been deprecated. Change the call to include dim=X as an argument.\n"
          ]
        },
        {
          "name": "stdout",
          "output_type": "stream",
          "text": [
            "Accuracy for class left  is: 78.9 %\n",
            "Accuracy for class right is: 81.7 %\n",
            "Accuracy for class up    is: 78.6 %\n",
            "Accuracy for class down  is: 83.0 %\n",
            "Accuracy for class stop  is: 75.0 %\n",
            "Total accuracy: 79 %\n"
          ]
        }
      ],
      "source": [
        "model_predict(net2d, testloader)"
      ]
    }
  ],
  "metadata": {
    "accelerator": "GPU",
    "colab": {
      "collapsed_sections": [],
      "name": "spotter_Nikonov.ipynb",
      "provenance": [],
      "toc_visible": true
    },
    "kernelspec": {
      "display_name": "Python 3",
      "language": "python",
      "name": "python3"
    },
    "language_info": {
      "codemirror_mode": {
        "name": "ipython",
        "version": 3
      },
      "file_extension": ".py",
      "mimetype": "text/x-python",
      "name": "python",
      "nbconvert_exporter": "python",
      "pygments_lexer": "ipython3",
      "version": "3.6.4"
    }
  },
  "nbformat": 4,
  "nbformat_minor": 0
}