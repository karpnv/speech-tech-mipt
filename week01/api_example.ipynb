{
 "cells": [
  {
   "cell_type": "markdown",
   "metadata": {},
   "source": [
    "1 Войти в SmartMarket Studio https://developers.sber.ru/studio\n",
    "\n",
    "2 В панели слева выбрать «+» и создать корпоративное пространство (если ранее не создавалось), наименование рекомендуем указать по названию компании.\n",
    "\n",
    "3 Выбрать корпоративное пространство, нажать на шестеренку справа вверху, перейти на вкладку «Верификация компании», заполнить данные о компании и нажать – сохранить (либо проверить актуальность заполненных данных).\n",
    "\n",
    "4 По стрелке сверху вернуться в «Пространства» и «На главную».\n",
    "\n",
    "5 Выбрать проект SmartService.\n",
    "\n",
    "6 Указать название проекта (любое понятное вам).\n",
    "\n",
    "7 Выбрать чекбокс рядом со SmartSpeech и заполнить запрос.\n",
    "\n",
    "8 Нажать «Сохранить» и затем «Отправить на модерацию».\n",
    "\n",
    "9 После одобрения модерации (срок – 1 рабочий день) вы получите доступ к вкладке «Доступы», где сможете взять client_id и client_secret, необходимые для работы API.\n",
    "\n",
    "10 В проекте SmartService на вкладке \"Доступы\" нажать кнопку \"Сгенерировать новый Client Secret\" и сохранить его в файл client_secret.txt\n",
    "\n",
    "Документация по API здесь: https://developer.sberdevices.ru/docs/ru/smartservices/smartspeech"
   ]
  },
  {
   "cell_type": "code",
   "execution_count": 21,
   "metadata": {},
   "outputs": [
    {
     "name": "stdout",
     "output_type": "stream",
     "text": [
      "fatal: destination path 'salutespeech' already exists and is not an empty directory.\n"
     ]
    }
   ],
   "source": [
    "# Клонируем репозиторий с примерами доступа к SaluteSpeech API\n",
    "! cd ~/workspace/karpnv && git clone https://github.com/karpnv/smartspeech.git"
   ]
  },
  {
   "cell_type": "markdown",
   "metadata": {},
   "source": [
    "## Генерируем Access token"
   ]
  },
  {
   "cell_type": "code",
   "execution_count": 27,
   "metadata": {},
   "outputs": [],
   "source": [
    "# Преобразуем ключ Client Secret в нужную кодировку\n",
    "import base64\n",
    "import json \n",
    "with open('./client_secret.txt', 'r', encoding='UTF-8') as file:\n",
    "    client_secret_from_developers_sber_ru = file.readline().rstrip()\n",
    "authorization = base64.b64encode(bytes(client_secret_from_developers_sber_ru, 'utf-8'))\n",
    "# authorization.decode()"
   ]
  },
  {
   "cell_type": "code",
   "execution_count": 28,
   "metadata": {},
   "outputs": [],
   "source": [
    "# Формируем запрос curl к серверу для авторизации \n",
    "request1 = f\"curl --location --request POST 'https://salute.online.sberbank.ru:9443/api/v2/oauth' \\\n",
    "--header 'Authorization: Basic {authorization.decode()}' \\\n",
    "--header 'RqUID: 1f0b1291-c7f3-43c6-bb2e-9f3efb2dc98e' \\\n",
    "--header 'Content-Type: application/x-www-form-urlencoded' \\\n",
    "--data-urlencode 'scope=SBER_SPEECH'\"\n",
    "# request1"
   ]
  },
  {
   "cell_type": "code",
   "execution_count": 31,
   "metadata": {},
   "outputs": [
    {
     "data": {
      "text/plain": [
       "'{\"access_token\":\"eyJjdHkiOiJqd3QiLCJlbmMiOiJBMjU2Q0JDLUhTNTEyIiwiYWxnIjoiUlNBLU9BRVAtMjU2In0.PX4yA-ufWhi2C8o8YXOWCTNA-tBF6-B7yukBJ-xG9yHavONjJz339bg7yGjThYAQSKxqDZyC-K0E8KgGNjR_LJMt--kTKJo2fdSMdlT7sWF1G0b4Ba99SUVd4ggNTaPjv2dX3eDx0iiZ1ybT3CJczrtYPQZA_g2Ws_vMFkbB0UnQ1mIkr2E0Fy638dbufUxo6tkOKsayv-ntwHr9_8ruuGFzluoA3MpmOQ4jVXNAxorz2JDKwBI8FaPEnQfTjWlKxJUfIEnT-bESatGxMLYdTF0TkbYRtG5pq-S-5a2tT2r120SERgB8CBpYHDIjNnz1WpgPsF2F2eCVepezmAex4A.X-IYmXEenX62ZH_h2nvK1w.nZNHJbai3hfnBOkIZJ98fkmUDam0yJSXWIqbUUfaLYZMDpdG1HiWAOHlWx1kmt26JcpDbnPToC4NTfqqRXRpaf-jxsnpOj0TATa1eppLjHvz9ZzxogZBd4ff3NxM9cja_NoUVXhjVLHdRk1BLmCdb9c3pPNAoSuV5CPNi4RfKD7KTw1SncavtF2VVDTz0IwALoTKlgI6xTnXpCU9If67X08lKeTdnJCKxNLvC4wwnkatN-Z_8dIjLVDa51Y8lnVzt-qyoDXoEkro47KmT-dCFOMXhuKRvsqCt0R3feq9z3b3DNVFo-yPqxxgf8wIV2G3c3qAlS-ruGd4hy6p5tZfNJlFAAsMi0rRBafGdvtORkR2RcG4jw593PVcGg21GjKmJ-iP_0H0EJSCR2Y6Ic7N8S-ta43k7qWDKJab3kuoRXp0QGtHqVf8itXYtc5h4xVUv1p2adoDYOAQQFM4Ep_iUid8yt6aVOo2_3ALOfNPybt6UzSqXIfpMww2u3263926BP03D9GFo8NCm2lFq3oaZeVGGWs9j43CnePqFLXDMrpQD-UxXZQ79rmR3jbOYA9YVftXlJP9HCkjHqPZc47OUovWm5BlWYVf5xNwIIn8vLCL45dLCOrZ_q2Sf-ClcakvFVlFsNQGEPgq1mNNUhlYavsrlHFHkTqkCSHg44K_gGCJcxo5dQC2rFmsksiHswMifwLfwCITwOendh7AyvF5CX_Q-SdW_shAGAnZ_YCMqKs.OXuR7H6TRRe08pED3ukdfLFFK_yLSqLTcuF-adQTMQc\",\"expires_at\":1662478362600}'"
      ]
     },
     "execution_count": 31,
     "metadata": {},
     "output_type": "execute_result"
    }
   ],
   "source": [
    "# Делаем запрос и сохраняем json ответ в str_response\n",
    "list_response = ! $request1\n",
    "str_response = list_response[-1]\n",
    "str_response"
   ]
  },
  {
   "cell_type": "code",
   "execution_count": 32,
   "metadata": {},
   "outputs": [
    {
     "data": {
      "text/plain": [
       "'eyJjdHkiOiJqd3QiLCJlbmMiOiJBMjU2Q0JDLUhTNTEyIiwiYWxnIjoiUlNBLU9BRVAtMjU2In0.PX4yA-ufWhi2C8o8YXOWCTNA-tBF6-B7yukBJ-xG9yHavONjJz339bg7yGjThYAQSKxqDZyC-K0E8KgGNjR_LJMt--kTKJo2fdSMdlT7sWF1G0b4Ba99SUVd4ggNTaPjv2dX3eDx0iiZ1ybT3CJczrtYPQZA_g2Ws_vMFkbB0UnQ1mIkr2E0Fy638dbufUxo6tkOKsayv-ntwHr9_8ruuGFzluoA3MpmOQ4jVXNAxorz2JDKwBI8FaPEnQfTjWlKxJUfIEnT-bESatGxMLYdTF0TkbYRtG5pq-S-5a2tT2r120SERgB8CBpYHDIjNnz1WpgPsF2F2eCVepezmAex4A.X-IYmXEenX62ZH_h2nvK1w.nZNHJbai3hfnBOkIZJ98fkmUDam0yJSXWIqbUUfaLYZMDpdG1HiWAOHlWx1kmt26JcpDbnPToC4NTfqqRXRpaf-jxsnpOj0TATa1eppLjHvz9ZzxogZBd4ff3NxM9cja_NoUVXhjVLHdRk1BLmCdb9c3pPNAoSuV5CPNi4RfKD7KTw1SncavtF2VVDTz0IwALoTKlgI6xTnXpCU9If67X08lKeTdnJCKxNLvC4wwnkatN-Z_8dIjLVDa51Y8lnVzt-qyoDXoEkro47KmT-dCFOMXhuKRvsqCt0R3feq9z3b3DNVFo-yPqxxgf8wIV2G3c3qAlS-ruGd4hy6p5tZfNJlFAAsMi0rRBafGdvtORkR2RcG4jw593PVcGg21GjKmJ-iP_0H0EJSCR2Y6Ic7N8S-ta43k7qWDKJab3kuoRXp0QGtHqVf8itXYtc5h4xVUv1p2adoDYOAQQFM4Ep_iUid8yt6aVOo2_3ALOfNPybt6UzSqXIfpMww2u3263926BP03D9GFo8NCm2lFq3oaZeVGGWs9j43CnePqFLXDMrpQD-UxXZQ79rmR3jbOYA9YVftXlJP9HCkjHqPZc47OUovWm5BlWYVf5xNwIIn8vLCL45dLCOrZ_q2Sf-ClcakvFVlFsNQGEPgq1mNNUhlYavsrlHFHkTqkCSHg44K_gGCJcxo5dQC2rFmsksiHswMifwLfwCITwOendh7AyvF5CX_Q-SdW_shAGAnZ_YCMqKs.OXuR7H6TRRe08pED3ukdfLFFK_yLSqLTcuF-adQTMQc'"
      ]
     },
     "execution_count": 32,
     "metadata": {},
     "output_type": "execute_result"
    }
   ],
   "source": [
    "# Из ответа берем поле access_token\n",
    "# В поле expires_at время окончания действия токена\n",
    "json_response = json.loads(str_response)\n",
    "access_token = json_response[\"access_token\"]\n",
    "access_token"
   ]
  },
  {
   "cell_type": "code",
   "execution_count": 36,
   "metadata": {},
   "outputs": [
    {
     "name": "stdout",
     "output_type": "stream",
     "text": [
      "Requirement already satisfied: grpcio-tools in /Users/17756257/opt/anaconda3/envs/smart_app/lib/python3.8/site-packages (1.48.1)\n",
      "Requirement already satisfied: setuptools in /Users/17756257/opt/anaconda3/envs/smart_app/lib/python3.8/site-packages (from grpcio-tools) (63.4.1)\n",
      "Requirement already satisfied: protobuf<4.0dev,>=3.12.0 in /Users/17756257/opt/anaconda3/envs/smart_app/lib/python3.8/site-packages (from grpcio-tools) (3.19.4)\n",
      "Requirement already satisfied: grpcio>=1.48.1 in /Users/17756257/opt/anaconda3/envs/smart_app/lib/python3.8/site-packages (from grpcio-tools) (1.48.1)\n",
      "Requirement already satisfied: six>=1.5.2 in /Users/17756257/opt/anaconda3/envs/smart_app/lib/python3.8/site-packages (from grpcio>=1.48.1->grpcio-tools) (1.16.0)\n"
     ]
    }
   ],
   "source": [
    "# Устанавливаем зависимости для распознавания речи\n",
    "! pip3 install grpcio-tools\n",
    "! cd ~/workspace/karpnv/smartspeech/recognition/v1/python3 && python3 -m grpc_tools.protoc -I .. -I ../../../task/v1 --python_out=. --grpc_python_out=. ../recognition.proto ../../../task/v1/{storage,task}.proto"
   ]
  },
  {
   "cell_type": "markdown",
   "metadata": {},
   "source": [
    "## Делаем запрос для распознавания речи"
   ]
  },
  {
   "cell_type": "code",
   "execution_count": 37,
   "metadata": {},
   "outputs": [
    {
     "name": "stdout",
     "output_type": "stream",
     "text": [
      "Got end-of-utterance result:\n",
      "  Hyp #1: то есть что то меняется или нет вы хотите уточнить да я сейчас информацию уточню ожидайте на линии спасибо за ожидание условия сохраняются то есть смена акцент акционеров не влияет на обслуживание клиентов банка\n",
      "Recognition has finished\n",
      "RequestID: e450f7edb5d4d43b7386daa2418d31ec\n"
     ]
    }
   ],
   "source": [
    "! cd ~/workspace/karpnv/smartspeech/recognition/v1/python3 && python3 recognize.py --token $access_token --file ~/workspace/stress_decoder_16.wav"
   ]
  },
  {
   "cell_type": "markdown",
   "metadata": {},
   "source": [
    "##  Список аргументов распознавания речи\n",
    "    '--host', default='smartspeech.sber.ru', help='host:port of gRPC endpoint'\n",
    "    '--token', required=True, default=argparse.SUPPRESS, help='access token'\n",
    "    '--file', required=True, default=argparse.SUPPRESS, help='audio file for recognition'\n",
    "\n",
    "    '--normalized-result', action='store_true', help='show normalized text'\n",
    "    '--emotions-result', action='store_true', help='show emotions result'\n",
    "\n",
    "    '--audio-encoding', default='pcm', type=lambda x: ENCODINGS_MAP[x], help='{pcm, opus, mp3, flac, alaw, mulaw}'\n",
    "    '--sample-rate', default=16000, type=int, help='PCM only'\n",
    "    '--model', default='general', help='{general, callcenter}'\n",
    "    '--hypotheses-count', default=1, type=int\n",
    "    '--enable-profanity-filter', action='store_true'\n",
    "    '--enable-multi-utterance', action='store_true'\n",
    "    '--enable-partial-results', action='store_true'\n",
    "    '--no-speech-timeout', default='7s'\n",
    "    '--max-speech-timeout', default='20s'\n",
    "    '--hints-words', nargs='*', default=[]\n",
    "    '--hints-enable-letters', action='store_true'\n",
    "    '--hints-eou-timeout', default='0s'\n",
    "    '--channels-count', default=1, type=int"
   ]
  },
  {
   "cell_type": "code",
   "execution_count": null,
   "metadata": {},
   "outputs": [],
   "source": []
  },
  {
   "cell_type": "markdown",
   "metadata": {},
   "source": [
    "# Пример синтеза речи"
   ]
  },
  {
   "cell_type": "code",
   "execution_count": 21,
   "metadata": {},
   "outputs": [],
   "source": [
    "# Устанавливаем зависимости для синтеза речи\n",
    "# ! pip3 install grpcio-tools\n",
    "! cd ~/workspace/karpnv/smartspeech/synthesis/v1/python3 && python3 -m grpc_tools.protoc -I .. --python_out=. --grpc_python_out=. ../synthesis.proto"
   ]
  },
  {
   "cell_type": "code",
   "execution_count": 34,
   "metadata": {},
   "outputs": [
    {
     "name": "stdout",
     "output_type": "stream",
     "text": [
      "Got 0.220s of audio\n",
      "Got 0.230s of audio\n",
      "Got 0.240s of audio\n",
      "Got 0.250s of audio\n",
      "Got 0.260s of audio\n",
      "Got 0.270s of audio\n",
      "Got 0.280s of audio\n",
      "Got 0.290s of audio\n",
      "Got 0.300s of audio\n",
      "Got 0.310s of audio\n",
      "Got 0.320s of audio\n",
      "Got 0.330s of audio\n",
      "Got 0.340s of audio\n",
      "Got 0.350s of audio\n",
      "Got 0.360s of audio\n",
      "Got 0.370s of audio\n",
      "Got 0.380s of audio\n",
      "Got 0.390s of audio\n",
      "Got 0.400s of audio\n",
      "Got 0.410s of audio\n",
      "Got 0.420s of audio\n",
      "Got 0.430s of audio\n",
      "Got 0.440s of audio\n",
      "Got 0.450s of audio\n",
      "Got 0.460s of audio\n",
      "Got 0.470s of audio\n",
      "Got 0.480s of audio\n",
      "Got 0.490s of audio\n",
      "Got 0.500s of audio\n",
      "Got 0.510s of audio\n",
      "Got 0.520s of audio\n",
      "Got 0.530s of audio\n",
      "Got 0.540s of audio\n",
      "Got 0.550s of audio\n",
      "Got 0.560s of audio\n",
      "Got 0.570s of audio\n",
      "Got 0.580s of audio\n",
      "Got 0.590s of audio\n",
      "Got 0.600s of audio\n",
      "Got 0.610s of audio\n",
      "Got 0.620s of audio\n",
      "Got 0.630s of audio\n",
      "Got 0.640s of audio\n",
      "Got 0.650s of audio\n",
      "Got 0.660s of audio\n",
      "Got 0.670s of audio\n",
      "Got 0.680s of audio\n",
      "Got 0.690s of audio\n",
      "Got 0.700s of audio\n",
      "Got 0.710s of audio\n",
      "Got 0.720s of audio\n",
      "Got 0.730s of audio\n",
      "Got 0.740s of audio\n",
      "Got 0.750s of audio\n",
      "Got 0.760s of audio\n",
      "Got 0.770s of audio\n",
      "Got 0.780s of audio\n",
      "Got 0.790s of audio\n",
      "Got 1.290s of audio\n",
      "Got 1.290s of audio\n",
      "Got 1.290s of audio\n",
      "Synthesis has finished\n",
      "RequestID: 8f5a769ee75f2738e0a90fbd0d67593a\n"
     ]
    }
   ],
   "source": [
    "! cd ~/workspace/karpnv/smartspeech/synthesis/v1/python3 && python3 synthesize.py --token $access_token --file output.wav --text \"привет мир\""
   ]
  },
  {
   "cell_type": "markdown",
   "metadata": {},
   "source": [
    "##  Список аргументов синтеза речи\n",
    "    '--host', default='smartspeech.sber.ru', help='host:port of gRPC endpoint'\n",
    "    '--token', required=True, default=argparse.SUPPRESS, help='access token'\n",
    "    '--file', required=True, default=argparse.SUPPRESS, help='audio file for recognition'\n",
    "\n",
    "    '--text', required=True, default=''\n",
    "    '--audio-encoding', default=ENCODINGS_MAP[ENCODING_WAV], type=lambda x: ENCODINGS_MAP[x], help='pcm, opus, wav')\n",
    "    '--content-type', default=TYPES_MAP[TYPE_TEXT], type=lambda x: TYPES_MAP[x], help='text,ssml')\n",
    "    '--language', default='ru-RU'\n",
    "    '--voice', default='May_24000'"
   ]
  },
  {
   "cell_type": "code",
   "execution_count": 14,
   "metadata": {},
   "outputs": [
    {
     "name": "stdout",
     "output_type": "stream",
     "text": [
      "Got 0.220s of audio\n",
      "Got 0.230s of audio\n",
      "Got 0.240s of audio\n",
      "Got 0.250s of audio\n",
      "Got 0.260s of audio\n",
      "Got 0.270s of audio\n",
      "Got 0.280s of audio\n",
      "Got 0.290s of audio\n",
      "Got 0.300s of audio\n",
      "Got 0.310s of audio\n",
      "Got 0.320s of audio\n",
      "Got 0.330s of audio\n",
      "Got 0.340s of audio\n",
      "Got 0.350s of audio\n",
      "Got 0.360s of audio\n",
      "Got 0.370s of audio\n",
      "Got 0.380s of audio\n",
      "Got 0.390s of audio\n",
      "Got 0.400s of audio\n",
      "Got 0.410s of audio\n",
      "Got 0.420s of audio\n",
      "Got 0.430s of audio\n",
      "Got 0.440s of audio\n",
      "Got 0.450s of audio\n",
      "Got 0.460s of audio\n",
      "Got 0.470s of audio\n",
      "Got 0.480s of audio\n",
      "Got 0.490s of audio\n",
      "Got 0.500s of audio\n",
      "Got 0.510s of audio\n",
      "Got 0.520s of audio\n",
      "Got 0.530s of audio\n",
      "Got 0.540s of audio\n",
      "Got 0.550s of audio\n",
      "Got 0.560s of audio\n",
      "Got 0.570s of audio\n",
      "Got 0.580s of audio\n",
      "Got 0.590s of audio\n",
      "Got 0.600s of audio\n",
      "Got 0.610s of audio\n",
      "Got 0.620s of audio\n",
      "Got 0.630s of audio\n",
      "Got 0.640s of audio\n",
      "Got 0.650s of audio\n",
      "Got 0.660s of audio\n",
      "Got 0.670s of audio\n",
      "Got 0.680s of audio\n",
      "Got 0.690s of audio\n",
      "Got 0.700s of audio\n",
      "Got 0.710s of audio\n",
      "Got 0.720s of audio\n",
      "Got 0.730s of audio\n",
      "Got 0.740s of audio\n",
      "Got 0.750s of audio\n",
      "Got 0.760s of audio\n",
      "Got 0.770s of audio\n",
      "Got 0.780s of audio\n",
      "Got 0.790s of audio\n",
      "Got 0.800s of audio\n",
      "Got 0.810s of audio\n",
      "Got 0.820s of audio\n",
      "Got 0.830s of audio\n",
      "Got 0.840s of audio\n",
      "Got 0.850s of audio\n",
      "Got 0.860s of audio\n",
      "Got 0.870s of audio\n",
      "Got 0.880s of audio\n",
      "Got 0.890s of audio\n",
      "Got 0.900s of audio\n",
      "Got 0.910s of audio\n",
      "Got 0.920s of audio\n",
      "Got 0.930s of audio\n",
      "Got 1.430s of audio\n",
      "Got 1.430s of audio\n",
      "Got 1.430s of audio\n",
      "Synthesis has finished\n",
      "RequestID: 1ca383b223880e77aba8ddf6e294904e\n"
     ]
    }
   ],
   "source": [
    "! cd ~/workspace/karpnv/smartspeech/synthesis/v1/python3 && python3 synthesize.py --token $access_token --file output2.wav --text \"привет физтех\" --voice \"Tur_24000\""
   ]
  },
  {
   "cell_type": "code",
   "execution_count": 35,
   "metadata": {},
   "outputs": [
    {
     "name": "stdout",
     "output_type": "stream",
     "text": [
      "Got 0.220s of audio\n",
      "Got 0.230s of audio\n",
      "Got 0.240s of audio\n",
      "Got 0.250s of audio\n",
      "Got 0.260s of audio\n",
      "Got 0.270s of audio\n",
      "Got 0.280s of audio\n",
      "Got 0.290s of audio\n",
      "Got 0.300s of audio\n",
      "Got 0.310s of audio\n",
      "Got 0.320s of audio\n",
      "Got 0.330s of audio\n",
      "Got 0.340s of audio\n",
      "Got 0.350s of audio\n",
      "Got 0.360s of audio\n",
      "Got 0.370s of audio\n",
      "Got 0.380s of audio\n",
      "Got 0.390s of audio\n",
      "Got 0.400s of audio\n",
      "Got 0.410s of audio\n",
      "Got 0.420s of audio\n",
      "Got 0.430s of audio\n",
      "Got 0.440s of audio\n",
      "Got 0.450s of audio\n",
      "Got 0.460s of audio\n",
      "Got 0.470s of audio\n",
      "Got 0.480s of audio\n",
      "Got 0.490s of audio\n",
      "Got 0.500s of audio\n",
      "Got 0.510s of audio\n",
      "Got 0.520s of audio\n",
      "Got 0.530s of audio\n",
      "Got 0.540s of audio\n",
      "Got 0.550s of audio\n",
      "Got 0.560s of audio\n",
      "Got 0.570s of audio\n",
      "Got 0.580s of audio\n",
      "Got 0.590s of audio\n",
      "Got 0.600s of audio\n",
      "Got 0.610s of audio\n",
      "Got 0.620s of audio\n",
      "Got 0.630s of audio\n",
      "Got 0.640s of audio\n",
      "Got 0.650s of audio\n",
      "Got 0.660s of audio\n",
      "Got 0.670s of audio\n",
      "Got 0.680s of audio\n",
      "Got 0.690s of audio\n",
      "Got 0.700s of audio\n",
      "Got 0.710s of audio\n",
      "Got 0.720s of audio\n",
      "Got 0.730s of audio\n",
      "Got 0.740s of audio\n",
      "Got 0.750s of audio\n",
      "Got 0.760s of audio\n",
      "Got 0.770s of audio\n",
      "Got 0.780s of audio\n",
      "Got 0.790s of audio\n",
      "Got 0.800s of audio\n",
      "Got 0.810s of audio\n",
      "Got 0.820s of audio\n",
      "Got 0.830s of audio\n",
      "Got 0.840s of audio\n",
      "Got 0.850s of audio\n",
      "Got 0.860s of audio\n",
      "Got 0.870s of audio\n",
      "Got 0.880s of audio\n",
      "Got 0.890s of audio\n",
      "Got 0.900s of audio\n",
      "Got 0.910s of audio\n",
      "Got 0.920s of audio\n",
      "Got 0.930s of audio\n",
      "Got 0.940s of audio\n",
      "Got 0.950s of audio\n",
      "Got 0.960s of audio\n",
      "Got 0.970s of audio\n",
      "Got 0.980s of audio\n",
      "Got 0.990s of audio\n",
      "Got 1s of audio\n",
      "Got 1.010s of audio\n",
      "Got 1.020s of audio\n",
      "Got 1.030s of audio\n",
      "Got 1.040s of audio\n",
      "Got 1.050s of audio\n",
      "Got 1.060s of audio\n",
      "Got 1.070s of audio\n",
      "Got 1.080s of audio\n",
      "Got 1.090s of audio\n",
      "Got 1.100s of audio\n",
      "Got 1.110s of audio\n",
      "Got 1.120s of audio\n",
      "Got 1.130s of audio\n",
      "Got 1.140s of audio\n",
      "Got 1.150s of audio\n",
      "Got 1.160s of audio\n",
      "Got 1.170s of audio\n",
      "Got 1.180s of audio\n",
      "Got 1.190s of audio\n",
      "Got 1.200s of audio\n",
      "Got 1.210s of audio\n",
      "Got 1.220s of audio\n",
      "Got 1.230s of audio\n",
      "Got 1.240s of audio\n",
      "Got 1.250s of audio\n",
      "Got 1.260s of audio\n",
      "Got 1.270s of audio\n",
      "Got 1.280s of audio\n",
      "Got 1.290s of audio\n",
      "Got 1.300s of audio\n",
      "Got 1.310s of audio\n",
      "Got 1.320s of audio\n",
      "Got 1.330s of audio\n",
      "Got 1.340s of audio\n",
      "Got 1.350s of audio\n",
      "Got 1.360s of audio\n",
      "Got 1.370s of audio\n",
      "Got 1.380s of audio\n",
      "Got 1.390s of audio\n",
      "Got 1.400s of audio\n",
      "Got 1.410s of audio\n",
      "Got 1.420s of audio\n",
      "Got 1.430s of audio\n",
      "Got 1.440s of audio\n",
      "Got 1.450s of audio\n",
      "Got 1.460s of audio\n",
      "Got 1.470s of audio\n",
      "Got 1.480s of audio\n",
      "Got 1.490s of audio\n",
      "Got 1.500s of audio\n",
      "Got 1.510s of audio\n",
      "Got 1.520s of audio\n",
      "Got 1.530s of audio\n",
      "Got 1.540s of audio\n",
      "Got 2.040s of audio\n",
      "Got 2.040s of audio\n",
      "Got 2.040s of audio\n",
      "Synthesis has finished\n",
      "RequestID: 03f7c6d3facca91f7eafacbf2a79f09b\n"
     ]
    }
   ],
   "source": [
    "! cd ~/workspace/karpnv/smartspeech/synthesis/v1/python3 && python3 synthesize.py \\\n",
    "    --token $access_token --file output3.wav \\\n",
    "    --text '<speak>Аббревиатура <say-as interpret-as=\"characters\">НДФЛ</say-as></speak>' --content-type ssml"
   ]
  },
  {
   "cell_type": "markdown",
   "metadata": {},
   "source": [
    "Инструкция про SSML https://developers.sber.ru/docs/ru/salute/asr-tts/ssml"
   ]
  },
  {
   "cell_type": "code",
   "execution_count": null,
   "metadata": {},
   "outputs": [],
   "source": []
  }
 ],
 "metadata": {
  "interpreter": {
   "hash": "4f9b424a652a439441f87708e821914974c05b50a4e7d59774a1d77725f78bf6"
  },
  "kernelspec": {
   "display_name": "Python 3.8.13 ('smart_app')",
   "language": "python",
   "name": "python3"
  },
  "language_info": {
   "codemirror_mode": {
    "name": "ipython",
    "version": 3
   },
   "file_extension": ".py",
   "mimetype": "text/x-python",
   "name": "python",
   "nbconvert_exporter": "python",
   "pygments_lexer": "ipython3",
   "version": "3.8.13"
  }
 },
 "nbformat": 4,
 "nbformat_minor": 4
}
